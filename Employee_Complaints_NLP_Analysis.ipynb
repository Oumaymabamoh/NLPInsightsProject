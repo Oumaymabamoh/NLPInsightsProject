{
 "cells": [
  {
   "cell_type": "code",
   "execution_count": 80,
   "metadata": {
    "collapsed": true
   },
   "outputs": [],
   "source": [
    "import pandas as pd"
   ]
  },
  {
   "cell_type": "markdown",
   "source": [
    "Import dataset"
   ],
   "metadata": {
    "collapsed": false
   }
  },
  {
   "cell_type": "code",
   "execution_count": 81,
   "outputs": [
    {
     "data": {
      "text/plain": "                  Genre                                             Report  \\\n0  Communication Issues   I never receive clear instructions for my tasks.   \n1  Communication Issues  Updates from management are inconsistent and c...   \n2  Communication Issues  I often misunderstand what's expected due to v...   \n3  Communication Issues     Important information is never shared on time.   \n4  Communication Issues  My queries go unanswered, making it hard to pr...   \n5  Communication Issues  Meetings are held without clear agendas, wasti...   \n6  Communication Issues  During changes, communication is poor and leav...   \n7  Communication Issues    Our team goals are never properly communicated.   \n8  Communication Issues     Feedback on my performance is hardly provided.   \n9  Communication Issues  My job responsibilities are unclear, causing c...   \n\n   Employee Age Employee Role  Gender  \n0            46        Senior    Male  \n1            21        Intern  Female  \n2            49        Senior    Male  \n3            36        Junior    Male  \n4            24        Intern  Female  \n5            44        Senior    Male  \n6            36        Junior    Male  \n7            38        Junior    Male  \n8            21        Intern  Female  \n9            36        Junior    Male  ",
      "text/html": "<div>\n<style scoped>\n    .dataframe tbody tr th:only-of-type {\n        vertical-align: middle;\n    }\n\n    .dataframe tbody tr th {\n        vertical-align: top;\n    }\n\n    .dataframe thead th {\n        text-align: right;\n    }\n</style>\n<table border=\"1\" class=\"dataframe\">\n  <thead>\n    <tr style=\"text-align: right;\">\n      <th></th>\n      <th>Genre</th>\n      <th>Report</th>\n      <th>Employee Age</th>\n      <th>Employee Role</th>\n      <th>Gender</th>\n    </tr>\n  </thead>\n  <tbody>\n    <tr>\n      <th>0</th>\n      <td>Communication Issues</td>\n      <td>I never receive clear instructions for my tasks.</td>\n      <td>46</td>\n      <td>Senior</td>\n      <td>Male</td>\n    </tr>\n    <tr>\n      <th>1</th>\n      <td>Communication Issues</td>\n      <td>Updates from management are inconsistent and c...</td>\n      <td>21</td>\n      <td>Intern</td>\n      <td>Female</td>\n    </tr>\n    <tr>\n      <th>2</th>\n      <td>Communication Issues</td>\n      <td>I often misunderstand what's expected due to v...</td>\n      <td>49</td>\n      <td>Senior</td>\n      <td>Male</td>\n    </tr>\n    <tr>\n      <th>3</th>\n      <td>Communication Issues</td>\n      <td>Important information is never shared on time.</td>\n      <td>36</td>\n      <td>Junior</td>\n      <td>Male</td>\n    </tr>\n    <tr>\n      <th>4</th>\n      <td>Communication Issues</td>\n      <td>My queries go unanswered, making it hard to pr...</td>\n      <td>24</td>\n      <td>Intern</td>\n      <td>Female</td>\n    </tr>\n    <tr>\n      <th>5</th>\n      <td>Communication Issues</td>\n      <td>Meetings are held without clear agendas, wasti...</td>\n      <td>44</td>\n      <td>Senior</td>\n      <td>Male</td>\n    </tr>\n    <tr>\n      <th>6</th>\n      <td>Communication Issues</td>\n      <td>During changes, communication is poor and leav...</td>\n      <td>36</td>\n      <td>Junior</td>\n      <td>Male</td>\n    </tr>\n    <tr>\n      <th>7</th>\n      <td>Communication Issues</td>\n      <td>Our team goals are never properly communicated.</td>\n      <td>38</td>\n      <td>Junior</td>\n      <td>Male</td>\n    </tr>\n    <tr>\n      <th>8</th>\n      <td>Communication Issues</td>\n      <td>Feedback on my performance is hardly provided.</td>\n      <td>21</td>\n      <td>Intern</td>\n      <td>Female</td>\n    </tr>\n    <tr>\n      <th>9</th>\n      <td>Communication Issues</td>\n      <td>My job responsibilities are unclear, causing c...</td>\n      <td>36</td>\n      <td>Junior</td>\n      <td>Male</td>\n    </tr>\n  </tbody>\n</table>\n</div>"
     },
     "execution_count": 81,
     "metadata": {},
     "output_type": "execute_result"
    }
   ],
   "source": [
    "df = pd.read_csv('./Employee_Complaints.csv')\n",
    "df.head(10)"
   ],
   "metadata": {
    "collapsed": false
   }
  },
  {
   "cell_type": "code",
   "execution_count": 82,
   "outputs": [
    {
     "name": "stdout",
     "output_type": "stream",
     "text": [
      "<class 'pandas.core.frame.DataFrame'>\n",
      "RangeIndex: 482 entries, 0 to 481\n",
      "Data columns (total 5 columns):\n",
      " #   Column         Non-Null Count  Dtype \n",
      "---  ------         --------------  ----- \n",
      " 0   Genre          482 non-null    object\n",
      " 1   Report         480 non-null    object\n",
      " 2   Employee Age   482 non-null    int64 \n",
      " 3   Employee Role  482 non-null    object\n",
      " 4   Gender         482 non-null    object\n",
      "dtypes: int64(1), object(4)\n",
      "memory usage: 19.0+ KB\n"
     ]
    }
   ],
   "source": [
    "# Info of the dataframe\n",
    "df.info()"
   ],
   "metadata": {
    "collapsed": false
   }
  },
  {
   "cell_type": "code",
   "execution_count": 83,
   "outputs": [
    {
     "data": {
      "text/plain": "Genre            0\nReport           2\nEmployee Age     0\nEmployee Role    0\nGender           0\ndtype: int64"
     },
     "execution_count": 83,
     "metadata": {},
     "output_type": "execute_result"
    }
   ],
   "source": [
    "# Check for missing values\n",
    "df.isnull().sum()"
   ],
   "metadata": {
    "collapsed": false
   }
  },
  {
   "cell_type": "code",
   "execution_count": 84,
   "outputs": [
    {
     "data": {
      "text/plain": "0"
     },
     "execution_count": 84,
     "metadata": {},
     "output_type": "execute_result"
    }
   ],
   "source": [
    "df.duplicated().sum()"
   ],
   "metadata": {
    "collapsed": false
   }
  },
  {
   "cell_type": "markdown",
   "source": [
    "Let's find out how many kinds of reports there are! But the important question is, what are they?"
   ],
   "metadata": {
    "collapsed": false
   }
  },
  {
   "cell_type": "code",
   "execution_count": 85,
   "outputs": [
    {
     "data": {
      "text/plain": "array(['Communication Issues', 'Workload and Stress',\n       'Management Lifestyle', 'Compensation and Benefits',\n       'Career Development', 'Workplace Environment',\n       'Lack of training and development'], dtype=object)"
     },
     "execution_count": 85,
     "metadata": {},
     "output_type": "execute_result"
    }
   ],
   "source": [
    "df['Genre'].unique()"
   ],
   "metadata": {
    "collapsed": false
   }
  },
  {
   "cell_type": "code",
   "execution_count": 86,
   "outputs": [
    {
     "data": {
      "text/plain": "Genre\nCommunication Issues                100\nWorkload and Stress                 100\nManagement Lifestyle                100\nLack of training and development     70\nWorkplace Environment                52\nCompensation and Benefits            30\nCareer Development                   30\nName: count, dtype: int64"
     },
     "execution_count": 86,
     "metadata": {},
     "output_type": "execute_result"
    }
   ],
   "source": [
    "df_count=df['Genre'].value_counts()\n",
    "df_count"
   ],
   "metadata": {
    "collapsed": false
   }
  },
  {
   "cell_type": "markdown",
   "source": [
    "We can see here that there are 7 types of report"
   ],
   "metadata": {
    "collapsed": false
   }
  },
  {
   "cell_type": "markdown",
   "source": [
    "Plotting to visualize data"
   ],
   "metadata": {
    "collapsed": false
   }
  },
  {
   "cell_type": "code",
   "execution_count": 87,
   "outputs": [
    {
     "data": {
      "application/vnd.plotly.v1+json": {
       "data": [
        {
         "hovertemplate": "Genre=Communication Issues<br>Employee Role=%{x}<br>Employee Age=%{y}<extra></extra>",
         "legendgroup": "Communication Issues",
         "marker": {
          "color": "#636efa",
          "symbol": "circle"
         },
         "mode": "markers",
         "name": "Communication Issues",
         "orientation": "v",
         "showlegend": true,
         "x": [
          "Senior",
          "Intern",
          "Senior",
          "Junior",
          "Intern",
          "Senior",
          "Junior",
          "Junior",
          "Intern",
          "Junior",
          "Manager",
          "Manager",
          "Intern",
          "Senior",
          "Manager",
          "Senior",
          "Senior",
          "Senior",
          "Junior",
          "Junior",
          "Manager",
          "Intern",
          "Intern",
          "Senior",
          "Senior",
          "Junior",
          "Junior",
          "Junior",
          "Manager",
          "Senior",
          "Junior",
          "Intern",
          "Senior",
          "Junior",
          "Junior",
          "Senior",
          "Junior",
          "Manager",
          "Manager",
          "Junior",
          "Senior",
          "Intern",
          "Junior",
          "Intern",
          "Intern",
          "Senior",
          "Junior",
          "Junior",
          "Junior",
          "Junior",
          "Junior",
          "Junior",
          "Intern",
          "Senior",
          "Junior",
          "Junior",
          "Junior",
          "Junior",
          "Junior",
          "Junior",
          "Junior",
          "Junior",
          "Senior",
          "Senior",
          "Junior",
          "Senior",
          "Junior",
          "Manager",
          "Junior",
          "Junior",
          "Intern",
          "Junior",
          "Manager",
          "Junior",
          "Junior",
          "Junior",
          "Intern",
          "Manager",
          "Manager",
          "Junior",
          "Manager",
          "Senior",
          "Manager",
          "Junior",
          "Manager",
          "Manager",
          "Senior",
          "Senior",
          "Manager",
          "Junior",
          "Manager",
          "Senior",
          "Manager",
          "Intern",
          "Manager",
          "Senior",
          "Manager",
          "Senior",
          "Intern",
          "Manager"
         ],
         "xaxis": "x",
         "y": [
          46,
          21,
          49,
          36,
          24,
          44,
          36,
          38,
          21,
          36,
          59,
          59,
          21,
          42,
          52,
          41,
          47,
          48,
          29,
          32,
          59,
          24,
          18,
          42,
          42,
          33,
          30,
          32,
          60,
          42,
          25,
          18,
          43,
          27,
          29,
          47,
          30,
          58,
          57,
          32,
          43,
          22,
          32,
          19,
          19,
          43,
          37,
          25,
          26,
          30,
          30,
          32,
          21,
          41,
          31,
          30,
          27,
          26,
          27,
          30,
          38,
          33,
          43,
          45,
          39,
          48,
          35,
          51,
          36,
          37,
          24,
          38,
          50,
          36,
          37,
          28,
          21,
          50,
          59,
          30,
          54,
          47,
          52,
          36,
          58,
          56,
          41,
          47,
          59,
          36,
          57,
          41,
          50,
          23,
          50,
          40,
          60,
          41,
          22,
          54
         ],
         "yaxis": "y",
         "type": "scatter"
        },
        {
         "hovertemplate": "Genre=Workload and Stress<br>Employee Role=%{x}<br>Employee Age=%{y}<extra></extra>",
         "legendgroup": "Workload and Stress",
         "marker": {
          "color": "#EF553B",
          "symbol": "circle"
         },
         "mode": "markers",
         "name": "Workload and Stress",
         "orientation": "v",
         "showlegend": true,
         "x": [
          "Intern",
          "Junior",
          "Intern",
          "Manager",
          "Junior",
          "Manager",
          "Manager",
          "Intern",
          "Junior",
          "Junior",
          "Senior",
          "Junior",
          "Manager",
          "Manager",
          "Manager",
          "Intern",
          "Junior",
          "Senior",
          "Senior",
          "Manager",
          "Manager",
          "Junior",
          "Senior",
          "Junior",
          "Junior",
          "Junior",
          "Senior",
          "Senior",
          "Intern",
          "Junior",
          "Senior",
          "Junior",
          "Intern",
          "Junior",
          "Junior",
          "Manager",
          "Junior",
          "Manager",
          "Senior",
          "Manager",
          "Manager",
          "Junior",
          "Manager",
          "Intern",
          "Senior",
          "Senior",
          "Senior",
          "Intern",
          "Intern",
          "Junior",
          "Intern",
          "Manager",
          "Junior",
          "Senior",
          "Manager",
          "Junior",
          "Junior",
          "Junior",
          "Intern",
          "Manager",
          "Senior",
          "Manager",
          "Junior",
          "Senior",
          "Junior",
          "Senior",
          "Junior",
          "Intern",
          "Senior",
          "Intern",
          "Manager",
          "Intern",
          "Junior",
          "Intern",
          "Senior",
          "Manager",
          "Senior",
          "Intern",
          "Junior",
          "Intern",
          "Junior",
          "Intern",
          "Manager",
          "Intern",
          "Junior",
          "Intern",
          "Intern",
          "Senior",
          "Manager",
          "Junior",
          "Junior",
          "Junior",
          "Manager",
          "Manager",
          "Junior",
          "Manager",
          "Manager",
          "Senior",
          "Senior",
          "Manager"
         ],
         "xaxis": "x",
         "y": [
          22,
          25,
          24,
          60,
          35,
          56,
          58,
          22,
          33,
          30,
          49,
          38,
          60,
          60,
          50,
          21,
          26,
          44,
          41,
          58,
          53,
          39,
          42,
          36,
          30,
          34,
          47,
          49,
          22,
          28,
          43,
          30,
          24,
          39,
          26,
          59,
          38,
          50,
          44,
          60,
          50,
          31,
          54,
          20,
          48,
          44,
          41,
          20,
          21,
          28,
          22,
          53,
          37,
          42,
          54,
          37,
          29,
          39,
          24,
          55,
          42,
          51,
          30,
          44,
          29,
          47,
          36,
          23,
          43,
          23,
          50,
          18,
          33,
          22,
          46,
          56,
          42,
          20,
          25,
          24,
          30,
          24,
          56,
          19,
          29,
          22,
          19,
          43,
          52,
          32,
          28,
          37,
          56,
          53,
          29,
          50,
          57,
          47,
          44,
          57
         ],
         "yaxis": "y",
         "type": "scatter"
        },
        {
         "hovertemplate": "Genre=Management Lifestyle<br>Employee Role=%{x}<br>Employee Age=%{y}<extra></extra>",
         "legendgroup": "Management Lifestyle",
         "marker": {
          "color": "#00cc96",
          "symbol": "circle"
         },
         "mode": "markers",
         "name": "Management Lifestyle",
         "orientation": "v",
         "showlegend": true,
         "x": [
          "Senior",
          "Manager",
          "Senior",
          "Manager",
          "Senior",
          "Manager",
          "Manager",
          "Junior",
          "Junior",
          "Intern",
          "Junior",
          "Manager",
          "Manager",
          "Senior",
          "Junior",
          "Junior",
          "Junior",
          "Junior",
          "Junior",
          "Junior",
          "Manager",
          "Junior",
          "Junior",
          "Senior",
          "Intern",
          "Manager",
          "Senior",
          "Senior",
          "Manager",
          "Junior",
          "Intern",
          "Manager",
          "Senior",
          "Intern",
          "Junior",
          "Manager",
          "Intern",
          "Intern",
          "Manager",
          "Junior",
          "Manager",
          "Manager",
          "Junior",
          "Manager",
          "Junior",
          "Manager",
          "Junior",
          "Senior",
          "Manager",
          "Intern",
          "Manager",
          "Junior",
          "Manager",
          "Intern",
          "Intern",
          "Intern",
          "Junior",
          "Junior",
          "Junior",
          "Manager",
          "Junior",
          "Senior",
          "Junior",
          "Manager",
          "Junior",
          "Manager",
          "Junior",
          "Senior",
          "Manager",
          "Junior",
          "Intern",
          "Junior",
          "Senior",
          "Senior",
          "Senior",
          "Intern",
          "Senior",
          "Junior",
          "Intern",
          "Senior",
          "Senior",
          "Intern",
          "Senior",
          "Junior",
          "Intern",
          "Manager",
          "Intern",
          "Junior",
          "Senior",
          "Junior",
          "Senior",
          "Junior",
          "Intern",
          "Junior",
          "Manager",
          "Junior",
          "Senior",
          "Junior",
          "Senior",
          "Junior"
         ],
         "xaxis": "x",
         "y": [
          46,
          54,
          49,
          51,
          41,
          50,
          56,
          28,
          25,
          18,
          27,
          60,
          54,
          46,
          35,
          25,
          38,
          27,
          31,
          26,
          58,
          38,
          34,
          46,
          19,
          54,
          41,
          49,
          56,
          29,
          20,
          50,
          47,
          22,
          35,
          51,
          22,
          21,
          50,
          25,
          53,
          52,
          38,
          54,
          32,
          56,
          27,
          41,
          51,
          23,
          51,
          35,
          54,
          18,
          20,
          21,
          25,
          29,
          26,
          51,
          37,
          44,
          29,
          57,
          37,
          56,
          32,
          43,
          56,
          36,
          22,
          32,
          49,
          44,
          44,
          20,
          46,
          38,
          21,
          41,
          46,
          18,
          44,
          30,
          22,
          56,
          18,
          32,
          41,
          27,
          43,
          39,
          20,
          35,
          51,
          28,
          40,
          39,
          49,
          25
         ],
         "yaxis": "y",
         "type": "scatter"
        },
        {
         "hovertemplate": "Genre=Compensation and Benefits<br>Employee Role=%{x}<br>Employee Age=%{y}<extra></extra>",
         "legendgroup": "Compensation and Benefits",
         "marker": {
          "color": "#ab63fa",
          "symbol": "circle"
         },
         "mode": "markers",
         "name": "Compensation and Benefits",
         "orientation": "v",
         "showlegend": true,
         "x": [
          "Manager",
          "Senior",
          "Intern",
          "Intern",
          "Senior",
          "Manager",
          "Junior",
          "Senior",
          "Intern",
          "Junior",
          "Senior",
          "Junior",
          "Intern",
          "Intern",
          "Intern",
          "Junior",
          "Senior",
          "Senior",
          "Junior",
          "Senior",
          "Manager",
          "Junior",
          "Senior",
          "Junior",
          "Junior",
          "Intern",
          "Senior",
          "Senior",
          "Junior",
          "Junior"
         ],
         "xaxis": "x",
         "y": [
          57,
          47,
          21,
          24,
          48,
          60,
          25,
          42,
          20,
          27,
          46,
          27,
          19,
          18,
          24,
          35,
          44,
          44,
          37,
          43,
          53,
          33,
          42,
          38,
          35,
          18,
          49,
          40,
          36,
          36
         ],
         "yaxis": "y",
         "type": "scatter"
        },
        {
         "hovertemplate": "Genre=Career Development<br>Employee Role=%{x}<br>Employee Age=%{y}<extra></extra>",
         "legendgroup": "Career Development",
         "marker": {
          "color": "#FFA15A",
          "symbol": "circle"
         },
         "mode": "markers",
         "name": "Career Development",
         "orientation": "v",
         "showlegend": true,
         "x": [
          "Intern",
          "Manager",
          "Manager",
          "Manager",
          "Junior",
          "Intern",
          "Manager",
          "Junior",
          "Junior",
          "Senior",
          "Manager",
          "Junior",
          "Senior",
          "Manager",
          "Junior",
          "Manager",
          "Intern",
          "Junior",
          "Senior",
          "Senior",
          "Manager",
          "Senior",
          "Junior",
          "Intern",
          "Junior",
          "Junior",
          "Junior",
          "Manager",
          "Junior",
          "Manager"
         ],
         "xaxis": "x",
         "y": [
          23,
          53,
          58,
          58,
          30,
          23,
          59,
          25,
          35,
          43,
          51,
          32,
          44,
          50,
          34,
          60,
          19,
          33,
          45,
          47,
          57,
          44,
          34,
          20,
          34,
          39,
          39,
          53,
          37,
          58
         ],
         "yaxis": "y",
         "type": "scatter"
        },
        {
         "hovertemplate": "Genre=Workplace Environment<br>Employee Role=%{x}<br>Employee Age=%{y}<extra></extra>",
         "legendgroup": "Workplace Environment",
         "marker": {
          "color": "#19d3f3",
          "symbol": "circle"
         },
         "mode": "markers",
         "name": "Workplace Environment",
         "orientation": "v",
         "showlegend": true,
         "x": [
          "Senior",
          "Senior",
          "Manager",
          "Intern",
          "Manager",
          "Senior",
          "Manager",
          "Manager",
          "Junior",
          "Junior",
          "Manager",
          "Junior",
          "Intern",
          "Junior",
          "Manager",
          "Junior",
          "Manager",
          "Intern",
          "Senior",
          "Junior",
          "Senior",
          "Senior",
          "Junior",
          "Junior",
          "Manager",
          "Junior",
          "Junior",
          "Senior",
          "Junior",
          "Manager",
          "Senior",
          "Senior",
          "Manager",
          "Junior",
          "Intern",
          "Manager",
          "Junior",
          "Manager",
          "Junior",
          "Junior",
          "Senior",
          "Senior",
          "Junior",
          "Manager",
          "Manager",
          "Manager",
          "Junior",
          "Intern",
          "Intern",
          "Senior",
          "Intern",
          "Junior"
         ],
         "xaxis": "x",
         "y": [
          40,
          44,
          50,
          21,
          55,
          44,
          56,
          53,
          32,
          37,
          56,
          31,
          18,
          30,
          59,
          25,
          59,
          21,
          48,
          28,
          43,
          46,
          31,
          34,
          57,
          32,
          39,
          49,
          33,
          56,
          47,
          45,
          54,
          37,
          22,
          52,
          39,
          50,
          33,
          32,
          41,
          45,
          39,
          58,
          60,
          53,
          35,
          24,
          24,
          49,
          18,
          29
         ],
         "yaxis": "y",
         "type": "scatter"
        },
        {
         "hovertemplate": "Genre=Lack of training and development<br>Employee Role=%{x}<br>Employee Age=%{y}<extra></extra>",
         "legendgroup": "Lack of training and development",
         "marker": {
          "color": "#FF6692",
          "symbol": "circle"
         },
         "mode": "markers",
         "name": "Lack of training and development",
         "orientation": "v",
         "showlegend": true,
         "x": [
          "Intern",
          "Manager",
          "Senior",
          "Senior",
          "Manager",
          "Manager",
          "Intern",
          "Junior",
          "Junior",
          "Junior",
          "Intern",
          "Manager",
          "Intern",
          "Senior",
          "Intern",
          "Intern",
          "Manager",
          "Junior",
          "Senior",
          "Senior",
          "Senior",
          "Intern",
          "Junior",
          "Intern",
          "Junior",
          "Junior",
          "Junior",
          "Junior",
          "Junior",
          "Manager",
          "Manager",
          "Junior",
          "Junior",
          "Manager",
          "Intern",
          "Senior",
          "Intern",
          "Senior",
          "Intern",
          "Manager",
          "Junior",
          "Intern",
          "Senior",
          "Senior",
          "Intern",
          "Manager",
          "Junior",
          "Junior",
          "Manager",
          "Manager",
          "Senior",
          "Senior",
          "Junior",
          "Manager",
          "Junior",
          "Junior",
          "Senior",
          "Junior",
          "Manager",
          "Senior",
          "Junior",
          "Manager",
          "Junior",
          "Manager",
          "Intern",
          "Intern",
          "Intern",
          "Intern",
          "Senior",
          "Intern"
         ],
         "xaxis": "x",
         "y": [
          22,
          50,
          45,
          47,
          50,
          53,
          21,
          28,
          37,
          35,
          24,
          52,
          20,
          41,
          20,
          18,
          52,
          28,
          42,
          49,
          47,
          23,
          29,
          21,
          32,
          39,
          29,
          31,
          26,
          57,
          58,
          32,
          37,
          59,
          24,
          46,
          22,
          49,
          24,
          57,
          28,
          18,
          45,
          44,
          20,
          58,
          39,
          30,
          57,
          59,
          42,
          41,
          32,
          54,
          30,
          34,
          40,
          30,
          60,
          41,
          37,
          60,
          28,
          56,
          21,
          19,
          18,
          19,
          47,
          19
         ],
         "yaxis": "y",
         "type": "scatter"
        }
       ],
       "layout": {
        "template": {
         "data": {
          "histogram2dcontour": [
           {
            "type": "histogram2dcontour",
            "colorbar": {
             "outlinewidth": 0,
             "ticks": ""
            },
            "colorscale": [
             [
              0.0,
              "#0d0887"
             ],
             [
              0.1111111111111111,
              "#46039f"
             ],
             [
              0.2222222222222222,
              "#7201a8"
             ],
             [
              0.3333333333333333,
              "#9c179e"
             ],
             [
              0.4444444444444444,
              "#bd3786"
             ],
             [
              0.5555555555555556,
              "#d8576b"
             ],
             [
              0.6666666666666666,
              "#ed7953"
             ],
             [
              0.7777777777777778,
              "#fb9f3a"
             ],
             [
              0.8888888888888888,
              "#fdca26"
             ],
             [
              1.0,
              "#f0f921"
             ]
            ]
           }
          ],
          "choropleth": [
           {
            "type": "choropleth",
            "colorbar": {
             "outlinewidth": 0,
             "ticks": ""
            }
           }
          ],
          "histogram2d": [
           {
            "type": "histogram2d",
            "colorbar": {
             "outlinewidth": 0,
             "ticks": ""
            },
            "colorscale": [
             [
              0.0,
              "#0d0887"
             ],
             [
              0.1111111111111111,
              "#46039f"
             ],
             [
              0.2222222222222222,
              "#7201a8"
             ],
             [
              0.3333333333333333,
              "#9c179e"
             ],
             [
              0.4444444444444444,
              "#bd3786"
             ],
             [
              0.5555555555555556,
              "#d8576b"
             ],
             [
              0.6666666666666666,
              "#ed7953"
             ],
             [
              0.7777777777777778,
              "#fb9f3a"
             ],
             [
              0.8888888888888888,
              "#fdca26"
             ],
             [
              1.0,
              "#f0f921"
             ]
            ]
           }
          ],
          "heatmap": [
           {
            "type": "heatmap",
            "colorbar": {
             "outlinewidth": 0,
             "ticks": ""
            },
            "colorscale": [
             [
              0.0,
              "#0d0887"
             ],
             [
              0.1111111111111111,
              "#46039f"
             ],
             [
              0.2222222222222222,
              "#7201a8"
             ],
             [
              0.3333333333333333,
              "#9c179e"
             ],
             [
              0.4444444444444444,
              "#bd3786"
             ],
             [
              0.5555555555555556,
              "#d8576b"
             ],
             [
              0.6666666666666666,
              "#ed7953"
             ],
             [
              0.7777777777777778,
              "#fb9f3a"
             ],
             [
              0.8888888888888888,
              "#fdca26"
             ],
             [
              1.0,
              "#f0f921"
             ]
            ]
           }
          ],
          "heatmapgl": [
           {
            "type": "heatmapgl",
            "colorbar": {
             "outlinewidth": 0,
             "ticks": ""
            },
            "colorscale": [
             [
              0.0,
              "#0d0887"
             ],
             [
              0.1111111111111111,
              "#46039f"
             ],
             [
              0.2222222222222222,
              "#7201a8"
             ],
             [
              0.3333333333333333,
              "#9c179e"
             ],
             [
              0.4444444444444444,
              "#bd3786"
             ],
             [
              0.5555555555555556,
              "#d8576b"
             ],
             [
              0.6666666666666666,
              "#ed7953"
             ],
             [
              0.7777777777777778,
              "#fb9f3a"
             ],
             [
              0.8888888888888888,
              "#fdca26"
             ],
             [
              1.0,
              "#f0f921"
             ]
            ]
           }
          ],
          "contourcarpet": [
           {
            "type": "contourcarpet",
            "colorbar": {
             "outlinewidth": 0,
             "ticks": ""
            }
           }
          ],
          "contour": [
           {
            "type": "contour",
            "colorbar": {
             "outlinewidth": 0,
             "ticks": ""
            },
            "colorscale": [
             [
              0.0,
              "#0d0887"
             ],
             [
              0.1111111111111111,
              "#46039f"
             ],
             [
              0.2222222222222222,
              "#7201a8"
             ],
             [
              0.3333333333333333,
              "#9c179e"
             ],
             [
              0.4444444444444444,
              "#bd3786"
             ],
             [
              0.5555555555555556,
              "#d8576b"
             ],
             [
              0.6666666666666666,
              "#ed7953"
             ],
             [
              0.7777777777777778,
              "#fb9f3a"
             ],
             [
              0.8888888888888888,
              "#fdca26"
             ],
             [
              1.0,
              "#f0f921"
             ]
            ]
           }
          ],
          "surface": [
           {
            "type": "surface",
            "colorbar": {
             "outlinewidth": 0,
             "ticks": ""
            },
            "colorscale": [
             [
              0.0,
              "#0d0887"
             ],
             [
              0.1111111111111111,
              "#46039f"
             ],
             [
              0.2222222222222222,
              "#7201a8"
             ],
             [
              0.3333333333333333,
              "#9c179e"
             ],
             [
              0.4444444444444444,
              "#bd3786"
             ],
             [
              0.5555555555555556,
              "#d8576b"
             ],
             [
              0.6666666666666666,
              "#ed7953"
             ],
             [
              0.7777777777777778,
              "#fb9f3a"
             ],
             [
              0.8888888888888888,
              "#fdca26"
             ],
             [
              1.0,
              "#f0f921"
             ]
            ]
           }
          ],
          "mesh3d": [
           {
            "type": "mesh3d",
            "colorbar": {
             "outlinewidth": 0,
             "ticks": ""
            }
           }
          ],
          "scatter": [
           {
            "fillpattern": {
             "fillmode": "overlay",
             "size": 10,
             "solidity": 0.2
            },
            "type": "scatter"
           }
          ],
          "parcoords": [
           {
            "type": "parcoords",
            "line": {
             "colorbar": {
              "outlinewidth": 0,
              "ticks": ""
             }
            }
           }
          ],
          "scatterpolargl": [
           {
            "type": "scatterpolargl",
            "marker": {
             "colorbar": {
              "outlinewidth": 0,
              "ticks": ""
             }
            }
           }
          ],
          "bar": [
           {
            "error_x": {
             "color": "#2a3f5f"
            },
            "error_y": {
             "color": "#2a3f5f"
            },
            "marker": {
             "line": {
              "color": "#E5ECF6",
              "width": 0.5
             },
             "pattern": {
              "fillmode": "overlay",
              "size": 10,
              "solidity": 0.2
             }
            },
            "type": "bar"
           }
          ],
          "scattergeo": [
           {
            "type": "scattergeo",
            "marker": {
             "colorbar": {
              "outlinewidth": 0,
              "ticks": ""
             }
            }
           }
          ],
          "scatterpolar": [
           {
            "type": "scatterpolar",
            "marker": {
             "colorbar": {
              "outlinewidth": 0,
              "ticks": ""
             }
            }
           }
          ],
          "histogram": [
           {
            "marker": {
             "pattern": {
              "fillmode": "overlay",
              "size": 10,
              "solidity": 0.2
             }
            },
            "type": "histogram"
           }
          ],
          "scattergl": [
           {
            "type": "scattergl",
            "marker": {
             "colorbar": {
              "outlinewidth": 0,
              "ticks": ""
             }
            }
           }
          ],
          "scatter3d": [
           {
            "type": "scatter3d",
            "line": {
             "colorbar": {
              "outlinewidth": 0,
              "ticks": ""
             }
            },
            "marker": {
             "colorbar": {
              "outlinewidth": 0,
              "ticks": ""
             }
            }
           }
          ],
          "scattermapbox": [
           {
            "type": "scattermapbox",
            "marker": {
             "colorbar": {
              "outlinewidth": 0,
              "ticks": ""
             }
            }
           }
          ],
          "scatterternary": [
           {
            "type": "scatterternary",
            "marker": {
             "colorbar": {
              "outlinewidth": 0,
              "ticks": ""
             }
            }
           }
          ],
          "scattercarpet": [
           {
            "type": "scattercarpet",
            "marker": {
             "colorbar": {
              "outlinewidth": 0,
              "ticks": ""
             }
            }
           }
          ],
          "carpet": [
           {
            "aaxis": {
             "endlinecolor": "#2a3f5f",
             "gridcolor": "white",
             "linecolor": "white",
             "minorgridcolor": "white",
             "startlinecolor": "#2a3f5f"
            },
            "baxis": {
             "endlinecolor": "#2a3f5f",
             "gridcolor": "white",
             "linecolor": "white",
             "minorgridcolor": "white",
             "startlinecolor": "#2a3f5f"
            },
            "type": "carpet"
           }
          ],
          "table": [
           {
            "cells": {
             "fill": {
              "color": "#EBF0F8"
             },
             "line": {
              "color": "white"
             }
            },
            "header": {
             "fill": {
              "color": "#C8D4E3"
             },
             "line": {
              "color": "white"
             }
            },
            "type": "table"
           }
          ],
          "barpolar": [
           {
            "marker": {
             "line": {
              "color": "#E5ECF6",
              "width": 0.5
             },
             "pattern": {
              "fillmode": "overlay",
              "size": 10,
              "solidity": 0.2
             }
            },
            "type": "barpolar"
           }
          ],
          "pie": [
           {
            "automargin": true,
            "type": "pie"
           }
          ]
         },
         "layout": {
          "autotypenumbers": "strict",
          "colorway": [
           "#636efa",
           "#EF553B",
           "#00cc96",
           "#ab63fa",
           "#FFA15A",
           "#19d3f3",
           "#FF6692",
           "#B6E880",
           "#FF97FF",
           "#FECB52"
          ],
          "font": {
           "color": "#2a3f5f"
          },
          "hovermode": "closest",
          "hoverlabel": {
           "align": "left"
          },
          "paper_bgcolor": "white",
          "plot_bgcolor": "#E5ECF6",
          "polar": {
           "bgcolor": "#E5ECF6",
           "angularaxis": {
            "gridcolor": "white",
            "linecolor": "white",
            "ticks": ""
           },
           "radialaxis": {
            "gridcolor": "white",
            "linecolor": "white",
            "ticks": ""
           }
          },
          "ternary": {
           "bgcolor": "#E5ECF6",
           "aaxis": {
            "gridcolor": "white",
            "linecolor": "white",
            "ticks": ""
           },
           "baxis": {
            "gridcolor": "white",
            "linecolor": "white",
            "ticks": ""
           },
           "caxis": {
            "gridcolor": "white",
            "linecolor": "white",
            "ticks": ""
           }
          },
          "coloraxis": {
           "colorbar": {
            "outlinewidth": 0,
            "ticks": ""
           }
          },
          "colorscale": {
           "sequential": [
            [
             0.0,
             "#0d0887"
            ],
            [
             0.1111111111111111,
             "#46039f"
            ],
            [
             0.2222222222222222,
             "#7201a8"
            ],
            [
             0.3333333333333333,
             "#9c179e"
            ],
            [
             0.4444444444444444,
             "#bd3786"
            ],
            [
             0.5555555555555556,
             "#d8576b"
            ],
            [
             0.6666666666666666,
             "#ed7953"
            ],
            [
             0.7777777777777778,
             "#fb9f3a"
            ],
            [
             0.8888888888888888,
             "#fdca26"
            ],
            [
             1.0,
             "#f0f921"
            ]
           ],
           "sequentialminus": [
            [
             0.0,
             "#0d0887"
            ],
            [
             0.1111111111111111,
             "#46039f"
            ],
            [
             0.2222222222222222,
             "#7201a8"
            ],
            [
             0.3333333333333333,
             "#9c179e"
            ],
            [
             0.4444444444444444,
             "#bd3786"
            ],
            [
             0.5555555555555556,
             "#d8576b"
            ],
            [
             0.6666666666666666,
             "#ed7953"
            ],
            [
             0.7777777777777778,
             "#fb9f3a"
            ],
            [
             0.8888888888888888,
             "#fdca26"
            ],
            [
             1.0,
             "#f0f921"
            ]
           ],
           "diverging": [
            [
             0,
             "#8e0152"
            ],
            [
             0.1,
             "#c51b7d"
            ],
            [
             0.2,
             "#de77ae"
            ],
            [
             0.3,
             "#f1b6da"
            ],
            [
             0.4,
             "#fde0ef"
            ],
            [
             0.5,
             "#f7f7f7"
            ],
            [
             0.6,
             "#e6f5d0"
            ],
            [
             0.7,
             "#b8e186"
            ],
            [
             0.8,
             "#7fbc41"
            ],
            [
             0.9,
             "#4d9221"
            ],
            [
             1,
             "#276419"
            ]
           ]
          },
          "xaxis": {
           "gridcolor": "white",
           "linecolor": "white",
           "ticks": "",
           "title": {
            "standoff": 15
           },
           "zerolinecolor": "white",
           "automargin": true,
           "zerolinewidth": 2
          },
          "yaxis": {
           "gridcolor": "white",
           "linecolor": "white",
           "ticks": "",
           "title": {
            "standoff": 15
           },
           "zerolinecolor": "white",
           "automargin": true,
           "zerolinewidth": 2
          },
          "scene": {
           "xaxis": {
            "backgroundcolor": "#E5ECF6",
            "gridcolor": "white",
            "linecolor": "white",
            "showbackground": true,
            "ticks": "",
            "zerolinecolor": "white",
            "gridwidth": 2
           },
           "yaxis": {
            "backgroundcolor": "#E5ECF6",
            "gridcolor": "white",
            "linecolor": "white",
            "showbackground": true,
            "ticks": "",
            "zerolinecolor": "white",
            "gridwidth": 2
           },
           "zaxis": {
            "backgroundcolor": "#E5ECF6",
            "gridcolor": "white",
            "linecolor": "white",
            "showbackground": true,
            "ticks": "",
            "zerolinecolor": "white",
            "gridwidth": 2
           }
          },
          "shapedefaults": {
           "line": {
            "color": "#2a3f5f"
           }
          },
          "annotationdefaults": {
           "arrowcolor": "#2a3f5f",
           "arrowhead": 0,
           "arrowwidth": 1
          },
          "geo": {
           "bgcolor": "white",
           "landcolor": "#E5ECF6",
           "subunitcolor": "white",
           "showland": true,
           "showlakes": true,
           "lakecolor": "white"
          },
          "title": {
           "x": 0.05
          },
          "mapbox": {
           "style": "light"
          }
         }
        },
        "xaxis": {
         "anchor": "y",
         "domain": [
          0.0,
          1.0
         ],
         "title": {
          "text": "Employee Role"
         }
        },
        "yaxis": {
         "anchor": "x",
         "domain": [
          0.0,
          1.0
         ],
         "title": {
          "text": "Employee Age"
         }
        },
        "legend": {
         "title": {
          "text": "Genre"
         },
         "tracegroupgap": 0
        },
        "margin": {
         "t": 60
        }
       },
       "config": {
        "plotlyServerURL": "https://plot.ly"
       }
      },
      "text/html": "<div>                            <div id=\"9645b185-e853-4946-aac2-076fad48074d\" class=\"plotly-graph-div\" style=\"height:525px; width:100%;\"></div>            <script type=\"text/javascript\">                require([\"plotly\"], function(Plotly) {                    window.PLOTLYENV=window.PLOTLYENV || {};                                    if (document.getElementById(\"9645b185-e853-4946-aac2-076fad48074d\")) {                    Plotly.newPlot(                        \"9645b185-e853-4946-aac2-076fad48074d\",                        [{\"hovertemplate\":\"Genre=Communication Issues\\u003cbr\\u003eEmployee Role=%{x}\\u003cbr\\u003eEmployee Age=%{y}\\u003cextra\\u003e\\u003c\\u002fextra\\u003e\",\"legendgroup\":\"Communication Issues\",\"marker\":{\"color\":\"#636efa\",\"symbol\":\"circle\"},\"mode\":\"markers\",\"name\":\"Communication Issues\",\"orientation\":\"v\",\"showlegend\":true,\"x\":[\"Senior\",\"Intern\",\"Senior\",\"Junior\",\"Intern\",\"Senior\",\"Junior\",\"Junior\",\"Intern\",\"Junior\",\"Manager\",\"Manager\",\"Intern\",\"Senior\",\"Manager\",\"Senior\",\"Senior\",\"Senior\",\"Junior\",\"Junior\",\"Manager\",\"Intern\",\"Intern\",\"Senior\",\"Senior\",\"Junior\",\"Junior\",\"Junior\",\"Manager\",\"Senior\",\"Junior\",\"Intern\",\"Senior\",\"Junior\",\"Junior\",\"Senior\",\"Junior\",\"Manager\",\"Manager\",\"Junior\",\"Senior\",\"Intern\",\"Junior\",\"Intern\",\"Intern\",\"Senior\",\"Junior\",\"Junior\",\"Junior\",\"Junior\",\"Junior\",\"Junior\",\"Intern\",\"Senior\",\"Junior\",\"Junior\",\"Junior\",\"Junior\",\"Junior\",\"Junior\",\"Junior\",\"Junior\",\"Senior\",\"Senior\",\"Junior\",\"Senior\",\"Junior\",\"Manager\",\"Junior\",\"Junior\",\"Intern\",\"Junior\",\"Manager\",\"Junior\",\"Junior\",\"Junior\",\"Intern\",\"Manager\",\"Manager\",\"Junior\",\"Manager\",\"Senior\",\"Manager\",\"Junior\",\"Manager\",\"Manager\",\"Senior\",\"Senior\",\"Manager\",\"Junior\",\"Manager\",\"Senior\",\"Manager\",\"Intern\",\"Manager\",\"Senior\",\"Manager\",\"Senior\",\"Intern\",\"Manager\"],\"xaxis\":\"x\",\"y\":[46,21,49,36,24,44,36,38,21,36,59,59,21,42,52,41,47,48,29,32,59,24,18,42,42,33,30,32,60,42,25,18,43,27,29,47,30,58,57,32,43,22,32,19,19,43,37,25,26,30,30,32,21,41,31,30,27,26,27,30,38,33,43,45,39,48,35,51,36,37,24,38,50,36,37,28,21,50,59,30,54,47,52,36,58,56,41,47,59,36,57,41,50,23,50,40,60,41,22,54],\"yaxis\":\"y\",\"type\":\"scatter\"},{\"hovertemplate\":\"Genre=Workload and Stress\\u003cbr\\u003eEmployee Role=%{x}\\u003cbr\\u003eEmployee Age=%{y}\\u003cextra\\u003e\\u003c\\u002fextra\\u003e\",\"legendgroup\":\"Workload and Stress\",\"marker\":{\"color\":\"#EF553B\",\"symbol\":\"circle\"},\"mode\":\"markers\",\"name\":\"Workload and Stress\",\"orientation\":\"v\",\"showlegend\":true,\"x\":[\"Intern\",\"Junior\",\"Intern\",\"Manager\",\"Junior\",\"Manager\",\"Manager\",\"Intern\",\"Junior\",\"Junior\",\"Senior\",\"Junior\",\"Manager\",\"Manager\",\"Manager\",\"Intern\",\"Junior\",\"Senior\",\"Senior\",\"Manager\",\"Manager\",\"Junior\",\"Senior\",\"Junior\",\"Junior\",\"Junior\",\"Senior\",\"Senior\",\"Intern\",\"Junior\",\"Senior\",\"Junior\",\"Intern\",\"Junior\",\"Junior\",\"Manager\",\"Junior\",\"Manager\",\"Senior\",\"Manager\",\"Manager\",\"Junior\",\"Manager\",\"Intern\",\"Senior\",\"Senior\",\"Senior\",\"Intern\",\"Intern\",\"Junior\",\"Intern\",\"Manager\",\"Junior\",\"Senior\",\"Manager\",\"Junior\",\"Junior\",\"Junior\",\"Intern\",\"Manager\",\"Senior\",\"Manager\",\"Junior\",\"Senior\",\"Junior\",\"Senior\",\"Junior\",\"Intern\",\"Senior\",\"Intern\",\"Manager\",\"Intern\",\"Junior\",\"Intern\",\"Senior\",\"Manager\",\"Senior\",\"Intern\",\"Junior\",\"Intern\",\"Junior\",\"Intern\",\"Manager\",\"Intern\",\"Junior\",\"Intern\",\"Intern\",\"Senior\",\"Manager\",\"Junior\",\"Junior\",\"Junior\",\"Manager\",\"Manager\",\"Junior\",\"Manager\",\"Manager\",\"Senior\",\"Senior\",\"Manager\"],\"xaxis\":\"x\",\"y\":[22,25,24,60,35,56,58,22,33,30,49,38,60,60,50,21,26,44,41,58,53,39,42,36,30,34,47,49,22,28,43,30,24,39,26,59,38,50,44,60,50,31,54,20,48,44,41,20,21,28,22,53,37,42,54,37,29,39,24,55,42,51,30,44,29,47,36,23,43,23,50,18,33,22,46,56,42,20,25,24,30,24,56,19,29,22,19,43,52,32,28,37,56,53,29,50,57,47,44,57],\"yaxis\":\"y\",\"type\":\"scatter\"},{\"hovertemplate\":\"Genre=Management Lifestyle\\u003cbr\\u003eEmployee Role=%{x}\\u003cbr\\u003eEmployee Age=%{y}\\u003cextra\\u003e\\u003c\\u002fextra\\u003e\",\"legendgroup\":\"Management Lifestyle\",\"marker\":{\"color\":\"#00cc96\",\"symbol\":\"circle\"},\"mode\":\"markers\",\"name\":\"Management Lifestyle\",\"orientation\":\"v\",\"showlegend\":true,\"x\":[\"Senior\",\"Manager\",\"Senior\",\"Manager\",\"Senior\",\"Manager\",\"Manager\",\"Junior\",\"Junior\",\"Intern\",\"Junior\",\"Manager\",\"Manager\",\"Senior\",\"Junior\",\"Junior\",\"Junior\",\"Junior\",\"Junior\",\"Junior\",\"Manager\",\"Junior\",\"Junior\",\"Senior\",\"Intern\",\"Manager\",\"Senior\",\"Senior\",\"Manager\",\"Junior\",\"Intern\",\"Manager\",\"Senior\",\"Intern\",\"Junior\",\"Manager\",\"Intern\",\"Intern\",\"Manager\",\"Junior\",\"Manager\",\"Manager\",\"Junior\",\"Manager\",\"Junior\",\"Manager\",\"Junior\",\"Senior\",\"Manager\",\"Intern\",\"Manager\",\"Junior\",\"Manager\",\"Intern\",\"Intern\",\"Intern\",\"Junior\",\"Junior\",\"Junior\",\"Manager\",\"Junior\",\"Senior\",\"Junior\",\"Manager\",\"Junior\",\"Manager\",\"Junior\",\"Senior\",\"Manager\",\"Junior\",\"Intern\",\"Junior\",\"Senior\",\"Senior\",\"Senior\",\"Intern\",\"Senior\",\"Junior\",\"Intern\",\"Senior\",\"Senior\",\"Intern\",\"Senior\",\"Junior\",\"Intern\",\"Manager\",\"Intern\",\"Junior\",\"Senior\",\"Junior\",\"Senior\",\"Junior\",\"Intern\",\"Junior\",\"Manager\",\"Junior\",\"Senior\",\"Junior\",\"Senior\",\"Junior\"],\"xaxis\":\"x\",\"y\":[46,54,49,51,41,50,56,28,25,18,27,60,54,46,35,25,38,27,31,26,58,38,34,46,19,54,41,49,56,29,20,50,47,22,35,51,22,21,50,25,53,52,38,54,32,56,27,41,51,23,51,35,54,18,20,21,25,29,26,51,37,44,29,57,37,56,32,43,56,36,22,32,49,44,44,20,46,38,21,41,46,18,44,30,22,56,18,32,41,27,43,39,20,35,51,28,40,39,49,25],\"yaxis\":\"y\",\"type\":\"scatter\"},{\"hovertemplate\":\"Genre=Compensation and Benefits\\u003cbr\\u003eEmployee Role=%{x}\\u003cbr\\u003eEmployee Age=%{y}\\u003cextra\\u003e\\u003c\\u002fextra\\u003e\",\"legendgroup\":\"Compensation and Benefits\",\"marker\":{\"color\":\"#ab63fa\",\"symbol\":\"circle\"},\"mode\":\"markers\",\"name\":\"Compensation and Benefits\",\"orientation\":\"v\",\"showlegend\":true,\"x\":[\"Manager\",\"Senior\",\"Intern\",\"Intern\",\"Senior\",\"Manager\",\"Junior\",\"Senior\",\"Intern\",\"Junior\",\"Senior\",\"Junior\",\"Intern\",\"Intern\",\"Intern\",\"Junior\",\"Senior\",\"Senior\",\"Junior\",\"Senior\",\"Manager\",\"Junior\",\"Senior\",\"Junior\",\"Junior\",\"Intern\",\"Senior\",\"Senior\",\"Junior\",\"Junior\"],\"xaxis\":\"x\",\"y\":[57,47,21,24,48,60,25,42,20,27,46,27,19,18,24,35,44,44,37,43,53,33,42,38,35,18,49,40,36,36],\"yaxis\":\"y\",\"type\":\"scatter\"},{\"hovertemplate\":\"Genre=Career Development\\u003cbr\\u003eEmployee Role=%{x}\\u003cbr\\u003eEmployee Age=%{y}\\u003cextra\\u003e\\u003c\\u002fextra\\u003e\",\"legendgroup\":\"Career Development\",\"marker\":{\"color\":\"#FFA15A\",\"symbol\":\"circle\"},\"mode\":\"markers\",\"name\":\"Career Development\",\"orientation\":\"v\",\"showlegend\":true,\"x\":[\"Intern\",\"Manager\",\"Manager\",\"Manager\",\"Junior\",\"Intern\",\"Manager\",\"Junior\",\"Junior\",\"Senior\",\"Manager\",\"Junior\",\"Senior\",\"Manager\",\"Junior\",\"Manager\",\"Intern\",\"Junior\",\"Senior\",\"Senior\",\"Manager\",\"Senior\",\"Junior\",\"Intern\",\"Junior\",\"Junior\",\"Junior\",\"Manager\",\"Junior\",\"Manager\"],\"xaxis\":\"x\",\"y\":[23,53,58,58,30,23,59,25,35,43,51,32,44,50,34,60,19,33,45,47,57,44,34,20,34,39,39,53,37,58],\"yaxis\":\"y\",\"type\":\"scatter\"},{\"hovertemplate\":\"Genre=Workplace Environment\\u003cbr\\u003eEmployee Role=%{x}\\u003cbr\\u003eEmployee Age=%{y}\\u003cextra\\u003e\\u003c\\u002fextra\\u003e\",\"legendgroup\":\"Workplace Environment\",\"marker\":{\"color\":\"#19d3f3\",\"symbol\":\"circle\"},\"mode\":\"markers\",\"name\":\"Workplace Environment\",\"orientation\":\"v\",\"showlegend\":true,\"x\":[\"Senior\",\"Senior\",\"Manager\",\"Intern\",\"Manager\",\"Senior\",\"Manager\",\"Manager\",\"Junior\",\"Junior\",\"Manager\",\"Junior\",\"Intern\",\"Junior\",\"Manager\",\"Junior\",\"Manager\",\"Intern\",\"Senior\",\"Junior\",\"Senior\",\"Senior\",\"Junior\",\"Junior\",\"Manager\",\"Junior\",\"Junior\",\"Senior\",\"Junior\",\"Manager\",\"Senior\",\"Senior\",\"Manager\",\"Junior\",\"Intern\",\"Manager\",\"Junior\",\"Manager\",\"Junior\",\"Junior\",\"Senior\",\"Senior\",\"Junior\",\"Manager\",\"Manager\",\"Manager\",\"Junior\",\"Intern\",\"Intern\",\"Senior\",\"Intern\",\"Junior\"],\"xaxis\":\"x\",\"y\":[40,44,50,21,55,44,56,53,32,37,56,31,18,30,59,25,59,21,48,28,43,46,31,34,57,32,39,49,33,56,47,45,54,37,22,52,39,50,33,32,41,45,39,58,60,53,35,24,24,49,18,29],\"yaxis\":\"y\",\"type\":\"scatter\"},{\"hovertemplate\":\"Genre=Lack of training and development\\u003cbr\\u003eEmployee Role=%{x}\\u003cbr\\u003eEmployee Age=%{y}\\u003cextra\\u003e\\u003c\\u002fextra\\u003e\",\"legendgroup\":\"Lack of training and development\",\"marker\":{\"color\":\"#FF6692\",\"symbol\":\"circle\"},\"mode\":\"markers\",\"name\":\"Lack of training and development\",\"orientation\":\"v\",\"showlegend\":true,\"x\":[\"Intern\",\"Manager\",\"Senior\",\"Senior\",\"Manager\",\"Manager\",\"Intern\",\"Junior\",\"Junior\",\"Junior\",\"Intern\",\"Manager\",\"Intern\",\"Senior\",\"Intern\",\"Intern\",\"Manager\",\"Junior\",\"Senior\",\"Senior\",\"Senior\",\"Intern\",\"Junior\",\"Intern\",\"Junior\",\"Junior\",\"Junior\",\"Junior\",\"Junior\",\"Manager\",\"Manager\",\"Junior\",\"Junior\",\"Manager\",\"Intern\",\"Senior\",\"Intern\",\"Senior\",\"Intern\",\"Manager\",\"Junior\",\"Intern\",\"Senior\",\"Senior\",\"Intern\",\"Manager\",\"Junior\",\"Junior\",\"Manager\",\"Manager\",\"Senior\",\"Senior\",\"Junior\",\"Manager\",\"Junior\",\"Junior\",\"Senior\",\"Junior\",\"Manager\",\"Senior\",\"Junior\",\"Manager\",\"Junior\",\"Manager\",\"Intern\",\"Intern\",\"Intern\",\"Intern\",\"Senior\",\"Intern\"],\"xaxis\":\"x\",\"y\":[22,50,45,47,50,53,21,28,37,35,24,52,20,41,20,18,52,28,42,49,47,23,29,21,32,39,29,31,26,57,58,32,37,59,24,46,22,49,24,57,28,18,45,44,20,58,39,30,57,59,42,41,32,54,30,34,40,30,60,41,37,60,28,56,21,19,18,19,47,19],\"yaxis\":\"y\",\"type\":\"scatter\"}],                        {\"template\":{\"data\":{\"histogram2dcontour\":[{\"type\":\"histogram2dcontour\",\"colorbar\":{\"outlinewidth\":0,\"ticks\":\"\"},\"colorscale\":[[0.0,\"#0d0887\"],[0.1111111111111111,\"#46039f\"],[0.2222222222222222,\"#7201a8\"],[0.3333333333333333,\"#9c179e\"],[0.4444444444444444,\"#bd3786\"],[0.5555555555555556,\"#d8576b\"],[0.6666666666666666,\"#ed7953\"],[0.7777777777777778,\"#fb9f3a\"],[0.8888888888888888,\"#fdca26\"],[1.0,\"#f0f921\"]]}],\"choropleth\":[{\"type\":\"choropleth\",\"colorbar\":{\"outlinewidth\":0,\"ticks\":\"\"}}],\"histogram2d\":[{\"type\":\"histogram2d\",\"colorbar\":{\"outlinewidth\":0,\"ticks\":\"\"},\"colorscale\":[[0.0,\"#0d0887\"],[0.1111111111111111,\"#46039f\"],[0.2222222222222222,\"#7201a8\"],[0.3333333333333333,\"#9c179e\"],[0.4444444444444444,\"#bd3786\"],[0.5555555555555556,\"#d8576b\"],[0.6666666666666666,\"#ed7953\"],[0.7777777777777778,\"#fb9f3a\"],[0.8888888888888888,\"#fdca26\"],[1.0,\"#f0f921\"]]}],\"heatmap\":[{\"type\":\"heatmap\",\"colorbar\":{\"outlinewidth\":0,\"ticks\":\"\"},\"colorscale\":[[0.0,\"#0d0887\"],[0.1111111111111111,\"#46039f\"],[0.2222222222222222,\"#7201a8\"],[0.3333333333333333,\"#9c179e\"],[0.4444444444444444,\"#bd3786\"],[0.5555555555555556,\"#d8576b\"],[0.6666666666666666,\"#ed7953\"],[0.7777777777777778,\"#fb9f3a\"],[0.8888888888888888,\"#fdca26\"],[1.0,\"#f0f921\"]]}],\"heatmapgl\":[{\"type\":\"heatmapgl\",\"colorbar\":{\"outlinewidth\":0,\"ticks\":\"\"},\"colorscale\":[[0.0,\"#0d0887\"],[0.1111111111111111,\"#46039f\"],[0.2222222222222222,\"#7201a8\"],[0.3333333333333333,\"#9c179e\"],[0.4444444444444444,\"#bd3786\"],[0.5555555555555556,\"#d8576b\"],[0.6666666666666666,\"#ed7953\"],[0.7777777777777778,\"#fb9f3a\"],[0.8888888888888888,\"#fdca26\"],[1.0,\"#f0f921\"]]}],\"contourcarpet\":[{\"type\":\"contourcarpet\",\"colorbar\":{\"outlinewidth\":0,\"ticks\":\"\"}}],\"contour\":[{\"type\":\"contour\",\"colorbar\":{\"outlinewidth\":0,\"ticks\":\"\"},\"colorscale\":[[0.0,\"#0d0887\"],[0.1111111111111111,\"#46039f\"],[0.2222222222222222,\"#7201a8\"],[0.3333333333333333,\"#9c179e\"],[0.4444444444444444,\"#bd3786\"],[0.5555555555555556,\"#d8576b\"],[0.6666666666666666,\"#ed7953\"],[0.7777777777777778,\"#fb9f3a\"],[0.8888888888888888,\"#fdca26\"],[1.0,\"#f0f921\"]]}],\"surface\":[{\"type\":\"surface\",\"colorbar\":{\"outlinewidth\":0,\"ticks\":\"\"},\"colorscale\":[[0.0,\"#0d0887\"],[0.1111111111111111,\"#46039f\"],[0.2222222222222222,\"#7201a8\"],[0.3333333333333333,\"#9c179e\"],[0.4444444444444444,\"#bd3786\"],[0.5555555555555556,\"#d8576b\"],[0.6666666666666666,\"#ed7953\"],[0.7777777777777778,\"#fb9f3a\"],[0.8888888888888888,\"#fdca26\"],[1.0,\"#f0f921\"]]}],\"mesh3d\":[{\"type\":\"mesh3d\",\"colorbar\":{\"outlinewidth\":0,\"ticks\":\"\"}}],\"scatter\":[{\"fillpattern\":{\"fillmode\":\"overlay\",\"size\":10,\"solidity\":0.2},\"type\":\"scatter\"}],\"parcoords\":[{\"type\":\"parcoords\",\"line\":{\"colorbar\":{\"outlinewidth\":0,\"ticks\":\"\"}}}],\"scatterpolargl\":[{\"type\":\"scatterpolargl\",\"marker\":{\"colorbar\":{\"outlinewidth\":0,\"ticks\":\"\"}}}],\"bar\":[{\"error_x\":{\"color\":\"#2a3f5f\"},\"error_y\":{\"color\":\"#2a3f5f\"},\"marker\":{\"line\":{\"color\":\"#E5ECF6\",\"width\":0.5},\"pattern\":{\"fillmode\":\"overlay\",\"size\":10,\"solidity\":0.2}},\"type\":\"bar\"}],\"scattergeo\":[{\"type\":\"scattergeo\",\"marker\":{\"colorbar\":{\"outlinewidth\":0,\"ticks\":\"\"}}}],\"scatterpolar\":[{\"type\":\"scatterpolar\",\"marker\":{\"colorbar\":{\"outlinewidth\":0,\"ticks\":\"\"}}}],\"histogram\":[{\"marker\":{\"pattern\":{\"fillmode\":\"overlay\",\"size\":10,\"solidity\":0.2}},\"type\":\"histogram\"}],\"scattergl\":[{\"type\":\"scattergl\",\"marker\":{\"colorbar\":{\"outlinewidth\":0,\"ticks\":\"\"}}}],\"scatter3d\":[{\"type\":\"scatter3d\",\"line\":{\"colorbar\":{\"outlinewidth\":0,\"ticks\":\"\"}},\"marker\":{\"colorbar\":{\"outlinewidth\":0,\"ticks\":\"\"}}}],\"scattermapbox\":[{\"type\":\"scattermapbox\",\"marker\":{\"colorbar\":{\"outlinewidth\":0,\"ticks\":\"\"}}}],\"scatterternary\":[{\"type\":\"scatterternary\",\"marker\":{\"colorbar\":{\"outlinewidth\":0,\"ticks\":\"\"}}}],\"scattercarpet\":[{\"type\":\"scattercarpet\",\"marker\":{\"colorbar\":{\"outlinewidth\":0,\"ticks\":\"\"}}}],\"carpet\":[{\"aaxis\":{\"endlinecolor\":\"#2a3f5f\",\"gridcolor\":\"white\",\"linecolor\":\"white\",\"minorgridcolor\":\"white\",\"startlinecolor\":\"#2a3f5f\"},\"baxis\":{\"endlinecolor\":\"#2a3f5f\",\"gridcolor\":\"white\",\"linecolor\":\"white\",\"minorgridcolor\":\"white\",\"startlinecolor\":\"#2a3f5f\"},\"type\":\"carpet\"}],\"table\":[{\"cells\":{\"fill\":{\"color\":\"#EBF0F8\"},\"line\":{\"color\":\"white\"}},\"header\":{\"fill\":{\"color\":\"#C8D4E3\"},\"line\":{\"color\":\"white\"}},\"type\":\"table\"}],\"barpolar\":[{\"marker\":{\"line\":{\"color\":\"#E5ECF6\",\"width\":0.5},\"pattern\":{\"fillmode\":\"overlay\",\"size\":10,\"solidity\":0.2}},\"type\":\"barpolar\"}],\"pie\":[{\"automargin\":true,\"type\":\"pie\"}]},\"layout\":{\"autotypenumbers\":\"strict\",\"colorway\":[\"#636efa\",\"#EF553B\",\"#00cc96\",\"#ab63fa\",\"#FFA15A\",\"#19d3f3\",\"#FF6692\",\"#B6E880\",\"#FF97FF\",\"#FECB52\"],\"font\":{\"color\":\"#2a3f5f\"},\"hovermode\":\"closest\",\"hoverlabel\":{\"align\":\"left\"},\"paper_bgcolor\":\"white\",\"plot_bgcolor\":\"#E5ECF6\",\"polar\":{\"bgcolor\":\"#E5ECF6\",\"angularaxis\":{\"gridcolor\":\"white\",\"linecolor\":\"white\",\"ticks\":\"\"},\"radialaxis\":{\"gridcolor\":\"white\",\"linecolor\":\"white\",\"ticks\":\"\"}},\"ternary\":{\"bgcolor\":\"#E5ECF6\",\"aaxis\":{\"gridcolor\":\"white\",\"linecolor\":\"white\",\"ticks\":\"\"},\"baxis\":{\"gridcolor\":\"white\",\"linecolor\":\"white\",\"ticks\":\"\"},\"caxis\":{\"gridcolor\":\"white\",\"linecolor\":\"white\",\"ticks\":\"\"}},\"coloraxis\":{\"colorbar\":{\"outlinewidth\":0,\"ticks\":\"\"}},\"colorscale\":{\"sequential\":[[0.0,\"#0d0887\"],[0.1111111111111111,\"#46039f\"],[0.2222222222222222,\"#7201a8\"],[0.3333333333333333,\"#9c179e\"],[0.4444444444444444,\"#bd3786\"],[0.5555555555555556,\"#d8576b\"],[0.6666666666666666,\"#ed7953\"],[0.7777777777777778,\"#fb9f3a\"],[0.8888888888888888,\"#fdca26\"],[1.0,\"#f0f921\"]],\"sequentialminus\":[[0.0,\"#0d0887\"],[0.1111111111111111,\"#46039f\"],[0.2222222222222222,\"#7201a8\"],[0.3333333333333333,\"#9c179e\"],[0.4444444444444444,\"#bd3786\"],[0.5555555555555556,\"#d8576b\"],[0.6666666666666666,\"#ed7953\"],[0.7777777777777778,\"#fb9f3a\"],[0.8888888888888888,\"#fdca26\"],[1.0,\"#f0f921\"]],\"diverging\":[[0,\"#8e0152\"],[0.1,\"#c51b7d\"],[0.2,\"#de77ae\"],[0.3,\"#f1b6da\"],[0.4,\"#fde0ef\"],[0.5,\"#f7f7f7\"],[0.6,\"#e6f5d0\"],[0.7,\"#b8e186\"],[0.8,\"#7fbc41\"],[0.9,\"#4d9221\"],[1,\"#276419\"]]},\"xaxis\":{\"gridcolor\":\"white\",\"linecolor\":\"white\",\"ticks\":\"\",\"title\":{\"standoff\":15},\"zerolinecolor\":\"white\",\"automargin\":true,\"zerolinewidth\":2},\"yaxis\":{\"gridcolor\":\"white\",\"linecolor\":\"white\",\"ticks\":\"\",\"title\":{\"standoff\":15},\"zerolinecolor\":\"white\",\"automargin\":true,\"zerolinewidth\":2},\"scene\":{\"xaxis\":{\"backgroundcolor\":\"#E5ECF6\",\"gridcolor\":\"white\",\"linecolor\":\"white\",\"showbackground\":true,\"ticks\":\"\",\"zerolinecolor\":\"white\",\"gridwidth\":2},\"yaxis\":{\"backgroundcolor\":\"#E5ECF6\",\"gridcolor\":\"white\",\"linecolor\":\"white\",\"showbackground\":true,\"ticks\":\"\",\"zerolinecolor\":\"white\",\"gridwidth\":2},\"zaxis\":{\"backgroundcolor\":\"#E5ECF6\",\"gridcolor\":\"white\",\"linecolor\":\"white\",\"showbackground\":true,\"ticks\":\"\",\"zerolinecolor\":\"white\",\"gridwidth\":2}},\"shapedefaults\":{\"line\":{\"color\":\"#2a3f5f\"}},\"annotationdefaults\":{\"arrowcolor\":\"#2a3f5f\",\"arrowhead\":0,\"arrowwidth\":1},\"geo\":{\"bgcolor\":\"white\",\"landcolor\":\"#E5ECF6\",\"subunitcolor\":\"white\",\"showland\":true,\"showlakes\":true,\"lakecolor\":\"white\"},\"title\":{\"x\":0.05},\"mapbox\":{\"style\":\"light\"}}},\"xaxis\":{\"anchor\":\"y\",\"domain\":[0.0,1.0],\"title\":{\"text\":\"Employee Role\"}},\"yaxis\":{\"anchor\":\"x\",\"domain\":[0.0,1.0],\"title\":{\"text\":\"Employee Age\"}},\"legend\":{\"title\":{\"text\":\"Genre\"},\"tracegroupgap\":0},\"margin\":{\"t\":60}},                        {\"responsive\": true}                    ).then(function(){\n                            \nvar gd = document.getElementById('9645b185-e853-4946-aac2-076fad48074d');\nvar x = new MutationObserver(function (mutations, observer) {{\n        var display = window.getComputedStyle(gd).display;\n        if (!display || display === 'none') {{\n            console.log([gd, 'removed!']);\n            Plotly.purge(gd);\n            observer.disconnect();\n        }}\n}});\n\n// Listen for the removal of the full notebook cells\nvar notebookContainer = gd.closest('#notebook-container');\nif (notebookContainer) {{\n    x.observe(notebookContainer, {childList: true});\n}}\n\n// Listen for the clearing of the current output cell\nvar outputEl = gd.closest('.output');\nif (outputEl) {{\n    x.observe(outputEl, {childList: true});\n}}\n\n                        })                };                });            </script>        </div>"
     },
     "metadata": {},
     "output_type": "display_data"
    }
   ],
   "source": [
    "import plotly.express as px\n",
    "# Assuming df is your DataFrame\n",
    "fig = px.scatter(df, x='Employee Role', y='Employee Age', color='Genre')\n",
    "\n",
    "# Display the plot in the notebook\n",
    "fig.show()\n",
    "\n",
    "# Save the Plotly figure as an HTML file\n",
    "fig.write_html(\"scatter_plot.html\")\n"
   ],
   "metadata": {
    "collapsed": false
   }
  },
  {
   "cell_type": "markdown",
   "source": [
    "Insight:\n",
    "if we filter out only Lack of training and development we will find that most reports are from inters and juniors and that is makes sense as they are seeking chances for skill enhancement and career growth.\n",
    "Also if we filter out Workload and Stress we will find that most reports are from Seniors and that is makes sense as they are experiencing challenges and pressures in their roles"
   ],
   "metadata": {
    "collapsed": false
   }
  },
  {
   "cell_type": "markdown",
   "source": [
    "Age and Role to Genre"
   ],
   "metadata": {
    "collapsed": false
   }
  },
  {
   "cell_type": "code",
   "execution_count": 88,
   "outputs": [
    {
     "data": {
      "application/vnd.plotly.v1+json": {
       "data": [
        {
         "hovertemplate": "Genre=Communication Issues<br>Employee Role=%{x}<br>Employee Age=%{y}<extra></extra>",
         "legendgroup": "Communication Issues",
         "marker": {
          "color": "#636efa",
          "symbol": "circle"
         },
         "mode": "markers",
         "name": "Communication Issues",
         "orientation": "v",
         "showlegend": true,
         "x": [
          "Senior",
          "Intern",
          "Senior",
          "Junior",
          "Intern",
          "Senior",
          "Junior",
          "Junior",
          "Intern",
          "Junior",
          "Manager",
          "Manager",
          "Intern",
          "Senior",
          "Manager",
          "Senior",
          "Senior",
          "Senior",
          "Junior",
          "Junior",
          "Manager",
          "Intern",
          "Intern",
          "Senior",
          "Senior",
          "Junior",
          "Junior",
          "Junior",
          "Manager",
          "Senior",
          "Junior",
          "Intern",
          "Senior",
          "Junior",
          "Junior",
          "Senior",
          "Junior",
          "Manager",
          "Manager",
          "Junior",
          "Senior",
          "Intern",
          "Junior",
          "Intern",
          "Intern",
          "Senior",
          "Junior",
          "Junior",
          "Junior",
          "Junior",
          "Junior",
          "Junior",
          "Intern",
          "Senior",
          "Junior",
          "Junior",
          "Junior",
          "Junior",
          "Junior",
          "Junior",
          "Junior",
          "Junior",
          "Senior",
          "Senior",
          "Junior",
          "Senior",
          "Junior",
          "Manager",
          "Junior",
          "Junior",
          "Intern",
          "Junior",
          "Manager",
          "Junior",
          "Junior",
          "Junior",
          "Intern",
          "Manager",
          "Manager",
          "Junior",
          "Manager",
          "Senior",
          "Manager",
          "Junior",
          "Manager",
          "Manager",
          "Senior",
          "Senior",
          "Manager",
          "Junior",
          "Manager",
          "Senior",
          "Manager",
          "Intern",
          "Manager",
          "Senior",
          "Manager",
          "Senior",
          "Intern",
          "Manager"
         ],
         "xaxis": "x",
         "y": [
          46,
          21,
          49,
          36,
          24,
          44,
          36,
          38,
          21,
          36,
          59,
          59,
          21,
          42,
          52,
          41,
          47,
          48,
          29,
          32,
          59,
          24,
          18,
          42,
          42,
          33,
          30,
          32,
          60,
          42,
          25,
          18,
          43,
          27,
          29,
          47,
          30,
          58,
          57,
          32,
          43,
          22,
          32,
          19,
          19,
          43,
          37,
          25,
          26,
          30,
          30,
          32,
          21,
          41,
          31,
          30,
          27,
          26,
          27,
          30,
          38,
          33,
          43,
          45,
          39,
          48,
          35,
          51,
          36,
          37,
          24,
          38,
          50,
          36,
          37,
          28,
          21,
          50,
          59,
          30,
          54,
          47,
          52,
          36,
          58,
          56,
          41,
          47,
          59,
          36,
          57,
          41,
          50,
          23,
          50,
          40,
          60,
          41,
          22,
          54
         ],
         "yaxis": "y",
         "type": "scatter"
        },
        {
         "hovertemplate": "Genre=Workload and Stress<br>Employee Role=%{x}<br>Employee Age=%{y}<extra></extra>",
         "legendgroup": "Workload and Stress",
         "marker": {
          "color": "#EF553B",
          "symbol": "circle"
         },
         "mode": "markers",
         "name": "Workload and Stress",
         "orientation": "v",
         "showlegend": true,
         "x": [
          "Intern",
          "Junior",
          "Intern",
          "Manager",
          "Junior",
          "Manager",
          "Manager",
          "Intern",
          "Junior",
          "Junior",
          "Senior",
          "Junior",
          "Manager",
          "Manager",
          "Manager",
          "Intern",
          "Junior",
          "Senior",
          "Senior",
          "Manager",
          "Manager",
          "Junior",
          "Senior",
          "Junior",
          "Junior",
          "Junior",
          "Senior",
          "Senior",
          "Intern",
          "Junior",
          "Senior",
          "Junior",
          "Intern",
          "Junior",
          "Junior",
          "Manager",
          "Junior",
          "Manager",
          "Senior",
          "Manager",
          "Manager",
          "Junior",
          "Manager",
          "Intern",
          "Senior",
          "Senior",
          "Senior",
          "Intern",
          "Intern",
          "Junior",
          "Intern",
          "Manager",
          "Junior",
          "Senior",
          "Manager",
          "Junior",
          "Junior",
          "Junior",
          "Intern",
          "Manager",
          "Senior",
          "Manager",
          "Junior",
          "Senior",
          "Junior",
          "Senior",
          "Junior",
          "Intern",
          "Senior",
          "Intern",
          "Manager",
          "Intern",
          "Junior",
          "Intern",
          "Senior",
          "Manager",
          "Senior",
          "Intern",
          "Junior",
          "Intern",
          "Junior",
          "Intern",
          "Manager",
          "Intern",
          "Junior",
          "Intern",
          "Intern",
          "Senior",
          "Manager",
          "Junior",
          "Junior",
          "Junior",
          "Manager",
          "Manager",
          "Junior",
          "Manager",
          "Manager",
          "Senior",
          "Senior",
          "Manager"
         ],
         "xaxis": "x",
         "y": [
          22,
          25,
          24,
          60,
          35,
          56,
          58,
          22,
          33,
          30,
          49,
          38,
          60,
          60,
          50,
          21,
          26,
          44,
          41,
          58,
          53,
          39,
          42,
          36,
          30,
          34,
          47,
          49,
          22,
          28,
          43,
          30,
          24,
          39,
          26,
          59,
          38,
          50,
          44,
          60,
          50,
          31,
          54,
          20,
          48,
          44,
          41,
          20,
          21,
          28,
          22,
          53,
          37,
          42,
          54,
          37,
          29,
          39,
          24,
          55,
          42,
          51,
          30,
          44,
          29,
          47,
          36,
          23,
          43,
          23,
          50,
          18,
          33,
          22,
          46,
          56,
          42,
          20,
          25,
          24,
          30,
          24,
          56,
          19,
          29,
          22,
          19,
          43,
          52,
          32,
          28,
          37,
          56,
          53,
          29,
          50,
          57,
          47,
          44,
          57
         ],
         "yaxis": "y",
         "type": "scatter"
        },
        {
         "hovertemplate": "Genre=Management Lifestyle<br>Employee Role=%{x}<br>Employee Age=%{y}<extra></extra>",
         "legendgroup": "Management Lifestyle",
         "marker": {
          "color": "#00cc96",
          "symbol": "circle"
         },
         "mode": "markers",
         "name": "Management Lifestyle",
         "orientation": "v",
         "showlegend": true,
         "x": [
          "Senior",
          "Manager",
          "Senior",
          "Manager",
          "Senior",
          "Manager",
          "Manager",
          "Junior",
          "Junior",
          "Intern",
          "Junior",
          "Manager",
          "Manager",
          "Senior",
          "Junior",
          "Junior",
          "Junior",
          "Junior",
          "Junior",
          "Junior",
          "Manager",
          "Junior",
          "Junior",
          "Senior",
          "Intern",
          "Manager",
          "Senior",
          "Senior",
          "Manager",
          "Junior",
          "Intern",
          "Manager",
          "Senior",
          "Intern",
          "Junior",
          "Manager",
          "Intern",
          "Intern",
          "Manager",
          "Junior",
          "Manager",
          "Manager",
          "Junior",
          "Manager",
          "Junior",
          "Manager",
          "Junior",
          "Senior",
          "Manager",
          "Intern",
          "Manager",
          "Junior",
          "Manager",
          "Intern",
          "Intern",
          "Intern",
          "Junior",
          "Junior",
          "Junior",
          "Manager",
          "Junior",
          "Senior",
          "Junior",
          "Manager",
          "Junior",
          "Manager",
          "Junior",
          "Senior",
          "Manager",
          "Junior",
          "Intern",
          "Junior",
          "Senior",
          "Senior",
          "Senior",
          "Intern",
          "Senior",
          "Junior",
          "Intern",
          "Senior",
          "Senior",
          "Intern",
          "Senior",
          "Junior",
          "Intern",
          "Manager",
          "Intern",
          "Junior",
          "Senior",
          "Junior",
          "Senior",
          "Junior",
          "Intern",
          "Junior",
          "Manager",
          "Junior",
          "Senior",
          "Junior",
          "Senior",
          "Junior"
         ],
         "xaxis": "x",
         "y": [
          46,
          54,
          49,
          51,
          41,
          50,
          56,
          28,
          25,
          18,
          27,
          60,
          54,
          46,
          35,
          25,
          38,
          27,
          31,
          26,
          58,
          38,
          34,
          46,
          19,
          54,
          41,
          49,
          56,
          29,
          20,
          50,
          47,
          22,
          35,
          51,
          22,
          21,
          50,
          25,
          53,
          52,
          38,
          54,
          32,
          56,
          27,
          41,
          51,
          23,
          51,
          35,
          54,
          18,
          20,
          21,
          25,
          29,
          26,
          51,
          37,
          44,
          29,
          57,
          37,
          56,
          32,
          43,
          56,
          36,
          22,
          32,
          49,
          44,
          44,
          20,
          46,
          38,
          21,
          41,
          46,
          18,
          44,
          30,
          22,
          56,
          18,
          32,
          41,
          27,
          43,
          39,
          20,
          35,
          51,
          28,
          40,
          39,
          49,
          25
         ],
         "yaxis": "y",
         "type": "scatter"
        },
        {
         "hovertemplate": "Genre=Compensation and Benefits<br>Employee Role=%{x}<br>Employee Age=%{y}<extra></extra>",
         "legendgroup": "Compensation and Benefits",
         "marker": {
          "color": "#ab63fa",
          "symbol": "circle"
         },
         "mode": "markers",
         "name": "Compensation and Benefits",
         "orientation": "v",
         "showlegend": true,
         "x": [
          "Manager",
          "Senior",
          "Intern",
          "Intern",
          "Senior",
          "Manager",
          "Junior",
          "Senior",
          "Intern",
          "Junior",
          "Senior",
          "Junior",
          "Intern",
          "Intern",
          "Intern",
          "Junior",
          "Senior",
          "Senior",
          "Junior",
          "Senior",
          "Manager",
          "Junior",
          "Senior",
          "Junior",
          "Junior",
          "Intern",
          "Senior",
          "Senior",
          "Junior",
          "Junior"
         ],
         "xaxis": "x",
         "y": [
          57,
          47,
          21,
          24,
          48,
          60,
          25,
          42,
          20,
          27,
          46,
          27,
          19,
          18,
          24,
          35,
          44,
          44,
          37,
          43,
          53,
          33,
          42,
          38,
          35,
          18,
          49,
          40,
          36,
          36
         ],
         "yaxis": "y",
         "type": "scatter"
        },
        {
         "hovertemplate": "Genre=Career Development<br>Employee Role=%{x}<br>Employee Age=%{y}<extra></extra>",
         "legendgroup": "Career Development",
         "marker": {
          "color": "#FFA15A",
          "symbol": "circle"
         },
         "mode": "markers",
         "name": "Career Development",
         "orientation": "v",
         "showlegend": true,
         "x": [
          "Intern",
          "Manager",
          "Manager",
          "Manager",
          "Junior",
          "Intern",
          "Manager",
          "Junior",
          "Junior",
          "Senior",
          "Manager",
          "Junior",
          "Senior",
          "Manager",
          "Junior",
          "Manager",
          "Intern",
          "Junior",
          "Senior",
          "Senior",
          "Manager",
          "Senior",
          "Junior",
          "Intern",
          "Junior",
          "Junior",
          "Junior",
          "Manager",
          "Junior",
          "Manager"
         ],
         "xaxis": "x",
         "y": [
          23,
          53,
          58,
          58,
          30,
          23,
          59,
          25,
          35,
          43,
          51,
          32,
          44,
          50,
          34,
          60,
          19,
          33,
          45,
          47,
          57,
          44,
          34,
          20,
          34,
          39,
          39,
          53,
          37,
          58
         ],
         "yaxis": "y",
         "type": "scatter"
        },
        {
         "hovertemplate": "Genre=Workplace Environment<br>Employee Role=%{x}<br>Employee Age=%{y}<extra></extra>",
         "legendgroup": "Workplace Environment",
         "marker": {
          "color": "#19d3f3",
          "symbol": "circle"
         },
         "mode": "markers",
         "name": "Workplace Environment",
         "orientation": "v",
         "showlegend": true,
         "x": [
          "Senior",
          "Senior",
          "Manager",
          "Intern",
          "Manager",
          "Senior",
          "Manager",
          "Manager",
          "Junior",
          "Junior",
          "Manager",
          "Junior",
          "Intern",
          "Junior",
          "Manager",
          "Junior",
          "Manager",
          "Intern",
          "Senior",
          "Junior",
          "Senior",
          "Senior",
          "Junior",
          "Junior",
          "Manager",
          "Junior",
          "Junior",
          "Senior",
          "Junior",
          "Manager",
          "Senior",
          "Senior",
          "Manager",
          "Junior",
          "Intern",
          "Manager",
          "Junior",
          "Manager",
          "Junior",
          "Junior",
          "Senior",
          "Senior",
          "Junior",
          "Manager",
          "Manager",
          "Manager",
          "Junior",
          "Intern",
          "Intern",
          "Senior",
          "Intern",
          "Junior"
         ],
         "xaxis": "x",
         "y": [
          40,
          44,
          50,
          21,
          55,
          44,
          56,
          53,
          32,
          37,
          56,
          31,
          18,
          30,
          59,
          25,
          59,
          21,
          48,
          28,
          43,
          46,
          31,
          34,
          57,
          32,
          39,
          49,
          33,
          56,
          47,
          45,
          54,
          37,
          22,
          52,
          39,
          50,
          33,
          32,
          41,
          45,
          39,
          58,
          60,
          53,
          35,
          24,
          24,
          49,
          18,
          29
         ],
         "yaxis": "y",
         "type": "scatter"
        },
        {
         "hovertemplate": "Genre=Lack of training and development<br>Employee Role=%{x}<br>Employee Age=%{y}<extra></extra>",
         "legendgroup": "Lack of training and development",
         "marker": {
          "color": "#FF6692",
          "symbol": "circle"
         },
         "mode": "markers",
         "name": "Lack of training and development",
         "orientation": "v",
         "showlegend": true,
         "x": [
          "Intern",
          "Manager",
          "Senior",
          "Senior",
          "Manager",
          "Manager",
          "Intern",
          "Junior",
          "Junior",
          "Junior",
          "Intern",
          "Manager",
          "Intern",
          "Senior",
          "Intern",
          "Intern",
          "Manager",
          "Junior",
          "Senior",
          "Senior",
          "Senior",
          "Intern",
          "Junior",
          "Intern",
          "Junior",
          "Junior",
          "Junior",
          "Junior",
          "Junior",
          "Manager",
          "Manager",
          "Junior",
          "Junior",
          "Manager",
          "Intern",
          "Senior",
          "Intern",
          "Senior",
          "Intern",
          "Manager",
          "Junior",
          "Intern",
          "Senior",
          "Senior",
          "Intern",
          "Manager",
          "Junior",
          "Junior",
          "Manager",
          "Manager",
          "Senior",
          "Senior",
          "Junior",
          "Manager",
          "Junior",
          "Junior",
          "Senior",
          "Junior",
          "Manager",
          "Senior",
          "Junior",
          "Manager",
          "Junior",
          "Manager",
          "Intern",
          "Intern",
          "Intern",
          "Intern",
          "Senior",
          "Intern"
         ],
         "xaxis": "x",
         "y": [
          22,
          50,
          45,
          47,
          50,
          53,
          21,
          28,
          37,
          35,
          24,
          52,
          20,
          41,
          20,
          18,
          52,
          28,
          42,
          49,
          47,
          23,
          29,
          21,
          32,
          39,
          29,
          31,
          26,
          57,
          58,
          32,
          37,
          59,
          24,
          46,
          22,
          49,
          24,
          57,
          28,
          18,
          45,
          44,
          20,
          58,
          39,
          30,
          57,
          59,
          42,
          41,
          32,
          54,
          30,
          34,
          40,
          30,
          60,
          41,
          37,
          60,
          28,
          56,
          21,
          19,
          18,
          19,
          47,
          19
         ],
         "yaxis": "y",
         "type": "scatter"
        }
       ],
       "layout": {
        "template": {
         "data": {
          "histogram2dcontour": [
           {
            "type": "histogram2dcontour",
            "colorbar": {
             "outlinewidth": 0,
             "ticks": ""
            },
            "colorscale": [
             [
              0.0,
              "#0d0887"
             ],
             [
              0.1111111111111111,
              "#46039f"
             ],
             [
              0.2222222222222222,
              "#7201a8"
             ],
             [
              0.3333333333333333,
              "#9c179e"
             ],
             [
              0.4444444444444444,
              "#bd3786"
             ],
             [
              0.5555555555555556,
              "#d8576b"
             ],
             [
              0.6666666666666666,
              "#ed7953"
             ],
             [
              0.7777777777777778,
              "#fb9f3a"
             ],
             [
              0.8888888888888888,
              "#fdca26"
             ],
             [
              1.0,
              "#f0f921"
             ]
            ]
           }
          ],
          "choropleth": [
           {
            "type": "choropleth",
            "colorbar": {
             "outlinewidth": 0,
             "ticks": ""
            }
           }
          ],
          "histogram2d": [
           {
            "type": "histogram2d",
            "colorbar": {
             "outlinewidth": 0,
             "ticks": ""
            },
            "colorscale": [
             [
              0.0,
              "#0d0887"
             ],
             [
              0.1111111111111111,
              "#46039f"
             ],
             [
              0.2222222222222222,
              "#7201a8"
             ],
             [
              0.3333333333333333,
              "#9c179e"
             ],
             [
              0.4444444444444444,
              "#bd3786"
             ],
             [
              0.5555555555555556,
              "#d8576b"
             ],
             [
              0.6666666666666666,
              "#ed7953"
             ],
             [
              0.7777777777777778,
              "#fb9f3a"
             ],
             [
              0.8888888888888888,
              "#fdca26"
             ],
             [
              1.0,
              "#f0f921"
             ]
            ]
           }
          ],
          "heatmap": [
           {
            "type": "heatmap",
            "colorbar": {
             "outlinewidth": 0,
             "ticks": ""
            },
            "colorscale": [
             [
              0.0,
              "#0d0887"
             ],
             [
              0.1111111111111111,
              "#46039f"
             ],
             [
              0.2222222222222222,
              "#7201a8"
             ],
             [
              0.3333333333333333,
              "#9c179e"
             ],
             [
              0.4444444444444444,
              "#bd3786"
             ],
             [
              0.5555555555555556,
              "#d8576b"
             ],
             [
              0.6666666666666666,
              "#ed7953"
             ],
             [
              0.7777777777777778,
              "#fb9f3a"
             ],
             [
              0.8888888888888888,
              "#fdca26"
             ],
             [
              1.0,
              "#f0f921"
             ]
            ]
           }
          ],
          "heatmapgl": [
           {
            "type": "heatmapgl",
            "colorbar": {
             "outlinewidth": 0,
             "ticks": ""
            },
            "colorscale": [
             [
              0.0,
              "#0d0887"
             ],
             [
              0.1111111111111111,
              "#46039f"
             ],
             [
              0.2222222222222222,
              "#7201a8"
             ],
             [
              0.3333333333333333,
              "#9c179e"
             ],
             [
              0.4444444444444444,
              "#bd3786"
             ],
             [
              0.5555555555555556,
              "#d8576b"
             ],
             [
              0.6666666666666666,
              "#ed7953"
             ],
             [
              0.7777777777777778,
              "#fb9f3a"
             ],
             [
              0.8888888888888888,
              "#fdca26"
             ],
             [
              1.0,
              "#f0f921"
             ]
            ]
           }
          ],
          "contourcarpet": [
           {
            "type": "contourcarpet",
            "colorbar": {
             "outlinewidth": 0,
             "ticks": ""
            }
           }
          ],
          "contour": [
           {
            "type": "contour",
            "colorbar": {
             "outlinewidth": 0,
             "ticks": ""
            },
            "colorscale": [
             [
              0.0,
              "#0d0887"
             ],
             [
              0.1111111111111111,
              "#46039f"
             ],
             [
              0.2222222222222222,
              "#7201a8"
             ],
             [
              0.3333333333333333,
              "#9c179e"
             ],
             [
              0.4444444444444444,
              "#bd3786"
             ],
             [
              0.5555555555555556,
              "#d8576b"
             ],
             [
              0.6666666666666666,
              "#ed7953"
             ],
             [
              0.7777777777777778,
              "#fb9f3a"
             ],
             [
              0.8888888888888888,
              "#fdca26"
             ],
             [
              1.0,
              "#f0f921"
             ]
            ]
           }
          ],
          "surface": [
           {
            "type": "surface",
            "colorbar": {
             "outlinewidth": 0,
             "ticks": ""
            },
            "colorscale": [
             [
              0.0,
              "#0d0887"
             ],
             [
              0.1111111111111111,
              "#46039f"
             ],
             [
              0.2222222222222222,
              "#7201a8"
             ],
             [
              0.3333333333333333,
              "#9c179e"
             ],
             [
              0.4444444444444444,
              "#bd3786"
             ],
             [
              0.5555555555555556,
              "#d8576b"
             ],
             [
              0.6666666666666666,
              "#ed7953"
             ],
             [
              0.7777777777777778,
              "#fb9f3a"
             ],
             [
              0.8888888888888888,
              "#fdca26"
             ],
             [
              1.0,
              "#f0f921"
             ]
            ]
           }
          ],
          "mesh3d": [
           {
            "type": "mesh3d",
            "colorbar": {
             "outlinewidth": 0,
             "ticks": ""
            }
           }
          ],
          "scatter": [
           {
            "fillpattern": {
             "fillmode": "overlay",
             "size": 10,
             "solidity": 0.2
            },
            "type": "scatter"
           }
          ],
          "parcoords": [
           {
            "type": "parcoords",
            "line": {
             "colorbar": {
              "outlinewidth": 0,
              "ticks": ""
             }
            }
           }
          ],
          "scatterpolargl": [
           {
            "type": "scatterpolargl",
            "marker": {
             "colorbar": {
              "outlinewidth": 0,
              "ticks": ""
             }
            }
           }
          ],
          "bar": [
           {
            "error_x": {
             "color": "#2a3f5f"
            },
            "error_y": {
             "color": "#2a3f5f"
            },
            "marker": {
             "line": {
              "color": "#E5ECF6",
              "width": 0.5
             },
             "pattern": {
              "fillmode": "overlay",
              "size": 10,
              "solidity": 0.2
             }
            },
            "type": "bar"
           }
          ],
          "scattergeo": [
           {
            "type": "scattergeo",
            "marker": {
             "colorbar": {
              "outlinewidth": 0,
              "ticks": ""
             }
            }
           }
          ],
          "scatterpolar": [
           {
            "type": "scatterpolar",
            "marker": {
             "colorbar": {
              "outlinewidth": 0,
              "ticks": ""
             }
            }
           }
          ],
          "histogram": [
           {
            "marker": {
             "pattern": {
              "fillmode": "overlay",
              "size": 10,
              "solidity": 0.2
             }
            },
            "type": "histogram"
           }
          ],
          "scattergl": [
           {
            "type": "scattergl",
            "marker": {
             "colorbar": {
              "outlinewidth": 0,
              "ticks": ""
             }
            }
           }
          ],
          "scatter3d": [
           {
            "type": "scatter3d",
            "line": {
             "colorbar": {
              "outlinewidth": 0,
              "ticks": ""
             }
            },
            "marker": {
             "colorbar": {
              "outlinewidth": 0,
              "ticks": ""
             }
            }
           }
          ],
          "scattermapbox": [
           {
            "type": "scattermapbox",
            "marker": {
             "colorbar": {
              "outlinewidth": 0,
              "ticks": ""
             }
            }
           }
          ],
          "scatterternary": [
           {
            "type": "scatterternary",
            "marker": {
             "colorbar": {
              "outlinewidth": 0,
              "ticks": ""
             }
            }
           }
          ],
          "scattercarpet": [
           {
            "type": "scattercarpet",
            "marker": {
             "colorbar": {
              "outlinewidth": 0,
              "ticks": ""
             }
            }
           }
          ],
          "carpet": [
           {
            "aaxis": {
             "endlinecolor": "#2a3f5f",
             "gridcolor": "white",
             "linecolor": "white",
             "minorgridcolor": "white",
             "startlinecolor": "#2a3f5f"
            },
            "baxis": {
             "endlinecolor": "#2a3f5f",
             "gridcolor": "white",
             "linecolor": "white",
             "minorgridcolor": "white",
             "startlinecolor": "#2a3f5f"
            },
            "type": "carpet"
           }
          ],
          "table": [
           {
            "cells": {
             "fill": {
              "color": "#EBF0F8"
             },
             "line": {
              "color": "white"
             }
            },
            "header": {
             "fill": {
              "color": "#C8D4E3"
             },
             "line": {
              "color": "white"
             }
            },
            "type": "table"
           }
          ],
          "barpolar": [
           {
            "marker": {
             "line": {
              "color": "#E5ECF6",
              "width": 0.5
             },
             "pattern": {
              "fillmode": "overlay",
              "size": 10,
              "solidity": 0.2
             }
            },
            "type": "barpolar"
           }
          ],
          "pie": [
           {
            "automargin": true,
            "type": "pie"
           }
          ]
         },
         "layout": {
          "autotypenumbers": "strict",
          "colorway": [
           "#636efa",
           "#EF553B",
           "#00cc96",
           "#ab63fa",
           "#FFA15A",
           "#19d3f3",
           "#FF6692",
           "#B6E880",
           "#FF97FF",
           "#FECB52"
          ],
          "font": {
           "color": "#2a3f5f"
          },
          "hovermode": "closest",
          "hoverlabel": {
           "align": "left"
          },
          "paper_bgcolor": "white",
          "plot_bgcolor": "#E5ECF6",
          "polar": {
           "bgcolor": "#E5ECF6",
           "angularaxis": {
            "gridcolor": "white",
            "linecolor": "white",
            "ticks": ""
           },
           "radialaxis": {
            "gridcolor": "white",
            "linecolor": "white",
            "ticks": ""
           }
          },
          "ternary": {
           "bgcolor": "#E5ECF6",
           "aaxis": {
            "gridcolor": "white",
            "linecolor": "white",
            "ticks": ""
           },
           "baxis": {
            "gridcolor": "white",
            "linecolor": "white",
            "ticks": ""
           },
           "caxis": {
            "gridcolor": "white",
            "linecolor": "white",
            "ticks": ""
           }
          },
          "coloraxis": {
           "colorbar": {
            "outlinewidth": 0,
            "ticks": ""
           }
          },
          "colorscale": {
           "sequential": [
            [
             0.0,
             "#0d0887"
            ],
            [
             0.1111111111111111,
             "#46039f"
            ],
            [
             0.2222222222222222,
             "#7201a8"
            ],
            [
             0.3333333333333333,
             "#9c179e"
            ],
            [
             0.4444444444444444,
             "#bd3786"
            ],
            [
             0.5555555555555556,
             "#d8576b"
            ],
            [
             0.6666666666666666,
             "#ed7953"
            ],
            [
             0.7777777777777778,
             "#fb9f3a"
            ],
            [
             0.8888888888888888,
             "#fdca26"
            ],
            [
             1.0,
             "#f0f921"
            ]
           ],
           "sequentialminus": [
            [
             0.0,
             "#0d0887"
            ],
            [
             0.1111111111111111,
             "#46039f"
            ],
            [
             0.2222222222222222,
             "#7201a8"
            ],
            [
             0.3333333333333333,
             "#9c179e"
            ],
            [
             0.4444444444444444,
             "#bd3786"
            ],
            [
             0.5555555555555556,
             "#d8576b"
            ],
            [
             0.6666666666666666,
             "#ed7953"
            ],
            [
             0.7777777777777778,
             "#fb9f3a"
            ],
            [
             0.8888888888888888,
             "#fdca26"
            ],
            [
             1.0,
             "#f0f921"
            ]
           ],
           "diverging": [
            [
             0,
             "#8e0152"
            ],
            [
             0.1,
             "#c51b7d"
            ],
            [
             0.2,
             "#de77ae"
            ],
            [
             0.3,
             "#f1b6da"
            ],
            [
             0.4,
             "#fde0ef"
            ],
            [
             0.5,
             "#f7f7f7"
            ],
            [
             0.6,
             "#e6f5d0"
            ],
            [
             0.7,
             "#b8e186"
            ],
            [
             0.8,
             "#7fbc41"
            ],
            [
             0.9,
             "#4d9221"
            ],
            [
             1,
             "#276419"
            ]
           ]
          },
          "xaxis": {
           "gridcolor": "white",
           "linecolor": "white",
           "ticks": "",
           "title": {
            "standoff": 15
           },
           "zerolinecolor": "white",
           "automargin": true,
           "zerolinewidth": 2
          },
          "yaxis": {
           "gridcolor": "white",
           "linecolor": "white",
           "ticks": "",
           "title": {
            "standoff": 15
           },
           "zerolinecolor": "white",
           "automargin": true,
           "zerolinewidth": 2
          },
          "scene": {
           "xaxis": {
            "backgroundcolor": "#E5ECF6",
            "gridcolor": "white",
            "linecolor": "white",
            "showbackground": true,
            "ticks": "",
            "zerolinecolor": "white",
            "gridwidth": 2
           },
           "yaxis": {
            "backgroundcolor": "#E5ECF6",
            "gridcolor": "white",
            "linecolor": "white",
            "showbackground": true,
            "ticks": "",
            "zerolinecolor": "white",
            "gridwidth": 2
           },
           "zaxis": {
            "backgroundcolor": "#E5ECF6",
            "gridcolor": "white",
            "linecolor": "white",
            "showbackground": true,
            "ticks": "",
            "zerolinecolor": "white",
            "gridwidth": 2
           }
          },
          "shapedefaults": {
           "line": {
            "color": "#2a3f5f"
           }
          },
          "annotationdefaults": {
           "arrowcolor": "#2a3f5f",
           "arrowhead": 0,
           "arrowwidth": 1
          },
          "geo": {
           "bgcolor": "white",
           "landcolor": "#E5ECF6",
           "subunitcolor": "white",
           "showland": true,
           "showlakes": true,
           "lakecolor": "white"
          },
          "title": {
           "x": 0.05
          },
          "mapbox": {
           "style": "light"
          }
         }
        },
        "xaxis": {
         "anchor": "y",
         "domain": [
          0.0,
          1.0
         ],
         "title": {
          "text": "Employee Role"
         }
        },
        "yaxis": {
         "anchor": "x",
         "domain": [
          0.0,
          1.0
         ],
         "title": {
          "text": "Employee Age"
         }
        },
        "legend": {
         "title": {
          "text": "Genre"
         },
         "tracegroupgap": 0
        },
        "margin": {
         "t": 60
        }
       },
       "config": {
        "plotlyServerURL": "https://plot.ly"
       }
      },
      "text/html": "<div>                            <div id=\"32d15b3f-b214-40dd-8e00-da9704830e1a\" class=\"plotly-graph-div\" style=\"height:525px; width:100%;\"></div>            <script type=\"text/javascript\">                require([\"plotly\"], function(Plotly) {                    window.PLOTLYENV=window.PLOTLYENV || {};                                    if (document.getElementById(\"32d15b3f-b214-40dd-8e00-da9704830e1a\")) {                    Plotly.newPlot(                        \"32d15b3f-b214-40dd-8e00-da9704830e1a\",                        [{\"hovertemplate\":\"Genre=Communication Issues\\u003cbr\\u003eEmployee Role=%{x}\\u003cbr\\u003eEmployee Age=%{y}\\u003cextra\\u003e\\u003c\\u002fextra\\u003e\",\"legendgroup\":\"Communication Issues\",\"marker\":{\"color\":\"#636efa\",\"symbol\":\"circle\"},\"mode\":\"markers\",\"name\":\"Communication Issues\",\"orientation\":\"v\",\"showlegend\":true,\"x\":[\"Senior\",\"Intern\",\"Senior\",\"Junior\",\"Intern\",\"Senior\",\"Junior\",\"Junior\",\"Intern\",\"Junior\",\"Manager\",\"Manager\",\"Intern\",\"Senior\",\"Manager\",\"Senior\",\"Senior\",\"Senior\",\"Junior\",\"Junior\",\"Manager\",\"Intern\",\"Intern\",\"Senior\",\"Senior\",\"Junior\",\"Junior\",\"Junior\",\"Manager\",\"Senior\",\"Junior\",\"Intern\",\"Senior\",\"Junior\",\"Junior\",\"Senior\",\"Junior\",\"Manager\",\"Manager\",\"Junior\",\"Senior\",\"Intern\",\"Junior\",\"Intern\",\"Intern\",\"Senior\",\"Junior\",\"Junior\",\"Junior\",\"Junior\",\"Junior\",\"Junior\",\"Intern\",\"Senior\",\"Junior\",\"Junior\",\"Junior\",\"Junior\",\"Junior\",\"Junior\",\"Junior\",\"Junior\",\"Senior\",\"Senior\",\"Junior\",\"Senior\",\"Junior\",\"Manager\",\"Junior\",\"Junior\",\"Intern\",\"Junior\",\"Manager\",\"Junior\",\"Junior\",\"Junior\",\"Intern\",\"Manager\",\"Manager\",\"Junior\",\"Manager\",\"Senior\",\"Manager\",\"Junior\",\"Manager\",\"Manager\",\"Senior\",\"Senior\",\"Manager\",\"Junior\",\"Manager\",\"Senior\",\"Manager\",\"Intern\",\"Manager\",\"Senior\",\"Manager\",\"Senior\",\"Intern\",\"Manager\"],\"xaxis\":\"x\",\"y\":[46,21,49,36,24,44,36,38,21,36,59,59,21,42,52,41,47,48,29,32,59,24,18,42,42,33,30,32,60,42,25,18,43,27,29,47,30,58,57,32,43,22,32,19,19,43,37,25,26,30,30,32,21,41,31,30,27,26,27,30,38,33,43,45,39,48,35,51,36,37,24,38,50,36,37,28,21,50,59,30,54,47,52,36,58,56,41,47,59,36,57,41,50,23,50,40,60,41,22,54],\"yaxis\":\"y\",\"type\":\"scatter\"},{\"hovertemplate\":\"Genre=Workload and Stress\\u003cbr\\u003eEmployee Role=%{x}\\u003cbr\\u003eEmployee Age=%{y}\\u003cextra\\u003e\\u003c\\u002fextra\\u003e\",\"legendgroup\":\"Workload and Stress\",\"marker\":{\"color\":\"#EF553B\",\"symbol\":\"circle\"},\"mode\":\"markers\",\"name\":\"Workload and Stress\",\"orientation\":\"v\",\"showlegend\":true,\"x\":[\"Intern\",\"Junior\",\"Intern\",\"Manager\",\"Junior\",\"Manager\",\"Manager\",\"Intern\",\"Junior\",\"Junior\",\"Senior\",\"Junior\",\"Manager\",\"Manager\",\"Manager\",\"Intern\",\"Junior\",\"Senior\",\"Senior\",\"Manager\",\"Manager\",\"Junior\",\"Senior\",\"Junior\",\"Junior\",\"Junior\",\"Senior\",\"Senior\",\"Intern\",\"Junior\",\"Senior\",\"Junior\",\"Intern\",\"Junior\",\"Junior\",\"Manager\",\"Junior\",\"Manager\",\"Senior\",\"Manager\",\"Manager\",\"Junior\",\"Manager\",\"Intern\",\"Senior\",\"Senior\",\"Senior\",\"Intern\",\"Intern\",\"Junior\",\"Intern\",\"Manager\",\"Junior\",\"Senior\",\"Manager\",\"Junior\",\"Junior\",\"Junior\",\"Intern\",\"Manager\",\"Senior\",\"Manager\",\"Junior\",\"Senior\",\"Junior\",\"Senior\",\"Junior\",\"Intern\",\"Senior\",\"Intern\",\"Manager\",\"Intern\",\"Junior\",\"Intern\",\"Senior\",\"Manager\",\"Senior\",\"Intern\",\"Junior\",\"Intern\",\"Junior\",\"Intern\",\"Manager\",\"Intern\",\"Junior\",\"Intern\",\"Intern\",\"Senior\",\"Manager\",\"Junior\",\"Junior\",\"Junior\",\"Manager\",\"Manager\",\"Junior\",\"Manager\",\"Manager\",\"Senior\",\"Senior\",\"Manager\"],\"xaxis\":\"x\",\"y\":[22,25,24,60,35,56,58,22,33,30,49,38,60,60,50,21,26,44,41,58,53,39,42,36,30,34,47,49,22,28,43,30,24,39,26,59,38,50,44,60,50,31,54,20,48,44,41,20,21,28,22,53,37,42,54,37,29,39,24,55,42,51,30,44,29,47,36,23,43,23,50,18,33,22,46,56,42,20,25,24,30,24,56,19,29,22,19,43,52,32,28,37,56,53,29,50,57,47,44,57],\"yaxis\":\"y\",\"type\":\"scatter\"},{\"hovertemplate\":\"Genre=Management Lifestyle\\u003cbr\\u003eEmployee Role=%{x}\\u003cbr\\u003eEmployee Age=%{y}\\u003cextra\\u003e\\u003c\\u002fextra\\u003e\",\"legendgroup\":\"Management Lifestyle\",\"marker\":{\"color\":\"#00cc96\",\"symbol\":\"circle\"},\"mode\":\"markers\",\"name\":\"Management Lifestyle\",\"orientation\":\"v\",\"showlegend\":true,\"x\":[\"Senior\",\"Manager\",\"Senior\",\"Manager\",\"Senior\",\"Manager\",\"Manager\",\"Junior\",\"Junior\",\"Intern\",\"Junior\",\"Manager\",\"Manager\",\"Senior\",\"Junior\",\"Junior\",\"Junior\",\"Junior\",\"Junior\",\"Junior\",\"Manager\",\"Junior\",\"Junior\",\"Senior\",\"Intern\",\"Manager\",\"Senior\",\"Senior\",\"Manager\",\"Junior\",\"Intern\",\"Manager\",\"Senior\",\"Intern\",\"Junior\",\"Manager\",\"Intern\",\"Intern\",\"Manager\",\"Junior\",\"Manager\",\"Manager\",\"Junior\",\"Manager\",\"Junior\",\"Manager\",\"Junior\",\"Senior\",\"Manager\",\"Intern\",\"Manager\",\"Junior\",\"Manager\",\"Intern\",\"Intern\",\"Intern\",\"Junior\",\"Junior\",\"Junior\",\"Manager\",\"Junior\",\"Senior\",\"Junior\",\"Manager\",\"Junior\",\"Manager\",\"Junior\",\"Senior\",\"Manager\",\"Junior\",\"Intern\",\"Junior\",\"Senior\",\"Senior\",\"Senior\",\"Intern\",\"Senior\",\"Junior\",\"Intern\",\"Senior\",\"Senior\",\"Intern\",\"Senior\",\"Junior\",\"Intern\",\"Manager\",\"Intern\",\"Junior\",\"Senior\",\"Junior\",\"Senior\",\"Junior\",\"Intern\",\"Junior\",\"Manager\",\"Junior\",\"Senior\",\"Junior\",\"Senior\",\"Junior\"],\"xaxis\":\"x\",\"y\":[46,54,49,51,41,50,56,28,25,18,27,60,54,46,35,25,38,27,31,26,58,38,34,46,19,54,41,49,56,29,20,50,47,22,35,51,22,21,50,25,53,52,38,54,32,56,27,41,51,23,51,35,54,18,20,21,25,29,26,51,37,44,29,57,37,56,32,43,56,36,22,32,49,44,44,20,46,38,21,41,46,18,44,30,22,56,18,32,41,27,43,39,20,35,51,28,40,39,49,25],\"yaxis\":\"y\",\"type\":\"scatter\"},{\"hovertemplate\":\"Genre=Compensation and Benefits\\u003cbr\\u003eEmployee Role=%{x}\\u003cbr\\u003eEmployee Age=%{y}\\u003cextra\\u003e\\u003c\\u002fextra\\u003e\",\"legendgroup\":\"Compensation and Benefits\",\"marker\":{\"color\":\"#ab63fa\",\"symbol\":\"circle\"},\"mode\":\"markers\",\"name\":\"Compensation and Benefits\",\"orientation\":\"v\",\"showlegend\":true,\"x\":[\"Manager\",\"Senior\",\"Intern\",\"Intern\",\"Senior\",\"Manager\",\"Junior\",\"Senior\",\"Intern\",\"Junior\",\"Senior\",\"Junior\",\"Intern\",\"Intern\",\"Intern\",\"Junior\",\"Senior\",\"Senior\",\"Junior\",\"Senior\",\"Manager\",\"Junior\",\"Senior\",\"Junior\",\"Junior\",\"Intern\",\"Senior\",\"Senior\",\"Junior\",\"Junior\"],\"xaxis\":\"x\",\"y\":[57,47,21,24,48,60,25,42,20,27,46,27,19,18,24,35,44,44,37,43,53,33,42,38,35,18,49,40,36,36],\"yaxis\":\"y\",\"type\":\"scatter\"},{\"hovertemplate\":\"Genre=Career Development\\u003cbr\\u003eEmployee Role=%{x}\\u003cbr\\u003eEmployee Age=%{y}\\u003cextra\\u003e\\u003c\\u002fextra\\u003e\",\"legendgroup\":\"Career Development\",\"marker\":{\"color\":\"#FFA15A\",\"symbol\":\"circle\"},\"mode\":\"markers\",\"name\":\"Career Development\",\"orientation\":\"v\",\"showlegend\":true,\"x\":[\"Intern\",\"Manager\",\"Manager\",\"Manager\",\"Junior\",\"Intern\",\"Manager\",\"Junior\",\"Junior\",\"Senior\",\"Manager\",\"Junior\",\"Senior\",\"Manager\",\"Junior\",\"Manager\",\"Intern\",\"Junior\",\"Senior\",\"Senior\",\"Manager\",\"Senior\",\"Junior\",\"Intern\",\"Junior\",\"Junior\",\"Junior\",\"Manager\",\"Junior\",\"Manager\"],\"xaxis\":\"x\",\"y\":[23,53,58,58,30,23,59,25,35,43,51,32,44,50,34,60,19,33,45,47,57,44,34,20,34,39,39,53,37,58],\"yaxis\":\"y\",\"type\":\"scatter\"},{\"hovertemplate\":\"Genre=Workplace Environment\\u003cbr\\u003eEmployee Role=%{x}\\u003cbr\\u003eEmployee Age=%{y}\\u003cextra\\u003e\\u003c\\u002fextra\\u003e\",\"legendgroup\":\"Workplace Environment\",\"marker\":{\"color\":\"#19d3f3\",\"symbol\":\"circle\"},\"mode\":\"markers\",\"name\":\"Workplace Environment\",\"orientation\":\"v\",\"showlegend\":true,\"x\":[\"Senior\",\"Senior\",\"Manager\",\"Intern\",\"Manager\",\"Senior\",\"Manager\",\"Manager\",\"Junior\",\"Junior\",\"Manager\",\"Junior\",\"Intern\",\"Junior\",\"Manager\",\"Junior\",\"Manager\",\"Intern\",\"Senior\",\"Junior\",\"Senior\",\"Senior\",\"Junior\",\"Junior\",\"Manager\",\"Junior\",\"Junior\",\"Senior\",\"Junior\",\"Manager\",\"Senior\",\"Senior\",\"Manager\",\"Junior\",\"Intern\",\"Manager\",\"Junior\",\"Manager\",\"Junior\",\"Junior\",\"Senior\",\"Senior\",\"Junior\",\"Manager\",\"Manager\",\"Manager\",\"Junior\",\"Intern\",\"Intern\",\"Senior\",\"Intern\",\"Junior\"],\"xaxis\":\"x\",\"y\":[40,44,50,21,55,44,56,53,32,37,56,31,18,30,59,25,59,21,48,28,43,46,31,34,57,32,39,49,33,56,47,45,54,37,22,52,39,50,33,32,41,45,39,58,60,53,35,24,24,49,18,29],\"yaxis\":\"y\",\"type\":\"scatter\"},{\"hovertemplate\":\"Genre=Lack of training and development\\u003cbr\\u003eEmployee Role=%{x}\\u003cbr\\u003eEmployee Age=%{y}\\u003cextra\\u003e\\u003c\\u002fextra\\u003e\",\"legendgroup\":\"Lack of training and development\",\"marker\":{\"color\":\"#FF6692\",\"symbol\":\"circle\"},\"mode\":\"markers\",\"name\":\"Lack of training and development\",\"orientation\":\"v\",\"showlegend\":true,\"x\":[\"Intern\",\"Manager\",\"Senior\",\"Senior\",\"Manager\",\"Manager\",\"Intern\",\"Junior\",\"Junior\",\"Junior\",\"Intern\",\"Manager\",\"Intern\",\"Senior\",\"Intern\",\"Intern\",\"Manager\",\"Junior\",\"Senior\",\"Senior\",\"Senior\",\"Intern\",\"Junior\",\"Intern\",\"Junior\",\"Junior\",\"Junior\",\"Junior\",\"Junior\",\"Manager\",\"Manager\",\"Junior\",\"Junior\",\"Manager\",\"Intern\",\"Senior\",\"Intern\",\"Senior\",\"Intern\",\"Manager\",\"Junior\",\"Intern\",\"Senior\",\"Senior\",\"Intern\",\"Manager\",\"Junior\",\"Junior\",\"Manager\",\"Manager\",\"Senior\",\"Senior\",\"Junior\",\"Manager\",\"Junior\",\"Junior\",\"Senior\",\"Junior\",\"Manager\",\"Senior\",\"Junior\",\"Manager\",\"Junior\",\"Manager\",\"Intern\",\"Intern\",\"Intern\",\"Intern\",\"Senior\",\"Intern\"],\"xaxis\":\"x\",\"y\":[22,50,45,47,50,53,21,28,37,35,24,52,20,41,20,18,52,28,42,49,47,23,29,21,32,39,29,31,26,57,58,32,37,59,24,46,22,49,24,57,28,18,45,44,20,58,39,30,57,59,42,41,32,54,30,34,40,30,60,41,37,60,28,56,21,19,18,19,47,19],\"yaxis\":\"y\",\"type\":\"scatter\"}],                        {\"template\":{\"data\":{\"histogram2dcontour\":[{\"type\":\"histogram2dcontour\",\"colorbar\":{\"outlinewidth\":0,\"ticks\":\"\"},\"colorscale\":[[0.0,\"#0d0887\"],[0.1111111111111111,\"#46039f\"],[0.2222222222222222,\"#7201a8\"],[0.3333333333333333,\"#9c179e\"],[0.4444444444444444,\"#bd3786\"],[0.5555555555555556,\"#d8576b\"],[0.6666666666666666,\"#ed7953\"],[0.7777777777777778,\"#fb9f3a\"],[0.8888888888888888,\"#fdca26\"],[1.0,\"#f0f921\"]]}],\"choropleth\":[{\"type\":\"choropleth\",\"colorbar\":{\"outlinewidth\":0,\"ticks\":\"\"}}],\"histogram2d\":[{\"type\":\"histogram2d\",\"colorbar\":{\"outlinewidth\":0,\"ticks\":\"\"},\"colorscale\":[[0.0,\"#0d0887\"],[0.1111111111111111,\"#46039f\"],[0.2222222222222222,\"#7201a8\"],[0.3333333333333333,\"#9c179e\"],[0.4444444444444444,\"#bd3786\"],[0.5555555555555556,\"#d8576b\"],[0.6666666666666666,\"#ed7953\"],[0.7777777777777778,\"#fb9f3a\"],[0.8888888888888888,\"#fdca26\"],[1.0,\"#f0f921\"]]}],\"heatmap\":[{\"type\":\"heatmap\",\"colorbar\":{\"outlinewidth\":0,\"ticks\":\"\"},\"colorscale\":[[0.0,\"#0d0887\"],[0.1111111111111111,\"#46039f\"],[0.2222222222222222,\"#7201a8\"],[0.3333333333333333,\"#9c179e\"],[0.4444444444444444,\"#bd3786\"],[0.5555555555555556,\"#d8576b\"],[0.6666666666666666,\"#ed7953\"],[0.7777777777777778,\"#fb9f3a\"],[0.8888888888888888,\"#fdca26\"],[1.0,\"#f0f921\"]]}],\"heatmapgl\":[{\"type\":\"heatmapgl\",\"colorbar\":{\"outlinewidth\":0,\"ticks\":\"\"},\"colorscale\":[[0.0,\"#0d0887\"],[0.1111111111111111,\"#46039f\"],[0.2222222222222222,\"#7201a8\"],[0.3333333333333333,\"#9c179e\"],[0.4444444444444444,\"#bd3786\"],[0.5555555555555556,\"#d8576b\"],[0.6666666666666666,\"#ed7953\"],[0.7777777777777778,\"#fb9f3a\"],[0.8888888888888888,\"#fdca26\"],[1.0,\"#f0f921\"]]}],\"contourcarpet\":[{\"type\":\"contourcarpet\",\"colorbar\":{\"outlinewidth\":0,\"ticks\":\"\"}}],\"contour\":[{\"type\":\"contour\",\"colorbar\":{\"outlinewidth\":0,\"ticks\":\"\"},\"colorscale\":[[0.0,\"#0d0887\"],[0.1111111111111111,\"#46039f\"],[0.2222222222222222,\"#7201a8\"],[0.3333333333333333,\"#9c179e\"],[0.4444444444444444,\"#bd3786\"],[0.5555555555555556,\"#d8576b\"],[0.6666666666666666,\"#ed7953\"],[0.7777777777777778,\"#fb9f3a\"],[0.8888888888888888,\"#fdca26\"],[1.0,\"#f0f921\"]]}],\"surface\":[{\"type\":\"surface\",\"colorbar\":{\"outlinewidth\":0,\"ticks\":\"\"},\"colorscale\":[[0.0,\"#0d0887\"],[0.1111111111111111,\"#46039f\"],[0.2222222222222222,\"#7201a8\"],[0.3333333333333333,\"#9c179e\"],[0.4444444444444444,\"#bd3786\"],[0.5555555555555556,\"#d8576b\"],[0.6666666666666666,\"#ed7953\"],[0.7777777777777778,\"#fb9f3a\"],[0.8888888888888888,\"#fdca26\"],[1.0,\"#f0f921\"]]}],\"mesh3d\":[{\"type\":\"mesh3d\",\"colorbar\":{\"outlinewidth\":0,\"ticks\":\"\"}}],\"scatter\":[{\"fillpattern\":{\"fillmode\":\"overlay\",\"size\":10,\"solidity\":0.2},\"type\":\"scatter\"}],\"parcoords\":[{\"type\":\"parcoords\",\"line\":{\"colorbar\":{\"outlinewidth\":0,\"ticks\":\"\"}}}],\"scatterpolargl\":[{\"type\":\"scatterpolargl\",\"marker\":{\"colorbar\":{\"outlinewidth\":0,\"ticks\":\"\"}}}],\"bar\":[{\"error_x\":{\"color\":\"#2a3f5f\"},\"error_y\":{\"color\":\"#2a3f5f\"},\"marker\":{\"line\":{\"color\":\"#E5ECF6\",\"width\":0.5},\"pattern\":{\"fillmode\":\"overlay\",\"size\":10,\"solidity\":0.2}},\"type\":\"bar\"}],\"scattergeo\":[{\"type\":\"scattergeo\",\"marker\":{\"colorbar\":{\"outlinewidth\":0,\"ticks\":\"\"}}}],\"scatterpolar\":[{\"type\":\"scatterpolar\",\"marker\":{\"colorbar\":{\"outlinewidth\":0,\"ticks\":\"\"}}}],\"histogram\":[{\"marker\":{\"pattern\":{\"fillmode\":\"overlay\",\"size\":10,\"solidity\":0.2}},\"type\":\"histogram\"}],\"scattergl\":[{\"type\":\"scattergl\",\"marker\":{\"colorbar\":{\"outlinewidth\":0,\"ticks\":\"\"}}}],\"scatter3d\":[{\"type\":\"scatter3d\",\"line\":{\"colorbar\":{\"outlinewidth\":0,\"ticks\":\"\"}},\"marker\":{\"colorbar\":{\"outlinewidth\":0,\"ticks\":\"\"}}}],\"scattermapbox\":[{\"type\":\"scattermapbox\",\"marker\":{\"colorbar\":{\"outlinewidth\":0,\"ticks\":\"\"}}}],\"scatterternary\":[{\"type\":\"scatterternary\",\"marker\":{\"colorbar\":{\"outlinewidth\":0,\"ticks\":\"\"}}}],\"scattercarpet\":[{\"type\":\"scattercarpet\",\"marker\":{\"colorbar\":{\"outlinewidth\":0,\"ticks\":\"\"}}}],\"carpet\":[{\"aaxis\":{\"endlinecolor\":\"#2a3f5f\",\"gridcolor\":\"white\",\"linecolor\":\"white\",\"minorgridcolor\":\"white\",\"startlinecolor\":\"#2a3f5f\"},\"baxis\":{\"endlinecolor\":\"#2a3f5f\",\"gridcolor\":\"white\",\"linecolor\":\"white\",\"minorgridcolor\":\"white\",\"startlinecolor\":\"#2a3f5f\"},\"type\":\"carpet\"}],\"table\":[{\"cells\":{\"fill\":{\"color\":\"#EBF0F8\"},\"line\":{\"color\":\"white\"}},\"header\":{\"fill\":{\"color\":\"#C8D4E3\"},\"line\":{\"color\":\"white\"}},\"type\":\"table\"}],\"barpolar\":[{\"marker\":{\"line\":{\"color\":\"#E5ECF6\",\"width\":0.5},\"pattern\":{\"fillmode\":\"overlay\",\"size\":10,\"solidity\":0.2}},\"type\":\"barpolar\"}],\"pie\":[{\"automargin\":true,\"type\":\"pie\"}]},\"layout\":{\"autotypenumbers\":\"strict\",\"colorway\":[\"#636efa\",\"#EF553B\",\"#00cc96\",\"#ab63fa\",\"#FFA15A\",\"#19d3f3\",\"#FF6692\",\"#B6E880\",\"#FF97FF\",\"#FECB52\"],\"font\":{\"color\":\"#2a3f5f\"},\"hovermode\":\"closest\",\"hoverlabel\":{\"align\":\"left\"},\"paper_bgcolor\":\"white\",\"plot_bgcolor\":\"#E5ECF6\",\"polar\":{\"bgcolor\":\"#E5ECF6\",\"angularaxis\":{\"gridcolor\":\"white\",\"linecolor\":\"white\",\"ticks\":\"\"},\"radialaxis\":{\"gridcolor\":\"white\",\"linecolor\":\"white\",\"ticks\":\"\"}},\"ternary\":{\"bgcolor\":\"#E5ECF6\",\"aaxis\":{\"gridcolor\":\"white\",\"linecolor\":\"white\",\"ticks\":\"\"},\"baxis\":{\"gridcolor\":\"white\",\"linecolor\":\"white\",\"ticks\":\"\"},\"caxis\":{\"gridcolor\":\"white\",\"linecolor\":\"white\",\"ticks\":\"\"}},\"coloraxis\":{\"colorbar\":{\"outlinewidth\":0,\"ticks\":\"\"}},\"colorscale\":{\"sequential\":[[0.0,\"#0d0887\"],[0.1111111111111111,\"#46039f\"],[0.2222222222222222,\"#7201a8\"],[0.3333333333333333,\"#9c179e\"],[0.4444444444444444,\"#bd3786\"],[0.5555555555555556,\"#d8576b\"],[0.6666666666666666,\"#ed7953\"],[0.7777777777777778,\"#fb9f3a\"],[0.8888888888888888,\"#fdca26\"],[1.0,\"#f0f921\"]],\"sequentialminus\":[[0.0,\"#0d0887\"],[0.1111111111111111,\"#46039f\"],[0.2222222222222222,\"#7201a8\"],[0.3333333333333333,\"#9c179e\"],[0.4444444444444444,\"#bd3786\"],[0.5555555555555556,\"#d8576b\"],[0.6666666666666666,\"#ed7953\"],[0.7777777777777778,\"#fb9f3a\"],[0.8888888888888888,\"#fdca26\"],[1.0,\"#f0f921\"]],\"diverging\":[[0,\"#8e0152\"],[0.1,\"#c51b7d\"],[0.2,\"#de77ae\"],[0.3,\"#f1b6da\"],[0.4,\"#fde0ef\"],[0.5,\"#f7f7f7\"],[0.6,\"#e6f5d0\"],[0.7,\"#b8e186\"],[0.8,\"#7fbc41\"],[0.9,\"#4d9221\"],[1,\"#276419\"]]},\"xaxis\":{\"gridcolor\":\"white\",\"linecolor\":\"white\",\"ticks\":\"\",\"title\":{\"standoff\":15},\"zerolinecolor\":\"white\",\"automargin\":true,\"zerolinewidth\":2},\"yaxis\":{\"gridcolor\":\"white\",\"linecolor\":\"white\",\"ticks\":\"\",\"title\":{\"standoff\":15},\"zerolinecolor\":\"white\",\"automargin\":true,\"zerolinewidth\":2},\"scene\":{\"xaxis\":{\"backgroundcolor\":\"#E5ECF6\",\"gridcolor\":\"white\",\"linecolor\":\"white\",\"showbackground\":true,\"ticks\":\"\",\"zerolinecolor\":\"white\",\"gridwidth\":2},\"yaxis\":{\"backgroundcolor\":\"#E5ECF6\",\"gridcolor\":\"white\",\"linecolor\":\"white\",\"showbackground\":true,\"ticks\":\"\",\"zerolinecolor\":\"white\",\"gridwidth\":2},\"zaxis\":{\"backgroundcolor\":\"#E5ECF6\",\"gridcolor\":\"white\",\"linecolor\":\"white\",\"showbackground\":true,\"ticks\":\"\",\"zerolinecolor\":\"white\",\"gridwidth\":2}},\"shapedefaults\":{\"line\":{\"color\":\"#2a3f5f\"}},\"annotationdefaults\":{\"arrowcolor\":\"#2a3f5f\",\"arrowhead\":0,\"arrowwidth\":1},\"geo\":{\"bgcolor\":\"white\",\"landcolor\":\"#E5ECF6\",\"subunitcolor\":\"white\",\"showland\":true,\"showlakes\":true,\"lakecolor\":\"white\"},\"title\":{\"x\":0.05},\"mapbox\":{\"style\":\"light\"}}},\"xaxis\":{\"anchor\":\"y\",\"domain\":[0.0,1.0],\"title\":{\"text\":\"Employee Role\"}},\"yaxis\":{\"anchor\":\"x\",\"domain\":[0.0,1.0],\"title\":{\"text\":\"Employee Age\"}},\"legend\":{\"title\":{\"text\":\"Genre\"},\"tracegroupgap\":0},\"margin\":{\"t\":60}},                        {\"responsive\": true}                    ).then(function(){\n                            \nvar gd = document.getElementById('32d15b3f-b214-40dd-8e00-da9704830e1a');\nvar x = new MutationObserver(function (mutations, observer) {{\n        var display = window.getComputedStyle(gd).display;\n        if (!display || display === 'none') {{\n            console.log([gd, 'removed!']);\n            Plotly.purge(gd);\n            observer.disconnect();\n        }}\n}});\n\n// Listen for the removal of the full notebook cells\nvar notebookContainer = gd.closest('#notebook-container');\nif (notebookContainer) {{\n    x.observe(notebookContainer, {childList: true});\n}}\n\n// Listen for the clearing of the current output cell\nvar outputEl = gd.closest('.output');\nif (outputEl) {{\n    x.observe(outputEl, {childList: true});\n}}\n\n                        })                };                });            </script>        </div>"
     },
     "metadata": {},
     "output_type": "display_data"
    }
   ],
   "source": [
    "# Assuming df is your DataFrame\n",
    "fig_1 = px.scatter(df, x='Employee Role', y='Employee Age', color='Genre')\n",
    "\n",
    "# Display the plot in the notebook\n",
    "fig_1.show()\n",
    "# Save the Plotly figure as an HTML file\n",
    "fig_1.write_html(\"scatter_plot_1.html\")\n"
   ],
   "metadata": {
    "collapsed": false
   }
  },
  {
   "cell_type": "markdown",
   "source": [
    "Data Preprocessing"
   ],
   "metadata": {
    "collapsed": false
   }
  },
  {
   "cell_type": "code",
   "execution_count": 89,
   "outputs": [
    {
     "data": {
      "text/plain": "                                Genre  \\\n0                Communication Issues   \n1                Communication Issues   \n2                Communication Issues   \n3                Communication Issues   \n4                Communication Issues   \n..                                ...   \n477  Lack of training and development   \n478  Lack of training and development   \n479  Lack of training and development   \n480  Lack of training and development   \n481  Lack of training and development   \n\n                                                Report  \n0     I never receive clear instructions for my tasks.  \n1    Updates from management are inconsistent and c...  \n2    I often misunderstand what's expected due to v...  \n3       Important information is never shared on time.  \n4    My queries go unanswered, making it hard to pr...  \n..                                                 ...  \n477  Opportunities for job rotation and diversifica...  \n478  Leadership doesn't recognize employees' aspira...  \n479  Employees feel unsupported in their pursuit of...  \n480  No structured program for mentoring new employ...  \n481  Lack of training programs affects our competit...  \n\n[482 rows x 2 columns]",
      "text/html": "<div>\n<style scoped>\n    .dataframe tbody tr th:only-of-type {\n        vertical-align: middle;\n    }\n\n    .dataframe tbody tr th {\n        vertical-align: top;\n    }\n\n    .dataframe thead th {\n        text-align: right;\n    }\n</style>\n<table border=\"1\" class=\"dataframe\">\n  <thead>\n    <tr style=\"text-align: right;\">\n      <th></th>\n      <th>Genre</th>\n      <th>Report</th>\n    </tr>\n  </thead>\n  <tbody>\n    <tr>\n      <th>0</th>\n      <td>Communication Issues</td>\n      <td>I never receive clear instructions for my tasks.</td>\n    </tr>\n    <tr>\n      <th>1</th>\n      <td>Communication Issues</td>\n      <td>Updates from management are inconsistent and c...</td>\n    </tr>\n    <tr>\n      <th>2</th>\n      <td>Communication Issues</td>\n      <td>I often misunderstand what's expected due to v...</td>\n    </tr>\n    <tr>\n      <th>3</th>\n      <td>Communication Issues</td>\n      <td>Important information is never shared on time.</td>\n    </tr>\n    <tr>\n      <th>4</th>\n      <td>Communication Issues</td>\n      <td>My queries go unanswered, making it hard to pr...</td>\n    </tr>\n    <tr>\n      <th>...</th>\n      <td>...</td>\n      <td>...</td>\n    </tr>\n    <tr>\n      <th>477</th>\n      <td>Lack of training and development</td>\n      <td>Opportunities for job rotation and diversifica...</td>\n    </tr>\n    <tr>\n      <th>478</th>\n      <td>Lack of training and development</td>\n      <td>Leadership doesn't recognize employees' aspira...</td>\n    </tr>\n    <tr>\n      <th>479</th>\n      <td>Lack of training and development</td>\n      <td>Employees feel unsupported in their pursuit of...</td>\n    </tr>\n    <tr>\n      <th>480</th>\n      <td>Lack of training and development</td>\n      <td>No structured program for mentoring new employ...</td>\n    </tr>\n    <tr>\n      <th>481</th>\n      <td>Lack of training and development</td>\n      <td>Lack of training programs affects our competit...</td>\n    </tr>\n  </tbody>\n</table>\n<p>482 rows × 2 columns</p>\n</div>"
     },
     "execution_count": 89,
     "metadata": {},
     "output_type": "execute_result"
    }
   ],
   "source": [
    "# Assuming df is your DataFrame\n",
    "df.drop(['Employee Age', 'Employee Role', 'Gender'], axis=1, inplace=True)\n",
    "\n",
    "# Display the modified DataFrame\n",
    "df"
   ],
   "metadata": {
    "collapsed": false
   }
  },
  {
   "cell_type": "code",
   "execution_count": 90,
   "outputs": [],
   "source": [
    "import string\n",
    "\n",
    "sentences = []\n",
    "\n",
    "for sentence in df['Report']:\n",
    "    # Check if the value is a string, otherwise handle accordingly\n",
    "    if isinstance(sentence, str):\n",
    "        sentence = sentence.translate(str.maketrans('', '', string.punctuation))\n",
    "        sentence = sentence.replace('\"', '')\n",
    "        sentences.append(sentence)\n",
    "    else:\n",
    "        sentences.append(\"\")  # Replace non-string values with an empty string\n",
    "\n",
    "df['Reports'] = pd.DataFrame(sentences)\n"
   ],
   "metadata": {
    "collapsed": false
   }
  },
  {
   "cell_type": "markdown",
   "source": [
    "Use of TF-IDF vectorize and Bag of Words (BoW) techniques to vectorize the texts"
   ],
   "metadata": {
    "collapsed": false
   }
  },
  {
   "cell_type": "markdown",
   "source": [
    "Tokenization"
   ],
   "metadata": {
    "collapsed": false
   }
  },
  {
   "cell_type": "code",
   "execution_count": 91,
   "outputs": [
    {
     "name": "stderr",
     "output_type": "stream",
     "text": [
      "[nltk_data] Downloading package punkt to\n",
      "[nltk_data]     /Users/oumaymabamoh/nltk_data...\n",
      "[nltk_data]   Package punkt is already up-to-date!\n",
      "[nltk_data] Downloading package stopwords to\n",
      "[nltk_data]     /Users/oumaymabamoh/nltk_data...\n",
      "[nltk_data]   Package stopwords is already up-to-date!\n"
     ]
    },
    {
     "data": {
      "text/plain": "True"
     },
     "execution_count": 91,
     "metadata": {},
     "output_type": "execute_result"
    }
   ],
   "source": [
    "import nltk\n",
    "nltk.download('punkt')\n",
    "nltk.download('stopwords')"
   ],
   "metadata": {
    "collapsed": false
   }
  },
  {
   "cell_type": "code",
   "execution_count": 92,
   "outputs": [
    {
     "name": "stdout",
     "output_type": "stream",
     "text": [
      "[['I', 'never', 'receive', 'clear', 'instructions', 'for', 'my', 'tasks', '.'], ['Updates', 'from', 'management', 'are', 'inconsistent', 'and', 'confusing', '.'], ['I', 'often', 'misunderstand', 'what', \"'s\", 'expected', 'due', 'to', 'vague', 'emails', '.'], ['Important', 'information', 'is', 'never', 'shared', 'on', 'time', '.'], ['My', 'queries', 'go', 'unanswered', ',', 'making', 'it', 'hard', 'to', 'proceed', '.'], ['Meetings', 'are', 'held', 'without', 'clear', 'agendas', ',', 'wasting', 'time', '.'], ['During', 'changes', ',', 'communication', 'is', 'poor', 'and', 'leaves', 'us', 'in', 'the', 'dark', '.'], ['Our', 'team', 'goals', 'are', 'never', 'properly', 'communicated', '.'], ['Feedback', 'on', 'my', 'performance', 'is', 'hardly', 'provided', '.'], ['My', 'job', 'responsibilities', 'are', 'unclear', ',', 'causing', 'confusion', '.'], ['Management', 'seems', 'to', 'ignore', 'our', 'suggestions', 'for', 'improvement', '.'], ['Too', 'much', 'jargon', 'is', 'used', 'in', 'company', 'communications', '.'], ['Updates', 'about', 'company', 'happenings', 'are', 'rarely', 'shared', '.'], ['Decisions', 'are', 'made', 'without', 'transparency', 'or', 'explanation', '.'], ['It', \"'s\", 'nearly', 'impossible', 'to', 'reach', 'higher-ups', 'for', 'communication', '.'], ['Different', 'supervisors', 'send', 'mixed', 'messages', '.'], ['Sometimes', ',', 'my', 'emails', 'or', 'messages', 'are', 'ignored', 'completely', '.'], ['My', 'concerns', 'are', 'often', 'brushed', 'off', 'or', 'not', 'addressed', '.'], ['Changes', 'are', 'introduced', 'without', 'proper', 'explanation', '.'], ['Communication', 'tools', 'provided', 'are', 'inefficient', '.'], ['Some', 'team', 'members', 'are', 'unresponsive', 'to', 'communication', '.'], ['Miscommunication', 'is', 'common', 'in', 'our', 'remote', 'team', '.'], ['Rumors', 'spread', 'quickly', 'due', 'to', 'lack', 'of', 'communication', '.'], ['Instructions', 'for', 'tasks', 'are', 'often', 'incomplete', '.'], ['We', \"'re\", 'bombarded', 'with', 'irrelevant', 'information', '.'], ['We', 'have', 'inconsistent', 'channels', 'for', 'communication', '.'], ['Important', 'decisions', 'are', 'made', 'without', 'input', 'from', 'us', '.'], ['Miscommunication', 'leads', 'to', 'errors', 'that', 'impact', 'our', 'work', '.'], ['Schedule', 'changes', 'are', 'often', 'communicated', 'at', 'the', 'last', 'minute', '.'], ['Our', 'team', \"'s\", 'communication', 'feels', 'disorganized', '.'], ['Emails', 'lack', 'proper', 'context', ',', 'making', 'it', 'hard', 'to', 'understand', '.'], ['We', \"'re\", 'never', 'offered', 'proper', 'training', 'on', 'effective', 'communication', '.'], ['Feedback', 'provided', 'is', 'often', 'ignored', 'or', 'disregarded', '.'], ['Managers', 'take', 'a', 'long', 'time', 'to', 'respond', 'to', 'my', 'queries', '.'], ['My', 'efforts', 'go', 'unrecognized', 'or', 'unappreciated', '.'], ['There', \"'s\", 'no', 'way', 'to', 'share', 'feedback', 'anonymously', '.'], ['Team', 'meetings', 'are', 'unproductive', 'and', 'lack', 'direction', '.'], ['Leaders', 'from', 'different', 'departments', 'give', 'conflicting', 'directions', '.'], ['Too', 'much', 'information', 'is', 'shared', 'in', 'a', 'one-way', 'manner', '.'], ['Project', 'timelines', 'are', 'not', 'consistently', 'updated', '.'], ['Communication', 'apps', 'are', 'not', 'used', 'effectively', '.'], ['My', 'preferred', 'communication', 'methods', 'are', 'ignored', '.'], ['Communication', 'breakdowns', 'frequently', 'happen', 'in', 'cross-functional', 'teams', '.'], ['Language', 'barriers', 'are', 'not', 'taken', 'into', 'consideration', '.'], ['During', 'crises', ',', 'communication', 'is', 'inadequate', '.'], ['My', 'expectations', 'for', 'projects', 'are', 'often', 'unclear', '.'], ['I', 'sometimes', 'misinterpret', 'instructions', ',', 'leading', 'to', 'errors', '.'], ['My', 'concerns', 'raised', 'in', 'meetings', 'are', 'often', 'left', 'unaddressed', '.'], ['Customer', 'complaints', 'arise', 'due', 'to', 'miscommunication', '.'], ['Different', 'departments', 'have', 'communication', 'gaps', '.'], ['Frontline', 'employee', 'feedback', 'is', 'ignored', 'by', 'management', '.'], ['Leaders', 'do', \"n't\", 'actively', 'engage', 'in', 'team', 'discussions', '.'], ['Email', 'threads', 'become', 'confusing', 'and', 'hard', 'to', 'follow', '.'], ['Company', 'achievements', 'are', 'not', 'shared', 'with', 'us', '.'], ['Updates', 'on', 'important', 'matters', 'are', 'not', 'provided', '.'], ['Rumors', 'spread', 'because', 'management', 'does', \"n't\", 'address', 'them', '.'], ['My', 'input', 'as', 'a', 'remote', 'employee', 'is', 'not', 'considered', '.'], ['Changes', 'in', 'company', 'policies', 'are', 'communicated', 'poorly', '.'], ['Meetings', 'often', 'lack', 'clear', 'outcomes', 'or', 'actions', '.'], ['Direction', 'shifts', 'without', 'proper', 'explanation', '.'], ['Project', 'priorities', 'are', 'not', 'clearly', 'communicated', '.'], ['I', 'receive', 'too', 'many', 'emails', ',', 'making', 'it', 'hard', 'to', 'manage', '.'], ['Avenues', 'for', 'open', 'dialogue', 'are', 'lacking', '.'], ['New', 'initiatives', 'are', 'introduced', 'without', 'context', '.'], ['Milestones', 'for', 'projects', 'are', 'not', 'updated', 'regularly', '.'], ['During', 'office', 'closures', ',', 'communication', 'is', 'inconsistent', '.'], ['Managers', 'do', \"n't\", 'seek', 'input', 'before', 'making', 'decisions', '.'], ['Suggestions', 'for', 'improving', 'meetings', 'are', 'ignored', '.'], ['Handling', 'heavy', 'workload', 'often', 'leads', 'to', 'communication', 'gaps', '.'], ['Remote', 'work', 'communication', 'expectations', 'are', 'not', 'defined', '.'], ['New', 'initiatives', 'are', 'introduced', 'without', 'explanation', '.'], ['Changes', 'in', 'company', 'policies', 'are', 'not', 'well-explained', '.'], ['No', 'clear', 'process', 'for', 'reporting', 'communication', 'issues', '.'], ['My', 'concerns', 'raised', 'in', 'team', 'meetings', 'are', 'disregarded', '.'], ['Updates', 'about', 'market', 'trends', 'are', 'not', 'shared', '.'], ['Management', 'communication', 'lacks', 'consistency', '.'], ['Reasoning', 'behind', 'decisions', 'is', 'not', 'communicated', '.'], ['Miscommunication', 'often', 'occurs', 'in', 'project', 'requirements', '.'], ['Best', 'practices', 'are', 'not', 'shared', 'consistently', '.'], ['We', 'rely', 'too', 'much', 'on', 'email', 'for', 'communication', '.'], ['Flexible', 'work', 'arrangements', 'are', 'not', 'respected', '.'], ['Inconsistent', 'communication', 'from', 'management', 'affects', 'my', 'performance', '.'], ['Feedback', 'from', 'surveys', 'seems', 'to', 'be', 'disregarded', '.'], ['Customer', 'feedback', 'is', 'not', 'shared', 'with', 'us', '.'], ['Urgent', 'issues', 'take', 'too', 'long', 'to', 'receive', 'a', 'response', '.'], ['Cultural', 'differences', 'affecting', 'communication', 'are', 'not', 'addressed', '.'], ['Communication', 'tools', 'are', 'not', 'used', 'effectively', '.'], ['Company', 'values', 'are', 'not', 'communicated', 'adequately', '.'], ['Updates', 'on', 'company', 'performance', 'are', 'lacking', '.'], ['Cross-cultural', 'teams', 'face', 'communication', 'challenges', '.'], ['Leaders', 'do', \"n't\", 'actively', 'participate', 'in', 'discussions', '.'], ['Clear', 'instructions', 'for', 'new', 'initiatives', 'are', 'missing', '.'], ['Project', 'milestones', 'are', 'not', 'regularly', 'communicated', '.'], ['During', 'emergencies', ',', 'communication', 'is', 'inconsistent', '.'], ['No', 'avenues', 'for', 'addressing', 'communication', 'issues', 'are', 'available', '.'], ['No', 'provisions', 'for', 'managing', 'peaks', 'in', 'communication', 'volume', '.'], ['Team', 'discussions', 'lack', 'engagement', 'from', 'managers', '.'], ['Communication', 'tools', 'lack', 'proper', 'organization', 'features', '.'], ['No', 'support', 'for', 'addressing', 'stress', 'caused', 'by', 'communication', 'issues', '.'], ['Leadership', 'does', 'not', 'actively', 'encourage', 'open', 'dialogue', '.'], ['My', 'workload', 'is', 'overwhelming', ',', 'and', 'I', 'ca', \"n't\", 'keep', 'up', '.'], ['I', \"'m\", 'constantly', 'working', 'overtime', 'without', 'compensation', '.'], ['Deadlines', 'are', 'too', 'tight', ',', 'causing', 'stress', 'and', 'anxiety', '.'], ['I', 'do', \"n't\", 'have', 'the', 'resources', 'needed', 'to', 'complete', 'tasks', '.'], ['Pressure', 'to', 'meet', 'targets', 'is', 'affecting', 'my', 'well-being', '.'], ['I', \"'m\", 'not', 'getting', 'enough', 'time', 'for', 'breaks', '.'], ['Shifts', 'are', 'irregular', 'and', 'unpredictable', ',', 'causing', 'stress', '.'], ['I', 'have', 'too', 'many', 'responsibilities', 'without', 'proper', 'support', '.'], ['Last-minute', 'changes', 'to', 'projects', 'are', 'causing', 'stress', '.'], ['Vacations', 'are', 'disrupted', 'by', 'work', 'expectations', '.'], ['There', \"'s\", 'not', 'enough', 'staff', 'to', 'handle', 'the', 'workload', '.'], ['My', 'work-life', 'balance', 'is', 'completely', 'out', 'of', 'sync', '.'], ['Micromanagement', 'is', 'making', 'the', 'workload', 'worse', '.'], ['Performance', 'expectations', 'are', 'unrealistically', 'high', '.'], ['Overtime', 'is', \"n't\", 'recognized', 'or', 'rewarded', '.'], ['I', \"'m\", 'not', 'trained', 'properly', 'for', 'the', 'tasks', 'assigned', '.'], ['I', 'fear', 'losing', 'my', 'job', 'due', 'to', 'the', 'workload', '.'], ['Prioritizing', 'tasks', 'is', 'difficult', 'due', 'to', 'unclear', 'guidance', '.'], ['Stress', 'is', 'causing', 'high', 'turnover', 'in', 'our', 'team', '.'], ['I', 'struggle', 'to', 'disconnect', 'from', 'work', 'after', 'hours', '.'], ['Flexible', 'work', 'arrangements', 'are', \"n't\", 'available', '.'], ['Constant', 'interruptions', 'disrupt', 'my', 'focus', 'and', 'productivity', '.'], ['Taking', 'sick', 'leave', 'feels', 'impossible', 'due', 'to', 'workload', '.'], ['Job', 'roles', 'are', 'unclear', ',', 'causing', 'confusion', 'and', 'stress', '.'], ['Opportunities', 'to', 'learn', 'new', 'skills', 'are', 'limited', '.'], ['Stress', 'management', 'support', 'is', 'inadequate', '.'], ['Workload', 'distribution', 'across', 'the', 'team', 'is', 'inconsistent', '.'], ['Remote', 'work', 'stress', 'is', 'taking', 'a', 'toll', 'on', 'my', 'well-being', '.'], ['Heavy', 'workload', 'is', 'hindering', 'career', 'growth', '.'], ['Time', 'management', 'tools', 'are', \"n't\", 'effective', '.'], ['My', 'work-life', 'balance', 'is', 'not', 'respected', '.'], ['Project', 'expectations', 'are', 'communicated', 'poorly', '.'], ['Working', 'extra', 'hours', 'does', \"n't\", 'lead', 'to', 'recognition', '.'], ['Lack', 'of', 'control', 'over', 'work', 'hours', 'adds', 'to', 'stress', '.'], ['Emergencies', 'occur', 'frequently', ',', 'causing', 'stress', '.'], ['Mental', 'health', 'days', 'are', 'not', 'offered', 'or', 'supported', '.'], ['Processes', 'are', 'inefficient', 'and', 'cause', 'delays', '.'], ['Professional', 'development', 'opportunities', 'are', 'limited', '.'], ['Workload', 'expectations', 'from', 'management', 'are', 'unclear', '.'], ['Adequate', 'breaks', 'during', 'shifts', 'are', 'not', 'provided', '.'], ['Declining', 'tasks', 'feels', 'risky', 'due', 'to', 'workload', 'pressure', '.'], ['Delegating', 'tasks', 'is', \"n't\", 'supported', 'or', 'encouraged', '.'], ['Stress', 'due', 'to', 'unpredictable', 'workload', 'is', 'affecting', 'my', 'health', '.'], ['No', 'provisions', 'for', 'managing', 'peak', 'workloads', '.'], ['Unpredictable', 'workload', 'leads', 'to', 'constant', 'frustration', '.'], ['Dealing', 'with', 'heavy', 'workload', 'is', 'impacting', 'my', 'performance', '.'], ['Support', 'for', 'stress', 'management', 'programs', 'is', 'lacking', '.'], ['Administrative', 'tasks', 'take', 'up', 'too', 'much', 'time', '.'], ['No', 'relief', 'from', 'urgent', 'tasks', 'and', 'deadlines', '.'], ['Performance', 'targets', 'seem', 'unattainable', '.'], ['Responsibilities', 'keep', 'piling', 'up', ',', 'and', 'it', \"'s\", 'overwhelming', '.'], ['Workload', 'distribution', 'is', 'uneven', 'across', 'team', 'members', '.'], ['Remote', 'work', 'stress', 'is', \"n't\", 'adequately', 'addressed', '.'], ['Personal', 'commitments', 'are', \"n't\", 'accommodated', '.'], ['Opportunities', 'for', 'skill', 'development', 'are', 'limited', '.'], ['Burnout', 'prevention', 'measures', 'are', 'not', 'in', 'place', '.'], ['Time', 'management', 'tools', 'do', \"n't\", 'help', 'with', 'workload', '.'], ['Fear', 'of', 'missing', 'opportunities', 'is', 'causing', 'stress', '.'], ['Handling', 'peak', 'workloads', 'without', 'support', 'is', 'tough', '.'], ['Managing', 'complex', 'tasks', 'without', 'support', 'is', 'stressful', '.'], ['High-pressure', 'tasks', 'are', \"n't\", 'adequately', 'managed', '.'], ['No', 'avenues', 'for', 'providing', 'feedback', 'on', 'workload', '.'], ['Lack', 'of', 'autonomy', 'in', 'managing', 'tasks', 'adds', 'to', 'stress', '.'], ['Struggling', 'to', 'handle', 'work', 'volume', 'is', 'affecting', 'my', 'performance', '.'], ['Heavy', 'workload', 'goes', 'unnoticed', 'by', 'management', '.'], ['Rapidly', 'changing', 'tasks', 'lead', 'to', 'constant', 'stress', '.'], ['Not', 'enough', 'support', 'for', 'handling', 'high-pressure', 'tasks', '.'], ['No', 'tools', 'to', 'effectively', 'manage', 'time', 'and', 'workload', '.'], ['New', 'tasks', 'are', 'added', 'without', 'considering', 'current', 'load', '.'], ['Managing', 'workload', 'feels', 'impossible', 'without', 'proper', 'tools', '.'], ['Balancing', 'work', 'and', 'family', 'commitments', 'is', 'challenging', '.'], ['No', 'proper', 'method', 'for', 'prioritizing', 'tasks', 'is', 'provided', '.'], ['Consistent', 'effort', 'goes', 'unrecognized', 'by', 'management', '.'], ['Peak', 'workloads', 'lead', 'to', 'inconsistency', 'in', 'work', 'quality', '.'], ['Tasks', 'keep', 'piling', 'up', 'with', 'no', 'relief', 'in', 'sight', '.'], ['No', 'provisions', 'for', 'taking', 'short', 'mental', 'wellness', 'breaks', '.'], ['Managing', 'workload', 'during', 'peak', 'times', 'is', 'overwhelming', '.'], ['No', 'recognition', 'for', 'handling', 'multiple', 'projects', '.'], ['High-pressure', 'tasks', 'are', 'not', 'managed', 'effectively', '.'], ['Time', 'tracking', 'tools', 'are', 'not', 'helpful', 'in', 'managing', 'workload', '.'], ['Overcommitting', 'due', 'to', 'fear', 'of', 'missing', 'out', 'is', 'stressful', '.'], ['Adequate', 'support', 'for', 'managing', 'deadlines', 'is', 'lacking', '.'], ['No', 'avenues', 'for', 'addressing', 'workload', 'concerns', 'are', 'available', '.'], ['Peak', 'workloads', 'are', 'not', 'managed', 'efficiently', '.'], ['Fear', 'of', 'underperforming', 'due', 'to', 'workload', 'pressure', '.'], ['Limited', 'support', 'for', 'remote', 'workers', \"'\", 'stress', '.'], ['Flexible', 'work', 'arrangements', 'are', \"n't\", 'honored', '.'], ['Managing', 'workload', 'during', 'emergencies', 'is', 'stressful', '.'], ['No', 'channels', 'for', 'discussing', 'workload', 'challenges', 'are', 'provided', '.'], ['Constantly', 'managing', 'heavy', 'workload', 'is', 'leading', 'to', 'burnout', '.'], ['Fear', 'of', 'saying', 'no', 'to', 'new', 'tasks', 'is', 'adding', 'to', 'my', 'stress', '.'], ['Adequate', 'support', 'for', 'handling', 'peak', 'workloads', 'is', 'missing', '.'], ['Lack', 'of', 'resources', 'for', 'stress', 'management', '.'], ['No', 'recognition', 'for', 'consistently', 'going', 'above', 'and', 'beyond', '.'], ['Unpredictable', 'workload', 'is', 'causing', 'frustration', '.'], ['No', 'provisions', 'for', 'managing', 'workload', 'peaks', 'are', 'in', 'place', '.'], ['Leaders', \"'\", 'lack', 'of', 'engagement', 'adds', 'to', 'stress', '.'], ['Time', 'management', 'tools', 'are', 'ineffective', 'for', 'workload', '.'], ['Lack', 'of', 'support', 'for', 'managing', 'stress-related', 'workload', '.'], ['Pressure', 'from', 'management', 'is', 'affecting', 'my', 'well-being', '.'], ['Management', 'is', 'distant', 'and', 'lacks', 'communication', '.'], ['Supervisors', 'do', \"n't\", 'provide', 'clear', 'directions', '.'], ['Micromanagement', 'stifles', 'our', 'autonomy', '.'], ['Management', 'does', \"n't\", 'support', 'work-life', 'balance', '.'], ['Leaders', 'play', 'favorites', ',', 'creating', 'a', 'toxic', 'environment', '.'], ['Lack', 'of', 'support', 'from', 'management', 'during', 'challenges', '.'], ['Leadership', 'lacks', 'transparency', 'in', 'decision-making', '.'], ['Supervisors', 'do', \"n't\", 'value', 'employees', \"'\", 'opinions', '.'], ['Management', 'lacks', 'understanding', 'of', 'our', 'roles', '.'], ['Leadership', 'does', \"n't\", 'listen', 'to', 'our', 'concerns', '.'], ['Frequent', 'changes', 'in', 'direction', 'disrupt', 'our', 'work', '.'], ['Managers', 'do', \"n't\", 'recognize', 'our', 'achievements', '.'], ['Supervisors', 'provide', 'inconsistent', 'feedback', '.'], ['Leaders', 'are', 'more', 'concerned', 'about', 'blame', 'than', 'solutions', '.'], ['Management', 'does', \"n't\", 'provide', 'career', 'growth', 'opportunities', '.'], ['Lack', 'of', 'leadership', 'presence', 'and', 'involvement', '.'], ['Supervisors', 'do', \"n't\", 'provide', 'adequate', 'training', '.'], ['Management', 'plays', 'favorites', ',', 'affecting', 'promotions', '.'], ['Leaders', 'do', \"n't\", 'respect', 'our', 'work-life', 'balance', '.'], ['Micromanagement', 'causes', 'stress', 'and', 'frustration', '.'], ['Managers', 'make', 'decisions', 'without', 'consulting', 'us', '.'], ['Supervisors', 'do', \"n't\", 'offer', 'support', 'during', 'difficult', 'times', '.'], ['Leadership', 'is', 'not', 'transparent', 'about', 'company', 'changes', '.'], ['Management', 'does', \"n't\", 'address', 'our', 'concerns', '.'], ['Supervisors', 'lack', 'empathy', 'for', 'our', 'challenges', '.'], ['Leaders', 'do', \"n't\", 'consider', 'our', 'input', 'in', 'decisions', '.'], ['Micromanagement', 'negatively', 'impacts', 'our', 'creativity', '.'], ['Managers', 'lack', 'understanding', 'of', 'our', 'needs', '.'], ['Supervisors', 'do', \"n't\", 'advocate', 'for', 'necessary', 'resources', '.'], ['Leadership', \"'s\", 'lack', 'of', 'communication', 'causes', 'confusion', '.'], ['Management', \"'s\", 'lack', 'of', 'direction', 'hinders', 'productivity', '.'], ['Supervisors', 'do', \"n't\", 'value', 'our', 'time', 'and', 'effort', '.'], ['Leaders', 'focus', 'on', 'criticism', 'rather', 'than', 'development', '.'], ['Managers', 'create', 'unnecessary', 'bureaucracy', '.'], ['Supervisors', 'do', \"n't\", 'provide', 'clear', 'performance', 'expectations', '.'], ['Leadership', \"'s\", 'inconsistent', 'messages', 'confuse', 'us', '.'], ['Management', \"'s\", 'lack', 'of', 'support', 'adds', 'to', 'stress', '.'], ['Supervisors', 'do', \"n't\", 'provide', 'recognition', 'for', 'our', 'work', '.'], ['Leaders', 'do', \"n't\", 'foster', 'a', 'collaborative', 'environment', '.'], ['Micromanagement', 'erodes', 'trust', 'and', 'motivation', '.'], ['Managers', 'do', \"n't\", 'acknowledge', 'our', 'contributions', '.'], ['Supervisors', 'do', \"n't\", 'encourage', 'innovation', '.'], ['Leadership', \"'s\", 'decisions', 'seem', 'arbitrary', 'and', 'sudden', '.'], ['Management', 'does', \"n't\", 'address', 'conflicts', 'in', 'the', 'team', '.'], ['Supervisors', 'do', \"n't\", 'offer', 'growth', 'opportunities', '.'], ['Leadership', \"'s\", 'lack', 'of', 'clarity', 'leads', 'to', 'misunderstandings', '.'], ['Managers', 'do', \"n't\", 'lead', 'by', 'example', '.'], ['Supervisors', 'do', \"n't\", 'provide', 'enough', 'support', 'for', 'growth', '.'], ['Leaders', 'do', \"n't\", 'communicate', 'company', 'vision', 'effectively', '.'], ['Micromanagement', 'inhibits', 'our', 'problem-solving', 'skills', '.'], ['Management', \"'s\", 'lack', 'of', 'communication', 'affects', 'morale', '.'], ['Supervisors', 'do', \"n't\", 'provide', 'timely', 'feedback', '.'], ['Leadership', \"'s\", 'lack', 'of', 'empathy', 'affects', 'team', 'morale', '.'], ['Managers', 'do', \"n't\", 'prioritize', 'employee', 'development', '.'], ['Supervisors', 'do', \"n't\", 'promote', 'a', 'healthy', 'work', 'environment', '.'], ['Leadership', \"'s\", 'lack', 'of', 'appreciation', 'leads', 'to', 'demotivation', '.'], ['Management', \"'s\", 'unclear', 'expectations', 'hinder', 'our', 'progress', '.'], ['Supervisors', 'do', \"n't\", 'involve', 'us', 'in', 'decision-making', '.'], ['Leadership', \"'s\", 'lack', 'of', 'involvement', 'in', 'projects', 'is', 'noticeable', '.'], ['Micromanagement', 'causes', 'us', 'to', 'doubt', 'our', 'abilities', '.'], ['Management', \"'s\", 'favoritism', 'creates', 'a', 'divided', 'team', '.'], ['Supervisors', 'do', \"n't\", 'provide', 'opportunities', 'for', 'skill', 'growth', '.'], ['Leadership', \"'s\", 'lack', 'of', 'communication', 'causes', 'rumors', '.'], ['Managers', 'do', \"n't\", 'address', 'conflicts', 'within', 'the', 'team', '.'], ['Supervisors', 'do', \"n't\", 'value', 'work-life', 'balance', '.'], ['Leadership', \"'s\", 'inconsistency', 'affects', 'our', 'job', 'satisfaction', '.'], ['Management', \"'s\", 'lack', 'of', 'direction', 'creates', 'uncertainty', '.'], ['Supervisors', 'do', \"n't\", 'provide', 'recognition', 'for', 'hard', 'work', '.'], ['Leadership', \"'s\", 'lack', 'of', 'support', 'hinders', 'our', 'progress', '.'], ['Micromanagement', 'undermines', 'our', 'sense', 'of', 'ownership', '.'], ['Management', \"'s\", 'decision-making', 'lacks', 'transparency', '.'], ['Supervisors', 'do', \"n't\", 'address', 'our', 'concerns', 'effectively', '.'], ['Leadership', \"'s\", 'lack', 'of', 'accountability', 'affects', 'morale', '.'], ['Managers', 'do', \"n't\", 'offer', 'opportunities', 'for', 'advancement', '.'], ['Supervisors', 'do', \"n't\", 'encourage', 'open', 'communication', '.'], ['Leadership', \"'s\", 'lack', 'of', 'engagement', 'is', 'demotivating', '.'], ['Management', \"'s\", 'lack', 'of', 'feedback', 'stalls', 'our', 'growth', '.'], ['Supervisors', 'do', \"n't\", 'handle', 'conflicts', 'in', 'a', 'constructive', 'way', '.'], ['Leadership', \"'s\", 'favoritism', 'causes', 'resentment', '.'], ['Micromanagement', 'stifles', 'our', 'creativity', '.'], ['Managers', 'do', \"n't\", 'provide', 'proper', 'guidance', '.'], ['Supervisors', 'do', \"n't\", 'provide', 'adequate', 'support', 'during', 'challenges', '.'], ['Leadership', \"'s\", 'decisions', 'do', \"n't\", 'align', 'with', 'company', 'values', '.'], ['Management', \"'s\", 'lack', 'of', 'direction', 'affects', 'our', 'motivation', '.'], ['Supervisors', 'do', \"n't\", 'promote', 'a', 'collaborative', 'culture', '.'], ['Leadership', \"'s\", 'lack', 'of', 'transparency', 'fuels', 'uncertainty', '.'], ['Managers', 'do', \"n't\", 'appreciate', 'our', 'contributions', '.'], ['Supervisors', 'do', \"n't\", 'foster', 'a', 'sense', 'of', 'belonging', '.'], ['Leadership', \"'s\", 'lack', 'of', 'involvement', 'hampers', 'teamwork', '.'], ['Management', \"'s\", 'lack', 'of', 'understanding', 'affects', 'our', 'efficiency', '.'], ['Supervisors', 'do', \"n't\", 'provide', 'opportunities', 'for', 'learning', '.'], ['Leadership', \"'s\", 'lack', 'of', 'consistency', 'creates', 'confusion', '.'], ['Micromanagement', 'undermines', 'our', 'self-confidence', '.'], ['Managers', 'do', \"n't\", 'address', 'employee', 'concerns', 'effectively', '.'], ['Supervisors', 'do', \"n't\", 'advocate', 'for', 'fair', 'treatment', '.'], ['Leadership', \"'s\", 'lack', 'of', 'communication', 'causes', 'frustration', '.'], ['Management', \"'s\", 'lack', 'of', 'empathy', 'affects', 'team', 'morale', '.'], ['Supervisors', 'do', \"n't\", 'recognize', 'our', 'achievements', '.'], ['Leadership', \"'s\", 'decisions', 'do', \"n't\", 'reflect', 'employee', 'feedback', '.'], ['Micromanagement', 'affects', 'our', 'job', 'satisfaction', 'negatively', '.'], ['nan'], ['Lack', 'of', 'transparency', 'about', 'how', 'bonuses', 'are', 'determined', '.'], ['Benefits', 'package', 'does', \"n't\", 'cover', 'essential', 'needs', '.'], ['Gender', 'pay', 'gap', 'is', 'evident', 'in', 'our', 'salaries', '.'], ['Bonuses', 'are', 'infrequent', 'and', 'do', \"n't\", 'reflect', 'performance', '.'], ['Raises', 'are', 'minimal', 'and', 'do', \"n't\", 'keep', 'up', 'with', 'inflation', '.'], ['Benefits', 'offered', 'are', 'not', 'competitive', '.'], ['Salary', 'increases', 'are', 'often', 'denied', 'without', 'explanation', '.'], ['No', 'clear', 'link', 'between', 'performance', 'and', 'compensation', '.'], ['Leadership', 'earns', 'significantly', 'more', 'while', 'employees', 'struggle', '.'], ['Salary', 'negotiations', 'are', 'met', 'with', 'resistance', '.'], ['No', 'avenue', 'for', 'discussing', 'salary', 'disparities', '.'], ['No', 'provisions', 'for', 'recognizing', 'long-serving', 'employees', '.'], ['Raises', 'are', 'promised', 'but', 'never', 'materialize', '.'], ['Benefits', 'do', \"n't\", 'adequately', 'support', 'our', 'well-being', '.'], ['Company', 'fails', 'to', 'acknowledge', 'cost-of-living', 'increases', '.'], ['Raises', 'are', 'distributed', 'unevenly', 'across', 'departments', '.'], ['Benefits', 'package', 'has', \"n't\", 'been', 'updated', 'for', 'years', '.'], ['Lack', 'of', 'transparency', 'about', 'benefits', 'eligibility', '.'], ['Salaries', 'are', 'not', 'adjusted', 'for', 'inflation', 'or', 'market', 'trends', '.'], ['Bonuses', 'are', 'subject', 'to', 'subjective', 'evaluations', '.'], ['Benefits', 'do', \"n't\", 'cover', 'essential', 'healthcare', 'needs', '.'], ['Employees', 'with', 'similar', 'roles', 'receive', 'vastly', 'different', 'pay', '.'], ['Raises', 'are', 'tied', 'to', 'vague', 'performance', 'metrics', '.'], ['No', 'recognition', 'for', 'employees', \"'\", 'contributions', 'through', 'compensation', '.'], ['Bonuses', 'seem', 'arbitrary', 'and', 'without', 'clear', 'criteria', '.'], ['No', 'provisions', 'for', 'recognizing', 'exceptional', 'efforts', 'financially', '.'], ['Benefits', 'offered', 'lack', 'flexibility', 'for', 'diverse', 'needs', '.'], ['Raises', 'are', 'not', 'discussed', 'or', 'offered', 'proactively', '.'], ['Employees', 'are', 'struggling', 'to', 'make', 'ends', 'meet', 'due', 'to', 'low', 'salaries', '.'], ['nan'], ['Promotions', 'are', 'given', 'based', 'on', 'favoritism', '.'], ['No', 'mentorship', 'or', 'guidance', 'for', 'career', 'advancement', '.'], ['Lack', 'of', 'training', 'programs', 'for', 'skill', 'development', '.'], ['Career', 'paths', 'are', 'unclear', 'and', 'undefined', '.'], ['Promotions', 'are', 'based', 'on', 'politics', ',', 'not', 'merit', '.'], ['Career', 'growth', 'is', 'stagnant', 'due', 'to', 'lack', 'of', 'opportunities', '.'], ['No', 'investment', 'in', 'employees', \"'\", 'professional', 'development', '.'], ['Leadership', 'does', \"n't\", 'communicate', 'advancement', 'opportunities', '.'], ['No', 'clear', 'structure', 'for', 'upward', 'mobility', '.'], ['Promotions', 'are', 'rarely', 'based', 'on', 'performance', '.'], ['Leadership', 'does', \"n't\", 'foster', 'a', 'culture', 'of', 'learning', '.'], ['No', 'measures', 'in', 'place', 'to', 'track', 'employees', \"'\", 'progress', '.'], ['Career', 'development', 'initiatives', 'are', 'nonexistent', '.'], ['Employees', 'are', 'left', 'to', 'navigate', 'career', 'growth', 'on', 'their', 'own', '.'], ['Promotions', 'favor', 'external', 'hires', 'over', 'internal', 'talent', '.'], ['Lack', 'of', 'opportunities', 'to', 'learn', 'new', 'skills', '.'], ['Employees', 'do', \"n't\", 'receive', 'guidance', 'for', 'reaching', 'career', 'goals', '.'], ['Promotions', 'are', 'offered', 'without', 'proper', 'training', '.'], ['Leadership', 'does', \"n't\", 'recognize', 'potential', 'for', 'growth', '.'], ['Advancement', 'opportunities', 'are', 'not', 'communicated', '.'], ['No', 'provisions', 'for', 'employees', 'to', 'set', 'career', 'objectives', '.'], ['Leadership', 'does', \"n't\", 'encourage', 'employees', 'to', 'explore', 'new', 'roles', '.'], ['Promotions', 'are', 'based', 'on', 'seniority', 'rather', 'than', 'competence', '.'], ['No', 'recognition', 'for', 'employees', 'who', 'seek', 'professional', 'development', '.'], ['Leadership', 'does', \"n't\", 'value', 'employees', \"'\", 'aspirations', '.'], ['Promotion', 'criteria', 'are', 'unclear', 'and', 'inconsistent', '.'], ['No', 'structured', 'pathway', 'for', 'career', 'progression', '.'], ['Lack', 'of', 'access', 'to', 'career-related', 'workshops', 'or', 'seminars', '.'], ['Leadership', 'does', \"n't\", 'provide', 'guidance', 'on', 'skill', 'acquisition', '.'], ['Equipment', 'is', 'often', 'malfunctioning', 'or', 'outdated', '.'], ['Lack', 'of', 'proper', 'ventilation', 'affects', 'air', 'quality', '.'], ['Common', 'areas', 'are', 'not', 'well-maintained', '.'], ['No', 'designated', 'quiet', 'spaces', 'for', 'focused', 'work', '.'], ['Shared', 'workspaces', 'are', 'overcrowded', 'and', 'chaotic', '.'], ['Temperature', 'control', 'is', 'inconsistent', 'and', 'uncomfortable', '.'], ['Inadequate', 'privacy', 'for', 'confidential', 'discussions', '.'], ['Facilities', 'do', \"n't\", 'cater', 'to', 'employees', 'with', 'diverse', 'needs', '.'], ['Insufficient', 'meeting', 'rooms', 'for', 'team', 'collaboration', '.'], ['Office', 'layout', 'does', \"n't\", 'promote', 'creativity', 'or', 'well-being', '.'], ['No', 'provisions', 'for', 'ergonomic', 'furniture', '.'], ['Limited', 'access', 'to', 'natural', 'light', 'affects', 'our', 'well-being', '.'], ['Noise', 'levels', 'are', 'disruptive', 'and', 'affect', 'concentration', '.'], ['Facilities', 'are', 'not', 'properly', 'cleaned', 'or', 'sanitized', '.'], ['Inadequate', 'spaces', 'for', 'employees', 'to', 'relax', 'or', 'recharge', '.'], ['Equipment', 'repairs', 'are', 'slow', ',', 'affecting', 'productivity', '.'], ['Physical', 'discomfort', 'due', 'to', 'poor', 'office', 'conditions', '.'], ['Common', 'spaces', 'are', 'neglected', 'and', 'uninviting', '.'], ['Office', 'setup', 'does', \"n't\", 'accommodate', 'different', 'work', 'styles', '.'], ['Insufficient', 'break', 'areas', 'for', 'employees', 'to', 'unwind', '.'], ['Facilities', 'lack', 'proper', 'accessibility', 'features', '.'], ['Work', 'environment', 'negatively', 'impacts', 'morale', 'and', 'motivation', '.'], ['The', 'office', 'is', 'too', 'noisy', 'for', 'focused', 'work', '.'], ['Facilities', 'are', 'outdated', 'and', 'uncomfortable', '.'], ['Cleanliness', 'and', 'maintenance', 'are', 'neglected', '.'], ['Insufficient', 'space', 'for', 'collaboration', 'or', 'individual', 'work', '.'], ['Resources', 'needed', 'for', 'tasks', 'are', 'lacking', '.'], ['Unpleasant', 'odors', 'and', 'poor', 'lighting', 'affect', 'comfort', '.'], ['Office', 'layout', 'hampers', 'efficient', 'work', 'processes', '.'], ['Constant', 'interruptions', 'hinder', 'productivity', '.'], ['Equipment', 'is', 'often', 'malfunctioning', 'or', 'outdated', '.'], ['Lack', 'of', 'proper', 'ventilation', 'affects', 'air', 'quality', '.'], ['Common', 'areas', 'are', 'not', 'well-maintained', '.'], ['No', 'designated', 'quiet', 'spaces', 'for', 'focused', 'work', '.'], ['Shared', 'workspaces', 'are', 'overcrowded', 'and', 'chaotic', '.'], ['Temperature', 'control', 'is', 'inconsistent', 'and', 'uncomfortable', '.'], ['Inadequate', 'privacy', 'for', 'confidential', 'discussions', '.'], ['Facilities', 'do', \"n't\", 'cater', 'to', 'employees', 'with', 'diverse', 'needs', '.'], ['Insufficient', 'meeting', 'rooms', 'for', 'team', 'collaboration', '.'], ['Office', 'layout', 'does', \"n't\", 'promote', 'creativity', 'or', 'well-being', '.'], ['No', 'provisions', 'for', 'ergonomic', 'furniture', '.'], ['Limited', 'access', 'to', 'natural', 'light', 'affects', 'our', 'well-being', '.'], ['Noise', 'levels', 'are', 'disruptive', 'and', 'affect', 'concentration', '.'], ['Facilities', 'are', 'not', 'properly', 'cleaned', 'or', 'sanitized', '.'], ['Inadequate', 'spaces', 'for', 'employees', 'to', 'relax', 'or', 'recharge', '.'], ['Equipment', 'repairs', 'are', 'slow', ',', 'affecting', 'productivity', '.'], ['Physical', 'discomfort', 'due', 'to', 'poor', 'office', 'conditions', '.'], ['Common', 'spaces', 'are', 'neglected', 'and', 'uninviting', '.'], ['Office', 'setup', 'does', \"n't\", 'accommodate', 'different', 'work', 'styles', '.'], ['Insufficient', 'break', 'areas', 'for', 'employees', 'to', 'unwind', '.'], ['Facilities', 'lack', 'proper', 'accessibility', 'features', '.'], ['Work', 'environment', 'negatively', 'impacts', 'morale', 'and', 'motivation', '.'], ['New', 'hires', 'are', 'left', 'to', 'figure', 'out', 'tasks', 'without', 'proper', 'training', '.'], ['No', 'support', 'for', 'employees', 'to', 'learn', 'new', 'software', 'or', 'tools', '.'], ['Lack', 'of', 'opportunities', 'for', 'cross-training', 'in', 'different', 'departments', '.'], ['Skills', 'gap', 'due', 'to', 'outdated', 'training', 'materials', '.'], ['Employees', 'struggle', 'to', 'keep', 'up', 'with', 'industry', 'trends', '.'], ['Management', 'does', \"n't\", 'invest', 'in', 'professional', 'certifications', '.'], ['No', 'provision', 'for', 'ongoing', 'skill', 'development', '.'], ['Lack', 'of', 'structured', 'training', 'programs', 'for', 'career', 'growth', '.'], ['Leadership', 'does', \"n't\", 'prioritize', 'investing', 'in', 'employee', 'education', '.'], ['Competitors', 'offer', 'better', 'opportunities', 'for', 'skill', 'enhancement', '.'], ['Employees', 'are', \"n't\", 'aware', 'of', 'available', 'training', 'resources', '.'], ['No', 'encouragement', 'for', 'employees', 'to', 'attend', 'relevant', 'workshops', '.'], ['Lack', 'of', 'budget', 'allocated', 'for', 'employee', 'training', '.'], ['Training', 'materials', 'are', 'outdated', 'and', 'not', 'effective', '.'], ['Leadership', 'does', \"n't\", 'support', 'employees', \"'\", 'pursuit', 'of', 'advanced', 'degrees', '.'], ['No', 'clear', 'plan', 'for', 'developing', 'employees', \"'\", 'leadership', 'skills', '.'], ['Lack', 'of', 'mentorship', 'for', 'employees', 'looking', 'to', 'advance', '.'], ['Employees', 'feel', 'stagnant', 'due', 'to', 'lack', 'of', 'new', 'challenges', '.'], ['Company', 'culture', 'does', \"n't\", 'value', 'continuous', 'learning', '.'], ['Opportunities', 'for', 'personal', 'and', 'professional', 'growth', 'are', 'limited', '.'], ['Leadership', 'does', \"n't\", 'recognize', 'the', 'importance', 'of', 'skill', 'development', '.'], ['No', 'pathways', 'for', 'employees', 'to', 'move', 'into', 'specialized', 'roles', '.'], ['Training', 'programs', 'are', 'sporadic', 'and', 'inconsistent', '.'], ['Lack', 'of', 'skill', 'development', 'leads', 'to', 'decreased', 'motivation', '.'], ['Leadership', 'does', \"n't\", 'provide', 'guidance', 'for', 'career', 'advancement', '.'], ['Company', 'fails', 'to', 'adapt', 'to', 'industry', 'changes', 'in', 'training', '.'], ['Employees', 'do', \"n't\", 'receive', 'feedback', 'on', 'their', 'development', 'goals', '.'], ['No', 'investment', 'in', 'leadership', 'development', 'programs', '.'], ['Lack', 'of', 'training', 'leads', 'to', 'mistakes', 'and', 'inefficiencies', '.'], ['Leadership', 'does', \"n't\", 'set', 'clear', 'expectations', 'for', 'skill', 'improvement', '.'], ['No', 'recognition', 'for', 'employees', 'who', 'seek', 'self-improvement', '.'], ['Opportunities', 'for', 'professional', 'networking', 'are', 'scarce', '.'], ['Lack', 'of', 'on-the-job', 'training', 'for', 'new', 'tasks', '.'], ['Leadership', 'does', \"n't\", 'offer', 'financial', 'support', 'for', 'skill', 'enhancement', '.'], ['No', 'pathways', 'for', 'employees', 'to', 'transition', 'to', 'different', 'roles', '.'], ['Employees', 'do', \"n't\", 'receive', 'guidance', 'on', 'improving', 'weaknesses', '.'], ['Lack', 'of', 'training', 'leads', 'to', 'frustration', 'and', 'burnout', '.'], ['Leadership', 'does', \"n't\", 'provide', 'resources', 'for', 'self-study', '.'], ['No', 'structure', 'for', 'mentoring', 'junior', 'employees', '.'], ['Employees', 'are', 'unsure', 'about', 'potential', 'career', 'trajectories', '.'], ['Lack', 'of', 'opportunities', 'for', 'employees', 'to', 'attend', 'industry', 'events', '.'], ['Leadership', \"'s\", 'lack', 'of', 'support', 'for', 'employee', 'skill', 'development', '.'], ['Company', 'culture', 'does', \"n't\", 'encourage', 'seeking', 'new', 'knowledge', '.'], ['Employees', \"'\", 'skill', 'gaps', 'hinder', 'team', 'performance', '.'], ['Lack', 'of', 'training', 'opportunities', 'affects', 'our', 'competitiveness', '.'], ['Leadership', 'does', \"n't\", 'understand', 'the', 'importance', 'of', 'training', '.'], ['No', 'recognition', 'for', 'employees', 'who', 'pursue', 'self-education', '.'], ['Opportunities', 'for', 'skill', 'development', 'are', 'scarce', '.'], ['Lack', 'of', 'specialized', 'training', 'affects', 'our', 'ability', 'to', 'innovate', '.'], ['Employees', 'feel', 'unsupported', 'in', 'their', 'learning', 'efforts', '.'], ['No', 'avenues', 'for', 'seeking', 'guidance', 'on', 'career', 'growth', '.'], ['Lack', 'of', 'training', 'affects', 'our', 'ability', 'to', 'meet', 'project', 'goals', '.'], ['Leadership', \"'s\", 'lack', 'of', 'involvement', 'in', 'employee', 'development', '.'], ['Employees', 'are', 'left', 'to', 'fill', 'knowledge', 'gaps', 'on', 'their', 'own', '.'], ['No', 'budget', 'allocation', 'for', 'employee', 'certification', 'programs', '.'], ['Lack', 'of', 'training', 'leads', 'to', 'turnover', 'due', 'to', 'lack', 'of', 'growth', '.'], ['Opportunities', 'for', 'learning', 'new', 'technologies', 'are', 'lacking', '.'], ['Leadership', 'does', \"n't\", 'offer', 'mentorship', 'for', 'skill', 'improvement', '.'], ['Employees', 'feel', 'stagnated', 'in', 'their', 'current', 'roles', '.'], ['No', 'clear', 'plan', 'for', 'employees', 'to', 'transition', 'into', 'leadership', 'roles', '.'], ['Lack', 'of', 'training', 'negatively', 'impacts', 'customer', 'satisfaction', '.'], ['Leadership', \"'s\", 'lack', 'of', 'awareness', 'about', 'skill', 'gaps', '.'], ['Employees', 'lack', 'guidance', 'on', 'setting', 'professional', 'goals', '.'], ['No', 'recognition', 'for', 'employees', 'who', 'excel', 'through', 'self-study', '.'], ['Lack', 'of', 'training', 'leads', 'to', 'inefficiencies', 'and', 'errors', '.'], ['Opportunities', 'for', 'job', 'rotation', 'and', 'diversification', 'are', 'absent', '.'], ['Leadership', 'does', \"n't\", 'recognize', 'employees', \"'\", 'aspirations', 'for', 'growth', '.'], ['Employees', 'feel', 'unsupported', 'in', 'their', 'pursuit', 'of', 'skill', 'enhancement', '.'], ['No', 'structured', 'program', 'for', 'mentoring', 'new', 'employees', '.'], ['Lack', 'of', 'training', 'programs', 'affects', 'our', 'competitiveness', '.']]\n"
     ]
    }
   ],
   "source": [
    "from nltk.tokenize import word_tokenize\n",
    "i=0\n",
    "all_tokens = []\n",
    "for report in df['Report']:\n",
    "  proto=word_tokenize(str(report))\n",
    "  all_tokens.append(proto)\n",
    "print(all_tokens)"
   ],
   "metadata": {
    "collapsed": false
   }
  },
  {
   "cell_type": "code",
   "execution_count": 93,
   "outputs": [
    {
     "name": "stdout",
     "output_type": "stream",
     "text": [
      "                                                Tokens\n",
      "0    [I, never, receive, clear, instructions, for, ...\n",
      "1    [Updates, from, management, are, inconsistent,...\n",
      "2    [I, often, misunderstand, what, 's, expected, ...\n",
      "3    [Important, information, is, never, shared, on...\n",
      "4    [My, queries, go, unanswered, ,, making, it, h...\n",
      "..                                                 ...\n",
      "477  [Opportunities, for, job, rotation, and, diver...\n",
      "478  [Leadership, does, n't, recognize, employees, ...\n",
      "479  [Employees, feel, unsupported, in, their, purs...\n",
      "480  [No, structured, program, for, mentoring, new,...\n",
      "481  [Lack, of, training, programs, affects, our, c...\n",
      "\n",
      "[482 rows x 1 columns]\n"
     ]
    }
   ],
   "source": [
    "df_token = pd.DataFrame({'Tokens': all_tokens})\n",
    "\n",
    "# print the DataFrame\n",
    "print(df_token)"
   ],
   "metadata": {
    "collapsed": false
   }
  },
  {
   "cell_type": "code",
   "execution_count": 94,
   "outputs": [
    {
     "data": {
      "text/plain": "                                Genre  \\\n0                Communication Issues   \n1                Communication Issues   \n2                Communication Issues   \n3                Communication Issues   \n4                Communication Issues   \n..                                ...   \n477  Lack of training and development   \n478  Lack of training and development   \n479  Lack of training and development   \n480  Lack of training and development   \n481  Lack of training and development   \n\n                                                Report  \\\n0     I never receive clear instructions for my tasks.   \n1    Updates from management are inconsistent and c...   \n2    I often misunderstand what's expected due to v...   \n3       Important information is never shared on time.   \n4    My queries go unanswered, making it hard to pr...   \n..                                                 ...   \n477  Opportunities for job rotation and diversifica...   \n478  Leadership doesn't recognize employees' aspira...   \n479  Employees feel unsupported in their pursuit of...   \n480  No structured program for mentoring new employ...   \n481  Lack of training programs affects our competit...   \n\n                                               Reports  \\\n0      I never receive clear instructions for my tasks   \n1    Updates from management are inconsistent and c...   \n2    I often misunderstand whats expected due to va...   \n3        Important information is never shared on time   \n4    My queries go unanswered making it hard to pro...   \n..                                                 ...   \n477  Opportunities for job rotation and diversifica...   \n478  Leadership doesnt recognize employees aspirati...   \n479  Employees feel unsupported in their pursuit of...   \n480  No structured program for mentoring new employees   \n481  Lack of training programs affects our competit...   \n\n                                             Tokenized  \n0    [I, never, receive, clear, instructions, for, ...  \n1    [Updates, from, management, are, inconsistent,...  \n2    [I, often, misunderstand, what, 's, expected, ...  \n3    [Important, information, is, never, shared, on...  \n4    [My, queries, go, unanswered, ,, making, it, h...  \n..                                                 ...  \n477  [Opportunities, for, job, rotation, and, diver...  \n478  [Leadership, does, n't, recognize, employees, ...  \n479  [Employees, feel, unsupported, in, their, purs...  \n480  [No, structured, program, for, mentoring, new,...  \n481  [Lack, of, training, programs, affects, our, c...  \n\n[482 rows x 4 columns]",
      "text/html": "<div>\n<style scoped>\n    .dataframe tbody tr th:only-of-type {\n        vertical-align: middle;\n    }\n\n    .dataframe tbody tr th {\n        vertical-align: top;\n    }\n\n    .dataframe thead th {\n        text-align: right;\n    }\n</style>\n<table border=\"1\" class=\"dataframe\">\n  <thead>\n    <tr style=\"text-align: right;\">\n      <th></th>\n      <th>Genre</th>\n      <th>Report</th>\n      <th>Reports</th>\n      <th>Tokenized</th>\n    </tr>\n  </thead>\n  <tbody>\n    <tr>\n      <th>0</th>\n      <td>Communication Issues</td>\n      <td>I never receive clear instructions for my tasks.</td>\n      <td>I never receive clear instructions for my tasks</td>\n      <td>[I, never, receive, clear, instructions, for, ...</td>\n    </tr>\n    <tr>\n      <th>1</th>\n      <td>Communication Issues</td>\n      <td>Updates from management are inconsistent and c...</td>\n      <td>Updates from management are inconsistent and c...</td>\n      <td>[Updates, from, management, are, inconsistent,...</td>\n    </tr>\n    <tr>\n      <th>2</th>\n      <td>Communication Issues</td>\n      <td>I often misunderstand what's expected due to v...</td>\n      <td>I often misunderstand whats expected due to va...</td>\n      <td>[I, often, misunderstand, what, 's, expected, ...</td>\n    </tr>\n    <tr>\n      <th>3</th>\n      <td>Communication Issues</td>\n      <td>Important information is never shared on time.</td>\n      <td>Important information is never shared on time</td>\n      <td>[Important, information, is, never, shared, on...</td>\n    </tr>\n    <tr>\n      <th>4</th>\n      <td>Communication Issues</td>\n      <td>My queries go unanswered, making it hard to pr...</td>\n      <td>My queries go unanswered making it hard to pro...</td>\n      <td>[My, queries, go, unanswered, ,, making, it, h...</td>\n    </tr>\n    <tr>\n      <th>...</th>\n      <td>...</td>\n      <td>...</td>\n      <td>...</td>\n      <td>...</td>\n    </tr>\n    <tr>\n      <th>477</th>\n      <td>Lack of training and development</td>\n      <td>Opportunities for job rotation and diversifica...</td>\n      <td>Opportunities for job rotation and diversifica...</td>\n      <td>[Opportunities, for, job, rotation, and, diver...</td>\n    </tr>\n    <tr>\n      <th>478</th>\n      <td>Lack of training and development</td>\n      <td>Leadership doesn't recognize employees' aspira...</td>\n      <td>Leadership doesnt recognize employees aspirati...</td>\n      <td>[Leadership, does, n't, recognize, employees, ...</td>\n    </tr>\n    <tr>\n      <th>479</th>\n      <td>Lack of training and development</td>\n      <td>Employees feel unsupported in their pursuit of...</td>\n      <td>Employees feel unsupported in their pursuit of...</td>\n      <td>[Employees, feel, unsupported, in, their, purs...</td>\n    </tr>\n    <tr>\n      <th>480</th>\n      <td>Lack of training and development</td>\n      <td>No structured program for mentoring new employ...</td>\n      <td>No structured program for mentoring new employees</td>\n      <td>[No, structured, program, for, mentoring, new,...</td>\n    </tr>\n    <tr>\n      <th>481</th>\n      <td>Lack of training and development</td>\n      <td>Lack of training programs affects our competit...</td>\n      <td>Lack of training programs affects our competit...</td>\n      <td>[Lack, of, training, programs, affects, our, c...</td>\n    </tr>\n  </tbody>\n</table>\n<p>482 rows × 4 columns</p>\n</div>"
     },
     "execution_count": 94,
     "metadata": {},
     "output_type": "execute_result"
    }
   ],
   "source": [
    "df['Tokenized']=all_tokens\n",
    "df"
   ],
   "metadata": {
    "collapsed": false
   }
  },
  {
   "cell_type": "markdown",
   "source": [
    "Remove Stopwords"
   ],
   "metadata": {
    "collapsed": false
   }
  },
  {
   "cell_type": "markdown",
   "source": [
    "Download ready-to-use stop words from nltk library"
   ],
   "metadata": {
    "collapsed": false
   }
  },
  {
   "cell_type": "code",
   "execution_count": 95,
   "outputs": [
    {
     "name": "stderr",
     "output_type": "stream",
     "text": [
      "[nltk_data] Downloading package stopwords to\n",
      "[nltk_data]     /Users/oumaymabamoh/nltk_data...\n",
      "[nltk_data]   Package stopwords is already up-to-date!\n"
     ]
    },
    {
     "data": {
      "text/plain": "True"
     },
     "execution_count": 95,
     "metadata": {},
     "output_type": "execute_result"
    }
   ],
   "source": [
    "import nltk\n",
    "nltk.download('stopwords')"
   ],
   "metadata": {
    "collapsed": false
   }
  },
  {
   "cell_type": "code",
   "execution_count": 96,
   "outputs": [
    {
     "name": "stdout",
     "output_type": "stream",
     "text": [
      "['i', 'me', 'my', 'myself', 'we', 'our', 'ours', 'ourselves', 'you', \"you're\", \"you've\", \"you'll\", \"you'd\", 'your', 'yours', 'yourself', 'yourselves', 'he', 'him', 'his', 'himself', 'she', \"she's\", 'her', 'hers', 'herself', 'it', \"it's\", 'its', 'itself', 'they', 'them', 'their', 'theirs', 'themselves', 'what', 'which', 'who', 'whom', 'this', 'that', \"that'll\", 'these', 'those', 'am', 'is', 'are', 'was', 'were', 'be', 'been', 'being', 'have', 'has', 'had', 'having', 'do', 'does', 'did', 'doing', 'a', 'an', 'the', 'and', 'but', 'if', 'or', 'because', 'as', 'until', 'while', 'of', 'at', 'by', 'for', 'with', 'about', 'against', 'between', 'into', 'through', 'during', 'before', 'after', 'above', 'below', 'to', 'from', 'up', 'down', 'in', 'out', 'on', 'off', 'over', 'under', 'again', 'further', 'then', 'once', 'here', 'there', 'when', 'where', 'why', 'how', 'all', 'any', 'both', 'each', 'few', 'more', 'most', 'other', 'some', 'such', 'no', 'nor', 'not', 'only', 'own', 'same', 'so', 'than', 'too', 'very', 's', 't', 'can', 'will', 'just', 'don', \"don't\", 'should', \"should've\", 'now', 'd', 'll', 'm', 'o', 're', 've', 'y', 'ain', 'aren', \"aren't\", 'couldn', \"couldn't\", 'didn', \"didn't\", 'doesn', \"doesn't\", 'hadn', \"hadn't\", 'hasn', \"hasn't\", 'haven', \"haven't\", 'isn', \"isn't\", 'ma', 'mightn', \"mightn't\", 'mustn', \"mustn't\", 'needn', \"needn't\", 'shan', \"shan't\", 'shouldn', \"shouldn't\", 'wasn', \"wasn't\", 'weren', \"weren't\", 'won', \"won't\", 'wouldn', \"wouldn't\"]\n"
     ]
    }
   ],
   "source": [
    "from nltk.corpus import stopwords\n",
    "print(stopwords.words('english'))"
   ],
   "metadata": {
    "collapsed": false
   }
  },
  {
   "cell_type": "code",
   "execution_count": 97,
   "outputs": [],
   "source": [
    "new_stopwords=['I', 'me', 'my','My', 'myself', 'we', 'our', 'ours', 'ourselves', 'you', \"you're\", \"you've\", \"you'll\", \"you'd\", 'your', 'yours', 'yourself', 'yourselves', 'he', 'him', 'his', 'himself', 'she', \"she's\", 'her', 'hers', 'herself', 'it', \"it's\", 'its', 'itself', 'they', 'them', 'their', 'theirs', 'themselves', 'what', 'which', 'who', 'whom', 'this', 'that', \"that'll\", 'these', 'those', 'am', 'is', 'are', 'was', 'were', 'be', 'been', 'being', 'have', 'has', 'had', 'having', 'do', 'does', 'did', 'doing', 'a', 'an', 'the', 'and', 'but', 'if', 'or', 'because', 'as', 'until', 'while', 'of', 'at', 'by', 'for', 'with', 'about', 'against', 'between', 'into', 'through', 'during', 'before', 'after', 'above', 'below', 'to', 'from', 'up', 'down', 'in', 'out', 'on', 'off', 'over', 'under', 'again', 'further', 'then', 'once', 'here', 'there', 'when', 'where', 'why', 'how', 'all', 'any', 'both', 'each', 'few', 'more', 'most', 'other', 'some', 'such', 'no', 'nor', 'not', 'only', 'own', 'same', 'so', 'than', 'too', 'very', 's', 't', 'can', 'will', 'just', 'don', \"don't\", 'should', \"should've\", 'now', 'd', 'll', 'm', 'o', 're', 've', 'y', 'ain', 'aren', \"aren't\", 'couldn', \"couldn't\", \"I'm\", 'didn', \"didn't\", 'doesn', \"doesn't\", 'hadn', \"hadn't\", 'hasn', \"hasn't\", 'haven', \"haven't\", 'isn', \"isn't\", 'ma', 'mightn', \"mightn't\", 'mustn', \"mustn't\", 'needn', \"needn't\", 'shan', \"shan't\", 'shouldn',\"we're\" \"shouldn't\", 'wasn', \"wasn't\", 'weren', \"weren't\", 'won', \"won't\", 'wouldn', \"wouldn't\", \"ke\", \"keep\", \"keeps\", \"kept\", \"keys\", \"kg\", \"kh\", \"ki\", \"kind\", \"km\", \"kn\", \"knew\", \"know\", \"known\", \"knows\", \"kp\", \"kr\", \"kw\", \"ky\", \"kz\", \"l\", \"la\", \"large\", \"largely\", \"last\", \"lately\", \"later\", \"latest\", \"latter\", \"latterly\", \"lb\", \"lc\", \"least\", \"length\", \"less\", \"lest\", \"let\", \"let\", \"lets\", \"li\", \"like\", \"liked\", \"likely\", \"likewise\", \"line\", \"little\", \"lk\", \"ll\", \"long\", \"longer\", \"longest\", \"look\", \"looking\", \"looks\", \"low\", \"lower\", \"lr\", \"ls\", \"lt\", \"ltd\", \"lu\", \"lv\", \"ly\", \"m\", \"ma\", \"made\", \"mainly\", \"make\", \"makes\", \"making\", \"man\", \"many\", \"may\", \"maybe\", \"mayn't\", \"maynt\", \"mc\", \"md\", \"me\", \"mean\", \"means\", \"meantime\", \"meanwhile\", \"member\", \"members\", \"men\", \"merely\", \"mg\", \"mh\", \"microsoft\", \"might\", \"mightve\", \"mightnt\", \"mightnt\", \"mil\", \"mill\", \"million\", \"mine\", \"minus\", \"miss\", \"mk\", \"ml\", \"mm\", \"mn\", \"mo\", \"more\", \"moreover\", \"most\", \"mostly\", \"move\", \"mp\", \"mq\", \"mr\", \"mrs\", \"ms\", \"msie\", \"mt\", \"mu\", \"much\", \"mug\", \"must\", \"must've\", \"mustn't\", \"mustnt\", \"mv\", \"mw\", \"mx\", \"my\", \"myself\", \"myse\", \"mz\", \"n\", \"na\", \"name\", \"namely\", \"nay\", \"nc\", \"nd\", \"ne\", \"near\", \"nearly\", \"necessarily\", \"necessary\", \"need\", \"needed\", \"needing\", \"needn't\", \"neednt\", \"needs\", \"neither\", \"net\", \"netscape\", \"never\", \"neverf\", \"neverless\", \"nevertheless\", \"new\", \"newer\", \"newest\", \"next\", \"nf\", \"ng\", \"ni\", \"nine\", \"ninety\", \"nl\", \"no\", \"no-one\", \"nobody\", \"non\", \"none\", \"nonetheless\", \"noone\", \"nor\", \"normally\", \"nos\", \"not\", \"noted\", \"nothing\", \"notwithstanding\", \"novel\", \"now\", \"nowhere\", \"np\", \"nr\", \"nu\", \"null\", \"number\", \"numbers\", \"nz\", \"o\", \"obtain\", \"obtained\", \"obviously\", \"of\", \"off\", \"often\", \"oh\", \"ok\", \"okay\", \"old\", \"older\", \"oldest\", \"om\", \"omitted\", \"on\", \"once\", \"one\", \"one's\", \"ones\", \"only\", \"onto\", \"open\", \"opened\", \"opening\", \"opens\", \"opposite\", 'or', \"ord\", \"order\", \"ordered\", \"ordering\", \"orders\", \"org\", \"other\", \"others\", \"otherwise\", \"ought\", \"oughtnt\", \"oughtnt\", \"our\",\n",
    "\"Sarah\",\"ua\", \"ug\", \"uk\", \"um\", \"un\", \"under\", \"underneath\", \"undoing\", \"unfortunately\", \"unless\", \"unlike\", \"unlikely\", \"until\", \"unto\", \"up\", \"upon\", \"ups\", \"upwards\", \"us\", \"use\", \"used\", \"useful\", \"usefully\", \"usefulness\", \"uses\", \"using\", \"usually\", \"ut\", \"v\", \"va\", \"value\", \"various\", \"vd\", \"ve\", \"versus\", \"very\", \"via\", \"viz\", \"vn\", \"vol\", \"vols\", \"vs\", \"w\", \"want\", \"wanted\", \"wanting\", \"wants\", \"was\", \"wasn't\", \"wasnt\", \"way\", \"ways\", \"we\", \"we'd\", \"we'll\", \"we're\", \"we've\", \"web\", \"webpage\", \"website\", \"wed\", \"welcome\", \"well\", \"wells\", \"went\", \"were\", \"weren't\", \"werent\", \"weve\", \"wf\", \"what\", \"what'll\", \"what's\", \"what've\", \"whatever\", \"whats\", \"when\", \"whence\", \"whenever\", \"where\", \"where's\", \"whereafter\", \"whereas\", \"whereby\", \"wherein\", \"wheres\", \"whereupon\", \"wherever\", \"whether\", \"which\", \"whichever\", \"while\", \"whilst\", \"whim\", \"whither\", \"who\", \"who'd\", \"who'll\", \"who's\", \"whod\", \"whoever\", \"whole\", \"wholl\", \"whom\", \"whomever\", \"whos\", \"whose\", \"why\", \"widely\", \"width\", \"will\", \"willing\", \"wish\", \"with\", \"within\", \"without\", \"won't\", \"wont\", \"words\", \"work\", \"worked\", \"working\", \"works\", \"world\", \"would\", \"would've\", \"wouldn't\", \"wouldnt\", \"www\", \"x\", \"y\", \"ye\", \"year\", \"years\", \"yes\", \"yet\", \"you\", \"you'd\", \"you'll\", \"you're\", \"you've\", \"youd\", \"youll\", \"your\", \"youre\", \"yours\", \"yourself\", \"yourselves\", \"youve\", \"yt\", \"yu\", \"z\", \"za\", \"zero\",\n",
    "\"Shereen\",\n",
    "\"Tarek\",\n",
    "\"Yasmine\",\"'ll\", \"'tis\", \"'twas\", \"'ve\", \"10\", \"39\", \"a\", \"a's\", \"able\", \"ableabout\", \"about\", \"above\", \"abroad\", \"abst\", \"accordance\", \"according\", \"accordingly\", \"across\", \"act\", \"actually\", \"ad\", \"added\", \"adj\", \"adopted\", \"ae\", \"af\", \"affected\", \"affecting\", \"affects\", \"after\", \"afterwards\", \"ag\", \"again\", \"against\", \"ago\", \"ah\", \"ahead\", \"ai\", \"ain't\", \"aint\", \"al\", \"all\", \"allow\", \"allows\", \"almost\", \"alone\", \"along\", \"alongside\", \"already\", \"also\", \"although\", \"always\", \"am\", \"amid\", \"amidst\", \"among\", \"amongst\", \"amoungst\", \"amount\", \"an\", \"and\", \"announce\", \"another\", \"any\", \"anybody\", \"anyhow\", \"anymore\", \"anyone\", \"anything\", \"anyway\", \"anyways\", \"anywhere\", \"ao\", \"apart\", \"apparently\", \"appear\", \"appreciate\", \"appropriate\", \"approximately\", \"aq\", \"ar\", \"are\", \"area\", \"areas\", \"aren\", \"aren't\", \"arent\", \"arise\", \"around\", \"arpa\", \"as\", \"aside\", \"ask\", \"asked\", \"asking\", \"asks\", \"associated\", \"at\", \"au\", \"auth\", \"available\", \"aw\", \"away\", \"awfully\", \"az\", \"b\", \"ba\", \"back\", \"backed\", \"backing\", \"backs\", \"backward\", \"backwards\", \"bb\", \"bd\", \"be\", \"became\", \"because\", \"become\", \"becomes\", \"becoming\", \"been\", \"before\", \"beforehand\", \"began\", \"begin\", \"beginning\", \"beginnings\", \"begins\", \"behind\", \"being\", \"beings\", \"believe\", \"below\", \"beside\", \"besides\", \"best\", \"better\", \"between\", \"beyond\", \"bf\", \"bg\", \"bh\", \"bi\", \"big\", \"bill\", \"billion\", \"biol\", \"bj\", \"bm\", \"bn\", \"bo\", \"both\", \"bottom\", \"br\", \"brief\", \"briefly\", \"bs\", \"bt\", \"but\", \"buy\", \"bv\", \"bw\", \"by\", \"bz\", \"c\", \"c'mon\", \"c's\", \"ca\", \"call\", \"came\", \"can\", \"can't\", \"cannot\", \"cant\", \"caption\", \"case\", \"cases\", \"cause\", \"causes\", \"cc\", \"cd\", \"certain\", \"certainly\", \"cf\", \"cg\", \"ch\", \"changes\", \"ci\", \"ck\", \"cl\", \"clear\", \"clearly\", \"click\", \"cm\", \"cmon\", \"cn\", \"co\", \"co.\", \"com\", \"come\", \"comes\", \"computer\", \"con\", \"concerning\", \"consequently\", \"consider\", \"considering\", \"contain\", \"containing\", \"contains\", \"copy\", \"corresponding\", \"could\", \"could've\", \"couldn\", \"couldn't\", \"couldnt\", \"course\", \"cr\", \"cry\", \"cs\", \"cu\", \"currently\", \"cv\", \"cx\", \"cy\", \"cz\",\n",
    "\"Yasser\",\"d\",\"dare\",\"daren't\",\"darent\",\"date\",\"de\",\"dear\",\"definitely\",\"describe\",\"described\",\"despite\",\"detail\",\"did\",\"didn\",\"didn't\",\"didnt\",\"differ\",\"different\",\"differently\",\"directly\",\"dj\",\"dk\",\"dm\",\"do\",\"does\",\"doesn\",\"doesn't\",\"doesnt\",\"doing\",\"don\",\"don't\",\"done\",\"dont\",\"doubtful\",\"down\",\"downed\",\"downing\",\"downs\",\"downwards\",\"due\",\"during\",\"dz\",\"e\",\"each\",\"early\",\"ec\",\"ed\",\"edu\",\"ee\",\"effect\",\"eg\",\"eh\",\"eight\",\"eighty\",\"either\",\"eleven\",\"else\",\"elsewhere\",\"empty\",\"end\",\"ended\",\"ending\",\"ends\",\"enough\",\"entirely\",\"er\",\"es\",\"especially\",\"et\",\"et-al\",\"etc\",\"even\",\"evenly\",\"ever\",\"evermore\",\"every\",\"everybody\",\"everyone\",\"everything\",\"everywhere\",\"ex\",\"exactly\",\"example\",\"except\",\"f\",\"face\",\"faces\",\"fact\",\"facts\",\"fairly\",\"far\",\"farther\",\"felt\",\"few\",\"fewer\",\"ff\",\"fi\",\"fifteen\",\"fifth\",\"fifty\",\"fify\",\"fill\",\"find\",\"finds\",\"fire\",\"first\",\"five\",\"fix\",\"fj\",\"fk\",\"fm\",\"fo\",\"followed\",\"following\",\"follows\",\"for\",\"forever\",\"former\",\"formerly\",\"forth\",\"forty\",\"forward\",\"found\",\"four\",\"fr\",\"free\",\"from\",\"front\",\"full\",\"fully\",\"further\",\"furthered\",\"furthering\",\"furthermore\",\"furthers\",\"fx\",\"g\",\"ga\",\"gave\",\"gb\",\"gd\",\"ge\",\"general\",\"generally\",\"get\",\"gets\",\"getting\",\"gf\",\"gg\",\"gh\",\"gi\",\"give\",\"given\",\"gives\",\"giving\",\"gl\",\"gm\",\"gmt\",\"gn\",\"go\",\"goes\",\"going\",\"gone\",\"good\",\"goods\",\"got\",\"gotten\",\"gov\",\"gp\",\"gq\",\"gr\",\"great\",\"greater\",\"greatest\",\"greetings\",\"group\",\"grouped\",\"grouping\",\"groups\",\"gs\",\"gt\",\"gu\",\"gw\",\"gy\",\"h\",\"had\",\"hadn't\",\"hadnt\",\"half\",\"happens\",\"hardly\",\"has\",\"hasn\",\"hasn't\",\"hasnt\",\"have\",\"haven\",\"haven't\",\"havent\",\"having\",\"he\",\"he'd\",\"he'll\",\"he's\",\"hed\",\"hell\",\"hello\",\"help\",\"hence\",\"her\",\"here\",\"here's\",\"hereafter\",\"hereby\",\"herein\",\"heres\",\"hereupon\",\"hers\",\"herself\",\"herse\",\"hes\",\"hi\",\"hid\",\"high\",\"higher\",\"highest\",\"him\",\"himself\",\"himse\",\"his\",\"hither\",\"hk\",\"hm\",\"hn\",\"home\",\"homepage\",\"hopefully\",\"how\",\"howd\",\"howll\",\"hows\",\"howbeit\",\"however\",\"hr\",\"ht\",\"htm\",\"html\",\"http\",\"hu\",\"hundred\",\"i\",\"id\",\"ill\",\"im\",\"ive\",\"i.e.\",\"id\",\"ie\",\"if\",\"ignored\",\"ii\",\"il\",\"ill\",\"im\",\"immediate\",\"immediately\",\"importance\",\"important\",\"in\",\"inasmuch\",\"inc\",\"inc.\",\"indeed\",\"index\",\"indicate\",\"indicated\",\"indicates\",\"information\",\"inner\",\"inside\",\"insofar\",\"instead\",\"int\",\"interest\",\"interested\",\"interesting\",\"interests\",\"into\",\"invention\",\"inward\",\"io\",\"iq\",\"ir\",\"is\",\"isn\",\"isn't\",\"isnt\",\"it\",\"it'd\",\"it'll\",\"it's\",\"itd\",\"itll\",\"its\",\"itself\",\"itse”\",\"ive\",\"j\",\"je\",\"jm\",\"jo\",\"join\",\"jp\",\"just\",\"k\",\n",
    "\"Youssef\", \"ourselves\", \"out\", \"outside\", \"over\", \"overall\", \"owing\", \"own\", \"p\", \"pa\", \"page\", \"pages\", \"part\", \"parted\", \"particular\", \"particularly\", \"parting\", \"parts\", \"past\", \"pe\", \"per\", \"perhaps\", \"pf\", \"pg\", \"ph\", \"pk\", \"pl\", \"place\", \"placed\", \"places\", \"please\", \"plus\", \"pm\", \"pmid\", \"pn\", \"point\", \"pointed\", \"pointing\", \"points\", \"poorly\", \"possible\", \"possibly\", \"potentially\", \"pp\", \"pr\", \"predominantly\", \"present\", \"presented\", \"presenting\", \"presents\", \"presumably\", \"previously\", \"primarily\", \"probably\", \"problem\", \"problems\", \"promptly\", \"proud\", \"provided\", \"provides\", \"pt\", \"put\", \"puts\", \"pw\", \"py\", \"q\", \"qa\", \"que\", \"quickly\", \"quite\", \"qv\", \"r\", \"ran\", \"rather\", \"rd\", \"re\", \"readily\", \"really\", \"reasonably\", \"recent\", \"recently\", \"ref\", \"refs\", \"regarding\", \"regardless\", \"regards\", \"related\", \"relatively\", \"research\", \"reserved\", \"respectively\", \"resulted\", \"resulting\", \"results\", \"right\", \"ring\", \"ro\", \"room\", \"rooms\", \"round\", \"ru\", \"run\", \"rw\", \"s\", \"sa\", \"said\", \"same\", \"saw\", \"say\", \"saying\", \"says\", \"sb\", \"sc\", \"sd\", \"se\", \"sec\", \"second\", \"secondly\", \"seconds\", \"section\", \"see\", \"seeing\", \"seem\", \"seemed\", \"seeming\", \"seems\", \"seen\", \"sees\", \"self\", \"selves\", \"sensible\", \"sent\", \"serious\", \"seriously\", \"seven\", \"seventy\", \"several\", \"sg\", \"sh\", \"shall\", \"shan't\", \"shant\", \"she\", \"she'd\", \"she'll\", \"she's\", \"shed\", \"shell\", \"shes\", \"should\", \"should've\", \"shouldn\", \"shouldn't\", \"shouldnt\", \"show\", \"showed\", \"showing\", \"shown\", \"showns\", \"shows\", \"si\", \"side\", \"sides\", \"significant\", \"significantly\", \"similar\", \"similarly\", \"since\", \"sincere\", \"site\", \"six\", \"sixty\", \"sj\", \"sk\", \"sl\", \"slightly\", \"sm\", \"small\", \"smaller\", \"smallest\", \"sn\", \"so\", \"some\", \"somebody\", \"someday\", \"somehow\", \"someone\", \"somethan\", \"something\", \"sometime\", \"sometimes\", \"somewhat\", \"somewhere\", \"soon\", \"sorry\", \"specifically\", \"specified\", \"specify\", \"specifying\", \"sr\", \"st\", \"state\", \"states\", \"still\", \"stop\", \"strongly\", \"su\", \"sub\", \"substantially\", \"successfully\", \"such\", \"sufficiently\", \"suggest\", \"sup\", \"sure\", \"sv\", \"sy\", \"system\", \"sz\",]"
   ],
   "metadata": {
    "collapsed": false
   }
  },
  {
   "cell_type": "code",
   "execution_count": 98,
   "outputs": [],
   "source": [
    "stpwrd = nltk.corpus.stopwords.words('english')\n",
    "stpwrd.extend(new_stopwords)"
   ],
   "metadata": {
    "collapsed": false
   }
  },
  {
   "cell_type": "code",
   "execution_count": 99,
   "outputs": [],
   "source": [
    "all=[]\n",
    "for list1 in df['Tokenized']:\n",
    "  for word in list1:\n",
    "    if word in new_stopwords:\n",
    "      list1.remove(word)\n",
    "  list1=\" \".join(list1)\n",
    "  all.append(list1)"
   ],
   "metadata": {
    "collapsed": false
   }
  },
  {
   "cell_type": "code",
   "execution_count": 100,
   "outputs": [
    {
     "data": {
      "text/plain": "                                                Report  \\\n0     I never receive clear instructions for my tasks.   \n1    Updates from management are inconsistent and c...   \n2    I often misunderstand what's expected due to v...   \n3       Important information is never shared on time.   \n4    My queries go unanswered, making it hard to pr...   \n..                                                 ...   \n477  Opportunities for job rotation and diversifica...   \n478  Leadership doesn't recognize employees' aspira...   \n479  Employees feel unsupported in their pursuit of...   \n480  No structured program for mentoring new employ...   \n481  Lack of training programs affects our competit...   \n\n                                               cleaned  \n0                never receive instructions my tasks .  \n1          Updates management inconsistent confusing .  \n2    often misunderstand 's expected to vague emails .  \n3                           Important is shared time .  \n4               queries unanswered , it hard proceed .  \n..                                                 ...  \n477  Opportunities job rotation diversification abs...  \n478  Leadership n't recognize employees ' aspiratio...  \n479  Employees feel unsupported their pursuit skill...  \n480        No structured program mentoring employees .  \n481       Lack training programs our competitiveness .  \n\n[482 rows x 2 columns]",
      "text/html": "<div>\n<style scoped>\n    .dataframe tbody tr th:only-of-type {\n        vertical-align: middle;\n    }\n\n    .dataframe tbody tr th {\n        vertical-align: top;\n    }\n\n    .dataframe thead th {\n        text-align: right;\n    }\n</style>\n<table border=\"1\" class=\"dataframe\">\n  <thead>\n    <tr style=\"text-align: right;\">\n      <th></th>\n      <th>Report</th>\n      <th>cleaned</th>\n    </tr>\n  </thead>\n  <tbody>\n    <tr>\n      <th>0</th>\n      <td>I never receive clear instructions for my tasks.</td>\n      <td>never receive instructions my tasks .</td>\n    </tr>\n    <tr>\n      <th>1</th>\n      <td>Updates from management are inconsistent and c...</td>\n      <td>Updates management inconsistent confusing .</td>\n    </tr>\n    <tr>\n      <th>2</th>\n      <td>I often misunderstand what's expected due to v...</td>\n      <td>often misunderstand 's expected to vague emails .</td>\n    </tr>\n    <tr>\n      <th>3</th>\n      <td>Important information is never shared on time.</td>\n      <td>Important is shared time .</td>\n    </tr>\n    <tr>\n      <th>4</th>\n      <td>My queries go unanswered, making it hard to pr...</td>\n      <td>queries unanswered , it hard proceed .</td>\n    </tr>\n    <tr>\n      <th>...</th>\n      <td>...</td>\n      <td>...</td>\n    </tr>\n    <tr>\n      <th>477</th>\n      <td>Opportunities for job rotation and diversifica...</td>\n      <td>Opportunities job rotation diversification abs...</td>\n    </tr>\n    <tr>\n      <th>478</th>\n      <td>Leadership doesn't recognize employees' aspira...</td>\n      <td>Leadership n't recognize employees ' aspiratio...</td>\n    </tr>\n    <tr>\n      <th>479</th>\n      <td>Employees feel unsupported in their pursuit of...</td>\n      <td>Employees feel unsupported their pursuit skill...</td>\n    </tr>\n    <tr>\n      <th>480</th>\n      <td>No structured program for mentoring new employ...</td>\n      <td>No structured program mentoring employees .</td>\n    </tr>\n    <tr>\n      <th>481</th>\n      <td>Lack of training programs affects our competit...</td>\n      <td>Lack training programs our competitiveness .</td>\n    </tr>\n  </tbody>\n</table>\n<p>482 rows × 2 columns</p>\n</div>"
     },
     "execution_count": 100,
     "metadata": {},
     "output_type": "execute_result"
    }
   ],
   "source": [
    "df_token2 = pd.DataFrame({'Tokens': all})\n",
    "df['cleaned']=df_token2\n",
    "df[['Report','cleaned']]"
   ],
   "metadata": {
    "collapsed": false
   }
  },
  {
   "cell_type": "markdown",
   "source": [
    "Lemmatization & Stemming"
   ],
   "metadata": {
    "collapsed": false
   }
  },
  {
   "cell_type": "code",
   "execution_count": 103,
   "outputs": [],
   "source": [
    "import spacy\n",
    "import lemminflect\n",
    "nlp = spacy.load('en_core_web_sm')\n"
   ],
   "metadata": {
    "collapsed": false
   }
  },
  {
   "cell_type": "code",
   "execution_count": 104,
   "outputs": [],
   "source": [
    "from nltk.stem import PorterStemmer\n",
    "ps=PorterStemmer()\n",
    "from nltk.stem import WordNetLemmatizer\n",
    "lem=WordNetLemmatizer()"
   ],
   "metadata": {
    "collapsed": false
   }
  },
  {
   "cell_type": "code",
   "execution_count": 105,
   "outputs": [
    {
     "name": "stderr",
     "output_type": "stream",
     "text": [
      "[nltk_data] Downloading package wordnet to\n",
      "[nltk_data]     /Users/oumaymabamoh/nltk_data...\n",
      "[nltk_data]   Package wordnet is already up-to-date!\n"
     ]
    },
    {
     "data": {
      "text/plain": "True"
     },
     "execution_count": 105,
     "metadata": {},
     "output_type": "execute_result"
    }
   ],
   "source": [
    "import nltk\n",
    "nltk.download('wordnet')"
   ],
   "metadata": {
    "collapsed": false
   }
  },
  {
   "cell_type": "code",
   "execution_count": 106,
   "outputs": [
    {
     "name": "stdout",
     "output_type": "stream",
     "text": [
      "never  :  never\n",
      "receive  :  receiv\n",
      "instructions  :  instruct\n",
      "my  :  my\n",
      "tasks  :  task\n",
      ".  :  .\n"
     ]
    }
   ],
   "source": [
    "words=word_tokenize(df['cleaned'].iloc[0])\n",
    "for w in words:\n",
    "    print(w, \" : \", ps.stem(w))"
   ],
   "metadata": {
    "collapsed": false
   }
  },
  {
   "cell_type": "code",
   "execution_count": 107,
   "outputs": [
    {
     "name": "stdout",
     "output_type": "stream",
     "text": [
      "I  :  I\n",
      "never  :  never\n",
      "receive  :  receive\n",
      "clear  :  clear\n",
      "instructions  :  instruction\n",
      "for  :  for\n",
      "my  :  my\n",
      "tasks  :  task\n"
     ]
    }
   ],
   "source": [
    "lemminf=[]\n",
    "words=[]\n",
    "doc = nlp(df['Reports'].iloc[0])\n",
    "for token in doc:\n",
    "    print(token,\" : \",token._.lemma())"
   ],
   "metadata": {
    "collapsed": false
   }
  },
  {
   "cell_type": "code",
   "execution_count": 108,
   "outputs": [
    {
     "name": "stdout",
     "output_type": "stream",
     "text": [
      "                                               cleaned lemmatized_cleaned  \\\n",
      "0                never receive instructions my tasks .                      \n",
      "1          Updates management inconsistent confusing .                      \n",
      "2    often misunderstand 's expected to vague emails .                      \n",
      "3                           Important is shared time .                      \n",
      "4               queries unanswered , it hard proceed .                      \n",
      "..                                                 ...                ...   \n",
      "477  Opportunities job rotation diversification abs...                      \n",
      "478  Leadership n't recognize employees ' aspiratio...                      \n",
      "479  Employees feel unsupported their pursuit skill...                      \n",
      "480        No structured program mentoring employees .                      \n",
      "481       Lack training programs our competitiveness .                      \n",
      "\n",
      "                                       stemmed_cleaned  \n",
      "0                      never receiv instruct my task .  \n",
      "1                       updat manag inconsist confus .  \n",
      "2        often misunderstand 's expect to vagu email .  \n",
      "3                               import is share time .  \n",
      "4                     queri unansw , it hard proceed .  \n",
      "..                                                 ...  \n",
      "477               opportun job rotat diversif absent .  \n",
      "478     leadership n't recogn employe ' aspir growth .  \n",
      "479  employe feel unsupport their pursuit skill enh...  \n",
      "480               no structur program mentor employe .  \n",
      "481                  lack train program our competit .  \n",
      "\n",
      "[482 rows x 3 columns]\n"
     ]
    }
   ],
   "source": [
    "from nltk.tokenize import word_tokenize\n",
    "from nltk.stem import PorterStemmer\n",
    "import pandas as pd\n",
    "\n",
    "# Assuming 'cleaned' is your text column\n",
    "df['cleaned'].fillna(\"\", inplace=True)\n",
    "\n",
    "# Initialize the Porter Stemmer\n",
    "ps = PorterStemmer()\n",
    "\n",
    "# Lists to store lemmatized and stemmed tokens\n",
    "lemmatized_tokens = []\n",
    "stemmed_tokens = []\n",
    "\n",
    "# Loop through each row in the DataFrame\n",
    "for i in range(len(df)):\n",
    "    words = word_tokenize(df['cleaned'].iloc[i])\n",
    "\n",
    "    # Initialize empty lists for lemmatized and stemmed tokens\n",
    "    lemmatized = []\n",
    "    stemmed = []\n",
    "\n",
    "    # Loop through each word in the row\n",
    "    for w in words:\n",
    "        # Perform stemming\n",
    "        stemmed_token = ps.stem(w)\n",
    "\n",
    "        # Append to the lists\n",
    "        stemmed.append(stemmed_token)\n",
    "\n",
    "    # Append lists to the respective token lists\n",
    "    lemmatized_tokens.append(\" \".join(lemmatized))\n",
    "    stemmed_tokens.append(\" \".join(stemmed))\n",
    "\n",
    "# Add new columns to your DataFrame\n",
    "df['lemmatized_cleaned'] = lemmatized_tokens\n",
    "df['stemmed_cleaned'] = stemmed_tokens\n",
    "\n",
    "# Display the DataFrame\n",
    "print(df[['cleaned', 'lemmatized_cleaned', 'stemmed_cleaned']])\n"
   ],
   "metadata": {
    "collapsed": false
   }
  },
  {
   "cell_type": "code",
   "execution_count": 109,
   "outputs": [
    {
     "data": {
      "text/plain": "                                Genre  \\\n0                Communication Issues   \n1                Communication Issues   \n2                Communication Issues   \n3                Communication Issues   \n4                Communication Issues   \n..                                ...   \n477  Lack of training and development   \n478  Lack of training and development   \n479  Lack of training and development   \n480  Lack of training and development   \n481  Lack of training and development   \n\n                                                Report  \\\n0     I never receive clear instructions for my tasks.   \n1    Updates from management are inconsistent and c...   \n2    I often misunderstand what's expected due to v...   \n3       Important information is never shared on time.   \n4    My queries go unanswered, making it hard to pr...   \n..                                                 ...   \n477  Opportunities for job rotation and diversifica...   \n478  Leadership doesn't recognize employees' aspira...   \n479  Employees feel unsupported in their pursuit of...   \n480  No structured program for mentoring new employ...   \n481  Lack of training programs affects our competit...   \n\n                                               Reports  \\\n0      I never receive clear instructions for my tasks   \n1    Updates from management are inconsistent and c...   \n2    I often misunderstand whats expected due to va...   \n3        Important information is never shared on time   \n4    My queries go unanswered making it hard to pro...   \n..                                                 ...   \n477  Opportunities for job rotation and diversifica...   \n478  Leadership doesnt recognize employees aspirati...   \n479  Employees feel unsupported in their pursuit of...   \n480  No structured program for mentoring new employees   \n481  Lack of training programs affects our competit...   \n\n                                             Tokenized  \\\n0         [never, receive, instructions, my, tasks, .]   \n1    [Updates, management, inconsistent, confusing, .]   \n2    [often, misunderstand, 's, expected, to, vague...   \n3                     [Important, is, shared, time, .]   \n4       [queries, unanswered, ,, it, hard, proceed, .]   \n..                                                 ...   \n477  [Opportunities, job, rotation, diversification...   \n478  [Leadership, n't, recognize, employees, ', asp...   \n479  [Employees, feel, unsupported, their, pursuit,...   \n480  [No, structured, program, mentoring, employees...   \n481  [Lack, training, programs, our, competitivenes...   \n\n                                               cleaned lemmatized_cleaned  \\\n0                never receive instructions my tasks .                      \n1          Updates management inconsistent confusing .                      \n2    often misunderstand 's expected to vague emails .                      \n3                           Important is shared time .                      \n4               queries unanswered , it hard proceed .                      \n..                                                 ...                ...   \n477  Opportunities job rotation diversification abs...                      \n478  Leadership n't recognize employees ' aspiratio...                      \n479  Employees feel unsupported their pursuit skill...                      \n480        No structured program mentoring employees .                      \n481       Lack training programs our competitiveness .                      \n\n                                       stemmed_cleaned  \n0    n e v e r   r e c e i v   i n s t r u c t   m ...  \n1    u p d a t   m a n a g   i n c o n s i s t   c ...  \n2    o f t e n   m i s u n d e r s t a n d   ' s   ...  \n3          i m p o r t   i s   s h a r e   t i m e   .  \n4    q u e r i   u n a n s w   ,   i t   h a r d   ...  \n..                                                 ...  \n477  o p p o r t u n   j o b   r o t a t   d i v e ...  \n478  l e a d e r s h i p   n ' t   r e c o g n   e ...  \n479  e m p l o y e   f e e l   u n s u p p o r t   ...  \n480  n o   s t r u c t u r   p r o g r a m   m e n ...  \n481  l a c k   t r a i n   p r o g r a m   o u r   ...  \n\n[482 rows x 7 columns]",
      "text/html": "<div>\n<style scoped>\n    .dataframe tbody tr th:only-of-type {\n        vertical-align: middle;\n    }\n\n    .dataframe tbody tr th {\n        vertical-align: top;\n    }\n\n    .dataframe thead th {\n        text-align: right;\n    }\n</style>\n<table border=\"1\" class=\"dataframe\">\n  <thead>\n    <tr style=\"text-align: right;\">\n      <th></th>\n      <th>Genre</th>\n      <th>Report</th>\n      <th>Reports</th>\n      <th>Tokenized</th>\n      <th>cleaned</th>\n      <th>lemmatized_cleaned</th>\n      <th>stemmed_cleaned</th>\n    </tr>\n  </thead>\n  <tbody>\n    <tr>\n      <th>0</th>\n      <td>Communication Issues</td>\n      <td>I never receive clear instructions for my tasks.</td>\n      <td>I never receive clear instructions for my tasks</td>\n      <td>[never, receive, instructions, my, tasks, .]</td>\n      <td>never receive instructions my tasks .</td>\n      <td></td>\n      <td>n e v e r   r e c e i v   i n s t r u c t   m ...</td>\n    </tr>\n    <tr>\n      <th>1</th>\n      <td>Communication Issues</td>\n      <td>Updates from management are inconsistent and c...</td>\n      <td>Updates from management are inconsistent and c...</td>\n      <td>[Updates, management, inconsistent, confusing, .]</td>\n      <td>Updates management inconsistent confusing .</td>\n      <td></td>\n      <td>u p d a t   m a n a g   i n c o n s i s t   c ...</td>\n    </tr>\n    <tr>\n      <th>2</th>\n      <td>Communication Issues</td>\n      <td>I often misunderstand what's expected due to v...</td>\n      <td>I often misunderstand whats expected due to va...</td>\n      <td>[often, misunderstand, 's, expected, to, vague...</td>\n      <td>often misunderstand 's expected to vague emails .</td>\n      <td></td>\n      <td>o f t e n   m i s u n d e r s t a n d   ' s   ...</td>\n    </tr>\n    <tr>\n      <th>3</th>\n      <td>Communication Issues</td>\n      <td>Important information is never shared on time.</td>\n      <td>Important information is never shared on time</td>\n      <td>[Important, is, shared, time, .]</td>\n      <td>Important is shared time .</td>\n      <td></td>\n      <td>i m p o r t   i s   s h a r e   t i m e   .</td>\n    </tr>\n    <tr>\n      <th>4</th>\n      <td>Communication Issues</td>\n      <td>My queries go unanswered, making it hard to pr...</td>\n      <td>My queries go unanswered making it hard to pro...</td>\n      <td>[queries, unanswered, ,, it, hard, proceed, .]</td>\n      <td>queries unanswered , it hard proceed .</td>\n      <td></td>\n      <td>q u e r i   u n a n s w   ,   i t   h a r d   ...</td>\n    </tr>\n    <tr>\n      <th>...</th>\n      <td>...</td>\n      <td>...</td>\n      <td>...</td>\n      <td>...</td>\n      <td>...</td>\n      <td>...</td>\n      <td>...</td>\n    </tr>\n    <tr>\n      <th>477</th>\n      <td>Lack of training and development</td>\n      <td>Opportunities for job rotation and diversifica...</td>\n      <td>Opportunities for job rotation and diversifica...</td>\n      <td>[Opportunities, job, rotation, diversification...</td>\n      <td>Opportunities job rotation diversification abs...</td>\n      <td></td>\n      <td>o p p o r t u n   j o b   r o t a t   d i v e ...</td>\n    </tr>\n    <tr>\n      <th>478</th>\n      <td>Lack of training and development</td>\n      <td>Leadership doesn't recognize employees' aspira...</td>\n      <td>Leadership doesnt recognize employees aspirati...</td>\n      <td>[Leadership, n't, recognize, employees, ', asp...</td>\n      <td>Leadership n't recognize employees ' aspiratio...</td>\n      <td></td>\n      <td>l e a d e r s h i p   n ' t   r e c o g n   e ...</td>\n    </tr>\n    <tr>\n      <th>479</th>\n      <td>Lack of training and development</td>\n      <td>Employees feel unsupported in their pursuit of...</td>\n      <td>Employees feel unsupported in their pursuit of...</td>\n      <td>[Employees, feel, unsupported, their, pursuit,...</td>\n      <td>Employees feel unsupported their pursuit skill...</td>\n      <td></td>\n      <td>e m p l o y e   f e e l   u n s u p p o r t   ...</td>\n    </tr>\n    <tr>\n      <th>480</th>\n      <td>Lack of training and development</td>\n      <td>No structured program for mentoring new employ...</td>\n      <td>No structured program for mentoring new employees</td>\n      <td>[No, structured, program, mentoring, employees...</td>\n      <td>No structured program mentoring employees .</td>\n      <td></td>\n      <td>n o   s t r u c t u r   p r o g r a m   m e n ...</td>\n    </tr>\n    <tr>\n      <th>481</th>\n      <td>Lack of training and development</td>\n      <td>Lack of training programs affects our competit...</td>\n      <td>Lack of training programs affects our competit...</td>\n      <td>[Lack, training, programs, our, competitivenes...</td>\n      <td>Lack training programs our competitiveness .</td>\n      <td></td>\n      <td>l a c k   t r a i n   p r o g r a m   o u r   ...</td>\n    </tr>\n  </tbody>\n</table>\n<p>482 rows × 7 columns</p>\n</div>"
     },
     "execution_count": 109,
     "metadata": {},
     "output_type": "execute_result"
    }
   ],
   "source": [
    "df['stemmed_cleaned'] = df['stemmed_cleaned'].apply(' '.join)\n",
    "df"
   ],
   "metadata": {
    "collapsed": false
   }
  },
  {
   "cell_type": "code",
   "execution_count": 110,
   "outputs": [],
   "source": [
    "lemminf = []\n",
    "\n",
    "for i in range(len(df)):\n",
    "    words = []\n",
    "\n",
    "    # Check if the 'Reports' value is not NaN\n",
    "    if not pd.isna(df['Reports'].iloc[i]):\n",
    "        doc = nlp(df['Reports'].iloc[i])\n",
    "\n",
    "        for token in doc:\n",
    "            if str(token) not in stpwrd:\n",
    "                words.append(token._.lemma())\n",
    "\n",
    "        lemminf.append(\" \".join(words))\n",
    "    else:\n",
    "        lemminf.append(\"\")  # Replace NaN with an empty string\n",
    "\n",
    "# Create a new column in your DataFrame\n",
    "df['lemmatized'] = lemminf\n",
    "\n"
   ],
   "metadata": {
    "collapsed": false
   }
  },
  {
   "cell_type": "code",
   "execution_count": 111,
   "outputs": [
    {
     "data": {
      "text/plain": "                                Genre  \\\n0                Communication Issues   \n1                Communication Issues   \n2                Communication Issues   \n3                Communication Issues   \n4                Communication Issues   \n..                                ...   \n477  Lack of training and development   \n478  Lack of training and development   \n479  Lack of training and development   \n480  Lack of training and development   \n481  Lack of training and development   \n\n                                                Report  \\\n0     I never receive clear instructions for my tasks.   \n1    Updates from management are inconsistent and c...   \n2    I often misunderstand what's expected due to v...   \n3       Important information is never shared on time.   \n4    My queries go unanswered, making it hard to pr...   \n..                                                 ...   \n477  Opportunities for job rotation and diversifica...   \n478  Leadership doesn't recognize employees' aspira...   \n479  Employees feel unsupported in their pursuit of...   \n480  No structured program for mentoring new employ...   \n481  Lack of training programs affects our competit...   \n\n                                               Reports  \\\n0      I never receive clear instructions for my tasks   \n1    Updates from management are inconsistent and c...   \n2    I often misunderstand whats expected due to va...   \n3        Important information is never shared on time   \n4    My queries go unanswered making it hard to pro...   \n..                                                 ...   \n477  Opportunities for job rotation and diversifica...   \n478  Leadership doesnt recognize employees aspirati...   \n479  Employees feel unsupported in their pursuit of...   \n480  No structured program for mentoring new employees   \n481  Lack of training programs affects our competit...   \n\n                                             Tokenized  \\\n0         [never, receive, instructions, my, tasks, .]   \n1    [Updates, management, inconsistent, confusing, .]   \n2    [often, misunderstand, 's, expected, to, vague...   \n3                     [Important, is, shared, time, .]   \n4       [queries, unanswered, ,, it, hard, proceed, .]   \n..                                                 ...   \n477  [Opportunities, job, rotation, diversification...   \n478  [Leadership, n't, recognize, employees, ', asp...   \n479  [Employees, feel, unsupported, their, pursuit,...   \n480  [No, structured, program, mentoring, employees...   \n481  [Lack, training, programs, our, competitivenes...   \n\n                                               cleaned lemmatized_cleaned  \\\n0                never receive instructions my tasks .                      \n1          Updates management inconsistent confusing .                      \n2    often misunderstand 's expected to vague emails .                      \n3                           Important is shared time .                      \n4               queries unanswered , it hard proceed .                      \n..                                                 ...                ...   \n477  Opportunities job rotation diversification abs...                      \n478  Leadership n't recognize employees ' aspiratio...                      \n479  Employees feel unsupported their pursuit skill...                      \n480        No structured program mentoring employees .                      \n481       Lack training programs our competitiveness .                      \n\n                                       stemmed_cleaned  \\\n0    n e v e r   r e c e i v   i n s t r u c t   m ...   \n1    u p d a t   m a n a g   i n c o n s i s t   c ...   \n2    o f t e n   m i s u n d e r s t a n d   ' s   ...   \n3          i m p o r t   i s   s h a r e   t i m e   .   \n4    q u e r i   u n a n s w   ,   i t   h a r d   ...   \n..                                                 ...   \n477  o p p o r t u n   j o b   r o t a t   d i v e ...   \n478  l e a d e r s h i p   n ' t   r e c o g n   e ...   \n479  e m p l o y e   f e e l   u n s u p p o r t   ...   \n480  n o   s t r u c t u r   p r o g r a m   m e n ...   \n481  l a c k   t r a i n   p r o g r a m   o u r   ...   \n\n                                            lemmatized  \\\n0                             receive instruction task   \n1             Update management inconsistent confusing   \n2                     misunderstand expect vague email   \n3                                 Important share time   \n4                        query unanswered hard proceed   \n..                                                 ...   \n477    Opportunity job rotation diversification absent   \n478  Leadership nt recognize employee aspiration gr...   \n479  Employee feel unsupported pursuit skill enhanc...   \n480              No structured program mentor employee   \n481              Lack training program competitiveness   \n\n                                               Lemminf  \n0                             receive instruction task  \n1             Update management inconsistent confusing  \n2                     misunderstand expect vague email  \n3                                 Important share time  \n4                        query unanswered hard proceed  \n..                                                 ...  \n477    Opportunity job rotation diversification absent  \n478  Leadership nt recognize employee aspiration gr...  \n479  Employee feel unsupported pursuit skill enhanc...  \n480              No structured program mentor employee  \n481              Lack training program competitiveness  \n\n[482 rows x 9 columns]",
      "text/html": "<div>\n<style scoped>\n    .dataframe tbody tr th:only-of-type {\n        vertical-align: middle;\n    }\n\n    .dataframe tbody tr th {\n        vertical-align: top;\n    }\n\n    .dataframe thead th {\n        text-align: right;\n    }\n</style>\n<table border=\"1\" class=\"dataframe\">\n  <thead>\n    <tr style=\"text-align: right;\">\n      <th></th>\n      <th>Genre</th>\n      <th>Report</th>\n      <th>Reports</th>\n      <th>Tokenized</th>\n      <th>cleaned</th>\n      <th>lemmatized_cleaned</th>\n      <th>stemmed_cleaned</th>\n      <th>lemmatized</th>\n      <th>Lemminf</th>\n    </tr>\n  </thead>\n  <tbody>\n    <tr>\n      <th>0</th>\n      <td>Communication Issues</td>\n      <td>I never receive clear instructions for my tasks.</td>\n      <td>I never receive clear instructions for my tasks</td>\n      <td>[never, receive, instructions, my, tasks, .]</td>\n      <td>never receive instructions my tasks .</td>\n      <td></td>\n      <td>n e v e r   r e c e i v   i n s t r u c t   m ...</td>\n      <td>receive instruction task</td>\n      <td>receive instruction task</td>\n    </tr>\n    <tr>\n      <th>1</th>\n      <td>Communication Issues</td>\n      <td>Updates from management are inconsistent and c...</td>\n      <td>Updates from management are inconsistent and c...</td>\n      <td>[Updates, management, inconsistent, confusing, .]</td>\n      <td>Updates management inconsistent confusing .</td>\n      <td></td>\n      <td>u p d a t   m a n a g   i n c o n s i s t   c ...</td>\n      <td>Update management inconsistent confusing</td>\n      <td>Update management inconsistent confusing</td>\n    </tr>\n    <tr>\n      <th>2</th>\n      <td>Communication Issues</td>\n      <td>I often misunderstand what's expected due to v...</td>\n      <td>I often misunderstand whats expected due to va...</td>\n      <td>[often, misunderstand, 's, expected, to, vague...</td>\n      <td>often misunderstand 's expected to vague emails .</td>\n      <td></td>\n      <td>o f t e n   m i s u n d e r s t a n d   ' s   ...</td>\n      <td>misunderstand expect vague email</td>\n      <td>misunderstand expect vague email</td>\n    </tr>\n    <tr>\n      <th>3</th>\n      <td>Communication Issues</td>\n      <td>Important information is never shared on time.</td>\n      <td>Important information is never shared on time</td>\n      <td>[Important, is, shared, time, .]</td>\n      <td>Important is shared time .</td>\n      <td></td>\n      <td>i m p o r t   i s   s h a r e   t i m e   .</td>\n      <td>Important share time</td>\n      <td>Important share time</td>\n    </tr>\n    <tr>\n      <th>4</th>\n      <td>Communication Issues</td>\n      <td>My queries go unanswered, making it hard to pr...</td>\n      <td>My queries go unanswered making it hard to pro...</td>\n      <td>[queries, unanswered, ,, it, hard, proceed, .]</td>\n      <td>queries unanswered , it hard proceed .</td>\n      <td></td>\n      <td>q u e r i   u n a n s w   ,   i t   h a r d   ...</td>\n      <td>query unanswered hard proceed</td>\n      <td>query unanswered hard proceed</td>\n    </tr>\n    <tr>\n      <th>...</th>\n      <td>...</td>\n      <td>...</td>\n      <td>...</td>\n      <td>...</td>\n      <td>...</td>\n      <td>...</td>\n      <td>...</td>\n      <td>...</td>\n      <td>...</td>\n    </tr>\n    <tr>\n      <th>477</th>\n      <td>Lack of training and development</td>\n      <td>Opportunities for job rotation and diversifica...</td>\n      <td>Opportunities for job rotation and diversifica...</td>\n      <td>[Opportunities, job, rotation, diversification...</td>\n      <td>Opportunities job rotation diversification abs...</td>\n      <td></td>\n      <td>o p p o r t u n   j o b   r o t a t   d i v e ...</td>\n      <td>Opportunity job rotation diversification absent</td>\n      <td>Opportunity job rotation diversification absent</td>\n    </tr>\n    <tr>\n      <th>478</th>\n      <td>Lack of training and development</td>\n      <td>Leadership doesn't recognize employees' aspira...</td>\n      <td>Leadership doesnt recognize employees aspirati...</td>\n      <td>[Leadership, n't, recognize, employees, ', asp...</td>\n      <td>Leadership n't recognize employees ' aspiratio...</td>\n      <td></td>\n      <td>l e a d e r s h i p   n ' t   r e c o g n   e ...</td>\n      <td>Leadership nt recognize employee aspiration gr...</td>\n      <td>Leadership nt recognize employee aspiration gr...</td>\n    </tr>\n    <tr>\n      <th>479</th>\n      <td>Lack of training and development</td>\n      <td>Employees feel unsupported in their pursuit of...</td>\n      <td>Employees feel unsupported in their pursuit of...</td>\n      <td>[Employees, feel, unsupported, their, pursuit,...</td>\n      <td>Employees feel unsupported their pursuit skill...</td>\n      <td></td>\n      <td>e m p l o y e   f e e l   u n s u p p o r t   ...</td>\n      <td>Employee feel unsupported pursuit skill enhanc...</td>\n      <td>Employee feel unsupported pursuit skill enhanc...</td>\n    </tr>\n    <tr>\n      <th>480</th>\n      <td>Lack of training and development</td>\n      <td>No structured program for mentoring new employ...</td>\n      <td>No structured program for mentoring new employees</td>\n      <td>[No, structured, program, mentoring, employees...</td>\n      <td>No structured program mentoring employees .</td>\n      <td></td>\n      <td>n o   s t r u c t u r   p r o g r a m   m e n ...</td>\n      <td>No structured program mentor employee</td>\n      <td>No structured program mentor employee</td>\n    </tr>\n    <tr>\n      <th>481</th>\n      <td>Lack of training and development</td>\n      <td>Lack of training programs affects our competit...</td>\n      <td>Lack of training programs affects our competit...</td>\n      <td>[Lack, training, programs, our, competitivenes...</td>\n      <td>Lack training programs our competitiveness .</td>\n      <td></td>\n      <td>l a c k   t r a i n   p r o g r a m   o u r   ...</td>\n      <td>Lack training program competitiveness</td>\n      <td>Lack training program competitiveness</td>\n    </tr>\n  </tbody>\n</table>\n<p>482 rows × 9 columns</p>\n</div>"
     },
     "execution_count": 111,
     "metadata": {},
     "output_type": "execute_result"
    }
   ],
   "source": [
    "dflemm=pd.DataFrame(lemminf)\n",
    "df['Lemminf']=dflemm\n",
    "df"
   ],
   "metadata": {
    "collapsed": false
   }
  },
  {
   "cell_type": "markdown",
   "source": [
    "Vectorization"
   ],
   "metadata": {
    "collapsed": false
   }
  },
  {
   "cell_type": "code",
   "execution_count": 130,
   "outputs": [],
   "source": [
    "from sklearn.feature_extraction.text import TfidfVectorizer\n",
    "\n",
    "# Assuming 'Lemminf' is your text column\n",
    "df['Lemminf'].fillna(\"\", inplace=True)\n",
    "\n",
    "# Create the TfidfVectorizer\n",
    "vectorizer = TfidfVectorizer()\n",
    "\n",
    "# Fit and transform the corpus\n",
    "E = vectorizer.fit_transform(df['Lemminf'])\n",
    "\n",
    "# Get feature names\n",
    "feature_names = vectorizer.get_feature_names_out()\n"
   ],
   "metadata": {
    "collapsed": false
   }
  },
  {
   "cell_type": "code",
   "execution_count": 133,
   "outputs": [
    {
     "name": "stdout",
     "output_type": "stream",
     "text": [
      "     abilities  ability  above    absent  access  accessibility  accommodate  \\\n",
      "0          0.0      0.0    0.0  0.000000     0.0            0.0          0.0   \n",
      "1          0.0      0.0    0.0  0.000000     0.0            0.0          0.0   \n",
      "2          0.0      0.0    0.0  0.000000     0.0            0.0          0.0   \n",
      "3          0.0      0.0    0.0  0.000000     0.0            0.0          0.0   \n",
      "4          0.0      0.0    0.0  0.000000     0.0            0.0          0.0   \n",
      "..         ...      ...    ...       ...     ...            ...          ...   \n",
      "477        0.0      0.0    0.0  0.499563     0.0            0.0          0.0   \n",
      "478        0.0      0.0    0.0  0.000000     0.0            0.0          0.0   \n",
      "479        0.0      0.0    0.0  0.000000     0.0            0.0          0.0   \n",
      "480        0.0      0.0    0.0  0.000000     0.0            0.0          0.0   \n",
      "481        0.0      0.0    0.0  0.000000     0.0            0.0          0.0   \n",
      "\n",
      "     accommodated  accountability  achievements  ...  without  work  workers  \\\n",
      "0             0.0             0.0           0.0  ...      0.0   0.0      0.0   \n",
      "1             0.0             0.0           0.0  ...      0.0   0.0      0.0   \n",
      "2             0.0             0.0           0.0  ...      0.0   0.0      0.0   \n",
      "3             0.0             0.0           0.0  ...      0.0   0.0      0.0   \n",
      "4             0.0             0.0           0.0  ...      0.0   0.0      0.0   \n",
      "..            ...             ...           ...  ...      ...   ...      ...   \n",
      "477           0.0             0.0           0.0  ...      0.0   0.0      0.0   \n",
      "478           0.0             0.0           0.0  ...      0.0   0.0      0.0   \n",
      "479           0.0             0.0           0.0  ...      0.0   0.0      0.0   \n",
      "480           0.0             0.0           0.0  ...      0.0   0.0      0.0   \n",
      "481           0.0             0.0           0.0  ...      0.0   0.0      0.0   \n",
      "\n",
      "     working  workload  workloads  workshops  workspaces  worse  years  \n",
      "0        0.0       0.0        0.0        0.0         0.0    0.0    0.0  \n",
      "1        0.0       0.0        0.0        0.0         0.0    0.0    0.0  \n",
      "2        0.0       0.0        0.0        0.0         0.0    0.0    0.0  \n",
      "3        0.0       0.0        0.0        0.0         0.0    0.0    0.0  \n",
      "4        0.0       0.0        0.0        0.0         0.0    0.0    0.0  \n",
      "..       ...       ...        ...        ...         ...    ...    ...  \n",
      "477      0.0       0.0        0.0        0.0         0.0    0.0    0.0  \n",
      "478      0.0       0.0        0.0        0.0         0.0    0.0    0.0  \n",
      "479      0.0       0.0        0.0        0.0         0.0    0.0    0.0  \n",
      "480      0.0       0.0        0.0        0.0         0.0    0.0    0.0  \n",
      "481      0.0       0.0        0.0        0.0         0.0    0.0    0.0  \n",
      "\n",
      "[482 rows x 718 columns]\n"
     ]
    }
   ],
   "source": [
    "from sklearn.feature_extraction.text import TfidfVectorizer\n",
    "\n",
    "# Assuming 'cleaned' is your text column\n",
    "corpus_cleaned = df['cleaned'].apply(lambda x: ' '.join(x.split()))\n",
    "\n",
    "# Initialize TfidfVectorizer\n",
    "vectorizer = TfidfVectorizer()\n",
    "\n",
    "# Fit and transform the data\n",
    "Z_cleaned = vectorizer.fit_transform(corpus_cleaned)\n",
    "\n",
    "# Get feature names\n",
    "feature_names_cleaned = vectorizer.get_feature_names_out()\n",
    "\n",
    "# Create a DataFrame\n",
    "df_tfidfvect_cleaned = pd.DataFrame(data=Z_cleaned.toarray(), columns=feature_names_cleaned)\n",
    "\n",
    "# Display the DataFrame\n",
    "print(df_tfidfvect_cleaned)\n"
   ],
   "metadata": {
    "collapsed": false
   }
  },
  {
   "cell_type": "markdown",
   "source": [
    "BOW"
   ],
   "metadata": {
    "collapsed": false
   }
  },
  {
   "cell_type": "code",
   "execution_count": 164,
   "outputs": [],
   "source": [
    "from sklearn.feature_extraction.text import CountVectorizer\n",
    "import numpy as np\n",
    "\n",
    "#  df is the DataFrame\n",
    "corpus = df['Lemminf']\n",
    "\n",
    "# Replace NaN values with an empty string\n",
    "corpus = corpus.replace(np.nan, '', regex=True)\n",
    "\n",
    "# Create the CountVectorizer\n",
    "vectorizer_bow = CountVectorizer()\n",
    "X_bow = vectorizer_bow.fit_transform(corpus)\n",
    "feature_names_bow = vectorizer_bow.get_feature_names_out()"
   ],
   "metadata": {
    "collapsed": false
   }
  },
  {
   "cell_type": "code",
   "execution_count": 176,
   "outputs": [
    {
     "name": "stderr",
     "output_type": "stream",
     "text": [
      "[nltk_data] Downloading package punkt to\n",
      "[nltk_data]     /Users/oumaymabamoh/nltk_data...\n",
      "[nltk_data]   Package punkt is already up-to-date!\n"
     ]
    },
    {
     "name": "stdout",
     "output_type": "stream",
     "text": [
      "Feature Names: ['abil' 'absent' 'access' 'accommod' 'account' 'achiev' 'acknowledg'\n",
      " 'acquisit' 'action' 'activ' 'ad' 'adapt' 'add' 'address' 'adequ' 'adjust'\n",
      " 'administr' 'advanc' 'advoc' 'affect' 'agenda' 'air' 'align' 'alloc'\n",
      " 'anonym' 'anxieti' 'app' 'appreci' 'arbitrari' 'arrang' 'aspir' 'assign'\n",
      " 'attend' 'autonomi' 'avenu' 'awar' 'balanc' 'barrier' 'base' 'belong'\n",
      " 'benefit' 'blame' 'bombard' 'bonus' 'break' 'breakdown' 'brush' 'budget'\n",
      " 'bureaucraci' 'burnout' 'career' 'careerrel' 'cater' 'caus' 'certif'\n",
      " 'challeng' 'chang' 'channel' 'chaotic' 'clariti' 'clean' 'cleanli'\n",
      " 'closur' 'collabor' 'comfort' 'commit' 'common' 'commun' 'compani'\n",
      " 'compens' 'compet' 'competit' 'competitor' 'complaint' 'complet'\n",
      " 'complex' 'concentr' 'concern' 'condit' 'confidenti' 'conflict' 'confus'\n",
      " 'consid' 'consider' 'consist' 'constant' 'constantli' 'construct'\n",
      " 'consult' 'context' 'continu' 'contribut' 'control' 'costofliv' 'cover'\n",
      " 'creat' 'creativ' 'crise' 'criteria' 'critic' 'crosscultur' 'crossfunct'\n",
      " 'crosstrain' 'cultur' 'current' 'custom' 'dark' 'day' 'deadlin' 'deal'\n",
      " 'decis' 'decisionmak' 'declin' 'decreas' 'defin' 'degre' 'delay' 'deleg'\n",
      " 'demotiv' 'deni' 'depart' 'design' 'determin' 'develop' 'dialogu'\n",
      " 'differ' 'difficult' 'direct' 'discomfort' 'disconnect' 'discuss'\n",
      " 'disorgan' 'dispar' 'disregard' 'disrupt' 'distant' 'distribut' 'divers'\n",
      " 'diversif' 'divid' 'doubt' 'earn' 'educ' 'effect' 'effici' 'effort'\n",
      " 'elig' 'email' 'emerg' 'empathi' 'employe' 'encourag' 'engag' 'enhanc'\n",
      " 'environ' 'equip' 'ergonom' 'erod' 'error' 'essenti' 'evalu' 'event'\n",
      " 'evid' 'excel' 'except' 'expect' 'explan' 'explor' 'extern' 'extra'\n",
      " 'facil' 'fail' 'fair' 'famili' 'favor' 'favorit' 'fear' 'featur'\n",
      " 'feedback' 'feel' 'figur' 'financi' 'flexibl' 'focu' 'focus' 'follow'\n",
      " 'foster' 'frequent' 'frontlin' 'frustrat' 'fuel' 'furnitur' 'gap'\n",
      " 'gender' 'goal' 'growth' 'guidanc' 'hamper' 'handl' 'happen' 'hard'\n",
      " 'health' 'healthcar' 'healthi' 'heavi' 'held' 'help' 'higherup'\n",
      " 'highpressur' 'hinder' 'hire' 'honor' 'hour' 'ignor' 'impact' 'imposs'\n",
      " 'improv' 'inadequ' 'incomplet' 'inconsist' 'increas' 'individu'\n",
      " 'industri' 'ineffect' 'ineffici' 'inflat' 'infrequ' 'inhibit' 'initi'\n",
      " 'innov' 'input' 'instruct' 'insuffici' 'intern' 'interrupt' 'introduc'\n",
      " 'invest' 'involv' 'irregular' 'irrelev' 'issu' 'jargon' 'job' 'junior'\n",
      " 'knowledg' 'lack' 'languag' 'lastminut' 'layout' 'lead' 'leader'\n",
      " 'leadership' 'learn' 'leav' 'left' 'level' 'light' 'limit' 'link'\n",
      " 'listen' 'load' 'longserv' 'lose' 'mainten' 'malfunct' 'manag' 'manner'\n",
      " 'market' 'materi' 'matter' 'measur' 'meet' 'mental' 'mentor' 'mentorship'\n",
      " 'merit' 'messag' 'met' 'method' 'metric' 'micromanag' 'mileston' 'minim'\n",
      " 'minut' 'miscommun' 'misinterpret' 'miss' 'mistak' 'misunderstand' 'mix'\n",
      " 'mobil' 'moral' 'motiv' 'multipl' 'natur' 'navig' 'neg' 'neglect'\n",
      " 'negoti' 'network' 'nois' 'noisi' 'nonexist' 'notic' 'nt' 'object'\n",
      " 'occur' 'odor' 'offer' 'offic' 'oneway' 'ongo' 'onthejob' 'opinion'\n",
      " 'opportun' 'organ' 'outcom' 'outdat' 'overcommit' 'overcrowd' 'overtim'\n",
      " 'overwhelm' 'ownership' 'packag' 'particip' 'path' 'pathway' 'pay' 'peak'\n",
      " 'perform' 'person' 'physic' 'pile' 'plan' 'play' 'polici' 'polit' 'poor'\n",
      " 'potenti' 'practic' 'prefer' 'presenc' 'pressur' 'prevent' 'priorit'\n",
      " 'prioriti' 'privaci' 'proactiv' 'problemsolv' 'proceed' 'process'\n",
      " 'product' 'profession' 'program' 'progress' 'project' 'promis' 'promot'\n",
      " 'proper' 'properli' 'provid' 'provis' 'pursu' 'pursuit' 'qualiti' 'queri'\n",
      " 'quiet' 'rais' 'rapidli' 'rare' 'reach' 'reason' 'receiv' 'recharg'\n",
      " 'recogn' 'recognit' 'reflect' 'regularli' 'relax' 'relev' 'reli' 'relief'\n",
      " 'remot' 'repair' 'report' 'requir' 'resent' 'resist' 'resourc' 'respect'\n",
      " 'respond' 'respons' 'reward' 'riski' 'role' 'rotat' 'rumor' 'salari'\n",
      " 'sanit' 'satisfact' 'scarc' 'schedul' 'seek' 'selfconfid' 'selfeduc'\n",
      " 'selfimprov' 'selfstudi' 'seminar' 'send' 'senior' 'sens' 'set' 'setup'\n",
      " 'share' 'shift' 'short' 'sick' 'sight' 'skill' 'slow' 'softwar' 'solut'\n",
      " 'space' 'special' 'sporad' 'spread' 'staff' 'stagnant' 'stagnat' 'stall'\n",
      " 'stifl' 'stress' 'stressrel' 'structur' 'struggl' 'style' 'subject'\n",
      " 'sudden' 'suggest' 'supervisor' 'support' 'survey' 'sync' 'take' 'taken'\n",
      " 'talent' 'target' 'task' 'team' 'teamwork' 'technolog' 'temperatur'\n",
      " 'thread' 'tie' 'tight' 'time' 'timelin' 'toll' 'tool' 'tough' 'toxic'\n",
      " 'track' 'train' 'trajectori' 'transit' 'transpar' 'treatment' 'trend'\n",
      " 'trust' 'turnov' 'unaddress' 'unansw' 'unappreci' 'unattain'\n",
      " 'uncertainti' 'unclear' 'uncomfort' 'undefin' 'undermin' 'underperform'\n",
      " 'understand' 'uneven' 'unevenli' 'uninvit' 'unnecessari' 'unnot'\n",
      " 'unpleas' 'unpredict' 'unproduct' 'unrealist' 'unrecogn' 'unrespons'\n",
      " 'unsupport' 'unsur' 'unwind' 'updat' 'upward' 'urgent' 'vacat' 'vagu'\n",
      " 'valu' 'vastli' 'ventil' 'vision' 'volum' 'wast' 'weak' 'well' 'wellb'\n",
      " 'wellexplain' 'wellmaintain' 'worker' 'worklif' 'workload' 'workshop'\n",
      " 'workspac' 'wors']\n",
      "DataFrame with BOW for Stemming:\n",
      "     abil  absent  access  accommod  account  achiev  acknowledg  acquisit  \\\n",
      "0       0       0       0         0        0       0           0         0   \n",
      "1       0       0       0         0        0       0           0         0   \n",
      "2       0       0       0         0        0       0           0         0   \n",
      "3       0       0       0         0        0       0           0         0   \n",
      "4       0       0       0         0        0       0           0         0   \n",
      "..    ...     ...     ...       ...      ...     ...         ...       ...   \n",
      "477     0       1       0         0        0       0           0         0   \n",
      "478     0       0       0         0        0       0           0         0   \n",
      "479     0       0       0         0        0       0           0         0   \n",
      "480     0       0       0         0        0       0           0         0   \n",
      "481     0       0       0         0        0       0           0         0   \n",
      "\n",
      "     action  activ  ...  well  wellb  wellexplain  wellmaintain  worker  \\\n",
      "0         0      0  ...     0      0            0             0       0   \n",
      "1         0      0  ...     0      0            0             0       0   \n",
      "2         0      0  ...     0      0            0             0       0   \n",
      "3         0      0  ...     0      0            0             0       0   \n",
      "4         0      0  ...     0      0            0             0       0   \n",
      "..      ...    ...  ...   ...    ...          ...           ...     ...   \n",
      "477       0      0  ...     0      0            0             0       0   \n",
      "478       0      0  ...     0      0            0             0       0   \n",
      "479       0      0  ...     0      0            0             0       0   \n",
      "480       0      0  ...     0      0            0             0       0   \n",
      "481       0      0  ...     0      0            0             0       0   \n",
      "\n",
      "     worklif  workload  workshop  workspac  wors  \n",
      "0          0         0         0         0     0  \n",
      "1          0         0         0         0     0  \n",
      "2          0         0         0         0     0  \n",
      "3          0         0         0         0     0  \n",
      "4          0         0         0         0     0  \n",
      "..       ...       ...       ...       ...   ...  \n",
      "477        0         0         0         0     0  \n",
      "478        0         0         0         0     0  \n",
      "479        0         0         0         0     0  \n",
      "480        0         0         0         0     0  \n",
      "481        0         0         0         0     0  \n",
      "\n",
      "[482 rows x 517 columns]\n"
     ]
    }
   ],
   "source": [
    "from sklearn.feature_extraction.text import CountVectorizer\n",
    "from nltk.stem import PorterStemmer\n",
    "import nltk\n",
    "nltk.download('punkt')\n",
    "\n",
    "# Function to apply stemming to a text\n",
    "def stem_text(text):\n",
    "    tokens = nltk.word_tokenize(text)\n",
    "    stemmed_tokens = [PorterStemmer().stem(token) for token in tokens]\n",
    "    return ' '.join(stemmed_tokens)\n",
    "\n",
    "# Assuming 'cleaned' is your preprocessed column\n",
    "corpus = df['cleaned']\n",
    "\n",
    "# Apply stemming to the 'cleaned' column\n",
    "corpus_stemmed = corpus.apply(stem_text)\n",
    "\n",
    "# Initialize CountVectorizer\n",
    "vectorizer = CountVectorizer()\n",
    "\n",
    "# Fit and transform the data\n",
    "X_bow_stemmed = vectorizer.fit_transform(corpus_stemmed)\n",
    "\n",
    "# Get feature names\n",
    "feature_names_bow_stemmed = vectorizer.get_feature_names_out()\n",
    "\n",
    "# Display feature names or other relevant information\n",
    "print(\"Feature Names:\", feature_names_bow_stemmed)\n",
    "df_bow_stemmed = pd.DataFrame(data=X_bow_stemmed.toarray(), columns=feature_names_bow_stemmed)\n",
    "print(\"DataFrame with BOW for Stemming:\")\n",
    "print(df_bow_stemmed)\n"
   ],
   "metadata": {
    "collapsed": false
   }
  },
  {
   "cell_type": "code",
   "execution_count": 177,
   "outputs": [
    {
     "data": {
      "text/plain": "     ability  absent  access  accessibility  accommodate  accountability  \\\n0          0       0       0              0            0               0   \n1          0       0       0              0            0               0   \n2          0       0       0              0            0               0   \n3          0       0       0              0            0               0   \n4          0       0       0              0            0               0   \n..       ...     ...     ...            ...          ...             ...   \n477        0       1       0              0            0               0   \n478        0       0       0              0            0               0   \n479        0       0       0              0            0               0   \n480        0       0       0              0            0               0   \n481        0       0       0              0            0               0   \n\n     achievement  acknowledge  acquisition  action  ...  wellbeing  \\\n0              0            0            0       0  ...          0   \n1              0            0            0       0  ...          0   \n2              0            0            0       0  ...          0   \n3              0            0            0       0  ...          0   \n4              0            0            0       0  ...          0   \n..           ...          ...          ...     ...  ...        ...   \n477            0            0            0       0  ...          0   \n478            0            0            0       0  ...          0   \n479            0            0            0       0  ...          0   \n480            0            0            0       0  ...          0   \n481            0            0            0       0  ...          0   \n\n     wellexplain  wellmaintain  wellness  work  worker  worklife  workload  \\\n0              0             0         0     0       0         0         0   \n1              0             0         0     0       0         0         0   \n2              0             0         0     0       0         0         0   \n3              0             0         0     0       0         0         0   \n4              0             0         0     0       0         0         0   \n..           ...           ...       ...   ...     ...       ...       ...   \n477            0             0         0     0       0         0         0   \n478            0             0         0     0       0         0         0   \n479            0             0         0     0       0         0         0   \n480            0             0         0     0       0         0         0   \n481            0             0         0     0       0         0         0   \n\n     workshop  workspace  \n0           0          0  \n1           0          0  \n2           0          0  \n3           0          0  \n4           0          0  \n..        ...        ...  \n477         0          0  \n478         0          0  \n479         0          0  \n480         0          0  \n481         0          0  \n\n[482 rows x 593 columns]",
      "text/html": "<div>\n<style scoped>\n    .dataframe tbody tr th:only-of-type {\n        vertical-align: middle;\n    }\n\n    .dataframe tbody tr th {\n        vertical-align: top;\n    }\n\n    .dataframe thead th {\n        text-align: right;\n    }\n</style>\n<table border=\"1\" class=\"dataframe\">\n  <thead>\n    <tr style=\"text-align: right;\">\n      <th></th>\n      <th>ability</th>\n      <th>absent</th>\n      <th>access</th>\n      <th>accessibility</th>\n      <th>accommodate</th>\n      <th>accountability</th>\n      <th>achievement</th>\n      <th>acknowledge</th>\n      <th>acquisition</th>\n      <th>action</th>\n      <th>...</th>\n      <th>wellbeing</th>\n      <th>wellexplain</th>\n      <th>wellmaintain</th>\n      <th>wellness</th>\n      <th>work</th>\n      <th>worker</th>\n      <th>worklife</th>\n      <th>workload</th>\n      <th>workshop</th>\n      <th>workspace</th>\n    </tr>\n  </thead>\n  <tbody>\n    <tr>\n      <th>0</th>\n      <td>0</td>\n      <td>0</td>\n      <td>0</td>\n      <td>0</td>\n      <td>0</td>\n      <td>0</td>\n      <td>0</td>\n      <td>0</td>\n      <td>0</td>\n      <td>0</td>\n      <td>...</td>\n      <td>0</td>\n      <td>0</td>\n      <td>0</td>\n      <td>0</td>\n      <td>0</td>\n      <td>0</td>\n      <td>0</td>\n      <td>0</td>\n      <td>0</td>\n      <td>0</td>\n    </tr>\n    <tr>\n      <th>1</th>\n      <td>0</td>\n      <td>0</td>\n      <td>0</td>\n      <td>0</td>\n      <td>0</td>\n      <td>0</td>\n      <td>0</td>\n      <td>0</td>\n      <td>0</td>\n      <td>0</td>\n      <td>...</td>\n      <td>0</td>\n      <td>0</td>\n      <td>0</td>\n      <td>0</td>\n      <td>0</td>\n      <td>0</td>\n      <td>0</td>\n      <td>0</td>\n      <td>0</td>\n      <td>0</td>\n    </tr>\n    <tr>\n      <th>2</th>\n      <td>0</td>\n      <td>0</td>\n      <td>0</td>\n      <td>0</td>\n      <td>0</td>\n      <td>0</td>\n      <td>0</td>\n      <td>0</td>\n      <td>0</td>\n      <td>0</td>\n      <td>...</td>\n      <td>0</td>\n      <td>0</td>\n      <td>0</td>\n      <td>0</td>\n      <td>0</td>\n      <td>0</td>\n      <td>0</td>\n      <td>0</td>\n      <td>0</td>\n      <td>0</td>\n    </tr>\n    <tr>\n      <th>3</th>\n      <td>0</td>\n      <td>0</td>\n      <td>0</td>\n      <td>0</td>\n      <td>0</td>\n      <td>0</td>\n      <td>0</td>\n      <td>0</td>\n      <td>0</td>\n      <td>0</td>\n      <td>...</td>\n      <td>0</td>\n      <td>0</td>\n      <td>0</td>\n      <td>0</td>\n      <td>0</td>\n      <td>0</td>\n      <td>0</td>\n      <td>0</td>\n      <td>0</td>\n      <td>0</td>\n    </tr>\n    <tr>\n      <th>4</th>\n      <td>0</td>\n      <td>0</td>\n      <td>0</td>\n      <td>0</td>\n      <td>0</td>\n      <td>0</td>\n      <td>0</td>\n      <td>0</td>\n      <td>0</td>\n      <td>0</td>\n      <td>...</td>\n      <td>0</td>\n      <td>0</td>\n      <td>0</td>\n      <td>0</td>\n      <td>0</td>\n      <td>0</td>\n      <td>0</td>\n      <td>0</td>\n      <td>0</td>\n      <td>0</td>\n    </tr>\n    <tr>\n      <th>...</th>\n      <td>...</td>\n      <td>...</td>\n      <td>...</td>\n      <td>...</td>\n      <td>...</td>\n      <td>...</td>\n      <td>...</td>\n      <td>...</td>\n      <td>...</td>\n      <td>...</td>\n      <td>...</td>\n      <td>...</td>\n      <td>...</td>\n      <td>...</td>\n      <td>...</td>\n      <td>...</td>\n      <td>...</td>\n      <td>...</td>\n      <td>...</td>\n      <td>...</td>\n      <td>...</td>\n    </tr>\n    <tr>\n      <th>477</th>\n      <td>0</td>\n      <td>1</td>\n      <td>0</td>\n      <td>0</td>\n      <td>0</td>\n      <td>0</td>\n      <td>0</td>\n      <td>0</td>\n      <td>0</td>\n      <td>0</td>\n      <td>...</td>\n      <td>0</td>\n      <td>0</td>\n      <td>0</td>\n      <td>0</td>\n      <td>0</td>\n      <td>0</td>\n      <td>0</td>\n      <td>0</td>\n      <td>0</td>\n      <td>0</td>\n    </tr>\n    <tr>\n      <th>478</th>\n      <td>0</td>\n      <td>0</td>\n      <td>0</td>\n      <td>0</td>\n      <td>0</td>\n      <td>0</td>\n      <td>0</td>\n      <td>0</td>\n      <td>0</td>\n      <td>0</td>\n      <td>...</td>\n      <td>0</td>\n      <td>0</td>\n      <td>0</td>\n      <td>0</td>\n      <td>0</td>\n      <td>0</td>\n      <td>0</td>\n      <td>0</td>\n      <td>0</td>\n      <td>0</td>\n    </tr>\n    <tr>\n      <th>479</th>\n      <td>0</td>\n      <td>0</td>\n      <td>0</td>\n      <td>0</td>\n      <td>0</td>\n      <td>0</td>\n      <td>0</td>\n      <td>0</td>\n      <td>0</td>\n      <td>0</td>\n      <td>...</td>\n      <td>0</td>\n      <td>0</td>\n      <td>0</td>\n      <td>0</td>\n      <td>0</td>\n      <td>0</td>\n      <td>0</td>\n      <td>0</td>\n      <td>0</td>\n      <td>0</td>\n    </tr>\n    <tr>\n      <th>480</th>\n      <td>0</td>\n      <td>0</td>\n      <td>0</td>\n      <td>0</td>\n      <td>0</td>\n      <td>0</td>\n      <td>0</td>\n      <td>0</td>\n      <td>0</td>\n      <td>0</td>\n      <td>...</td>\n      <td>0</td>\n      <td>0</td>\n      <td>0</td>\n      <td>0</td>\n      <td>0</td>\n      <td>0</td>\n      <td>0</td>\n      <td>0</td>\n      <td>0</td>\n      <td>0</td>\n    </tr>\n    <tr>\n      <th>481</th>\n      <td>0</td>\n      <td>0</td>\n      <td>0</td>\n      <td>0</td>\n      <td>0</td>\n      <td>0</td>\n      <td>0</td>\n      <td>0</td>\n      <td>0</td>\n      <td>0</td>\n      <td>...</td>\n      <td>0</td>\n      <td>0</td>\n      <td>0</td>\n      <td>0</td>\n      <td>0</td>\n      <td>0</td>\n      <td>0</td>\n      <td>0</td>\n      <td>0</td>\n      <td>0</td>\n    </tr>\n  </tbody>\n</table>\n<p>482 rows × 593 columns</p>\n</div>"
     },
     "execution_count": 177,
     "metadata": {},
     "output_type": "execute_result"
    }
   ],
   "source": [
    "# Display the Bag of Words matrix for Lemmatized data\n",
    "df_bow_lemmatized = pd.DataFrame(data=X_bow.toarray(), columns=feature_names_bow)\n",
    "df_bow_lemmatized"
   ],
   "metadata": {
    "collapsed": false
   }
  },
  {
   "cell_type": "code",
   "execution_count": 178,
   "outputs": [
    {
     "data": {
      "text/plain": "     abil  absent  access  accommod  account  achiev  acknowledg  acquisit  \\\n0       0       0       0         0        0       0           0         0   \n1       0       0       0         0        0       0           0         0   \n2       0       0       0         0        0       0           0         0   \n3       0       0       0         0        0       0           0         0   \n4       0       0       0         0        0       0           0         0   \n..    ...     ...     ...       ...      ...     ...         ...       ...   \n477     0       1       0         0        0       0           0         0   \n478     0       0       0         0        0       0           0         0   \n479     0       0       0         0        0       0           0         0   \n480     0       0       0         0        0       0           0         0   \n481     0       0       0         0        0       0           0         0   \n\n     action  activ  ...  well  wellb  wellexplain  wellmaintain  worker  \\\n0         0      0  ...     0      0            0             0       0   \n1         0      0  ...     0      0            0             0       0   \n2         0      0  ...     0      0            0             0       0   \n3         0      0  ...     0      0            0             0       0   \n4         0      0  ...     0      0            0             0       0   \n..      ...    ...  ...   ...    ...          ...           ...     ...   \n477       0      0  ...     0      0            0             0       0   \n478       0      0  ...     0      0            0             0       0   \n479       0      0  ...     0      0            0             0       0   \n480       0      0  ...     0      0            0             0       0   \n481       0      0  ...     0      0            0             0       0   \n\n     worklif  workload  workshop  workspac  wors  \n0          0         0         0         0     0  \n1          0         0         0         0     0  \n2          0         0         0         0     0  \n3          0         0         0         0     0  \n4          0         0         0         0     0  \n..       ...       ...       ...       ...   ...  \n477        0         0         0         0     0  \n478        0         0         0         0     0  \n479        0         0         0         0     0  \n480        0         0         0         0     0  \n481        0         0         0         0     0  \n\n[482 rows x 517 columns]",
      "text/html": "<div>\n<style scoped>\n    .dataframe tbody tr th:only-of-type {\n        vertical-align: middle;\n    }\n\n    .dataframe tbody tr th {\n        vertical-align: top;\n    }\n\n    .dataframe thead th {\n        text-align: right;\n    }\n</style>\n<table border=\"1\" class=\"dataframe\">\n  <thead>\n    <tr style=\"text-align: right;\">\n      <th></th>\n      <th>abil</th>\n      <th>absent</th>\n      <th>access</th>\n      <th>accommod</th>\n      <th>account</th>\n      <th>achiev</th>\n      <th>acknowledg</th>\n      <th>acquisit</th>\n      <th>action</th>\n      <th>activ</th>\n      <th>...</th>\n      <th>well</th>\n      <th>wellb</th>\n      <th>wellexplain</th>\n      <th>wellmaintain</th>\n      <th>worker</th>\n      <th>worklif</th>\n      <th>workload</th>\n      <th>workshop</th>\n      <th>workspac</th>\n      <th>wors</th>\n    </tr>\n  </thead>\n  <tbody>\n    <tr>\n      <th>0</th>\n      <td>0</td>\n      <td>0</td>\n      <td>0</td>\n      <td>0</td>\n      <td>0</td>\n      <td>0</td>\n      <td>0</td>\n      <td>0</td>\n      <td>0</td>\n      <td>0</td>\n      <td>...</td>\n      <td>0</td>\n      <td>0</td>\n      <td>0</td>\n      <td>0</td>\n      <td>0</td>\n      <td>0</td>\n      <td>0</td>\n      <td>0</td>\n      <td>0</td>\n      <td>0</td>\n    </tr>\n    <tr>\n      <th>1</th>\n      <td>0</td>\n      <td>0</td>\n      <td>0</td>\n      <td>0</td>\n      <td>0</td>\n      <td>0</td>\n      <td>0</td>\n      <td>0</td>\n      <td>0</td>\n      <td>0</td>\n      <td>...</td>\n      <td>0</td>\n      <td>0</td>\n      <td>0</td>\n      <td>0</td>\n      <td>0</td>\n      <td>0</td>\n      <td>0</td>\n      <td>0</td>\n      <td>0</td>\n      <td>0</td>\n    </tr>\n    <tr>\n      <th>2</th>\n      <td>0</td>\n      <td>0</td>\n      <td>0</td>\n      <td>0</td>\n      <td>0</td>\n      <td>0</td>\n      <td>0</td>\n      <td>0</td>\n      <td>0</td>\n      <td>0</td>\n      <td>...</td>\n      <td>0</td>\n      <td>0</td>\n      <td>0</td>\n      <td>0</td>\n      <td>0</td>\n      <td>0</td>\n      <td>0</td>\n      <td>0</td>\n      <td>0</td>\n      <td>0</td>\n    </tr>\n    <tr>\n      <th>3</th>\n      <td>0</td>\n      <td>0</td>\n      <td>0</td>\n      <td>0</td>\n      <td>0</td>\n      <td>0</td>\n      <td>0</td>\n      <td>0</td>\n      <td>0</td>\n      <td>0</td>\n      <td>...</td>\n      <td>0</td>\n      <td>0</td>\n      <td>0</td>\n      <td>0</td>\n      <td>0</td>\n      <td>0</td>\n      <td>0</td>\n      <td>0</td>\n      <td>0</td>\n      <td>0</td>\n    </tr>\n    <tr>\n      <th>4</th>\n      <td>0</td>\n      <td>0</td>\n      <td>0</td>\n      <td>0</td>\n      <td>0</td>\n      <td>0</td>\n      <td>0</td>\n      <td>0</td>\n      <td>0</td>\n      <td>0</td>\n      <td>...</td>\n      <td>0</td>\n      <td>0</td>\n      <td>0</td>\n      <td>0</td>\n      <td>0</td>\n      <td>0</td>\n      <td>0</td>\n      <td>0</td>\n      <td>0</td>\n      <td>0</td>\n    </tr>\n    <tr>\n      <th>...</th>\n      <td>...</td>\n      <td>...</td>\n      <td>...</td>\n      <td>...</td>\n      <td>...</td>\n      <td>...</td>\n      <td>...</td>\n      <td>...</td>\n      <td>...</td>\n      <td>...</td>\n      <td>...</td>\n      <td>...</td>\n      <td>...</td>\n      <td>...</td>\n      <td>...</td>\n      <td>...</td>\n      <td>...</td>\n      <td>...</td>\n      <td>...</td>\n      <td>...</td>\n      <td>...</td>\n    </tr>\n    <tr>\n      <th>477</th>\n      <td>0</td>\n      <td>1</td>\n      <td>0</td>\n      <td>0</td>\n      <td>0</td>\n      <td>0</td>\n      <td>0</td>\n      <td>0</td>\n      <td>0</td>\n      <td>0</td>\n      <td>...</td>\n      <td>0</td>\n      <td>0</td>\n      <td>0</td>\n      <td>0</td>\n      <td>0</td>\n      <td>0</td>\n      <td>0</td>\n      <td>0</td>\n      <td>0</td>\n      <td>0</td>\n    </tr>\n    <tr>\n      <th>478</th>\n      <td>0</td>\n      <td>0</td>\n      <td>0</td>\n      <td>0</td>\n      <td>0</td>\n      <td>0</td>\n      <td>0</td>\n      <td>0</td>\n      <td>0</td>\n      <td>0</td>\n      <td>...</td>\n      <td>0</td>\n      <td>0</td>\n      <td>0</td>\n      <td>0</td>\n      <td>0</td>\n      <td>0</td>\n      <td>0</td>\n      <td>0</td>\n      <td>0</td>\n      <td>0</td>\n    </tr>\n    <tr>\n      <th>479</th>\n      <td>0</td>\n      <td>0</td>\n      <td>0</td>\n      <td>0</td>\n      <td>0</td>\n      <td>0</td>\n      <td>0</td>\n      <td>0</td>\n      <td>0</td>\n      <td>0</td>\n      <td>...</td>\n      <td>0</td>\n      <td>0</td>\n      <td>0</td>\n      <td>0</td>\n      <td>0</td>\n      <td>0</td>\n      <td>0</td>\n      <td>0</td>\n      <td>0</td>\n      <td>0</td>\n    </tr>\n    <tr>\n      <th>480</th>\n      <td>0</td>\n      <td>0</td>\n      <td>0</td>\n      <td>0</td>\n      <td>0</td>\n      <td>0</td>\n      <td>0</td>\n      <td>0</td>\n      <td>0</td>\n      <td>0</td>\n      <td>...</td>\n      <td>0</td>\n      <td>0</td>\n      <td>0</td>\n      <td>0</td>\n      <td>0</td>\n      <td>0</td>\n      <td>0</td>\n      <td>0</td>\n      <td>0</td>\n      <td>0</td>\n    </tr>\n    <tr>\n      <th>481</th>\n      <td>0</td>\n      <td>0</td>\n      <td>0</td>\n      <td>0</td>\n      <td>0</td>\n      <td>0</td>\n      <td>0</td>\n      <td>0</td>\n      <td>0</td>\n      <td>0</td>\n      <td>...</td>\n      <td>0</td>\n      <td>0</td>\n      <td>0</td>\n      <td>0</td>\n      <td>0</td>\n      <td>0</td>\n      <td>0</td>\n      <td>0</td>\n      <td>0</td>\n      <td>0</td>\n    </tr>\n  </tbody>\n</table>\n<p>482 rows × 517 columns</p>\n</div>"
     },
     "execution_count": 178,
     "metadata": {},
     "output_type": "execute_result"
    }
   ],
   "source": [
    "# Display the Bag of Words matrix for Stemmed data\n",
    "df_bow_stemmed = pd.DataFrame(data=X_bow_stemmed.toarray(), columns=feature_names_bow_stemmed)\n",
    "# Assuming df_bow_stemmed is your Bag of Words dataframe for Stemmed data\n",
    "df_bow_stemmed"
   ],
   "metadata": {
    "collapsed": false
   }
  },
  {
   "cell_type": "markdown",
   "source": [
    "Use of TF-IDF vectorize and Bag of Words (BoW) techniques to vectorize the texts"
   ],
   "metadata": {
    "collapsed": false
   }
  },
  {
   "cell_type": "markdown",
   "source": [
    "Clustering Using Kmeans"
   ],
   "metadata": {
    "collapsed": false
   }
  },
  {
   "cell_type": "code",
   "execution_count": 180,
   "outputs": [],
   "source": [
    "from sklearn.cluster import KMeans\n",
    "kmeans = KMeans(n_clusters=12, init='k-means++', random_state= 42)\n",
    "y_predict_Z= kmeans.fit_predict(Z_cleaned)\n",
    "df['y_predict_stemm'] = pd.DataFrame(data = y_predict_Z)"
   ],
   "metadata": {
    "collapsed": false
   }
  },
  {
   "cell_type": "code",
   "execution_count": 181,
   "outputs": [],
   "source": [
    "kmeans = KMeans(n_clusters=12, init='k-means++', random_state= 42)\n",
    "y_predict_E= kmeans.fit_predict(E)\n",
    "df['y_predict_inflemm'] = pd.DataFrame(data = y_predict_E)"
   ],
   "metadata": {
    "collapsed": false
   }
  },
  {
   "cell_type": "code",
   "execution_count": 182,
   "outputs": [],
   "source": [
    "df['count']=1"
   ],
   "metadata": {
    "collapsed": false
   }
  },
  {
   "cell_type": "code",
   "execution_count": 183,
   "outputs": [
    {
     "data": {
      "application/vnd.plotly.v1+json": {
       "data": [
        {
         "alignmentgroup": "True",
         "hovertemplate": "Genre=Communication Issues<br>y_predict_stemm=%{x}<br>count=%{y}<extra></extra>",
         "legendgroup": "Communication Issues",
         "marker": {
          "color": "#636efa",
          "pattern": {
           "shape": ""
          }
         },
         "name": "Communication Issues",
         "offsetgroup": "Communication Issues",
         "orientation": "v",
         "showlegend": true,
         "textposition": "auto",
         "x": [
          9,
          11,
          5,
          0,
          5,
          5,
          5,
          5,
          5,
          5,
          1,
          5,
          5,
          5,
          5,
          6,
          5,
          2,
          5,
          5,
          5,
          5,
          3,
          9,
          5,
          11,
          5,
          7,
          5,
          5,
          3,
          3,
          0,
          2,
          5,
          5,
          3,
          5,
          5,
          4,
          4,
          5,
          5,
          4,
          5,
          5,
          5,
          2,
          5,
          5,
          1,
          5,
          5,
          4,
          4,
          2,
          4,
          4,
          3,
          5,
          4,
          5,
          5,
          5,
          4,
          11,
          2,
          5,
          9,
          4,
          5,
          4,
          10,
          2,
          4,
          1,
          4,
          5,
          4,
          5,
          4,
          11,
          5,
          4,
          5,
          4,
          4,
          4,
          5,
          5,
          5,
          0,
          4,
          11,
          10,
          10,
          2,
          3,
          10,
          4
         ],
         "xaxis": "x",
         "y": [
          1,
          1,
          1,
          1,
          1,
          1,
          1,
          1,
          1,
          1,
          1,
          1,
          1,
          1,
          1,
          1,
          1,
          1,
          1,
          1,
          1,
          1,
          1,
          1,
          1,
          1,
          1,
          1,
          1,
          1,
          1,
          1,
          1,
          1,
          1,
          1,
          1,
          1,
          1,
          1,
          1,
          1,
          1,
          1,
          1,
          1,
          1,
          1,
          1,
          1,
          1,
          1,
          1,
          1,
          1,
          1,
          1,
          1,
          1,
          1,
          1,
          1,
          1,
          1,
          1,
          1,
          1,
          1,
          1,
          1,
          1,
          1,
          1,
          1,
          1,
          1,
          1,
          1,
          1,
          1,
          1,
          1,
          1,
          1,
          1,
          1,
          1,
          1,
          1,
          1,
          1,
          1,
          1,
          1,
          1,
          1,
          1,
          1,
          1,
          1
         ],
         "yaxis": "y",
         "type": "bar"
        },
        {
         "alignmentgroup": "True",
         "hovertemplate": "Genre=Workload and Stress<br>y_predict_stemm=%{x}<br>count=%{y}<extra></extra>",
         "legendgroup": "Workload and Stress",
         "marker": {
          "color": "#EF553B",
          "pattern": {
           "shape": ""
          }
         },
         "name": "Workload and Stress",
         "offsetgroup": "Workload and Stress",
         "orientation": "v",
         "showlegend": true,
         "textposition": "auto",
         "x": [
          9,
          5,
          5,
          9,
          9,
          5,
          5,
          5,
          5,
          7,
          9,
          7,
          9,
          5,
          5,
          9,
          0,
          9,
          5,
          7,
          5,
          5,
          9,
          5,
          5,
          1,
          11,
          5,
          9,
          1,
          7,
          4,
          5,
          7,
          5,
          4,
          5,
          5,
          1,
          4,
          9,
          9,
          9,
          10,
          9,
          9,
          1,
          9,
          9,
          5,
          5,
          9,
          5,
          5,
          5,
          4,
          1,
          0,
          5,
          0,
          9,
          10,
          3,
          5,
          1,
          9,
          9,
          10,
          9,
          9,
          5,
          9,
          1,
          7,
          9,
          10,
          9,
          10,
          9,
          4,
          0,
          5,
          10,
          4,
          9,
          5,
          5,
          0,
          10,
          9,
          0,
          5,
          1,
          10,
          9,
          10,
          3,
          1,
          3,
          9
         ],
         "xaxis": "x",
         "y": [
          1,
          1,
          1,
          1,
          1,
          1,
          1,
          1,
          1,
          1,
          1,
          1,
          1,
          1,
          1,
          1,
          1,
          1,
          1,
          1,
          1,
          1,
          1,
          1,
          1,
          1,
          1,
          1,
          1,
          1,
          1,
          1,
          1,
          1,
          1,
          1,
          1,
          1,
          1,
          1,
          1,
          1,
          1,
          1,
          1,
          1,
          1,
          1,
          1,
          1,
          1,
          1,
          1,
          1,
          1,
          1,
          1,
          1,
          1,
          1,
          1,
          1,
          1,
          1,
          1,
          1,
          1,
          1,
          1,
          1,
          1,
          1,
          1,
          1,
          1,
          1,
          1,
          1,
          1,
          1,
          1,
          1,
          1,
          1,
          1,
          1,
          1,
          1,
          1,
          1,
          1,
          1,
          1,
          1,
          1,
          1,
          1,
          1,
          1,
          1
         ],
         "yaxis": "y",
         "type": "bar"
        },
        {
         "alignmentgroup": "True",
         "hovertemplate": "Genre=Management Lifestyle<br>y_predict_stemm=%{x}<br>count=%{y}<extra></extra>",
         "legendgroup": "Management Lifestyle",
         "marker": {
          "color": "#00cc96",
          "pattern": {
           "shape": ""
          }
         },
         "name": "Management Lifestyle",
         "offsetgroup": "Management Lifestyle",
         "orientation": "v",
         "showlegend": true,
         "textposition": "auto",
         "x": [
          1,
          6,
          5,
          7,
          5,
          1,
          8,
          6,
          1,
          2,
          7,
          2,
          6,
          5,
          6,
          8,
          6,
          1,
          7,
          5,
          2,
          6,
          4,
          2,
          6,
          5,
          5,
          2,
          6,
          8,
          1,
          6,
          5,
          2,
          6,
          11,
          1,
          6,
          5,
          5,
          2,
          6,
          8,
          2,
          6,
          3,
          2,
          6,
          5,
          5,
          1,
          6,
          8,
          2,
          6,
          3,
          1,
          6,
          8,
          5,
          1,
          6,
          8,
          2,
          7,
          8,
          1,
          6,
          8,
          5,
          1,
          2,
          8,
          2,
          6,
          8,
          1,
          6,
          8,
          5,
          2,
          6,
          8,
          1,
          6,
          8,
          2,
          6,
          8,
          1,
          6,
          8,
          5,
          2,
          6,
          8,
          1,
          6,
          8,
          5
         ],
         "xaxis": "x",
         "y": [
          1,
          1,
          1,
          1,
          1,
          1,
          1,
          1,
          1,
          1,
          1,
          1,
          1,
          1,
          1,
          1,
          1,
          1,
          1,
          1,
          1,
          1,
          1,
          1,
          1,
          1,
          1,
          1,
          1,
          1,
          1,
          1,
          1,
          1,
          1,
          1,
          1,
          1,
          1,
          1,
          1,
          1,
          1,
          1,
          1,
          1,
          1,
          1,
          1,
          1,
          1,
          1,
          1,
          1,
          1,
          1,
          1,
          1,
          1,
          1,
          1,
          1,
          1,
          1,
          1,
          1,
          1,
          1,
          1,
          1,
          1,
          1,
          1,
          1,
          1,
          1,
          1,
          1,
          1,
          1,
          1,
          1,
          1,
          1,
          1,
          1,
          1,
          1,
          1,
          1,
          1,
          1,
          1,
          1,
          1,
          1,
          1,
          1,
          1,
          1
         ],
         "yaxis": "y",
         "type": "bar"
        },
        {
         "alignmentgroup": "True",
         "hovertemplate": "Genre=Compensation and Benefits<br>y_predict_stemm=%{x}<br>count=%{y}<extra></extra>",
         "legendgroup": "Compensation and Benefits",
         "marker": {
          "color": "#ab63fa",
          "pattern": {
           "shape": ""
          }
         },
         "name": "Compensation and Benefits",
         "offsetgroup": "Compensation and Benefits",
         "orientation": "v",
         "showlegend": true,
         "textposition": "auto",
         "x": [
          5,
          3,
          5,
          5,
          5,
          5,
          4,
          5,
          10,
          8,
          5,
          10,
          10,
          5,
          5,
          5,
          5,
          5,
          3,
          4,
          5,
          5,
          5,
          5,
          10,
          5,
          10,
          3,
          4,
          5
         ],
         "xaxis": "x",
         "y": [
          1,
          1,
          1,
          1,
          1,
          1,
          1,
          1,
          1,
          1,
          1,
          1,
          1,
          1,
          1,
          1,
          1,
          1,
          1,
          1,
          1,
          1,
          1,
          1,
          1,
          1,
          1,
          1,
          1,
          1
         ],
         "yaxis": "y",
         "type": "bar"
        },
        {
         "alignmentgroup": "True",
         "hovertemplate": "Genre=Career Development<br>y_predict_stemm=%{x}<br>count=%{y}<extra></extra>",
         "legendgroup": "Career Development",
         "marker": {
          "color": "#FFA15A",
          "pattern": {
           "shape": ""
          }
         },
         "name": "Career Development",
         "offsetgroup": "Career Development",
         "orientation": "v",
         "showlegend": true,
         "textposition": "auto",
         "x": [
          5,
          5,
          10,
          3,
          5,
          5,
          3,
          10,
          8,
          10,
          5,
          8,
          10,
          5,
          10,
          5,
          3,
          10,
          3,
          8,
          4,
          10,
          8,
          5,
          10,
          8,
          11,
          10,
          3,
          8
         ],
         "xaxis": "x",
         "y": [
          1,
          1,
          1,
          1,
          1,
          1,
          1,
          1,
          1,
          1,
          1,
          1,
          1,
          1,
          1,
          1,
          1,
          1,
          1,
          1,
          1,
          1,
          1,
          1,
          1,
          1,
          1,
          1,
          1,
          1
         ],
         "yaxis": "y",
         "type": "bar"
        },
        {
         "alignmentgroup": "True",
         "hovertemplate": "Genre=Workplace Environment<br>y_predict_stemm=%{x}<br>count=%{y}<extra></extra>",
         "legendgroup": "Workplace Environment",
         "marker": {
          "color": "#19d3f3",
          "pattern": {
           "shape": ""
          }
         },
         "name": "Workplace Environment",
         "offsetgroup": "Workplace Environment",
         "orientation": "v",
         "showlegend": true,
         "textposition": "auto",
         "x": [
          5,
          3,
          5,
          10,
          5,
          11,
          5,
          5,
          5,
          7,
          10,
          5,
          5,
          4,
          5,
          5,
          7,
          5,
          7,
          5,
          3,
          7,
          7,
          5,
          5,
          5,
          9,
          5,
          7,
          5,
          5,
          3,
          5,
          10,
          5,
          11,
          5,
          5,
          5,
          7,
          10,
          5,
          5,
          4,
          5,
          5,
          7,
          5,
          7,
          5,
          3,
          7
         ],
         "xaxis": "x",
         "y": [
          1,
          1,
          1,
          1,
          1,
          1,
          1,
          1,
          1,
          1,
          1,
          1,
          1,
          1,
          1,
          1,
          1,
          1,
          1,
          1,
          1,
          1,
          1,
          1,
          1,
          1,
          1,
          1,
          1,
          1,
          1,
          1,
          1,
          1,
          1,
          1,
          1,
          1,
          1,
          1,
          1,
          1,
          1,
          1,
          1,
          1,
          1,
          1,
          1,
          1,
          1,
          1
         ],
         "yaxis": "y",
         "type": "bar"
        },
        {
         "alignmentgroup": "True",
         "hovertemplate": "Genre=Lack of training and development<br>y_predict_stemm=%{x}<br>count=%{y}<extra></extra>",
         "legendgroup": "Lack of training and development",
         "marker": {
          "color": "#FF6692",
          "pattern": {
           "shape": ""
          }
         },
         "name": "Lack of training and development",
         "offsetgroup": "Lack of training and development",
         "orientation": "v",
         "showlegend": true,
         "textposition": "auto",
         "x": [
          9,
          10,
          3,
          3,
          5,
          1,
          10,
          3,
          8,
          5,
          5,
          10,
          3,
          4,
          8,
          10,
          3,
          3,
          5,
          5,
          8,
          10,
          11,
          3,
          8,
          5,
          5,
          8,
          3,
          8,
          10,
          5,
          3,
          8,
          10,
          10,
          3,
          8,
          10,
          10,
          5,
          8,
          5,
          5,
          3,
          8,
          10,
          5,
          3,
          5,
          10,
          3,
          8,
          5,
          10,
          3,
          5,
          8,
          5,
          10,
          3,
          8,
          10,
          10,
          3,
          5,
          8,
          5,
          10,
          3
         ],
         "xaxis": "x",
         "y": [
          1,
          1,
          1,
          1,
          1,
          1,
          1,
          1,
          1,
          1,
          1,
          1,
          1,
          1,
          1,
          1,
          1,
          1,
          1,
          1,
          1,
          1,
          1,
          1,
          1,
          1,
          1,
          1,
          1,
          1,
          1,
          1,
          1,
          1,
          1,
          1,
          1,
          1,
          1,
          1,
          1,
          1,
          1,
          1,
          1,
          1,
          1,
          1,
          1,
          1,
          1,
          1,
          1,
          1,
          1,
          1,
          1,
          1,
          1,
          1,
          1,
          1,
          1,
          1,
          1,
          1,
          1,
          1,
          1,
          1
         ],
         "yaxis": "y",
         "type": "bar"
        }
       ],
       "layout": {
        "template": {
         "data": {
          "histogram2dcontour": [
           {
            "type": "histogram2dcontour",
            "colorbar": {
             "outlinewidth": 0,
             "ticks": ""
            },
            "colorscale": [
             [
              0.0,
              "#0d0887"
             ],
             [
              0.1111111111111111,
              "#46039f"
             ],
             [
              0.2222222222222222,
              "#7201a8"
             ],
             [
              0.3333333333333333,
              "#9c179e"
             ],
             [
              0.4444444444444444,
              "#bd3786"
             ],
             [
              0.5555555555555556,
              "#d8576b"
             ],
             [
              0.6666666666666666,
              "#ed7953"
             ],
             [
              0.7777777777777778,
              "#fb9f3a"
             ],
             [
              0.8888888888888888,
              "#fdca26"
             ],
             [
              1.0,
              "#f0f921"
             ]
            ]
           }
          ],
          "choropleth": [
           {
            "type": "choropleth",
            "colorbar": {
             "outlinewidth": 0,
             "ticks": ""
            }
           }
          ],
          "histogram2d": [
           {
            "type": "histogram2d",
            "colorbar": {
             "outlinewidth": 0,
             "ticks": ""
            },
            "colorscale": [
             [
              0.0,
              "#0d0887"
             ],
             [
              0.1111111111111111,
              "#46039f"
             ],
             [
              0.2222222222222222,
              "#7201a8"
             ],
             [
              0.3333333333333333,
              "#9c179e"
             ],
             [
              0.4444444444444444,
              "#bd3786"
             ],
             [
              0.5555555555555556,
              "#d8576b"
             ],
             [
              0.6666666666666666,
              "#ed7953"
             ],
             [
              0.7777777777777778,
              "#fb9f3a"
             ],
             [
              0.8888888888888888,
              "#fdca26"
             ],
             [
              1.0,
              "#f0f921"
             ]
            ]
           }
          ],
          "heatmap": [
           {
            "type": "heatmap",
            "colorbar": {
             "outlinewidth": 0,
             "ticks": ""
            },
            "colorscale": [
             [
              0.0,
              "#0d0887"
             ],
             [
              0.1111111111111111,
              "#46039f"
             ],
             [
              0.2222222222222222,
              "#7201a8"
             ],
             [
              0.3333333333333333,
              "#9c179e"
             ],
             [
              0.4444444444444444,
              "#bd3786"
             ],
             [
              0.5555555555555556,
              "#d8576b"
             ],
             [
              0.6666666666666666,
              "#ed7953"
             ],
             [
              0.7777777777777778,
              "#fb9f3a"
             ],
             [
              0.8888888888888888,
              "#fdca26"
             ],
             [
              1.0,
              "#f0f921"
             ]
            ]
           }
          ],
          "heatmapgl": [
           {
            "type": "heatmapgl",
            "colorbar": {
             "outlinewidth": 0,
             "ticks": ""
            },
            "colorscale": [
             [
              0.0,
              "#0d0887"
             ],
             [
              0.1111111111111111,
              "#46039f"
             ],
             [
              0.2222222222222222,
              "#7201a8"
             ],
             [
              0.3333333333333333,
              "#9c179e"
             ],
             [
              0.4444444444444444,
              "#bd3786"
             ],
             [
              0.5555555555555556,
              "#d8576b"
             ],
             [
              0.6666666666666666,
              "#ed7953"
             ],
             [
              0.7777777777777778,
              "#fb9f3a"
             ],
             [
              0.8888888888888888,
              "#fdca26"
             ],
             [
              1.0,
              "#f0f921"
             ]
            ]
           }
          ],
          "contourcarpet": [
           {
            "type": "contourcarpet",
            "colorbar": {
             "outlinewidth": 0,
             "ticks": ""
            }
           }
          ],
          "contour": [
           {
            "type": "contour",
            "colorbar": {
             "outlinewidth": 0,
             "ticks": ""
            },
            "colorscale": [
             [
              0.0,
              "#0d0887"
             ],
             [
              0.1111111111111111,
              "#46039f"
             ],
             [
              0.2222222222222222,
              "#7201a8"
             ],
             [
              0.3333333333333333,
              "#9c179e"
             ],
             [
              0.4444444444444444,
              "#bd3786"
             ],
             [
              0.5555555555555556,
              "#d8576b"
             ],
             [
              0.6666666666666666,
              "#ed7953"
             ],
             [
              0.7777777777777778,
              "#fb9f3a"
             ],
             [
              0.8888888888888888,
              "#fdca26"
             ],
             [
              1.0,
              "#f0f921"
             ]
            ]
           }
          ],
          "surface": [
           {
            "type": "surface",
            "colorbar": {
             "outlinewidth": 0,
             "ticks": ""
            },
            "colorscale": [
             [
              0.0,
              "#0d0887"
             ],
             [
              0.1111111111111111,
              "#46039f"
             ],
             [
              0.2222222222222222,
              "#7201a8"
             ],
             [
              0.3333333333333333,
              "#9c179e"
             ],
             [
              0.4444444444444444,
              "#bd3786"
             ],
             [
              0.5555555555555556,
              "#d8576b"
             ],
             [
              0.6666666666666666,
              "#ed7953"
             ],
             [
              0.7777777777777778,
              "#fb9f3a"
             ],
             [
              0.8888888888888888,
              "#fdca26"
             ],
             [
              1.0,
              "#f0f921"
             ]
            ]
           }
          ],
          "mesh3d": [
           {
            "type": "mesh3d",
            "colorbar": {
             "outlinewidth": 0,
             "ticks": ""
            }
           }
          ],
          "scatter": [
           {
            "fillpattern": {
             "fillmode": "overlay",
             "size": 10,
             "solidity": 0.2
            },
            "type": "scatter"
           }
          ],
          "parcoords": [
           {
            "type": "parcoords",
            "line": {
             "colorbar": {
              "outlinewidth": 0,
              "ticks": ""
             }
            }
           }
          ],
          "scatterpolargl": [
           {
            "type": "scatterpolargl",
            "marker": {
             "colorbar": {
              "outlinewidth": 0,
              "ticks": ""
             }
            }
           }
          ],
          "bar": [
           {
            "error_x": {
             "color": "#2a3f5f"
            },
            "error_y": {
             "color": "#2a3f5f"
            },
            "marker": {
             "line": {
              "color": "#E5ECF6",
              "width": 0.5
             },
             "pattern": {
              "fillmode": "overlay",
              "size": 10,
              "solidity": 0.2
             }
            },
            "type": "bar"
           }
          ],
          "scattergeo": [
           {
            "type": "scattergeo",
            "marker": {
             "colorbar": {
              "outlinewidth": 0,
              "ticks": ""
             }
            }
           }
          ],
          "scatterpolar": [
           {
            "type": "scatterpolar",
            "marker": {
             "colorbar": {
              "outlinewidth": 0,
              "ticks": ""
             }
            }
           }
          ],
          "histogram": [
           {
            "marker": {
             "pattern": {
              "fillmode": "overlay",
              "size": 10,
              "solidity": 0.2
             }
            },
            "type": "histogram"
           }
          ],
          "scattergl": [
           {
            "type": "scattergl",
            "marker": {
             "colorbar": {
              "outlinewidth": 0,
              "ticks": ""
             }
            }
           }
          ],
          "scatter3d": [
           {
            "type": "scatter3d",
            "line": {
             "colorbar": {
              "outlinewidth": 0,
              "ticks": ""
             }
            },
            "marker": {
             "colorbar": {
              "outlinewidth": 0,
              "ticks": ""
             }
            }
           }
          ],
          "scattermapbox": [
           {
            "type": "scattermapbox",
            "marker": {
             "colorbar": {
              "outlinewidth": 0,
              "ticks": ""
             }
            }
           }
          ],
          "scatterternary": [
           {
            "type": "scatterternary",
            "marker": {
             "colorbar": {
              "outlinewidth": 0,
              "ticks": ""
             }
            }
           }
          ],
          "scattercarpet": [
           {
            "type": "scattercarpet",
            "marker": {
             "colorbar": {
              "outlinewidth": 0,
              "ticks": ""
             }
            }
           }
          ],
          "carpet": [
           {
            "aaxis": {
             "endlinecolor": "#2a3f5f",
             "gridcolor": "white",
             "linecolor": "white",
             "minorgridcolor": "white",
             "startlinecolor": "#2a3f5f"
            },
            "baxis": {
             "endlinecolor": "#2a3f5f",
             "gridcolor": "white",
             "linecolor": "white",
             "minorgridcolor": "white",
             "startlinecolor": "#2a3f5f"
            },
            "type": "carpet"
           }
          ],
          "table": [
           {
            "cells": {
             "fill": {
              "color": "#EBF0F8"
             },
             "line": {
              "color": "white"
             }
            },
            "header": {
             "fill": {
              "color": "#C8D4E3"
             },
             "line": {
              "color": "white"
             }
            },
            "type": "table"
           }
          ],
          "barpolar": [
           {
            "marker": {
             "line": {
              "color": "#E5ECF6",
              "width": 0.5
             },
             "pattern": {
              "fillmode": "overlay",
              "size": 10,
              "solidity": 0.2
             }
            },
            "type": "barpolar"
           }
          ],
          "pie": [
           {
            "automargin": true,
            "type": "pie"
           }
          ]
         },
         "layout": {
          "autotypenumbers": "strict",
          "colorway": [
           "#636efa",
           "#EF553B",
           "#00cc96",
           "#ab63fa",
           "#FFA15A",
           "#19d3f3",
           "#FF6692",
           "#B6E880",
           "#FF97FF",
           "#FECB52"
          ],
          "font": {
           "color": "#2a3f5f"
          },
          "hovermode": "closest",
          "hoverlabel": {
           "align": "left"
          },
          "paper_bgcolor": "white",
          "plot_bgcolor": "#E5ECF6",
          "polar": {
           "bgcolor": "#E5ECF6",
           "angularaxis": {
            "gridcolor": "white",
            "linecolor": "white",
            "ticks": ""
           },
           "radialaxis": {
            "gridcolor": "white",
            "linecolor": "white",
            "ticks": ""
           }
          },
          "ternary": {
           "bgcolor": "#E5ECF6",
           "aaxis": {
            "gridcolor": "white",
            "linecolor": "white",
            "ticks": ""
           },
           "baxis": {
            "gridcolor": "white",
            "linecolor": "white",
            "ticks": ""
           },
           "caxis": {
            "gridcolor": "white",
            "linecolor": "white",
            "ticks": ""
           }
          },
          "coloraxis": {
           "colorbar": {
            "outlinewidth": 0,
            "ticks": ""
           }
          },
          "colorscale": {
           "sequential": [
            [
             0.0,
             "#0d0887"
            ],
            [
             0.1111111111111111,
             "#46039f"
            ],
            [
             0.2222222222222222,
             "#7201a8"
            ],
            [
             0.3333333333333333,
             "#9c179e"
            ],
            [
             0.4444444444444444,
             "#bd3786"
            ],
            [
             0.5555555555555556,
             "#d8576b"
            ],
            [
             0.6666666666666666,
             "#ed7953"
            ],
            [
             0.7777777777777778,
             "#fb9f3a"
            ],
            [
             0.8888888888888888,
             "#fdca26"
            ],
            [
             1.0,
             "#f0f921"
            ]
           ],
           "sequentialminus": [
            [
             0.0,
             "#0d0887"
            ],
            [
             0.1111111111111111,
             "#46039f"
            ],
            [
             0.2222222222222222,
             "#7201a8"
            ],
            [
             0.3333333333333333,
             "#9c179e"
            ],
            [
             0.4444444444444444,
             "#bd3786"
            ],
            [
             0.5555555555555556,
             "#d8576b"
            ],
            [
             0.6666666666666666,
             "#ed7953"
            ],
            [
             0.7777777777777778,
             "#fb9f3a"
            ],
            [
             0.8888888888888888,
             "#fdca26"
            ],
            [
             1.0,
             "#f0f921"
            ]
           ],
           "diverging": [
            [
             0,
             "#8e0152"
            ],
            [
             0.1,
             "#c51b7d"
            ],
            [
             0.2,
             "#de77ae"
            ],
            [
             0.3,
             "#f1b6da"
            ],
            [
             0.4,
             "#fde0ef"
            ],
            [
             0.5,
             "#f7f7f7"
            ],
            [
             0.6,
             "#e6f5d0"
            ],
            [
             0.7,
             "#b8e186"
            ],
            [
             0.8,
             "#7fbc41"
            ],
            [
             0.9,
             "#4d9221"
            ],
            [
             1,
             "#276419"
            ]
           ]
          },
          "xaxis": {
           "gridcolor": "white",
           "linecolor": "white",
           "ticks": "",
           "title": {
            "standoff": 15
           },
           "zerolinecolor": "white",
           "automargin": true,
           "zerolinewidth": 2
          },
          "yaxis": {
           "gridcolor": "white",
           "linecolor": "white",
           "ticks": "",
           "title": {
            "standoff": 15
           },
           "zerolinecolor": "white",
           "automargin": true,
           "zerolinewidth": 2
          },
          "scene": {
           "xaxis": {
            "backgroundcolor": "#E5ECF6",
            "gridcolor": "white",
            "linecolor": "white",
            "showbackground": true,
            "ticks": "",
            "zerolinecolor": "white",
            "gridwidth": 2
           },
           "yaxis": {
            "backgroundcolor": "#E5ECF6",
            "gridcolor": "white",
            "linecolor": "white",
            "showbackground": true,
            "ticks": "",
            "zerolinecolor": "white",
            "gridwidth": 2
           },
           "zaxis": {
            "backgroundcolor": "#E5ECF6",
            "gridcolor": "white",
            "linecolor": "white",
            "showbackground": true,
            "ticks": "",
            "zerolinecolor": "white",
            "gridwidth": 2
           }
          },
          "shapedefaults": {
           "line": {
            "color": "#2a3f5f"
           }
          },
          "annotationdefaults": {
           "arrowcolor": "#2a3f5f",
           "arrowhead": 0,
           "arrowwidth": 1
          },
          "geo": {
           "bgcolor": "white",
           "landcolor": "#E5ECF6",
           "subunitcolor": "white",
           "showland": true,
           "showlakes": true,
           "lakecolor": "white"
          },
          "title": {
           "x": 0.05
          },
          "mapbox": {
           "style": "light"
          }
         }
        },
        "xaxis": {
         "anchor": "y",
         "domain": [
          0.0,
          1.0
         ],
         "title": {
          "text": "y_predict_stemm"
         }
        },
        "yaxis": {
         "anchor": "x",
         "domain": [
          0.0,
          1.0
         ],
         "title": {
          "text": "count"
         }
        },
        "legend": {
         "title": {
          "text": "Genre"
         },
         "tracegroupgap": 0
        },
        "title": {
         "text": "Long-Form Input"
        },
        "barmode": "relative"
       },
       "config": {
        "plotlyServerURL": "https://plot.ly"
       }
      },
      "text/html": "<div>                            <div id=\"94739f70-e4aa-4d39-8b85-2506af4c1bce\" class=\"plotly-graph-div\" style=\"height:525px; width:100%;\"></div>            <script type=\"text/javascript\">                require([\"plotly\"], function(Plotly) {                    window.PLOTLYENV=window.PLOTLYENV || {};                                    if (document.getElementById(\"94739f70-e4aa-4d39-8b85-2506af4c1bce\")) {                    Plotly.newPlot(                        \"94739f70-e4aa-4d39-8b85-2506af4c1bce\",                        [{\"alignmentgroup\":\"True\",\"hovertemplate\":\"Genre=Communication Issues\\u003cbr\\u003ey_predict_stemm=%{x}\\u003cbr\\u003ecount=%{y}\\u003cextra\\u003e\\u003c\\u002fextra\\u003e\",\"legendgroup\":\"Communication Issues\",\"marker\":{\"color\":\"#636efa\",\"pattern\":{\"shape\":\"\"}},\"name\":\"Communication Issues\",\"offsetgroup\":\"Communication Issues\",\"orientation\":\"v\",\"showlegend\":true,\"textposition\":\"auto\",\"x\":[9,11,5,0,5,5,5,5,5,5,1,5,5,5,5,6,5,2,5,5,5,5,3,9,5,11,5,7,5,5,3,3,0,2,5,5,3,5,5,4,4,5,5,4,5,5,5,2,5,5,1,5,5,4,4,2,4,4,3,5,4,5,5,5,4,11,2,5,9,4,5,4,10,2,4,1,4,5,4,5,4,11,5,4,5,4,4,4,5,5,5,0,4,11,10,10,2,3,10,4],\"xaxis\":\"x\",\"y\":[1,1,1,1,1,1,1,1,1,1,1,1,1,1,1,1,1,1,1,1,1,1,1,1,1,1,1,1,1,1,1,1,1,1,1,1,1,1,1,1,1,1,1,1,1,1,1,1,1,1,1,1,1,1,1,1,1,1,1,1,1,1,1,1,1,1,1,1,1,1,1,1,1,1,1,1,1,1,1,1,1,1,1,1,1,1,1,1,1,1,1,1,1,1,1,1,1,1,1,1],\"yaxis\":\"y\",\"type\":\"bar\"},{\"alignmentgroup\":\"True\",\"hovertemplate\":\"Genre=Workload and Stress\\u003cbr\\u003ey_predict_stemm=%{x}\\u003cbr\\u003ecount=%{y}\\u003cextra\\u003e\\u003c\\u002fextra\\u003e\",\"legendgroup\":\"Workload and Stress\",\"marker\":{\"color\":\"#EF553B\",\"pattern\":{\"shape\":\"\"}},\"name\":\"Workload and Stress\",\"offsetgroup\":\"Workload and Stress\",\"orientation\":\"v\",\"showlegend\":true,\"textposition\":\"auto\",\"x\":[9,5,5,9,9,5,5,5,5,7,9,7,9,5,5,9,0,9,5,7,5,5,9,5,5,1,11,5,9,1,7,4,5,7,5,4,5,5,1,4,9,9,9,10,9,9,1,9,9,5,5,9,5,5,5,4,1,0,5,0,9,10,3,5,1,9,9,10,9,9,5,9,1,7,9,10,9,10,9,4,0,5,10,4,9,5,5,0,10,9,0,5,1,10,9,10,3,1,3,9],\"xaxis\":\"x\",\"y\":[1,1,1,1,1,1,1,1,1,1,1,1,1,1,1,1,1,1,1,1,1,1,1,1,1,1,1,1,1,1,1,1,1,1,1,1,1,1,1,1,1,1,1,1,1,1,1,1,1,1,1,1,1,1,1,1,1,1,1,1,1,1,1,1,1,1,1,1,1,1,1,1,1,1,1,1,1,1,1,1,1,1,1,1,1,1,1,1,1,1,1,1,1,1,1,1,1,1,1,1],\"yaxis\":\"y\",\"type\":\"bar\"},{\"alignmentgroup\":\"True\",\"hovertemplate\":\"Genre=Management Lifestyle\\u003cbr\\u003ey_predict_stemm=%{x}\\u003cbr\\u003ecount=%{y}\\u003cextra\\u003e\\u003c\\u002fextra\\u003e\",\"legendgroup\":\"Management Lifestyle\",\"marker\":{\"color\":\"#00cc96\",\"pattern\":{\"shape\":\"\"}},\"name\":\"Management Lifestyle\",\"offsetgroup\":\"Management Lifestyle\",\"orientation\":\"v\",\"showlegend\":true,\"textposition\":\"auto\",\"x\":[1,6,5,7,5,1,8,6,1,2,7,2,6,5,6,8,6,1,7,5,2,6,4,2,6,5,5,2,6,8,1,6,5,2,6,11,1,6,5,5,2,6,8,2,6,3,2,6,5,5,1,6,8,2,6,3,1,6,8,5,1,6,8,2,7,8,1,6,8,5,1,2,8,2,6,8,1,6,8,5,2,6,8,1,6,8,2,6,8,1,6,8,5,2,6,8,1,6,8,5],\"xaxis\":\"x\",\"y\":[1,1,1,1,1,1,1,1,1,1,1,1,1,1,1,1,1,1,1,1,1,1,1,1,1,1,1,1,1,1,1,1,1,1,1,1,1,1,1,1,1,1,1,1,1,1,1,1,1,1,1,1,1,1,1,1,1,1,1,1,1,1,1,1,1,1,1,1,1,1,1,1,1,1,1,1,1,1,1,1,1,1,1,1,1,1,1,1,1,1,1,1,1,1,1,1,1,1,1,1],\"yaxis\":\"y\",\"type\":\"bar\"},{\"alignmentgroup\":\"True\",\"hovertemplate\":\"Genre=Compensation and Benefits\\u003cbr\\u003ey_predict_stemm=%{x}\\u003cbr\\u003ecount=%{y}\\u003cextra\\u003e\\u003c\\u002fextra\\u003e\",\"legendgroup\":\"Compensation and Benefits\",\"marker\":{\"color\":\"#ab63fa\",\"pattern\":{\"shape\":\"\"}},\"name\":\"Compensation and Benefits\",\"offsetgroup\":\"Compensation and Benefits\",\"orientation\":\"v\",\"showlegend\":true,\"textposition\":\"auto\",\"x\":[5,3,5,5,5,5,4,5,10,8,5,10,10,5,5,5,5,5,3,4,5,5,5,5,10,5,10,3,4,5],\"xaxis\":\"x\",\"y\":[1,1,1,1,1,1,1,1,1,1,1,1,1,1,1,1,1,1,1,1,1,1,1,1,1,1,1,1,1,1],\"yaxis\":\"y\",\"type\":\"bar\"},{\"alignmentgroup\":\"True\",\"hovertemplate\":\"Genre=Career Development\\u003cbr\\u003ey_predict_stemm=%{x}\\u003cbr\\u003ecount=%{y}\\u003cextra\\u003e\\u003c\\u002fextra\\u003e\",\"legendgroup\":\"Career Development\",\"marker\":{\"color\":\"#FFA15A\",\"pattern\":{\"shape\":\"\"}},\"name\":\"Career Development\",\"offsetgroup\":\"Career Development\",\"orientation\":\"v\",\"showlegend\":true,\"textposition\":\"auto\",\"x\":[5,5,10,3,5,5,3,10,8,10,5,8,10,5,10,5,3,10,3,8,4,10,8,5,10,8,11,10,3,8],\"xaxis\":\"x\",\"y\":[1,1,1,1,1,1,1,1,1,1,1,1,1,1,1,1,1,1,1,1,1,1,1,1,1,1,1,1,1,1],\"yaxis\":\"y\",\"type\":\"bar\"},{\"alignmentgroup\":\"True\",\"hovertemplate\":\"Genre=Workplace Environment\\u003cbr\\u003ey_predict_stemm=%{x}\\u003cbr\\u003ecount=%{y}\\u003cextra\\u003e\\u003c\\u002fextra\\u003e\",\"legendgroup\":\"Workplace Environment\",\"marker\":{\"color\":\"#19d3f3\",\"pattern\":{\"shape\":\"\"}},\"name\":\"Workplace Environment\",\"offsetgroup\":\"Workplace Environment\",\"orientation\":\"v\",\"showlegend\":true,\"textposition\":\"auto\",\"x\":[5,3,5,10,5,11,5,5,5,7,10,5,5,4,5,5,7,5,7,5,3,7,7,5,5,5,9,5,7,5,5,3,5,10,5,11,5,5,5,7,10,5,5,4,5,5,7,5,7,5,3,7],\"xaxis\":\"x\",\"y\":[1,1,1,1,1,1,1,1,1,1,1,1,1,1,1,1,1,1,1,1,1,1,1,1,1,1,1,1,1,1,1,1,1,1,1,1,1,1,1,1,1,1,1,1,1,1,1,1,1,1,1,1],\"yaxis\":\"y\",\"type\":\"bar\"},{\"alignmentgroup\":\"True\",\"hovertemplate\":\"Genre=Lack of training and development\\u003cbr\\u003ey_predict_stemm=%{x}\\u003cbr\\u003ecount=%{y}\\u003cextra\\u003e\\u003c\\u002fextra\\u003e\",\"legendgroup\":\"Lack of training and development\",\"marker\":{\"color\":\"#FF6692\",\"pattern\":{\"shape\":\"\"}},\"name\":\"Lack of training and development\",\"offsetgroup\":\"Lack of training and development\",\"orientation\":\"v\",\"showlegend\":true,\"textposition\":\"auto\",\"x\":[9,10,3,3,5,1,10,3,8,5,5,10,3,4,8,10,3,3,5,5,8,10,11,3,8,5,5,8,3,8,10,5,3,8,10,10,3,8,10,10,5,8,5,5,3,8,10,5,3,5,10,3,8,5,10,3,5,8,5,10,3,8,10,10,3,5,8,5,10,3],\"xaxis\":\"x\",\"y\":[1,1,1,1,1,1,1,1,1,1,1,1,1,1,1,1,1,1,1,1,1,1,1,1,1,1,1,1,1,1,1,1,1,1,1,1,1,1,1,1,1,1,1,1,1,1,1,1,1,1,1,1,1,1,1,1,1,1,1,1,1,1,1,1,1,1,1,1,1,1],\"yaxis\":\"y\",\"type\":\"bar\"}],                        {\"template\":{\"data\":{\"histogram2dcontour\":[{\"type\":\"histogram2dcontour\",\"colorbar\":{\"outlinewidth\":0,\"ticks\":\"\"},\"colorscale\":[[0.0,\"#0d0887\"],[0.1111111111111111,\"#46039f\"],[0.2222222222222222,\"#7201a8\"],[0.3333333333333333,\"#9c179e\"],[0.4444444444444444,\"#bd3786\"],[0.5555555555555556,\"#d8576b\"],[0.6666666666666666,\"#ed7953\"],[0.7777777777777778,\"#fb9f3a\"],[0.8888888888888888,\"#fdca26\"],[1.0,\"#f0f921\"]]}],\"choropleth\":[{\"type\":\"choropleth\",\"colorbar\":{\"outlinewidth\":0,\"ticks\":\"\"}}],\"histogram2d\":[{\"type\":\"histogram2d\",\"colorbar\":{\"outlinewidth\":0,\"ticks\":\"\"},\"colorscale\":[[0.0,\"#0d0887\"],[0.1111111111111111,\"#46039f\"],[0.2222222222222222,\"#7201a8\"],[0.3333333333333333,\"#9c179e\"],[0.4444444444444444,\"#bd3786\"],[0.5555555555555556,\"#d8576b\"],[0.6666666666666666,\"#ed7953\"],[0.7777777777777778,\"#fb9f3a\"],[0.8888888888888888,\"#fdca26\"],[1.0,\"#f0f921\"]]}],\"heatmap\":[{\"type\":\"heatmap\",\"colorbar\":{\"outlinewidth\":0,\"ticks\":\"\"},\"colorscale\":[[0.0,\"#0d0887\"],[0.1111111111111111,\"#46039f\"],[0.2222222222222222,\"#7201a8\"],[0.3333333333333333,\"#9c179e\"],[0.4444444444444444,\"#bd3786\"],[0.5555555555555556,\"#d8576b\"],[0.6666666666666666,\"#ed7953\"],[0.7777777777777778,\"#fb9f3a\"],[0.8888888888888888,\"#fdca26\"],[1.0,\"#f0f921\"]]}],\"heatmapgl\":[{\"type\":\"heatmapgl\",\"colorbar\":{\"outlinewidth\":0,\"ticks\":\"\"},\"colorscale\":[[0.0,\"#0d0887\"],[0.1111111111111111,\"#46039f\"],[0.2222222222222222,\"#7201a8\"],[0.3333333333333333,\"#9c179e\"],[0.4444444444444444,\"#bd3786\"],[0.5555555555555556,\"#d8576b\"],[0.6666666666666666,\"#ed7953\"],[0.7777777777777778,\"#fb9f3a\"],[0.8888888888888888,\"#fdca26\"],[1.0,\"#f0f921\"]]}],\"contourcarpet\":[{\"type\":\"contourcarpet\",\"colorbar\":{\"outlinewidth\":0,\"ticks\":\"\"}}],\"contour\":[{\"type\":\"contour\",\"colorbar\":{\"outlinewidth\":0,\"ticks\":\"\"},\"colorscale\":[[0.0,\"#0d0887\"],[0.1111111111111111,\"#46039f\"],[0.2222222222222222,\"#7201a8\"],[0.3333333333333333,\"#9c179e\"],[0.4444444444444444,\"#bd3786\"],[0.5555555555555556,\"#d8576b\"],[0.6666666666666666,\"#ed7953\"],[0.7777777777777778,\"#fb9f3a\"],[0.8888888888888888,\"#fdca26\"],[1.0,\"#f0f921\"]]}],\"surface\":[{\"type\":\"surface\",\"colorbar\":{\"outlinewidth\":0,\"ticks\":\"\"},\"colorscale\":[[0.0,\"#0d0887\"],[0.1111111111111111,\"#46039f\"],[0.2222222222222222,\"#7201a8\"],[0.3333333333333333,\"#9c179e\"],[0.4444444444444444,\"#bd3786\"],[0.5555555555555556,\"#d8576b\"],[0.6666666666666666,\"#ed7953\"],[0.7777777777777778,\"#fb9f3a\"],[0.8888888888888888,\"#fdca26\"],[1.0,\"#f0f921\"]]}],\"mesh3d\":[{\"type\":\"mesh3d\",\"colorbar\":{\"outlinewidth\":0,\"ticks\":\"\"}}],\"scatter\":[{\"fillpattern\":{\"fillmode\":\"overlay\",\"size\":10,\"solidity\":0.2},\"type\":\"scatter\"}],\"parcoords\":[{\"type\":\"parcoords\",\"line\":{\"colorbar\":{\"outlinewidth\":0,\"ticks\":\"\"}}}],\"scatterpolargl\":[{\"type\":\"scatterpolargl\",\"marker\":{\"colorbar\":{\"outlinewidth\":0,\"ticks\":\"\"}}}],\"bar\":[{\"error_x\":{\"color\":\"#2a3f5f\"},\"error_y\":{\"color\":\"#2a3f5f\"},\"marker\":{\"line\":{\"color\":\"#E5ECF6\",\"width\":0.5},\"pattern\":{\"fillmode\":\"overlay\",\"size\":10,\"solidity\":0.2}},\"type\":\"bar\"}],\"scattergeo\":[{\"type\":\"scattergeo\",\"marker\":{\"colorbar\":{\"outlinewidth\":0,\"ticks\":\"\"}}}],\"scatterpolar\":[{\"type\":\"scatterpolar\",\"marker\":{\"colorbar\":{\"outlinewidth\":0,\"ticks\":\"\"}}}],\"histogram\":[{\"marker\":{\"pattern\":{\"fillmode\":\"overlay\",\"size\":10,\"solidity\":0.2}},\"type\":\"histogram\"}],\"scattergl\":[{\"type\":\"scattergl\",\"marker\":{\"colorbar\":{\"outlinewidth\":0,\"ticks\":\"\"}}}],\"scatter3d\":[{\"type\":\"scatter3d\",\"line\":{\"colorbar\":{\"outlinewidth\":0,\"ticks\":\"\"}},\"marker\":{\"colorbar\":{\"outlinewidth\":0,\"ticks\":\"\"}}}],\"scattermapbox\":[{\"type\":\"scattermapbox\",\"marker\":{\"colorbar\":{\"outlinewidth\":0,\"ticks\":\"\"}}}],\"scatterternary\":[{\"type\":\"scatterternary\",\"marker\":{\"colorbar\":{\"outlinewidth\":0,\"ticks\":\"\"}}}],\"scattercarpet\":[{\"type\":\"scattercarpet\",\"marker\":{\"colorbar\":{\"outlinewidth\":0,\"ticks\":\"\"}}}],\"carpet\":[{\"aaxis\":{\"endlinecolor\":\"#2a3f5f\",\"gridcolor\":\"white\",\"linecolor\":\"white\",\"minorgridcolor\":\"white\",\"startlinecolor\":\"#2a3f5f\"},\"baxis\":{\"endlinecolor\":\"#2a3f5f\",\"gridcolor\":\"white\",\"linecolor\":\"white\",\"minorgridcolor\":\"white\",\"startlinecolor\":\"#2a3f5f\"},\"type\":\"carpet\"}],\"table\":[{\"cells\":{\"fill\":{\"color\":\"#EBF0F8\"},\"line\":{\"color\":\"white\"}},\"header\":{\"fill\":{\"color\":\"#C8D4E3\"},\"line\":{\"color\":\"white\"}},\"type\":\"table\"}],\"barpolar\":[{\"marker\":{\"line\":{\"color\":\"#E5ECF6\",\"width\":0.5},\"pattern\":{\"fillmode\":\"overlay\",\"size\":10,\"solidity\":0.2}},\"type\":\"barpolar\"}],\"pie\":[{\"automargin\":true,\"type\":\"pie\"}]},\"layout\":{\"autotypenumbers\":\"strict\",\"colorway\":[\"#636efa\",\"#EF553B\",\"#00cc96\",\"#ab63fa\",\"#FFA15A\",\"#19d3f3\",\"#FF6692\",\"#B6E880\",\"#FF97FF\",\"#FECB52\"],\"font\":{\"color\":\"#2a3f5f\"},\"hovermode\":\"closest\",\"hoverlabel\":{\"align\":\"left\"},\"paper_bgcolor\":\"white\",\"plot_bgcolor\":\"#E5ECF6\",\"polar\":{\"bgcolor\":\"#E5ECF6\",\"angularaxis\":{\"gridcolor\":\"white\",\"linecolor\":\"white\",\"ticks\":\"\"},\"radialaxis\":{\"gridcolor\":\"white\",\"linecolor\":\"white\",\"ticks\":\"\"}},\"ternary\":{\"bgcolor\":\"#E5ECF6\",\"aaxis\":{\"gridcolor\":\"white\",\"linecolor\":\"white\",\"ticks\":\"\"},\"baxis\":{\"gridcolor\":\"white\",\"linecolor\":\"white\",\"ticks\":\"\"},\"caxis\":{\"gridcolor\":\"white\",\"linecolor\":\"white\",\"ticks\":\"\"}},\"coloraxis\":{\"colorbar\":{\"outlinewidth\":0,\"ticks\":\"\"}},\"colorscale\":{\"sequential\":[[0.0,\"#0d0887\"],[0.1111111111111111,\"#46039f\"],[0.2222222222222222,\"#7201a8\"],[0.3333333333333333,\"#9c179e\"],[0.4444444444444444,\"#bd3786\"],[0.5555555555555556,\"#d8576b\"],[0.6666666666666666,\"#ed7953\"],[0.7777777777777778,\"#fb9f3a\"],[0.8888888888888888,\"#fdca26\"],[1.0,\"#f0f921\"]],\"sequentialminus\":[[0.0,\"#0d0887\"],[0.1111111111111111,\"#46039f\"],[0.2222222222222222,\"#7201a8\"],[0.3333333333333333,\"#9c179e\"],[0.4444444444444444,\"#bd3786\"],[0.5555555555555556,\"#d8576b\"],[0.6666666666666666,\"#ed7953\"],[0.7777777777777778,\"#fb9f3a\"],[0.8888888888888888,\"#fdca26\"],[1.0,\"#f0f921\"]],\"diverging\":[[0,\"#8e0152\"],[0.1,\"#c51b7d\"],[0.2,\"#de77ae\"],[0.3,\"#f1b6da\"],[0.4,\"#fde0ef\"],[0.5,\"#f7f7f7\"],[0.6,\"#e6f5d0\"],[0.7,\"#b8e186\"],[0.8,\"#7fbc41\"],[0.9,\"#4d9221\"],[1,\"#276419\"]]},\"xaxis\":{\"gridcolor\":\"white\",\"linecolor\":\"white\",\"ticks\":\"\",\"title\":{\"standoff\":15},\"zerolinecolor\":\"white\",\"automargin\":true,\"zerolinewidth\":2},\"yaxis\":{\"gridcolor\":\"white\",\"linecolor\":\"white\",\"ticks\":\"\",\"title\":{\"standoff\":15},\"zerolinecolor\":\"white\",\"automargin\":true,\"zerolinewidth\":2},\"scene\":{\"xaxis\":{\"backgroundcolor\":\"#E5ECF6\",\"gridcolor\":\"white\",\"linecolor\":\"white\",\"showbackground\":true,\"ticks\":\"\",\"zerolinecolor\":\"white\",\"gridwidth\":2},\"yaxis\":{\"backgroundcolor\":\"#E5ECF6\",\"gridcolor\":\"white\",\"linecolor\":\"white\",\"showbackground\":true,\"ticks\":\"\",\"zerolinecolor\":\"white\",\"gridwidth\":2},\"zaxis\":{\"backgroundcolor\":\"#E5ECF6\",\"gridcolor\":\"white\",\"linecolor\":\"white\",\"showbackground\":true,\"ticks\":\"\",\"zerolinecolor\":\"white\",\"gridwidth\":2}},\"shapedefaults\":{\"line\":{\"color\":\"#2a3f5f\"}},\"annotationdefaults\":{\"arrowcolor\":\"#2a3f5f\",\"arrowhead\":0,\"arrowwidth\":1},\"geo\":{\"bgcolor\":\"white\",\"landcolor\":\"#E5ECF6\",\"subunitcolor\":\"white\",\"showland\":true,\"showlakes\":true,\"lakecolor\":\"white\"},\"title\":{\"x\":0.05},\"mapbox\":{\"style\":\"light\"}}},\"xaxis\":{\"anchor\":\"y\",\"domain\":[0.0,1.0],\"title\":{\"text\":\"y_predict_stemm\"}},\"yaxis\":{\"anchor\":\"x\",\"domain\":[0.0,1.0],\"title\":{\"text\":\"count\"}},\"legend\":{\"title\":{\"text\":\"Genre\"},\"tracegroupgap\":0},\"title\":{\"text\":\"Long-Form Input\"},\"barmode\":\"relative\"},                        {\"responsive\": true}                    ).then(function(){\n                            \nvar gd = document.getElementById('94739f70-e4aa-4d39-8b85-2506af4c1bce');\nvar x = new MutationObserver(function (mutations, observer) {{\n        var display = window.getComputedStyle(gd).display;\n        if (!display || display === 'none') {{\n            console.log([gd, 'removed!']);\n            Plotly.purge(gd);\n            observer.disconnect();\n        }}\n}});\n\n// Listen for the removal of the full notebook cells\nvar notebookContainer = gd.closest('#notebook-container');\nif (notebookContainer) {{\n    x.observe(notebookContainer, {childList: true});\n}}\n\n// Listen for the clearing of the current output cell\nvar outputEl = gd.closest('.output');\nif (outputEl) {{\n    x.observe(outputEl, {childList: true});\n}}\n\n                        })                };                });            </script>        </div>"
     },
     "metadata": {},
     "output_type": "display_data"
    }
   ],
   "source": [
    "import plotly.express as px\n",
    "\n",
    "fig = px.bar(df, x=\"y_predict_stemm\", y=\"count\", color=\"Genre\", title=\"Long-Form Input\")\n",
    "fig.show()"
   ],
   "metadata": {
    "collapsed": false
   }
  },
  {
   "cell_type": "code",
   "execution_count": 184,
   "outputs": [
    {
     "name": "stdout",
     "output_type": "stream",
     "text": [
      "Cluster 0: stressful, miss, fear, workload, Fear, stress, Manage, task, Important, share, time, Feedback, disregard, Clear, instruction\n",
      "Cluster 1: Management, lack, management, communication, support, Time, tool, nt, stress, workload, direction, feedback, expectation, unclear, Lack\n",
      "Cluster 2: nt, Manager, concern, address, team, raise, meeting, decision, lack, Management, contribution, conflict, employee, effectively, brush\n",
      "Cluster 3: Lack, training, lack, proper, lead, opportunity, offer, feature, program, skill, growth, communication, manage, task, add\n",
      "Cluster 4: communicate, Project, share, company, offer, consistently, update, Communication, effectively, Company, Update, Change, policy, regularly, communication\n",
      "Cluster 5: nt, team, communication, Micromanagement, Employee, Leader, stress, performance, cause, Opportunity, skill, employee, support, development, explanation\n",
      "Cluster 6: Supervisor, nt, provide, growth, opportunity, support, feedback, adequate, offer, time, challenge, advocate, recognition, encourage, promote\n",
      "Cluster 7: nt, worklife, balance, Office, impact, layout, office, lead, disrupt, hour, respect, promote, creativity, wellbe, Physical\n",
      "Cluster 8: Leadership, nt, lack, employee, skill, involvement, support, development, communication, decision, recognize, provide, transparency, leadership, confusion\n",
      "Cluster 9: task, workload, lead, nt, heavy, feel, manage, proper, overwhelming, Pressure, wellbeing, handle, leave, impossible, pressure\n",
      "Cluster 10: No, employee, provision, recognition, career, workload, avenue, guidance, Employee, communication, manage, issue, address, peak, professional\n",
      "Cluster 11: inconsistent, communication, management, During, Temperature, control, uncomfortable, Update, confusing, We, channel, office, closure, Inconsistent, performance\n"
     ]
    }
   ],
   "source": [
    "from collections import Counter\n",
    "\n",
    "# Group the data by cluster\n",
    "cluster_groups = df.groupby('y_predict_stemm')\n",
    "\n",
    "# Count the frequency of each word in each cluster\n",
    "word_counts = {}\n",
    "for name, group in cluster_groups:\n",
    "    words = ' '.join(group['Lemminf']).split()\n",
    "    word_counts[name] = Counter(words)\n",
    "\n",
    "# Get the top 15 words for each cluster\n",
    "top_words = {}\n",
    "for cluster, counter in word_counts.items():\n",
    "    top_words[cluster] = [word for word, count in counter.most_common(15)]\n",
    "for cluster, words in top_words.items():\n",
    "    print(f\"Cluster {cluster}: {', '.join(words)}\")"
   ],
   "metadata": {
    "collapsed": false
   }
  },
  {
   "cell_type": "code",
   "execution_count": 185,
   "outputs": [
    {
     "data": {
      "application/vnd.plotly.v1+json": {
       "data": [
        {
         "alignmentgroup": "True",
         "hovertemplate": "Genre=Communication Issues<br>y_predict_inflemm=%{x}<br>count=%{y}<extra></extra>",
         "legendgroup": "Communication Issues",
         "marker": {
          "color": "#636efa",
          "pattern": {
           "shape": ""
          }
         },
         "name": "Communication Issues",
         "offsetgroup": "Communication Issues",
         "orientation": "v",
         "showlegend": true,
         "textposition": "auto",
         "x": [
          10,
          10,
          10,
          10,
          10,
          10,
          10,
          10,
          10,
          10,
          10,
          10,
          10,
          10,
          10,
          10,
          10,
          10,
          10,
          10,
          10,
          8,
          10,
          10,
          10,
          10,
          10,
          10,
          10,
          10,
          10,
          10,
          10,
          10,
          10,
          10,
          10,
          10,
          10,
          10,
          10,
          10,
          10,
          10,
          10,
          10,
          10,
          10,
          10,
          10,
          10,
          10,
          10,
          10,
          10,
          10,
          10,
          10,
          10,
          10,
          10,
          10,
          10,
          10,
          10,
          10,
          10,
          10,
          10,
          10,
          10,
          10,
          10,
          10,
          10,
          10,
          10,
          10,
          10,
          10,
          10,
          10,
          10,
          10,
          10,
          10,
          10,
          10,
          7,
          10,
          10,
          10,
          10,
          10,
          10,
          10,
          4,
          10,
          10,
          10
         ],
         "xaxis": "x",
         "y": [
          1,
          1,
          1,
          1,
          1,
          1,
          1,
          1,
          1,
          1,
          1,
          1,
          1,
          1,
          1,
          1,
          1,
          1,
          1,
          1,
          1,
          1,
          1,
          1,
          1,
          1,
          1,
          1,
          1,
          1,
          1,
          1,
          1,
          1,
          1,
          1,
          1,
          1,
          1,
          1,
          1,
          1,
          1,
          1,
          1,
          1,
          1,
          1,
          1,
          1,
          1,
          1,
          1,
          1,
          1,
          1,
          1,
          1,
          1,
          1,
          1,
          1,
          1,
          1,
          1,
          1,
          1,
          1,
          1,
          1,
          1,
          1,
          1,
          1,
          1,
          1,
          1,
          1,
          1,
          1,
          1,
          1,
          1,
          1,
          1,
          1,
          1,
          1,
          1,
          1,
          1,
          1,
          1,
          1,
          1,
          1,
          1,
          1,
          1,
          1
         ],
         "yaxis": "y",
         "type": "bar"
        },
        {
         "alignmentgroup": "True",
         "hovertemplate": "Genre=Workload and Stress<br>y_predict_inflemm=%{x}<br>count=%{y}<extra></extra>",
         "legendgroup": "Workload and Stress",
         "marker": {
          "color": "#EF553B",
          "pattern": {
           "shape": ""
          }
         },
         "name": "Workload and Stress",
         "offsetgroup": "Workload and Stress",
         "orientation": "v",
         "showlegend": true,
         "textposition": "auto",
         "x": [
          10,
          10,
          10,
          10,
          10,
          10,
          10,
          10,
          10,
          10,
          10,
          5,
          10,
          10,
          10,
          10,
          10,
          10,
          10,
          10,
          10,
          10,
          10,
          10,
          11,
          10,
          10,
          10,
          10,
          10,
          5,
          10,
          10,
          10,
          10,
          10,
          10,
          11,
          10,
          10,
          10,
          10,
          10,
          10,
          10,
          10,
          10,
          10,
          10,
          10,
          10,
          10,
          10,
          10,
          11,
          10,
          10,
          10,
          10,
          10,
          10,
          10,
          10,
          10,
          10,
          10,
          10,
          10,
          10,
          6,
          10,
          10,
          10,
          10,
          10,
          10,
          10,
          10,
          10,
          10,
          0,
          10,
          10,
          10,
          10,
          10,
          10,
          10,
          10,
          10,
          10,
          10,
          10,
          10,
          10,
          10,
          10,
          10,
          10,
          10
         ],
         "xaxis": "x",
         "y": [
          1,
          1,
          1,
          1,
          1,
          1,
          1,
          1,
          1,
          1,
          1,
          1,
          1,
          1,
          1,
          1,
          1,
          1,
          1,
          1,
          1,
          1,
          1,
          1,
          1,
          1,
          1,
          1,
          1,
          1,
          1,
          1,
          1,
          1,
          1,
          1,
          1,
          1,
          1,
          1,
          1,
          1,
          1,
          1,
          1,
          1,
          1,
          1,
          1,
          1,
          1,
          1,
          1,
          1,
          1,
          1,
          1,
          1,
          1,
          1,
          1,
          1,
          1,
          1,
          1,
          1,
          1,
          1,
          1,
          1,
          1,
          1,
          1,
          1,
          1,
          1,
          1,
          1,
          1,
          1,
          1,
          1,
          1,
          1,
          1,
          1,
          1,
          1,
          1,
          1,
          1,
          1,
          1,
          1,
          1,
          1,
          1,
          1,
          1,
          1
         ],
         "yaxis": "y",
         "type": "bar"
        },
        {
         "alignmentgroup": "True",
         "hovertemplate": "Genre=Management Lifestyle<br>y_predict_inflemm=%{x}<br>count=%{y}<extra></extra>",
         "legendgroup": "Management Lifestyle",
         "marker": {
          "color": "#00cc96",
          "pattern": {
           "shape": ""
          }
         },
         "name": "Management Lifestyle",
         "offsetgroup": "Management Lifestyle",
         "orientation": "v",
         "showlegend": true,
         "textposition": "auto",
         "x": [
          10,
          10,
          10,
          5,
          10,
          10,
          10,
          10,
          1,
          10,
          10,
          10,
          10,
          10,
          11,
          9,
          10,
          10,
          5,
          10,
          10,
          10,
          10,
          10,
          10,
          10,
          10,
          1,
          10,
          10,
          10,
          10,
          10,
          10,
          10,
          10,
          10,
          10,
          10,
          10,
          10,
          10,
          10,
          10,
          11,
          10,
          10,
          10,
          10,
          10,
          10,
          10,
          10,
          10,
          10,
          10,
          10,
          10,
          9,
          10,
          10,
          11,
          10,
          10,
          5,
          10,
          10,
          10,
          10,
          10,
          10,
          10,
          10,
          11,
          10,
          10,
          10,
          10,
          10,
          10,
          10,
          10,
          10,
          10,
          10,
          10,
          10,
          10,
          9,
          1,
          11,
          10,
          10,
          10,
          10,
          10,
          10,
          10,
          10,
          10
         ],
         "xaxis": "x",
         "y": [
          1,
          1,
          1,
          1,
          1,
          1,
          1,
          1,
          1,
          1,
          1,
          1,
          1,
          1,
          1,
          1,
          1,
          1,
          1,
          1,
          1,
          1,
          1,
          1,
          1,
          1,
          1,
          1,
          1,
          1,
          1,
          1,
          1,
          1,
          1,
          1,
          1,
          1,
          1,
          1,
          1,
          1,
          1,
          1,
          1,
          1,
          1,
          1,
          1,
          1,
          1,
          1,
          1,
          1,
          1,
          1,
          1,
          1,
          1,
          1,
          1,
          1,
          1,
          1,
          1,
          1,
          1,
          1,
          1,
          1,
          1,
          1,
          1,
          1,
          1,
          1,
          1,
          1,
          1,
          1,
          1,
          1,
          1,
          1,
          1,
          1,
          1,
          1,
          1,
          1,
          1,
          1,
          1,
          1,
          1,
          1,
          1,
          1,
          1,
          1
         ],
         "yaxis": "y",
         "type": "bar"
        },
        {
         "alignmentgroup": "True",
         "hovertemplate": "Genre=Compensation and Benefits<br>y_predict_inflemm=%{x}<br>count=%{y}<extra></extra>",
         "legendgroup": "Compensation and Benefits",
         "marker": {
          "color": "#ab63fa",
          "pattern": {
           "shape": ""
          }
         },
         "name": "Compensation and Benefits",
         "offsetgroup": "Compensation and Benefits",
         "orientation": "v",
         "showlegend": true,
         "textposition": "auto",
         "x": [
          10,
          10,
          10,
          10,
          10,
          10,
          10,
          10,
          10,
          10,
          10,
          10,
          10,
          10,
          10,
          10,
          10,
          10,
          10,
          10,
          10,
          10,
          10,
          10,
          10,
          10,
          10,
          10,
          10,
          10
         ],
         "xaxis": "x",
         "y": [
          1,
          1,
          1,
          1,
          1,
          1,
          1,
          1,
          1,
          1,
          1,
          1,
          1,
          1,
          1,
          1,
          1,
          1,
          1,
          1,
          1,
          1,
          1,
          1,
          1,
          1,
          1,
          1,
          1,
          1
         ],
         "yaxis": "y",
         "type": "bar"
        },
        {
         "alignmentgroup": "True",
         "hovertemplate": "Genre=Career Development<br>y_predict_inflemm=%{x}<br>count=%{y}<extra></extra>",
         "legendgroup": "Career Development",
         "marker": {
          "color": "#FFA15A",
          "pattern": {
           "shape": ""
          }
         },
         "name": "Career Development",
         "offsetgroup": "Career Development",
         "orientation": "v",
         "showlegend": true,
         "textposition": "auto",
         "x": [
          10,
          10,
          10,
          10,
          10,
          10,
          11,
          10,
          11,
          10,
          10,
          10,
          10,
          10,
          10,
          10,
          11,
          10,
          10,
          10,
          11,
          10,
          10,
          10,
          10,
          10,
          10,
          10,
          10,
          10
         ],
         "xaxis": "x",
         "y": [
          1,
          1,
          1,
          1,
          1,
          1,
          1,
          1,
          1,
          1,
          1,
          1,
          1,
          1,
          1,
          1,
          1,
          1,
          1,
          1,
          1,
          1,
          1,
          1,
          1,
          1,
          1,
          1,
          1,
          1
         ],
         "yaxis": "y",
         "type": "bar"
        },
        {
         "alignmentgroup": "True",
         "hovertemplate": "Genre=Workplace Environment<br>y_predict_inflemm=%{x}<br>count=%{y}<extra></extra>",
         "legendgroup": "Workplace Environment",
         "marker": {
          "color": "#19d3f3",
          "pattern": {
           "shape": ""
          }
         },
         "name": "Workplace Environment",
         "offsetgroup": "Workplace Environment",
         "orientation": "v",
         "showlegend": true,
         "textposition": "auto",
         "x": [
          10,
          10,
          10,
          10,
          10,
          10,
          10,
          10,
          10,
          10,
          10,
          10,
          10,
          10,
          10,
          10,
          10,
          10,
          10,
          10,
          10,
          10,
          10,
          10,
          10,
          10,
          10,
          10,
          10,
          10,
          10,
          10,
          10,
          10,
          10,
          10,
          10,
          10,
          10,
          10,
          10,
          10,
          10,
          10,
          10,
          10,
          10,
          10,
          10,
          10,
          10,
          10
         ],
         "xaxis": "x",
         "y": [
          1,
          1,
          1,
          1,
          1,
          1,
          1,
          1,
          1,
          1,
          1,
          1,
          1,
          1,
          1,
          1,
          1,
          1,
          1,
          1,
          1,
          1,
          1,
          1,
          1,
          1,
          1,
          1,
          1,
          1,
          1,
          1,
          1,
          1,
          1,
          1,
          1,
          1,
          1,
          1,
          1,
          1,
          1,
          1,
          1,
          1,
          1,
          1,
          1,
          1,
          1,
          1
         ],
         "yaxis": "y",
         "type": "bar"
        },
        {
         "alignmentgroup": "True",
         "hovertemplate": "Genre=Lack of training and development<br>y_predict_inflemm=%{x}<br>count=%{y}<extra></extra>",
         "legendgroup": "Lack of training and development",
         "marker": {
          "color": "#FF6692",
          "pattern": {
           "shape": ""
          }
         },
         "name": "Lack of training and development",
         "offsetgroup": "Lack of training and development",
         "orientation": "v",
         "showlegend": true,
         "textposition": "auto",
         "x": [
          10,
          10,
          11,
          10,
          10,
          10,
          2,
          10,
          10,
          11,
          10,
          10,
          10,
          10,
          10,
          10,
          10,
          10,
          10,
          11,
          10,
          10,
          10,
          10,
          10,
          10,
          10,
          10,
          10,
          10,
          10,
          11,
          10,
          10,
          10,
          10,
          10,
          10,
          10,
          10,
          10,
          9,
          10,
          10,
          11,
          10,
          10,
          11,
          10,
          10,
          10,
          10,
          9,
          10,
          10,
          3,
          11,
          10,
          10,
          10,
          10,
          10,
          10,
          10,
          10,
          10,
          10,
          10,
          10,
          10
         ],
         "xaxis": "x",
         "y": [
          1,
          1,
          1,
          1,
          1,
          1,
          1,
          1,
          1,
          1,
          1,
          1,
          1,
          1,
          1,
          1,
          1,
          1,
          1,
          1,
          1,
          1,
          1,
          1,
          1,
          1,
          1,
          1,
          1,
          1,
          1,
          1,
          1,
          1,
          1,
          1,
          1,
          1,
          1,
          1,
          1,
          1,
          1,
          1,
          1,
          1,
          1,
          1,
          1,
          1,
          1,
          1,
          1,
          1,
          1,
          1,
          1,
          1,
          1,
          1,
          1,
          1,
          1,
          1,
          1,
          1,
          1,
          1,
          1,
          1
         ],
         "yaxis": "y",
         "type": "bar"
        }
       ],
       "layout": {
        "template": {
         "data": {
          "histogram2dcontour": [
           {
            "type": "histogram2dcontour",
            "colorbar": {
             "outlinewidth": 0,
             "ticks": ""
            },
            "colorscale": [
             [
              0.0,
              "#0d0887"
             ],
             [
              0.1111111111111111,
              "#46039f"
             ],
             [
              0.2222222222222222,
              "#7201a8"
             ],
             [
              0.3333333333333333,
              "#9c179e"
             ],
             [
              0.4444444444444444,
              "#bd3786"
             ],
             [
              0.5555555555555556,
              "#d8576b"
             ],
             [
              0.6666666666666666,
              "#ed7953"
             ],
             [
              0.7777777777777778,
              "#fb9f3a"
             ],
             [
              0.8888888888888888,
              "#fdca26"
             ],
             [
              1.0,
              "#f0f921"
             ]
            ]
           }
          ],
          "choropleth": [
           {
            "type": "choropleth",
            "colorbar": {
             "outlinewidth": 0,
             "ticks": ""
            }
           }
          ],
          "histogram2d": [
           {
            "type": "histogram2d",
            "colorbar": {
             "outlinewidth": 0,
             "ticks": ""
            },
            "colorscale": [
             [
              0.0,
              "#0d0887"
             ],
             [
              0.1111111111111111,
              "#46039f"
             ],
             [
              0.2222222222222222,
              "#7201a8"
             ],
             [
              0.3333333333333333,
              "#9c179e"
             ],
             [
              0.4444444444444444,
              "#bd3786"
             ],
             [
              0.5555555555555556,
              "#d8576b"
             ],
             [
              0.6666666666666666,
              "#ed7953"
             ],
             [
              0.7777777777777778,
              "#fb9f3a"
             ],
             [
              0.8888888888888888,
              "#fdca26"
             ],
             [
              1.0,
              "#f0f921"
             ]
            ]
           }
          ],
          "heatmap": [
           {
            "type": "heatmap",
            "colorbar": {
             "outlinewidth": 0,
             "ticks": ""
            },
            "colorscale": [
             [
              0.0,
              "#0d0887"
             ],
             [
              0.1111111111111111,
              "#46039f"
             ],
             [
              0.2222222222222222,
              "#7201a8"
             ],
             [
              0.3333333333333333,
              "#9c179e"
             ],
             [
              0.4444444444444444,
              "#bd3786"
             ],
             [
              0.5555555555555556,
              "#d8576b"
             ],
             [
              0.6666666666666666,
              "#ed7953"
             ],
             [
              0.7777777777777778,
              "#fb9f3a"
             ],
             [
              0.8888888888888888,
              "#fdca26"
             ],
             [
              1.0,
              "#f0f921"
             ]
            ]
           }
          ],
          "heatmapgl": [
           {
            "type": "heatmapgl",
            "colorbar": {
             "outlinewidth": 0,
             "ticks": ""
            },
            "colorscale": [
             [
              0.0,
              "#0d0887"
             ],
             [
              0.1111111111111111,
              "#46039f"
             ],
             [
              0.2222222222222222,
              "#7201a8"
             ],
             [
              0.3333333333333333,
              "#9c179e"
             ],
             [
              0.4444444444444444,
              "#bd3786"
             ],
             [
              0.5555555555555556,
              "#d8576b"
             ],
             [
              0.6666666666666666,
              "#ed7953"
             ],
             [
              0.7777777777777778,
              "#fb9f3a"
             ],
             [
              0.8888888888888888,
              "#fdca26"
             ],
             [
              1.0,
              "#f0f921"
             ]
            ]
           }
          ],
          "contourcarpet": [
           {
            "type": "contourcarpet",
            "colorbar": {
             "outlinewidth": 0,
             "ticks": ""
            }
           }
          ],
          "contour": [
           {
            "type": "contour",
            "colorbar": {
             "outlinewidth": 0,
             "ticks": ""
            },
            "colorscale": [
             [
              0.0,
              "#0d0887"
             ],
             [
              0.1111111111111111,
              "#46039f"
             ],
             [
              0.2222222222222222,
              "#7201a8"
             ],
             [
              0.3333333333333333,
              "#9c179e"
             ],
             [
              0.4444444444444444,
              "#bd3786"
             ],
             [
              0.5555555555555556,
              "#d8576b"
             ],
             [
              0.6666666666666666,
              "#ed7953"
             ],
             [
              0.7777777777777778,
              "#fb9f3a"
             ],
             [
              0.8888888888888888,
              "#fdca26"
             ],
             [
              1.0,
              "#f0f921"
             ]
            ]
           }
          ],
          "surface": [
           {
            "type": "surface",
            "colorbar": {
             "outlinewidth": 0,
             "ticks": ""
            },
            "colorscale": [
             [
              0.0,
              "#0d0887"
             ],
             [
              0.1111111111111111,
              "#46039f"
             ],
             [
              0.2222222222222222,
              "#7201a8"
             ],
             [
              0.3333333333333333,
              "#9c179e"
             ],
             [
              0.4444444444444444,
              "#bd3786"
             ],
             [
              0.5555555555555556,
              "#d8576b"
             ],
             [
              0.6666666666666666,
              "#ed7953"
             ],
             [
              0.7777777777777778,
              "#fb9f3a"
             ],
             [
              0.8888888888888888,
              "#fdca26"
             ],
             [
              1.0,
              "#f0f921"
             ]
            ]
           }
          ],
          "mesh3d": [
           {
            "type": "mesh3d",
            "colorbar": {
             "outlinewidth": 0,
             "ticks": ""
            }
           }
          ],
          "scatter": [
           {
            "fillpattern": {
             "fillmode": "overlay",
             "size": 10,
             "solidity": 0.2
            },
            "type": "scatter"
           }
          ],
          "parcoords": [
           {
            "type": "parcoords",
            "line": {
             "colorbar": {
              "outlinewidth": 0,
              "ticks": ""
             }
            }
           }
          ],
          "scatterpolargl": [
           {
            "type": "scatterpolargl",
            "marker": {
             "colorbar": {
              "outlinewidth": 0,
              "ticks": ""
             }
            }
           }
          ],
          "bar": [
           {
            "error_x": {
             "color": "#2a3f5f"
            },
            "error_y": {
             "color": "#2a3f5f"
            },
            "marker": {
             "line": {
              "color": "#E5ECF6",
              "width": 0.5
             },
             "pattern": {
              "fillmode": "overlay",
              "size": 10,
              "solidity": 0.2
             }
            },
            "type": "bar"
           }
          ],
          "scattergeo": [
           {
            "type": "scattergeo",
            "marker": {
             "colorbar": {
              "outlinewidth": 0,
              "ticks": ""
             }
            }
           }
          ],
          "scatterpolar": [
           {
            "type": "scatterpolar",
            "marker": {
             "colorbar": {
              "outlinewidth": 0,
              "ticks": ""
             }
            }
           }
          ],
          "histogram": [
           {
            "marker": {
             "pattern": {
              "fillmode": "overlay",
              "size": 10,
              "solidity": 0.2
             }
            },
            "type": "histogram"
           }
          ],
          "scattergl": [
           {
            "type": "scattergl",
            "marker": {
             "colorbar": {
              "outlinewidth": 0,
              "ticks": ""
             }
            }
           }
          ],
          "scatter3d": [
           {
            "type": "scatter3d",
            "line": {
             "colorbar": {
              "outlinewidth": 0,
              "ticks": ""
             }
            },
            "marker": {
             "colorbar": {
              "outlinewidth": 0,
              "ticks": ""
             }
            }
           }
          ],
          "scattermapbox": [
           {
            "type": "scattermapbox",
            "marker": {
             "colorbar": {
              "outlinewidth": 0,
              "ticks": ""
             }
            }
           }
          ],
          "scatterternary": [
           {
            "type": "scatterternary",
            "marker": {
             "colorbar": {
              "outlinewidth": 0,
              "ticks": ""
             }
            }
           }
          ],
          "scattercarpet": [
           {
            "type": "scattercarpet",
            "marker": {
             "colorbar": {
              "outlinewidth": 0,
              "ticks": ""
             }
            }
           }
          ],
          "carpet": [
           {
            "aaxis": {
             "endlinecolor": "#2a3f5f",
             "gridcolor": "white",
             "linecolor": "white",
             "minorgridcolor": "white",
             "startlinecolor": "#2a3f5f"
            },
            "baxis": {
             "endlinecolor": "#2a3f5f",
             "gridcolor": "white",
             "linecolor": "white",
             "minorgridcolor": "white",
             "startlinecolor": "#2a3f5f"
            },
            "type": "carpet"
           }
          ],
          "table": [
           {
            "cells": {
             "fill": {
              "color": "#EBF0F8"
             },
             "line": {
              "color": "white"
             }
            },
            "header": {
             "fill": {
              "color": "#C8D4E3"
             },
             "line": {
              "color": "white"
             }
            },
            "type": "table"
           }
          ],
          "barpolar": [
           {
            "marker": {
             "line": {
              "color": "#E5ECF6",
              "width": 0.5
             },
             "pattern": {
              "fillmode": "overlay",
              "size": 10,
              "solidity": 0.2
             }
            },
            "type": "barpolar"
           }
          ],
          "pie": [
           {
            "automargin": true,
            "type": "pie"
           }
          ]
         },
         "layout": {
          "autotypenumbers": "strict",
          "colorway": [
           "#636efa",
           "#EF553B",
           "#00cc96",
           "#ab63fa",
           "#FFA15A",
           "#19d3f3",
           "#FF6692",
           "#B6E880",
           "#FF97FF",
           "#FECB52"
          ],
          "font": {
           "color": "#2a3f5f"
          },
          "hovermode": "closest",
          "hoverlabel": {
           "align": "left"
          },
          "paper_bgcolor": "white",
          "plot_bgcolor": "#E5ECF6",
          "polar": {
           "bgcolor": "#E5ECF6",
           "angularaxis": {
            "gridcolor": "white",
            "linecolor": "white",
            "ticks": ""
           },
           "radialaxis": {
            "gridcolor": "white",
            "linecolor": "white",
            "ticks": ""
           }
          },
          "ternary": {
           "bgcolor": "#E5ECF6",
           "aaxis": {
            "gridcolor": "white",
            "linecolor": "white",
            "ticks": ""
           },
           "baxis": {
            "gridcolor": "white",
            "linecolor": "white",
            "ticks": ""
           },
           "caxis": {
            "gridcolor": "white",
            "linecolor": "white",
            "ticks": ""
           }
          },
          "coloraxis": {
           "colorbar": {
            "outlinewidth": 0,
            "ticks": ""
           }
          },
          "colorscale": {
           "sequential": [
            [
             0.0,
             "#0d0887"
            ],
            [
             0.1111111111111111,
             "#46039f"
            ],
            [
             0.2222222222222222,
             "#7201a8"
            ],
            [
             0.3333333333333333,
             "#9c179e"
            ],
            [
             0.4444444444444444,
             "#bd3786"
            ],
            [
             0.5555555555555556,
             "#d8576b"
            ],
            [
             0.6666666666666666,
             "#ed7953"
            ],
            [
             0.7777777777777778,
             "#fb9f3a"
            ],
            [
             0.8888888888888888,
             "#fdca26"
            ],
            [
             1.0,
             "#f0f921"
            ]
           ],
           "sequentialminus": [
            [
             0.0,
             "#0d0887"
            ],
            [
             0.1111111111111111,
             "#46039f"
            ],
            [
             0.2222222222222222,
             "#7201a8"
            ],
            [
             0.3333333333333333,
             "#9c179e"
            ],
            [
             0.4444444444444444,
             "#bd3786"
            ],
            [
             0.5555555555555556,
             "#d8576b"
            ],
            [
             0.6666666666666666,
             "#ed7953"
            ],
            [
             0.7777777777777778,
             "#fb9f3a"
            ],
            [
             0.8888888888888888,
             "#fdca26"
            ],
            [
             1.0,
             "#f0f921"
            ]
           ],
           "diverging": [
            [
             0,
             "#8e0152"
            ],
            [
             0.1,
             "#c51b7d"
            ],
            [
             0.2,
             "#de77ae"
            ],
            [
             0.3,
             "#f1b6da"
            ],
            [
             0.4,
             "#fde0ef"
            ],
            [
             0.5,
             "#f7f7f7"
            ],
            [
             0.6,
             "#e6f5d0"
            ],
            [
             0.7,
             "#b8e186"
            ],
            [
             0.8,
             "#7fbc41"
            ],
            [
             0.9,
             "#4d9221"
            ],
            [
             1,
             "#276419"
            ]
           ]
          },
          "xaxis": {
           "gridcolor": "white",
           "linecolor": "white",
           "ticks": "",
           "title": {
            "standoff": 15
           },
           "zerolinecolor": "white",
           "automargin": true,
           "zerolinewidth": 2
          },
          "yaxis": {
           "gridcolor": "white",
           "linecolor": "white",
           "ticks": "",
           "title": {
            "standoff": 15
           },
           "zerolinecolor": "white",
           "automargin": true,
           "zerolinewidth": 2
          },
          "scene": {
           "xaxis": {
            "backgroundcolor": "#E5ECF6",
            "gridcolor": "white",
            "linecolor": "white",
            "showbackground": true,
            "ticks": "",
            "zerolinecolor": "white",
            "gridwidth": 2
           },
           "yaxis": {
            "backgroundcolor": "#E5ECF6",
            "gridcolor": "white",
            "linecolor": "white",
            "showbackground": true,
            "ticks": "",
            "zerolinecolor": "white",
            "gridwidth": 2
           },
           "zaxis": {
            "backgroundcolor": "#E5ECF6",
            "gridcolor": "white",
            "linecolor": "white",
            "showbackground": true,
            "ticks": "",
            "zerolinecolor": "white",
            "gridwidth": 2
           }
          },
          "shapedefaults": {
           "line": {
            "color": "#2a3f5f"
           }
          },
          "annotationdefaults": {
           "arrowcolor": "#2a3f5f",
           "arrowhead": 0,
           "arrowwidth": 1
          },
          "geo": {
           "bgcolor": "white",
           "landcolor": "#E5ECF6",
           "subunitcolor": "white",
           "showland": true,
           "showlakes": true,
           "lakecolor": "white"
          },
          "title": {
           "x": 0.05
          },
          "mapbox": {
           "style": "light"
          }
         }
        },
        "xaxis": {
         "anchor": "y",
         "domain": [
          0.0,
          1.0
         ],
         "title": {
          "text": "y_predict_inflemm"
         }
        },
        "yaxis": {
         "anchor": "x",
         "domain": [
          0.0,
          1.0
         ],
         "title": {
          "text": "count"
         }
        },
        "legend": {
         "title": {
          "text": "Genre"
         },
         "tracegroupgap": 0
        },
        "title": {
         "text": "Long-Form Input"
        },
        "barmode": "relative"
       },
       "config": {
        "plotlyServerURL": "https://plot.ly"
       }
      },
      "text/html": "<div>                            <div id=\"5dceeeab-9efd-4401-ab2d-caae0f51b4bc\" class=\"plotly-graph-div\" style=\"height:525px; width:100%;\"></div>            <script type=\"text/javascript\">                require([\"plotly\"], function(Plotly) {                    window.PLOTLYENV=window.PLOTLYENV || {};                                    if (document.getElementById(\"5dceeeab-9efd-4401-ab2d-caae0f51b4bc\")) {                    Plotly.newPlot(                        \"5dceeeab-9efd-4401-ab2d-caae0f51b4bc\",                        [{\"alignmentgroup\":\"True\",\"hovertemplate\":\"Genre=Communication Issues\\u003cbr\\u003ey_predict_inflemm=%{x}\\u003cbr\\u003ecount=%{y}\\u003cextra\\u003e\\u003c\\u002fextra\\u003e\",\"legendgroup\":\"Communication Issues\",\"marker\":{\"color\":\"#636efa\",\"pattern\":{\"shape\":\"\"}},\"name\":\"Communication Issues\",\"offsetgroup\":\"Communication Issues\",\"orientation\":\"v\",\"showlegend\":true,\"textposition\":\"auto\",\"x\":[10,10,10,10,10,10,10,10,10,10,10,10,10,10,10,10,10,10,10,10,10,8,10,10,10,10,10,10,10,10,10,10,10,10,10,10,10,10,10,10,10,10,10,10,10,10,10,10,10,10,10,10,10,10,10,10,10,10,10,10,10,10,10,10,10,10,10,10,10,10,10,10,10,10,10,10,10,10,10,10,10,10,10,10,10,10,10,10,7,10,10,10,10,10,10,10,4,10,10,10],\"xaxis\":\"x\",\"y\":[1,1,1,1,1,1,1,1,1,1,1,1,1,1,1,1,1,1,1,1,1,1,1,1,1,1,1,1,1,1,1,1,1,1,1,1,1,1,1,1,1,1,1,1,1,1,1,1,1,1,1,1,1,1,1,1,1,1,1,1,1,1,1,1,1,1,1,1,1,1,1,1,1,1,1,1,1,1,1,1,1,1,1,1,1,1,1,1,1,1,1,1,1,1,1,1,1,1,1,1],\"yaxis\":\"y\",\"type\":\"bar\"},{\"alignmentgroup\":\"True\",\"hovertemplate\":\"Genre=Workload and Stress\\u003cbr\\u003ey_predict_inflemm=%{x}\\u003cbr\\u003ecount=%{y}\\u003cextra\\u003e\\u003c\\u002fextra\\u003e\",\"legendgroup\":\"Workload and Stress\",\"marker\":{\"color\":\"#EF553B\",\"pattern\":{\"shape\":\"\"}},\"name\":\"Workload and Stress\",\"offsetgroup\":\"Workload and Stress\",\"orientation\":\"v\",\"showlegend\":true,\"textposition\":\"auto\",\"x\":[10,10,10,10,10,10,10,10,10,10,10,5,10,10,10,10,10,10,10,10,10,10,10,10,11,10,10,10,10,10,5,10,10,10,10,10,10,11,10,10,10,10,10,10,10,10,10,10,10,10,10,10,10,10,11,10,10,10,10,10,10,10,10,10,10,10,10,10,10,6,10,10,10,10,10,10,10,10,10,10,0,10,10,10,10,10,10,10,10,10,10,10,10,10,10,10,10,10,10,10],\"xaxis\":\"x\",\"y\":[1,1,1,1,1,1,1,1,1,1,1,1,1,1,1,1,1,1,1,1,1,1,1,1,1,1,1,1,1,1,1,1,1,1,1,1,1,1,1,1,1,1,1,1,1,1,1,1,1,1,1,1,1,1,1,1,1,1,1,1,1,1,1,1,1,1,1,1,1,1,1,1,1,1,1,1,1,1,1,1,1,1,1,1,1,1,1,1,1,1,1,1,1,1,1,1,1,1,1,1],\"yaxis\":\"y\",\"type\":\"bar\"},{\"alignmentgroup\":\"True\",\"hovertemplate\":\"Genre=Management Lifestyle\\u003cbr\\u003ey_predict_inflemm=%{x}\\u003cbr\\u003ecount=%{y}\\u003cextra\\u003e\\u003c\\u002fextra\\u003e\",\"legendgroup\":\"Management Lifestyle\",\"marker\":{\"color\":\"#00cc96\",\"pattern\":{\"shape\":\"\"}},\"name\":\"Management Lifestyle\",\"offsetgroup\":\"Management Lifestyle\",\"orientation\":\"v\",\"showlegend\":true,\"textposition\":\"auto\",\"x\":[10,10,10,5,10,10,10,10,1,10,10,10,10,10,11,9,10,10,5,10,10,10,10,10,10,10,10,1,10,10,10,10,10,10,10,10,10,10,10,10,10,10,10,10,11,10,10,10,10,10,10,10,10,10,10,10,10,10,9,10,10,11,10,10,5,10,10,10,10,10,10,10,10,11,10,10,10,10,10,10,10,10,10,10,10,10,10,10,9,1,11,10,10,10,10,10,10,10,10,10],\"xaxis\":\"x\",\"y\":[1,1,1,1,1,1,1,1,1,1,1,1,1,1,1,1,1,1,1,1,1,1,1,1,1,1,1,1,1,1,1,1,1,1,1,1,1,1,1,1,1,1,1,1,1,1,1,1,1,1,1,1,1,1,1,1,1,1,1,1,1,1,1,1,1,1,1,1,1,1,1,1,1,1,1,1,1,1,1,1,1,1,1,1,1,1,1,1,1,1,1,1,1,1,1,1,1,1,1,1],\"yaxis\":\"y\",\"type\":\"bar\"},{\"alignmentgroup\":\"True\",\"hovertemplate\":\"Genre=Compensation and Benefits\\u003cbr\\u003ey_predict_inflemm=%{x}\\u003cbr\\u003ecount=%{y}\\u003cextra\\u003e\\u003c\\u002fextra\\u003e\",\"legendgroup\":\"Compensation and Benefits\",\"marker\":{\"color\":\"#ab63fa\",\"pattern\":{\"shape\":\"\"}},\"name\":\"Compensation and Benefits\",\"offsetgroup\":\"Compensation and Benefits\",\"orientation\":\"v\",\"showlegend\":true,\"textposition\":\"auto\",\"x\":[10,10,10,10,10,10,10,10,10,10,10,10,10,10,10,10,10,10,10,10,10,10,10,10,10,10,10,10,10,10],\"xaxis\":\"x\",\"y\":[1,1,1,1,1,1,1,1,1,1,1,1,1,1,1,1,1,1,1,1,1,1,1,1,1,1,1,1,1,1],\"yaxis\":\"y\",\"type\":\"bar\"},{\"alignmentgroup\":\"True\",\"hovertemplate\":\"Genre=Career Development\\u003cbr\\u003ey_predict_inflemm=%{x}\\u003cbr\\u003ecount=%{y}\\u003cextra\\u003e\\u003c\\u002fextra\\u003e\",\"legendgroup\":\"Career Development\",\"marker\":{\"color\":\"#FFA15A\",\"pattern\":{\"shape\":\"\"}},\"name\":\"Career Development\",\"offsetgroup\":\"Career Development\",\"orientation\":\"v\",\"showlegend\":true,\"textposition\":\"auto\",\"x\":[10,10,10,10,10,10,11,10,11,10,10,10,10,10,10,10,11,10,10,10,11,10,10,10,10,10,10,10,10,10],\"xaxis\":\"x\",\"y\":[1,1,1,1,1,1,1,1,1,1,1,1,1,1,1,1,1,1,1,1,1,1,1,1,1,1,1,1,1,1],\"yaxis\":\"y\",\"type\":\"bar\"},{\"alignmentgroup\":\"True\",\"hovertemplate\":\"Genre=Workplace Environment\\u003cbr\\u003ey_predict_inflemm=%{x}\\u003cbr\\u003ecount=%{y}\\u003cextra\\u003e\\u003c\\u002fextra\\u003e\",\"legendgroup\":\"Workplace Environment\",\"marker\":{\"color\":\"#19d3f3\",\"pattern\":{\"shape\":\"\"}},\"name\":\"Workplace Environment\",\"offsetgroup\":\"Workplace Environment\",\"orientation\":\"v\",\"showlegend\":true,\"textposition\":\"auto\",\"x\":[10,10,10,10,10,10,10,10,10,10,10,10,10,10,10,10,10,10,10,10,10,10,10,10,10,10,10,10,10,10,10,10,10,10,10,10,10,10,10,10,10,10,10,10,10,10,10,10,10,10,10,10],\"xaxis\":\"x\",\"y\":[1,1,1,1,1,1,1,1,1,1,1,1,1,1,1,1,1,1,1,1,1,1,1,1,1,1,1,1,1,1,1,1,1,1,1,1,1,1,1,1,1,1,1,1,1,1,1,1,1,1,1,1],\"yaxis\":\"y\",\"type\":\"bar\"},{\"alignmentgroup\":\"True\",\"hovertemplate\":\"Genre=Lack of training and development\\u003cbr\\u003ey_predict_inflemm=%{x}\\u003cbr\\u003ecount=%{y}\\u003cextra\\u003e\\u003c\\u002fextra\\u003e\",\"legendgroup\":\"Lack of training and development\",\"marker\":{\"color\":\"#FF6692\",\"pattern\":{\"shape\":\"\"}},\"name\":\"Lack of training and development\",\"offsetgroup\":\"Lack of training and development\",\"orientation\":\"v\",\"showlegend\":true,\"textposition\":\"auto\",\"x\":[10,10,11,10,10,10,2,10,10,11,10,10,10,10,10,10,10,10,10,11,10,10,10,10,10,10,10,10,10,10,10,11,10,10,10,10,10,10,10,10,10,9,10,10,11,10,10,11,10,10,10,10,9,10,10,3,11,10,10,10,10,10,10,10,10,10,10,10,10,10],\"xaxis\":\"x\",\"y\":[1,1,1,1,1,1,1,1,1,1,1,1,1,1,1,1,1,1,1,1,1,1,1,1,1,1,1,1,1,1,1,1,1,1,1,1,1,1,1,1,1,1,1,1,1,1,1,1,1,1,1,1,1,1,1,1,1,1,1,1,1,1,1,1,1,1,1,1,1,1],\"yaxis\":\"y\",\"type\":\"bar\"}],                        {\"template\":{\"data\":{\"histogram2dcontour\":[{\"type\":\"histogram2dcontour\",\"colorbar\":{\"outlinewidth\":0,\"ticks\":\"\"},\"colorscale\":[[0.0,\"#0d0887\"],[0.1111111111111111,\"#46039f\"],[0.2222222222222222,\"#7201a8\"],[0.3333333333333333,\"#9c179e\"],[0.4444444444444444,\"#bd3786\"],[0.5555555555555556,\"#d8576b\"],[0.6666666666666666,\"#ed7953\"],[0.7777777777777778,\"#fb9f3a\"],[0.8888888888888888,\"#fdca26\"],[1.0,\"#f0f921\"]]}],\"choropleth\":[{\"type\":\"choropleth\",\"colorbar\":{\"outlinewidth\":0,\"ticks\":\"\"}}],\"histogram2d\":[{\"type\":\"histogram2d\",\"colorbar\":{\"outlinewidth\":0,\"ticks\":\"\"},\"colorscale\":[[0.0,\"#0d0887\"],[0.1111111111111111,\"#46039f\"],[0.2222222222222222,\"#7201a8\"],[0.3333333333333333,\"#9c179e\"],[0.4444444444444444,\"#bd3786\"],[0.5555555555555556,\"#d8576b\"],[0.6666666666666666,\"#ed7953\"],[0.7777777777777778,\"#fb9f3a\"],[0.8888888888888888,\"#fdca26\"],[1.0,\"#f0f921\"]]}],\"heatmap\":[{\"type\":\"heatmap\",\"colorbar\":{\"outlinewidth\":0,\"ticks\":\"\"},\"colorscale\":[[0.0,\"#0d0887\"],[0.1111111111111111,\"#46039f\"],[0.2222222222222222,\"#7201a8\"],[0.3333333333333333,\"#9c179e\"],[0.4444444444444444,\"#bd3786\"],[0.5555555555555556,\"#d8576b\"],[0.6666666666666666,\"#ed7953\"],[0.7777777777777778,\"#fb9f3a\"],[0.8888888888888888,\"#fdca26\"],[1.0,\"#f0f921\"]]}],\"heatmapgl\":[{\"type\":\"heatmapgl\",\"colorbar\":{\"outlinewidth\":0,\"ticks\":\"\"},\"colorscale\":[[0.0,\"#0d0887\"],[0.1111111111111111,\"#46039f\"],[0.2222222222222222,\"#7201a8\"],[0.3333333333333333,\"#9c179e\"],[0.4444444444444444,\"#bd3786\"],[0.5555555555555556,\"#d8576b\"],[0.6666666666666666,\"#ed7953\"],[0.7777777777777778,\"#fb9f3a\"],[0.8888888888888888,\"#fdca26\"],[1.0,\"#f0f921\"]]}],\"contourcarpet\":[{\"type\":\"contourcarpet\",\"colorbar\":{\"outlinewidth\":0,\"ticks\":\"\"}}],\"contour\":[{\"type\":\"contour\",\"colorbar\":{\"outlinewidth\":0,\"ticks\":\"\"},\"colorscale\":[[0.0,\"#0d0887\"],[0.1111111111111111,\"#46039f\"],[0.2222222222222222,\"#7201a8\"],[0.3333333333333333,\"#9c179e\"],[0.4444444444444444,\"#bd3786\"],[0.5555555555555556,\"#d8576b\"],[0.6666666666666666,\"#ed7953\"],[0.7777777777777778,\"#fb9f3a\"],[0.8888888888888888,\"#fdca26\"],[1.0,\"#f0f921\"]]}],\"surface\":[{\"type\":\"surface\",\"colorbar\":{\"outlinewidth\":0,\"ticks\":\"\"},\"colorscale\":[[0.0,\"#0d0887\"],[0.1111111111111111,\"#46039f\"],[0.2222222222222222,\"#7201a8\"],[0.3333333333333333,\"#9c179e\"],[0.4444444444444444,\"#bd3786\"],[0.5555555555555556,\"#d8576b\"],[0.6666666666666666,\"#ed7953\"],[0.7777777777777778,\"#fb9f3a\"],[0.8888888888888888,\"#fdca26\"],[1.0,\"#f0f921\"]]}],\"mesh3d\":[{\"type\":\"mesh3d\",\"colorbar\":{\"outlinewidth\":0,\"ticks\":\"\"}}],\"scatter\":[{\"fillpattern\":{\"fillmode\":\"overlay\",\"size\":10,\"solidity\":0.2},\"type\":\"scatter\"}],\"parcoords\":[{\"type\":\"parcoords\",\"line\":{\"colorbar\":{\"outlinewidth\":0,\"ticks\":\"\"}}}],\"scatterpolargl\":[{\"type\":\"scatterpolargl\",\"marker\":{\"colorbar\":{\"outlinewidth\":0,\"ticks\":\"\"}}}],\"bar\":[{\"error_x\":{\"color\":\"#2a3f5f\"},\"error_y\":{\"color\":\"#2a3f5f\"},\"marker\":{\"line\":{\"color\":\"#E5ECF6\",\"width\":0.5},\"pattern\":{\"fillmode\":\"overlay\",\"size\":10,\"solidity\":0.2}},\"type\":\"bar\"}],\"scattergeo\":[{\"type\":\"scattergeo\",\"marker\":{\"colorbar\":{\"outlinewidth\":0,\"ticks\":\"\"}}}],\"scatterpolar\":[{\"type\":\"scatterpolar\",\"marker\":{\"colorbar\":{\"outlinewidth\":0,\"ticks\":\"\"}}}],\"histogram\":[{\"marker\":{\"pattern\":{\"fillmode\":\"overlay\",\"size\":10,\"solidity\":0.2}},\"type\":\"histogram\"}],\"scattergl\":[{\"type\":\"scattergl\",\"marker\":{\"colorbar\":{\"outlinewidth\":0,\"ticks\":\"\"}}}],\"scatter3d\":[{\"type\":\"scatter3d\",\"line\":{\"colorbar\":{\"outlinewidth\":0,\"ticks\":\"\"}},\"marker\":{\"colorbar\":{\"outlinewidth\":0,\"ticks\":\"\"}}}],\"scattermapbox\":[{\"type\":\"scattermapbox\",\"marker\":{\"colorbar\":{\"outlinewidth\":0,\"ticks\":\"\"}}}],\"scatterternary\":[{\"type\":\"scatterternary\",\"marker\":{\"colorbar\":{\"outlinewidth\":0,\"ticks\":\"\"}}}],\"scattercarpet\":[{\"type\":\"scattercarpet\",\"marker\":{\"colorbar\":{\"outlinewidth\":0,\"ticks\":\"\"}}}],\"carpet\":[{\"aaxis\":{\"endlinecolor\":\"#2a3f5f\",\"gridcolor\":\"white\",\"linecolor\":\"white\",\"minorgridcolor\":\"white\",\"startlinecolor\":\"#2a3f5f\"},\"baxis\":{\"endlinecolor\":\"#2a3f5f\",\"gridcolor\":\"white\",\"linecolor\":\"white\",\"minorgridcolor\":\"white\",\"startlinecolor\":\"#2a3f5f\"},\"type\":\"carpet\"}],\"table\":[{\"cells\":{\"fill\":{\"color\":\"#EBF0F8\"},\"line\":{\"color\":\"white\"}},\"header\":{\"fill\":{\"color\":\"#C8D4E3\"},\"line\":{\"color\":\"white\"}},\"type\":\"table\"}],\"barpolar\":[{\"marker\":{\"line\":{\"color\":\"#E5ECF6\",\"width\":0.5},\"pattern\":{\"fillmode\":\"overlay\",\"size\":10,\"solidity\":0.2}},\"type\":\"barpolar\"}],\"pie\":[{\"automargin\":true,\"type\":\"pie\"}]},\"layout\":{\"autotypenumbers\":\"strict\",\"colorway\":[\"#636efa\",\"#EF553B\",\"#00cc96\",\"#ab63fa\",\"#FFA15A\",\"#19d3f3\",\"#FF6692\",\"#B6E880\",\"#FF97FF\",\"#FECB52\"],\"font\":{\"color\":\"#2a3f5f\"},\"hovermode\":\"closest\",\"hoverlabel\":{\"align\":\"left\"},\"paper_bgcolor\":\"white\",\"plot_bgcolor\":\"#E5ECF6\",\"polar\":{\"bgcolor\":\"#E5ECF6\",\"angularaxis\":{\"gridcolor\":\"white\",\"linecolor\":\"white\",\"ticks\":\"\"},\"radialaxis\":{\"gridcolor\":\"white\",\"linecolor\":\"white\",\"ticks\":\"\"}},\"ternary\":{\"bgcolor\":\"#E5ECF6\",\"aaxis\":{\"gridcolor\":\"white\",\"linecolor\":\"white\",\"ticks\":\"\"},\"baxis\":{\"gridcolor\":\"white\",\"linecolor\":\"white\",\"ticks\":\"\"},\"caxis\":{\"gridcolor\":\"white\",\"linecolor\":\"white\",\"ticks\":\"\"}},\"coloraxis\":{\"colorbar\":{\"outlinewidth\":0,\"ticks\":\"\"}},\"colorscale\":{\"sequential\":[[0.0,\"#0d0887\"],[0.1111111111111111,\"#46039f\"],[0.2222222222222222,\"#7201a8\"],[0.3333333333333333,\"#9c179e\"],[0.4444444444444444,\"#bd3786\"],[0.5555555555555556,\"#d8576b\"],[0.6666666666666666,\"#ed7953\"],[0.7777777777777778,\"#fb9f3a\"],[0.8888888888888888,\"#fdca26\"],[1.0,\"#f0f921\"]],\"sequentialminus\":[[0.0,\"#0d0887\"],[0.1111111111111111,\"#46039f\"],[0.2222222222222222,\"#7201a8\"],[0.3333333333333333,\"#9c179e\"],[0.4444444444444444,\"#bd3786\"],[0.5555555555555556,\"#d8576b\"],[0.6666666666666666,\"#ed7953\"],[0.7777777777777778,\"#fb9f3a\"],[0.8888888888888888,\"#fdca26\"],[1.0,\"#f0f921\"]],\"diverging\":[[0,\"#8e0152\"],[0.1,\"#c51b7d\"],[0.2,\"#de77ae\"],[0.3,\"#f1b6da\"],[0.4,\"#fde0ef\"],[0.5,\"#f7f7f7\"],[0.6,\"#e6f5d0\"],[0.7,\"#b8e186\"],[0.8,\"#7fbc41\"],[0.9,\"#4d9221\"],[1,\"#276419\"]]},\"xaxis\":{\"gridcolor\":\"white\",\"linecolor\":\"white\",\"ticks\":\"\",\"title\":{\"standoff\":15},\"zerolinecolor\":\"white\",\"automargin\":true,\"zerolinewidth\":2},\"yaxis\":{\"gridcolor\":\"white\",\"linecolor\":\"white\",\"ticks\":\"\",\"title\":{\"standoff\":15},\"zerolinecolor\":\"white\",\"automargin\":true,\"zerolinewidth\":2},\"scene\":{\"xaxis\":{\"backgroundcolor\":\"#E5ECF6\",\"gridcolor\":\"white\",\"linecolor\":\"white\",\"showbackground\":true,\"ticks\":\"\",\"zerolinecolor\":\"white\",\"gridwidth\":2},\"yaxis\":{\"backgroundcolor\":\"#E5ECF6\",\"gridcolor\":\"white\",\"linecolor\":\"white\",\"showbackground\":true,\"ticks\":\"\",\"zerolinecolor\":\"white\",\"gridwidth\":2},\"zaxis\":{\"backgroundcolor\":\"#E5ECF6\",\"gridcolor\":\"white\",\"linecolor\":\"white\",\"showbackground\":true,\"ticks\":\"\",\"zerolinecolor\":\"white\",\"gridwidth\":2}},\"shapedefaults\":{\"line\":{\"color\":\"#2a3f5f\"}},\"annotationdefaults\":{\"arrowcolor\":\"#2a3f5f\",\"arrowhead\":0,\"arrowwidth\":1},\"geo\":{\"bgcolor\":\"white\",\"landcolor\":\"#E5ECF6\",\"subunitcolor\":\"white\",\"showland\":true,\"showlakes\":true,\"lakecolor\":\"white\"},\"title\":{\"x\":0.05},\"mapbox\":{\"style\":\"light\"}}},\"xaxis\":{\"anchor\":\"y\",\"domain\":[0.0,1.0],\"title\":{\"text\":\"y_predict_inflemm\"}},\"yaxis\":{\"anchor\":\"x\",\"domain\":[0.0,1.0],\"title\":{\"text\":\"count\"}},\"legend\":{\"title\":{\"text\":\"Genre\"},\"tracegroupgap\":0},\"title\":{\"text\":\"Long-Form Input\"},\"barmode\":\"relative\"},                        {\"responsive\": true}                    ).then(function(){\n                            \nvar gd = document.getElementById('5dceeeab-9efd-4401-ab2d-caae0f51b4bc');\nvar x = new MutationObserver(function (mutations, observer) {{\n        var display = window.getComputedStyle(gd).display;\n        if (!display || display === 'none') {{\n            console.log([gd, 'removed!']);\n            Plotly.purge(gd);\n            observer.disconnect();\n        }}\n}});\n\n// Listen for the removal of the full notebook cells\nvar notebookContainer = gd.closest('#notebook-container');\nif (notebookContainer) {{\n    x.observe(notebookContainer, {childList: true});\n}}\n\n// Listen for the clearing of the current output cell\nvar outputEl = gd.closest('.output');\nif (outputEl) {{\n    x.observe(outputEl, {childList: true});\n}}\n\n                        })                };                });            </script>        </div>"
     },
     "metadata": {},
     "output_type": "display_data"
    }
   ],
   "source": [
    "fig = px.bar(df, x=\"y_predict_inflemm\", y=\"count\", color=\"Genre\", title=\"Long-Form Input\")\n",
    "fig.show()"
   ],
   "metadata": {
    "collapsed": false
   }
  },
  {
   "cell_type": "code",
   "execution_count": 186,
   "outputs": [
    {
     "name": "stdout",
     "output_type": "stream",
     "text": [
      "Cluster 0: Overcommitting, fear, miss, stressful\n",
      "Cluster 1: lack, understanding, Management, role, Manager, efficiency\n",
      "Cluster 2: No, provision, ongoing, skill, development\n",
      "Cluster 3: Lack, training, lead, turnover, lack, growth\n",
      "Cluster 4: Team, discussion, lack, engagement, manager\n",
      "Cluster 5: worklife, balance, nt, respect, completely, sync, Management, support, Leader, Supervisor\n",
      "Cluster 6: Manage, workload, feel, impossible, proper, tool\n",
      "Cluster 7: Update, company, performance, lack\n",
      "Cluster 8: Miscommunication, common, remote, team\n",
      "Cluster 9: involvement, Leadership, lack, employee, development, Lack, leadership, presence, project, noticeable, hamper, teamwork, support, skill\n",
      "Cluster 10: nt, No, lack, employee, Leadership, workload, communication, Lack, Supervisor, support, task, stress, team, training, Management\n",
      "Cluster 11: opportunity, Opportunity, skill, nt, growth, learn, limit, development, provide, Supervisor, offer, Lack, advancement, lack, communicate\n"
     ]
    }
   ],
   "source": [
    "from collections import Counter\n",
    "\n",
    "# Group the data by cluster\n",
    "cluster_groups = df.groupby('y_predict_inflemm')\n",
    "\n",
    "# Count the frequency of each word in each cluster\n",
    "word_counts = {}\n",
    "for name, group in cluster_groups:\n",
    "    words = ' '.join(group['Lemminf']).split()\n",
    "    word_counts[name] = Counter(words)\n",
    "\n",
    "# Get the top 15 words for each cluster\n",
    "top_words = {}\n",
    "for cluster, counter in word_counts.items():\n",
    "    top_words[cluster] = [word for word, count in counter.most_common(15)]\n",
    "for cluster, words in top_words.items():\n",
    "    print(f\"Cluster {cluster}: {', '.join(words)}\")"
   ],
   "metadata": {
    "collapsed": false
   }
  },
  {
   "cell_type": "markdown",
   "source": [
    "Clustring BOW"
   ],
   "metadata": {
    "collapsed": false
   }
  },
  {
   "cell_type": "code",
   "execution_count": 190,
   "outputs": [],
   "source": [
    "from sklearn.feature_extraction.text import CountVectorizer\n",
    "\n",
    "# Assuming 'corpus' is a list of documents\n",
    "corpus = df['Lemminf']  # Use Lemmatized data or 'cleaned' if desired\n",
    "vectorizer = CountVectorizer()\n",
    "X_bow = vectorizer.fit_transform(corpus)"
   ],
   "metadata": {
    "collapsed": false
   }
  },
  {
   "cell_type": "code",
   "execution_count": 188,
   "outputs": [],
   "source": [
    "from sklearn.cluster import KMeans\n",
    "\n",
    "kmeans_bow = KMeans(n_clusters=12, init='k-means++', random_state=42)\n",
    "y_predict_bow = kmeans_bow.fit_predict(X_bow)\n",
    "df['y_predict_bow'] = pd.DataFrame(data=y_predict_bow)"
   ],
   "metadata": {
    "collapsed": false
   }
  },
  {
   "cell_type": "code",
   "execution_count": 191,
   "outputs": [
    {
     "data": {
      "application/vnd.plotly.v1+json": {
       "data": [
        {
         "alignmentgroup": "True",
         "hovertemplate": "Genre=Communication Issues<br>y_predict_bow=%{x}<br>count=%{y}<extra></extra>",
         "legendgroup": "Communication Issues",
         "marker": {
          "color": "#636efa",
          "pattern": {
           "shape": ""
          }
         },
         "name": "Communication Issues",
         "offsetgroup": "Communication Issues",
         "orientation": "v",
         "showlegend": true,
         "textposition": "auto",
         "x": [
          8,
          4,
          4,
          4,
          4,
          4,
          4,
          10,
          4,
          4,
          4,
          4,
          4,
          4,
          4,
          4,
          4,
          11,
          4,
          4,
          4,
          4,
          1,
          8,
          4,
          4,
          4,
          4,
          10,
          4,
          1,
          4,
          4,
          4,
          4,
          4,
          1,
          4,
          4,
          10,
          4,
          4,
          4,
          4,
          4,
          10,
          4,
          11,
          4,
          4,
          4,
          2,
          4,
          4,
          4,
          11,
          4,
          10,
          1,
          4,
          10,
          4,
          1,
          4,
          10,
          4,
          2,
          4,
          5,
          4,
          4,
          4,
          4,
          11,
          4,
          6,
          10,
          10,
          4,
          4,
          4,
          4,
          4,
          4,
          4,
          11,
          4,
          10,
          1,
          4,
          2,
          4,
          10,
          4,
          11,
          4,
          1,
          1,
          11,
          4
         ],
         "xaxis": "x",
         "y": [
          1,
          1,
          1,
          1,
          1,
          1,
          1,
          1,
          1,
          1,
          1,
          1,
          1,
          1,
          1,
          1,
          1,
          1,
          1,
          1,
          1,
          1,
          1,
          1,
          1,
          1,
          1,
          1,
          1,
          1,
          1,
          1,
          1,
          1,
          1,
          1,
          1,
          1,
          1,
          1,
          1,
          1,
          1,
          1,
          1,
          1,
          1,
          1,
          1,
          1,
          1,
          1,
          1,
          1,
          1,
          1,
          1,
          1,
          1,
          1,
          1,
          1,
          1,
          1,
          1,
          1,
          1,
          1,
          1,
          1,
          1,
          1,
          1,
          1,
          1,
          1,
          1,
          1,
          1,
          1,
          1,
          1,
          1,
          1,
          1,
          1,
          1,
          1,
          1,
          1,
          1,
          1,
          1,
          1,
          1,
          1,
          1,
          1,
          1,
          1
         ],
         "yaxis": "y",
         "type": "bar"
        },
        {
         "alignmentgroup": "True",
         "hovertemplate": "Genre=Workload and Stress<br>y_predict_bow=%{x}<br>count=%{y}<extra></extra>",
         "legendgroup": "Workload and Stress",
         "marker": {
          "color": "#EF553B",
          "pattern": {
           "shape": ""
          }
         },
         "name": "Workload and Stress",
         "offsetgroup": "Workload and Stress",
         "orientation": "v",
         "showlegend": true,
         "textposition": "auto",
         "x": [
          0,
          4,
          4,
          8,
          4,
          4,
          4,
          4,
          10,
          4,
          0,
          4,
          0,
          4,
          2,
          8,
          0,
          8,
          4,
          4,
          2,
          4,
          0,
          4,
          4,
          6,
          0,
          4,
          5,
          2,
          4,
          10,
          2,
          6,
          4,
          4,
          4,
          4,
          0,
          4,
          8,
          8,
          0,
          0,
          0,
          5,
          6,
          8,
          8,
          4,
          4,
          0,
          11,
          2,
          4,
          4,
          0,
          4,
          0,
          8,
          8,
          0,
          8,
          4,
          5,
          8,
          8,
          0,
          8,
          0,
          4,
          8,
          4,
          0,
          8,
          4,
          0,
          10,
          8,
          0,
          4,
          6,
          11,
          0,
          0,
          4,
          2,
          0,
          0,
          5,
          8,
          0,
          6,
          4,
          0,
          0,
          6,
          0,
          0,
          4
         ],
         "xaxis": "x",
         "y": [
          1,
          1,
          1,
          1,
          1,
          1,
          1,
          1,
          1,
          1,
          1,
          1,
          1,
          1,
          1,
          1,
          1,
          1,
          1,
          1,
          1,
          1,
          1,
          1,
          1,
          1,
          1,
          1,
          1,
          1,
          1,
          1,
          1,
          1,
          1,
          1,
          1,
          1,
          1,
          1,
          1,
          1,
          1,
          1,
          1,
          1,
          1,
          1,
          1,
          1,
          1,
          1,
          1,
          1,
          1,
          1,
          1,
          1,
          1,
          1,
          1,
          1,
          1,
          1,
          1,
          1,
          1,
          1,
          1,
          1,
          1,
          1,
          1,
          1,
          1,
          1,
          1,
          1,
          1,
          1,
          1,
          1,
          1,
          1,
          1,
          1,
          1,
          1,
          1,
          1,
          1,
          1,
          1,
          1,
          1,
          1,
          1,
          1,
          1,
          1
         ],
         "yaxis": "y",
         "type": "bar"
        },
        {
         "alignmentgroup": "True",
         "hovertemplate": "Genre=Management Lifestyle<br>y_predict_bow=%{x}<br>count=%{y}<extra></extra>",
         "legendgroup": "Management Lifestyle",
         "marker": {
          "color": "#00cc96",
          "pattern": {
           "shape": ""
          }
         },
         "name": "Management Lifestyle",
         "offsetgroup": "Management Lifestyle",
         "orientation": "v",
         "showlegend": true,
         "textposition": "auto",
         "x": [
          6,
          7,
          4,
          2,
          4,
          6,
          1,
          7,
          6,
          2,
          4,
          2,
          7,
          4,
          7,
          1,
          7,
          4,
          2,
          4,
          4,
          7,
          4,
          11,
          1,
          2,
          4,
          1,
          7,
          1,
          6,
          7,
          4,
          4,
          7,
          4,
          6,
          7,
          2,
          4,
          2,
          7,
          4,
          11,
          7,
          1,
          2,
          7,
          10,
          4,
          6,
          7,
          1,
          2,
          7,
          1,
          4,
          7,
          1,
          4,
          4,
          7,
          1,
          11,
          7,
          4,
          6,
          7,
          1,
          4,
          6,
          11,
          1,
          2,
          7,
          1,
          6,
          7,
          4,
          4,
          2,
          7,
          2,
          6,
          7,
          1,
          2,
          7,
          1,
          6,
          7,
          1,
          4,
          11,
          7,
          1,
          6,
          7,
          2,
          4
         ],
         "xaxis": "x",
         "y": [
          1,
          1,
          1,
          1,
          1,
          1,
          1,
          1,
          1,
          1,
          1,
          1,
          1,
          1,
          1,
          1,
          1,
          1,
          1,
          1,
          1,
          1,
          1,
          1,
          1,
          1,
          1,
          1,
          1,
          1,
          1,
          1,
          1,
          1,
          1,
          1,
          1,
          1,
          1,
          1,
          1,
          1,
          1,
          1,
          1,
          1,
          1,
          1,
          1,
          1,
          1,
          1,
          1,
          1,
          1,
          1,
          1,
          1,
          1,
          1,
          1,
          1,
          1,
          1,
          1,
          1,
          1,
          1,
          1,
          1,
          1,
          1,
          1,
          1,
          1,
          1,
          1,
          1,
          1,
          1,
          1,
          1,
          1,
          1,
          1,
          1,
          1,
          1,
          1,
          1,
          1,
          1,
          1,
          1,
          1,
          1,
          1,
          1,
          1,
          1
         ],
         "yaxis": "y",
         "type": "bar"
        },
        {
         "alignmentgroup": "True",
         "hovertemplate": "Genre=Compensation and Benefits<br>y_predict_bow=%{x}<br>count=%{y}<extra></extra>",
         "legendgroup": "Compensation and Benefits",
         "marker": {
          "color": "#ab63fa",
          "pattern": {
           "shape": ""
          }
         },
         "name": "Compensation and Benefits",
         "offsetgroup": "Compensation and Benefits",
         "orientation": "v",
         "showlegend": true,
         "textposition": "auto",
         "x": [
          4,
          1,
          2,
          4,
          2,
          2,
          4,
          4,
          4,
          4,
          4,
          4,
          4,
          4,
          2,
          4,
          4,
          2,
          1,
          4,
          4,
          2,
          4,
          4,
          4,
          4,
          4,
          1,
          4,
          4
         ],
         "xaxis": "x",
         "y": [
          1,
          1,
          1,
          1,
          1,
          1,
          1,
          1,
          1,
          1,
          1,
          1,
          1,
          1,
          1,
          1,
          1,
          1,
          1,
          1,
          1,
          1,
          1,
          1,
          1,
          1,
          1,
          1,
          1,
          1
         ],
         "yaxis": "y",
         "type": "bar"
        },
        {
         "alignmentgroup": "True",
         "hovertemplate": "Genre=Career Development<br>y_predict_bow=%{x}<br>count=%{y}<extra></extra>",
         "legendgroup": "Career Development",
         "marker": {
          "color": "#FFA15A",
          "pattern": {
           "shape": ""
          }
         },
         "name": "Career Development",
         "offsetgroup": "Career Development",
         "orientation": "v",
         "showlegend": true,
         "textposition": "auto",
         "x": [
          4,
          4,
          4,
          1,
          4,
          4,
          1,
          4,
          2,
          4,
          4,
          2,
          4,
          4,
          4,
          4,
          1,
          2,
          4,
          2,
          10,
          4,
          2,
          4,
          4,
          2,
          4,
          4,
          1,
          2
         ],
         "xaxis": "x",
         "y": [
          1,
          1,
          1,
          1,
          1,
          1,
          1,
          1,
          1,
          1,
          1,
          1,
          1,
          1,
          1,
          1,
          1,
          1,
          1,
          1,
          1,
          1,
          1,
          1,
          1,
          1,
          1,
          1,
          1,
          1
         ],
         "yaxis": "y",
         "type": "bar"
        },
        {
         "alignmentgroup": "True",
         "hovertemplate": "Genre=Workplace Environment<br>y_predict_bow=%{x}<br>count=%{y}<extra></extra>",
         "legendgroup": "Workplace Environment",
         "marker": {
          "color": "#19d3f3",
          "pattern": {
           "shape": ""
          }
         },
         "name": "Workplace Environment",
         "offsetgroup": "Workplace Environment",
         "orientation": "v",
         "showlegend": true,
         "textposition": "auto",
         "x": [
          4,
          1,
          4,
          4,
          4,
          4,
          4,
          2,
          4,
          2,
          4,
          9,
          4,
          4,
          3,
          4,
          4,
          4,
          2,
          4,
          1,
          4,
          4,
          4,
          4,
          4,
          8,
          4,
          4,
          4,
          4,
          1,
          4,
          4,
          4,
          4,
          4,
          2,
          4,
          2,
          4,
          9,
          4,
          4,
          3,
          4,
          4,
          4,
          2,
          4,
          1,
          4
         ],
         "xaxis": "x",
         "y": [
          1,
          1,
          1,
          1,
          1,
          1,
          1,
          1,
          1,
          1,
          1,
          1,
          1,
          1,
          1,
          1,
          1,
          1,
          1,
          1,
          1,
          1,
          1,
          1,
          1,
          1,
          1,
          1,
          1,
          1,
          1,
          1,
          1,
          1,
          1,
          1,
          1,
          1,
          1,
          1,
          1,
          1,
          1,
          1,
          1,
          1,
          1,
          1,
          1,
          1,
          1,
          1
         ],
         "yaxis": "y",
         "type": "bar"
        },
        {
         "alignmentgroup": "True",
         "hovertemplate": "Genre=Lack of training and development<br>y_predict_bow=%{x}<br>count=%{y}<extra></extra>",
         "legendgroup": "Lack of training and development",
         "marker": {
          "color": "#FF6692",
          "pattern": {
           "shape": ""
          }
         },
         "name": "Lack of training and development",
         "offsetgroup": "Lack of training and development",
         "orientation": "v",
         "showlegend": true,
         "textposition": "auto",
         "x": [
          8,
          4,
          1,
          4,
          4,
          2,
          4,
          1,
          2,
          4,
          2,
          4,
          1,
          4,
          2,
          4,
          1,
          1,
          2,
          4,
          2,
          4,
          4,
          1,
          2,
          4,
          2,
          4,
          1,
          2,
          4,
          4,
          8,
          2,
          4,
          2,
          1,
          2,
          4,
          4,
          1,
          1,
          2,
          4,
          1,
          2,
          4,
          4,
          1,
          4,
          4,
          1,
          1,
          4,
          4,
          1,
          1,
          2,
          4,
          4,
          1,
          1,
          1,
          4,
          1,
          4,
          2,
          4,
          4,
          1
         ],
         "xaxis": "x",
         "y": [
          1,
          1,
          1,
          1,
          1,
          1,
          1,
          1,
          1,
          1,
          1,
          1,
          1,
          1,
          1,
          1,
          1,
          1,
          1,
          1,
          1,
          1,
          1,
          1,
          1,
          1,
          1,
          1,
          1,
          1,
          1,
          1,
          1,
          1,
          1,
          1,
          1,
          1,
          1,
          1,
          1,
          1,
          1,
          1,
          1,
          1,
          1,
          1,
          1,
          1,
          1,
          1,
          1,
          1,
          1,
          1,
          1,
          1,
          1,
          1,
          1,
          1,
          1,
          1,
          1,
          1,
          1,
          1,
          1,
          1
         ],
         "yaxis": "y",
         "type": "bar"
        }
       ],
       "layout": {
        "template": {
         "data": {
          "histogram2dcontour": [
           {
            "type": "histogram2dcontour",
            "colorbar": {
             "outlinewidth": 0,
             "ticks": ""
            },
            "colorscale": [
             [
              0.0,
              "#0d0887"
             ],
             [
              0.1111111111111111,
              "#46039f"
             ],
             [
              0.2222222222222222,
              "#7201a8"
             ],
             [
              0.3333333333333333,
              "#9c179e"
             ],
             [
              0.4444444444444444,
              "#bd3786"
             ],
             [
              0.5555555555555556,
              "#d8576b"
             ],
             [
              0.6666666666666666,
              "#ed7953"
             ],
             [
              0.7777777777777778,
              "#fb9f3a"
             ],
             [
              0.8888888888888888,
              "#fdca26"
             ],
             [
              1.0,
              "#f0f921"
             ]
            ]
           }
          ],
          "choropleth": [
           {
            "type": "choropleth",
            "colorbar": {
             "outlinewidth": 0,
             "ticks": ""
            }
           }
          ],
          "histogram2d": [
           {
            "type": "histogram2d",
            "colorbar": {
             "outlinewidth": 0,
             "ticks": ""
            },
            "colorscale": [
             [
              0.0,
              "#0d0887"
             ],
             [
              0.1111111111111111,
              "#46039f"
             ],
             [
              0.2222222222222222,
              "#7201a8"
             ],
             [
              0.3333333333333333,
              "#9c179e"
             ],
             [
              0.4444444444444444,
              "#bd3786"
             ],
             [
              0.5555555555555556,
              "#d8576b"
             ],
             [
              0.6666666666666666,
              "#ed7953"
             ],
             [
              0.7777777777777778,
              "#fb9f3a"
             ],
             [
              0.8888888888888888,
              "#fdca26"
             ],
             [
              1.0,
              "#f0f921"
             ]
            ]
           }
          ],
          "heatmap": [
           {
            "type": "heatmap",
            "colorbar": {
             "outlinewidth": 0,
             "ticks": ""
            },
            "colorscale": [
             [
              0.0,
              "#0d0887"
             ],
             [
              0.1111111111111111,
              "#46039f"
             ],
             [
              0.2222222222222222,
              "#7201a8"
             ],
             [
              0.3333333333333333,
              "#9c179e"
             ],
             [
              0.4444444444444444,
              "#bd3786"
             ],
             [
              0.5555555555555556,
              "#d8576b"
             ],
             [
              0.6666666666666666,
              "#ed7953"
             ],
             [
              0.7777777777777778,
              "#fb9f3a"
             ],
             [
              0.8888888888888888,
              "#fdca26"
             ],
             [
              1.0,
              "#f0f921"
             ]
            ]
           }
          ],
          "heatmapgl": [
           {
            "type": "heatmapgl",
            "colorbar": {
             "outlinewidth": 0,
             "ticks": ""
            },
            "colorscale": [
             [
              0.0,
              "#0d0887"
             ],
             [
              0.1111111111111111,
              "#46039f"
             ],
             [
              0.2222222222222222,
              "#7201a8"
             ],
             [
              0.3333333333333333,
              "#9c179e"
             ],
             [
              0.4444444444444444,
              "#bd3786"
             ],
             [
              0.5555555555555556,
              "#d8576b"
             ],
             [
              0.6666666666666666,
              "#ed7953"
             ],
             [
              0.7777777777777778,
              "#fb9f3a"
             ],
             [
              0.8888888888888888,
              "#fdca26"
             ],
             [
              1.0,
              "#f0f921"
             ]
            ]
           }
          ],
          "contourcarpet": [
           {
            "type": "contourcarpet",
            "colorbar": {
             "outlinewidth": 0,
             "ticks": ""
            }
           }
          ],
          "contour": [
           {
            "type": "contour",
            "colorbar": {
             "outlinewidth": 0,
             "ticks": ""
            },
            "colorscale": [
             [
              0.0,
              "#0d0887"
             ],
             [
              0.1111111111111111,
              "#46039f"
             ],
             [
              0.2222222222222222,
              "#7201a8"
             ],
             [
              0.3333333333333333,
              "#9c179e"
             ],
             [
              0.4444444444444444,
              "#bd3786"
             ],
             [
              0.5555555555555556,
              "#d8576b"
             ],
             [
              0.6666666666666666,
              "#ed7953"
             ],
             [
              0.7777777777777778,
              "#fb9f3a"
             ],
             [
              0.8888888888888888,
              "#fdca26"
             ],
             [
              1.0,
              "#f0f921"
             ]
            ]
           }
          ],
          "surface": [
           {
            "type": "surface",
            "colorbar": {
             "outlinewidth": 0,
             "ticks": ""
            },
            "colorscale": [
             [
              0.0,
              "#0d0887"
             ],
             [
              0.1111111111111111,
              "#46039f"
             ],
             [
              0.2222222222222222,
              "#7201a8"
             ],
             [
              0.3333333333333333,
              "#9c179e"
             ],
             [
              0.4444444444444444,
              "#bd3786"
             ],
             [
              0.5555555555555556,
              "#d8576b"
             ],
             [
              0.6666666666666666,
              "#ed7953"
             ],
             [
              0.7777777777777778,
              "#fb9f3a"
             ],
             [
              0.8888888888888888,
              "#fdca26"
             ],
             [
              1.0,
              "#f0f921"
             ]
            ]
           }
          ],
          "mesh3d": [
           {
            "type": "mesh3d",
            "colorbar": {
             "outlinewidth": 0,
             "ticks": ""
            }
           }
          ],
          "scatter": [
           {
            "fillpattern": {
             "fillmode": "overlay",
             "size": 10,
             "solidity": 0.2
            },
            "type": "scatter"
           }
          ],
          "parcoords": [
           {
            "type": "parcoords",
            "line": {
             "colorbar": {
              "outlinewidth": 0,
              "ticks": ""
             }
            }
           }
          ],
          "scatterpolargl": [
           {
            "type": "scatterpolargl",
            "marker": {
             "colorbar": {
              "outlinewidth": 0,
              "ticks": ""
             }
            }
           }
          ],
          "bar": [
           {
            "error_x": {
             "color": "#2a3f5f"
            },
            "error_y": {
             "color": "#2a3f5f"
            },
            "marker": {
             "line": {
              "color": "#E5ECF6",
              "width": 0.5
             },
             "pattern": {
              "fillmode": "overlay",
              "size": 10,
              "solidity": 0.2
             }
            },
            "type": "bar"
           }
          ],
          "scattergeo": [
           {
            "type": "scattergeo",
            "marker": {
             "colorbar": {
              "outlinewidth": 0,
              "ticks": ""
             }
            }
           }
          ],
          "scatterpolar": [
           {
            "type": "scatterpolar",
            "marker": {
             "colorbar": {
              "outlinewidth": 0,
              "ticks": ""
             }
            }
           }
          ],
          "histogram": [
           {
            "marker": {
             "pattern": {
              "fillmode": "overlay",
              "size": 10,
              "solidity": 0.2
             }
            },
            "type": "histogram"
           }
          ],
          "scattergl": [
           {
            "type": "scattergl",
            "marker": {
             "colorbar": {
              "outlinewidth": 0,
              "ticks": ""
             }
            }
           }
          ],
          "scatter3d": [
           {
            "type": "scatter3d",
            "line": {
             "colorbar": {
              "outlinewidth": 0,
              "ticks": ""
             }
            },
            "marker": {
             "colorbar": {
              "outlinewidth": 0,
              "ticks": ""
             }
            }
           }
          ],
          "scattermapbox": [
           {
            "type": "scattermapbox",
            "marker": {
             "colorbar": {
              "outlinewidth": 0,
              "ticks": ""
             }
            }
           }
          ],
          "scatterternary": [
           {
            "type": "scatterternary",
            "marker": {
             "colorbar": {
              "outlinewidth": 0,
              "ticks": ""
             }
            }
           }
          ],
          "scattercarpet": [
           {
            "type": "scattercarpet",
            "marker": {
             "colorbar": {
              "outlinewidth": 0,
              "ticks": ""
             }
            }
           }
          ],
          "carpet": [
           {
            "aaxis": {
             "endlinecolor": "#2a3f5f",
             "gridcolor": "white",
             "linecolor": "white",
             "minorgridcolor": "white",
             "startlinecolor": "#2a3f5f"
            },
            "baxis": {
             "endlinecolor": "#2a3f5f",
             "gridcolor": "white",
             "linecolor": "white",
             "minorgridcolor": "white",
             "startlinecolor": "#2a3f5f"
            },
            "type": "carpet"
           }
          ],
          "table": [
           {
            "cells": {
             "fill": {
              "color": "#EBF0F8"
             },
             "line": {
              "color": "white"
             }
            },
            "header": {
             "fill": {
              "color": "#C8D4E3"
             },
             "line": {
              "color": "white"
             }
            },
            "type": "table"
           }
          ],
          "barpolar": [
           {
            "marker": {
             "line": {
              "color": "#E5ECF6",
              "width": 0.5
             },
             "pattern": {
              "fillmode": "overlay",
              "size": 10,
              "solidity": 0.2
             }
            },
            "type": "barpolar"
           }
          ],
          "pie": [
           {
            "automargin": true,
            "type": "pie"
           }
          ]
         },
         "layout": {
          "autotypenumbers": "strict",
          "colorway": [
           "#636efa",
           "#EF553B",
           "#00cc96",
           "#ab63fa",
           "#FFA15A",
           "#19d3f3",
           "#FF6692",
           "#B6E880",
           "#FF97FF",
           "#FECB52"
          ],
          "font": {
           "color": "#2a3f5f"
          },
          "hovermode": "closest",
          "hoverlabel": {
           "align": "left"
          },
          "paper_bgcolor": "white",
          "plot_bgcolor": "#E5ECF6",
          "polar": {
           "bgcolor": "#E5ECF6",
           "angularaxis": {
            "gridcolor": "white",
            "linecolor": "white",
            "ticks": ""
           },
           "radialaxis": {
            "gridcolor": "white",
            "linecolor": "white",
            "ticks": ""
           }
          },
          "ternary": {
           "bgcolor": "#E5ECF6",
           "aaxis": {
            "gridcolor": "white",
            "linecolor": "white",
            "ticks": ""
           },
           "baxis": {
            "gridcolor": "white",
            "linecolor": "white",
            "ticks": ""
           },
           "caxis": {
            "gridcolor": "white",
            "linecolor": "white",
            "ticks": ""
           }
          },
          "coloraxis": {
           "colorbar": {
            "outlinewidth": 0,
            "ticks": ""
           }
          },
          "colorscale": {
           "sequential": [
            [
             0.0,
             "#0d0887"
            ],
            [
             0.1111111111111111,
             "#46039f"
            ],
            [
             0.2222222222222222,
             "#7201a8"
            ],
            [
             0.3333333333333333,
             "#9c179e"
            ],
            [
             0.4444444444444444,
             "#bd3786"
            ],
            [
             0.5555555555555556,
             "#d8576b"
            ],
            [
             0.6666666666666666,
             "#ed7953"
            ],
            [
             0.7777777777777778,
             "#fb9f3a"
            ],
            [
             0.8888888888888888,
             "#fdca26"
            ],
            [
             1.0,
             "#f0f921"
            ]
           ],
           "sequentialminus": [
            [
             0.0,
             "#0d0887"
            ],
            [
             0.1111111111111111,
             "#46039f"
            ],
            [
             0.2222222222222222,
             "#7201a8"
            ],
            [
             0.3333333333333333,
             "#9c179e"
            ],
            [
             0.4444444444444444,
             "#bd3786"
            ],
            [
             0.5555555555555556,
             "#d8576b"
            ],
            [
             0.6666666666666666,
             "#ed7953"
            ],
            [
             0.7777777777777778,
             "#fb9f3a"
            ],
            [
             0.8888888888888888,
             "#fdca26"
            ],
            [
             1.0,
             "#f0f921"
            ]
           ],
           "diverging": [
            [
             0,
             "#8e0152"
            ],
            [
             0.1,
             "#c51b7d"
            ],
            [
             0.2,
             "#de77ae"
            ],
            [
             0.3,
             "#f1b6da"
            ],
            [
             0.4,
             "#fde0ef"
            ],
            [
             0.5,
             "#f7f7f7"
            ],
            [
             0.6,
             "#e6f5d0"
            ],
            [
             0.7,
             "#b8e186"
            ],
            [
             0.8,
             "#7fbc41"
            ],
            [
             0.9,
             "#4d9221"
            ],
            [
             1,
             "#276419"
            ]
           ]
          },
          "xaxis": {
           "gridcolor": "white",
           "linecolor": "white",
           "ticks": "",
           "title": {
            "standoff": 15
           },
           "zerolinecolor": "white",
           "automargin": true,
           "zerolinewidth": 2
          },
          "yaxis": {
           "gridcolor": "white",
           "linecolor": "white",
           "ticks": "",
           "title": {
            "standoff": 15
           },
           "zerolinecolor": "white",
           "automargin": true,
           "zerolinewidth": 2
          },
          "scene": {
           "xaxis": {
            "backgroundcolor": "#E5ECF6",
            "gridcolor": "white",
            "linecolor": "white",
            "showbackground": true,
            "ticks": "",
            "zerolinecolor": "white",
            "gridwidth": 2
           },
           "yaxis": {
            "backgroundcolor": "#E5ECF6",
            "gridcolor": "white",
            "linecolor": "white",
            "showbackground": true,
            "ticks": "",
            "zerolinecolor": "white",
            "gridwidth": 2
           },
           "zaxis": {
            "backgroundcolor": "#E5ECF6",
            "gridcolor": "white",
            "linecolor": "white",
            "showbackground": true,
            "ticks": "",
            "zerolinecolor": "white",
            "gridwidth": 2
           }
          },
          "shapedefaults": {
           "line": {
            "color": "#2a3f5f"
           }
          },
          "annotationdefaults": {
           "arrowcolor": "#2a3f5f",
           "arrowhead": 0,
           "arrowwidth": 1
          },
          "geo": {
           "bgcolor": "white",
           "landcolor": "#E5ECF6",
           "subunitcolor": "white",
           "showland": true,
           "showlakes": true,
           "lakecolor": "white"
          },
          "title": {
           "x": 0.05
          },
          "mapbox": {
           "style": "light"
          }
         }
        },
        "xaxis": {
         "anchor": "y",
         "domain": [
          0.0,
          1.0
         ],
         "title": {
          "text": "y_predict_bow"
         }
        },
        "yaxis": {
         "anchor": "x",
         "domain": [
          0.0,
          1.0
         ],
         "title": {
          "text": "count"
         }
        },
        "legend": {
         "title": {
          "text": "Genre"
         },
         "tracegroupgap": 0
        },
        "title": {
         "text": "Bag of Words Clustering"
        },
        "barmode": "relative"
       },
       "config": {
        "plotlyServerURL": "https://plot.ly"
       }
      },
      "text/html": "<div>                            <div id=\"98217afe-012e-4f3c-b49c-364b176167d1\" class=\"plotly-graph-div\" style=\"height:525px; width:100%;\"></div>            <script type=\"text/javascript\">                require([\"plotly\"], function(Plotly) {                    window.PLOTLYENV=window.PLOTLYENV || {};                                    if (document.getElementById(\"98217afe-012e-4f3c-b49c-364b176167d1\")) {                    Plotly.newPlot(                        \"98217afe-012e-4f3c-b49c-364b176167d1\",                        [{\"alignmentgroup\":\"True\",\"hovertemplate\":\"Genre=Communication Issues\\u003cbr\\u003ey_predict_bow=%{x}\\u003cbr\\u003ecount=%{y}\\u003cextra\\u003e\\u003c\\u002fextra\\u003e\",\"legendgroup\":\"Communication Issues\",\"marker\":{\"color\":\"#636efa\",\"pattern\":{\"shape\":\"\"}},\"name\":\"Communication Issues\",\"offsetgroup\":\"Communication Issues\",\"orientation\":\"v\",\"showlegend\":true,\"textposition\":\"auto\",\"x\":[8,4,4,4,4,4,4,10,4,4,4,4,4,4,4,4,4,11,4,4,4,4,1,8,4,4,4,4,10,4,1,4,4,4,4,4,1,4,4,10,4,4,4,4,4,10,4,11,4,4,4,2,4,4,4,11,4,10,1,4,10,4,1,4,10,4,2,4,5,4,4,4,4,11,4,6,10,10,4,4,4,4,4,4,4,11,4,10,1,4,2,4,10,4,11,4,1,1,11,4],\"xaxis\":\"x\",\"y\":[1,1,1,1,1,1,1,1,1,1,1,1,1,1,1,1,1,1,1,1,1,1,1,1,1,1,1,1,1,1,1,1,1,1,1,1,1,1,1,1,1,1,1,1,1,1,1,1,1,1,1,1,1,1,1,1,1,1,1,1,1,1,1,1,1,1,1,1,1,1,1,1,1,1,1,1,1,1,1,1,1,1,1,1,1,1,1,1,1,1,1,1,1,1,1,1,1,1,1,1],\"yaxis\":\"y\",\"type\":\"bar\"},{\"alignmentgroup\":\"True\",\"hovertemplate\":\"Genre=Workload and Stress\\u003cbr\\u003ey_predict_bow=%{x}\\u003cbr\\u003ecount=%{y}\\u003cextra\\u003e\\u003c\\u002fextra\\u003e\",\"legendgroup\":\"Workload and Stress\",\"marker\":{\"color\":\"#EF553B\",\"pattern\":{\"shape\":\"\"}},\"name\":\"Workload and Stress\",\"offsetgroup\":\"Workload and Stress\",\"orientation\":\"v\",\"showlegend\":true,\"textposition\":\"auto\",\"x\":[0,4,4,8,4,4,4,4,10,4,0,4,0,4,2,8,0,8,4,4,2,4,0,4,4,6,0,4,5,2,4,10,2,6,4,4,4,4,0,4,8,8,0,0,0,5,6,8,8,4,4,0,11,2,4,4,0,4,0,8,8,0,8,4,5,8,8,0,8,0,4,8,4,0,8,4,0,10,8,0,4,6,11,0,0,4,2,0,0,5,8,0,6,4,0,0,6,0,0,4],\"xaxis\":\"x\",\"y\":[1,1,1,1,1,1,1,1,1,1,1,1,1,1,1,1,1,1,1,1,1,1,1,1,1,1,1,1,1,1,1,1,1,1,1,1,1,1,1,1,1,1,1,1,1,1,1,1,1,1,1,1,1,1,1,1,1,1,1,1,1,1,1,1,1,1,1,1,1,1,1,1,1,1,1,1,1,1,1,1,1,1,1,1,1,1,1,1,1,1,1,1,1,1,1,1,1,1,1,1],\"yaxis\":\"y\",\"type\":\"bar\"},{\"alignmentgroup\":\"True\",\"hovertemplate\":\"Genre=Management Lifestyle\\u003cbr\\u003ey_predict_bow=%{x}\\u003cbr\\u003ecount=%{y}\\u003cextra\\u003e\\u003c\\u002fextra\\u003e\",\"legendgroup\":\"Management Lifestyle\",\"marker\":{\"color\":\"#00cc96\",\"pattern\":{\"shape\":\"\"}},\"name\":\"Management Lifestyle\",\"offsetgroup\":\"Management Lifestyle\",\"orientation\":\"v\",\"showlegend\":true,\"textposition\":\"auto\",\"x\":[6,7,4,2,4,6,1,7,6,2,4,2,7,4,7,1,7,4,2,4,4,7,4,11,1,2,4,1,7,1,6,7,4,4,7,4,6,7,2,4,2,7,4,11,7,1,2,7,10,4,6,7,1,2,7,1,4,7,1,4,4,7,1,11,7,4,6,7,1,4,6,11,1,2,7,1,6,7,4,4,2,7,2,6,7,1,2,7,1,6,7,1,4,11,7,1,6,7,2,4],\"xaxis\":\"x\",\"y\":[1,1,1,1,1,1,1,1,1,1,1,1,1,1,1,1,1,1,1,1,1,1,1,1,1,1,1,1,1,1,1,1,1,1,1,1,1,1,1,1,1,1,1,1,1,1,1,1,1,1,1,1,1,1,1,1,1,1,1,1,1,1,1,1,1,1,1,1,1,1,1,1,1,1,1,1,1,1,1,1,1,1,1,1,1,1,1,1,1,1,1,1,1,1,1,1,1,1,1,1],\"yaxis\":\"y\",\"type\":\"bar\"},{\"alignmentgroup\":\"True\",\"hovertemplate\":\"Genre=Compensation and Benefits\\u003cbr\\u003ey_predict_bow=%{x}\\u003cbr\\u003ecount=%{y}\\u003cextra\\u003e\\u003c\\u002fextra\\u003e\",\"legendgroup\":\"Compensation and Benefits\",\"marker\":{\"color\":\"#ab63fa\",\"pattern\":{\"shape\":\"\"}},\"name\":\"Compensation and Benefits\",\"offsetgroup\":\"Compensation and Benefits\",\"orientation\":\"v\",\"showlegend\":true,\"textposition\":\"auto\",\"x\":[4,1,2,4,2,2,4,4,4,4,4,4,4,4,2,4,4,2,1,4,4,2,4,4,4,4,4,1,4,4],\"xaxis\":\"x\",\"y\":[1,1,1,1,1,1,1,1,1,1,1,1,1,1,1,1,1,1,1,1,1,1,1,1,1,1,1,1,1,1],\"yaxis\":\"y\",\"type\":\"bar\"},{\"alignmentgroup\":\"True\",\"hovertemplate\":\"Genre=Career Development\\u003cbr\\u003ey_predict_bow=%{x}\\u003cbr\\u003ecount=%{y}\\u003cextra\\u003e\\u003c\\u002fextra\\u003e\",\"legendgroup\":\"Career Development\",\"marker\":{\"color\":\"#FFA15A\",\"pattern\":{\"shape\":\"\"}},\"name\":\"Career Development\",\"offsetgroup\":\"Career Development\",\"orientation\":\"v\",\"showlegend\":true,\"textposition\":\"auto\",\"x\":[4,4,4,1,4,4,1,4,2,4,4,2,4,4,4,4,1,2,4,2,10,4,2,4,4,2,4,4,1,2],\"xaxis\":\"x\",\"y\":[1,1,1,1,1,1,1,1,1,1,1,1,1,1,1,1,1,1,1,1,1,1,1,1,1,1,1,1,1,1],\"yaxis\":\"y\",\"type\":\"bar\"},{\"alignmentgroup\":\"True\",\"hovertemplate\":\"Genre=Workplace Environment\\u003cbr\\u003ey_predict_bow=%{x}\\u003cbr\\u003ecount=%{y}\\u003cextra\\u003e\\u003c\\u002fextra\\u003e\",\"legendgroup\":\"Workplace Environment\",\"marker\":{\"color\":\"#19d3f3\",\"pattern\":{\"shape\":\"\"}},\"name\":\"Workplace Environment\",\"offsetgroup\":\"Workplace Environment\",\"orientation\":\"v\",\"showlegend\":true,\"textposition\":\"auto\",\"x\":[4,1,4,4,4,4,4,2,4,2,4,9,4,4,3,4,4,4,2,4,1,4,4,4,4,4,8,4,4,4,4,1,4,4,4,4,4,2,4,2,4,9,4,4,3,4,4,4,2,4,1,4],\"xaxis\":\"x\",\"y\":[1,1,1,1,1,1,1,1,1,1,1,1,1,1,1,1,1,1,1,1,1,1,1,1,1,1,1,1,1,1,1,1,1,1,1,1,1,1,1,1,1,1,1,1,1,1,1,1,1,1,1,1],\"yaxis\":\"y\",\"type\":\"bar\"},{\"alignmentgroup\":\"True\",\"hovertemplate\":\"Genre=Lack of training and development\\u003cbr\\u003ey_predict_bow=%{x}\\u003cbr\\u003ecount=%{y}\\u003cextra\\u003e\\u003c\\u002fextra\\u003e\",\"legendgroup\":\"Lack of training and development\",\"marker\":{\"color\":\"#FF6692\",\"pattern\":{\"shape\":\"\"}},\"name\":\"Lack of training and development\",\"offsetgroup\":\"Lack of training and development\",\"orientation\":\"v\",\"showlegend\":true,\"textposition\":\"auto\",\"x\":[8,4,1,4,4,2,4,1,2,4,2,4,1,4,2,4,1,1,2,4,2,4,4,1,2,4,2,4,1,2,4,4,8,2,4,2,1,2,4,4,1,1,2,4,1,2,4,4,1,4,4,1,1,4,4,1,1,2,4,4,1,1,1,4,1,4,2,4,4,1],\"xaxis\":\"x\",\"y\":[1,1,1,1,1,1,1,1,1,1,1,1,1,1,1,1,1,1,1,1,1,1,1,1,1,1,1,1,1,1,1,1,1,1,1,1,1,1,1,1,1,1,1,1,1,1,1,1,1,1,1,1,1,1,1,1,1,1,1,1,1,1,1,1,1,1,1,1,1,1],\"yaxis\":\"y\",\"type\":\"bar\"}],                        {\"template\":{\"data\":{\"histogram2dcontour\":[{\"type\":\"histogram2dcontour\",\"colorbar\":{\"outlinewidth\":0,\"ticks\":\"\"},\"colorscale\":[[0.0,\"#0d0887\"],[0.1111111111111111,\"#46039f\"],[0.2222222222222222,\"#7201a8\"],[0.3333333333333333,\"#9c179e\"],[0.4444444444444444,\"#bd3786\"],[0.5555555555555556,\"#d8576b\"],[0.6666666666666666,\"#ed7953\"],[0.7777777777777778,\"#fb9f3a\"],[0.8888888888888888,\"#fdca26\"],[1.0,\"#f0f921\"]]}],\"choropleth\":[{\"type\":\"choropleth\",\"colorbar\":{\"outlinewidth\":0,\"ticks\":\"\"}}],\"histogram2d\":[{\"type\":\"histogram2d\",\"colorbar\":{\"outlinewidth\":0,\"ticks\":\"\"},\"colorscale\":[[0.0,\"#0d0887\"],[0.1111111111111111,\"#46039f\"],[0.2222222222222222,\"#7201a8\"],[0.3333333333333333,\"#9c179e\"],[0.4444444444444444,\"#bd3786\"],[0.5555555555555556,\"#d8576b\"],[0.6666666666666666,\"#ed7953\"],[0.7777777777777778,\"#fb9f3a\"],[0.8888888888888888,\"#fdca26\"],[1.0,\"#f0f921\"]]}],\"heatmap\":[{\"type\":\"heatmap\",\"colorbar\":{\"outlinewidth\":0,\"ticks\":\"\"},\"colorscale\":[[0.0,\"#0d0887\"],[0.1111111111111111,\"#46039f\"],[0.2222222222222222,\"#7201a8\"],[0.3333333333333333,\"#9c179e\"],[0.4444444444444444,\"#bd3786\"],[0.5555555555555556,\"#d8576b\"],[0.6666666666666666,\"#ed7953\"],[0.7777777777777778,\"#fb9f3a\"],[0.8888888888888888,\"#fdca26\"],[1.0,\"#f0f921\"]]}],\"heatmapgl\":[{\"type\":\"heatmapgl\",\"colorbar\":{\"outlinewidth\":0,\"ticks\":\"\"},\"colorscale\":[[0.0,\"#0d0887\"],[0.1111111111111111,\"#46039f\"],[0.2222222222222222,\"#7201a8\"],[0.3333333333333333,\"#9c179e\"],[0.4444444444444444,\"#bd3786\"],[0.5555555555555556,\"#d8576b\"],[0.6666666666666666,\"#ed7953\"],[0.7777777777777778,\"#fb9f3a\"],[0.8888888888888888,\"#fdca26\"],[1.0,\"#f0f921\"]]}],\"contourcarpet\":[{\"type\":\"contourcarpet\",\"colorbar\":{\"outlinewidth\":0,\"ticks\":\"\"}}],\"contour\":[{\"type\":\"contour\",\"colorbar\":{\"outlinewidth\":0,\"ticks\":\"\"},\"colorscale\":[[0.0,\"#0d0887\"],[0.1111111111111111,\"#46039f\"],[0.2222222222222222,\"#7201a8\"],[0.3333333333333333,\"#9c179e\"],[0.4444444444444444,\"#bd3786\"],[0.5555555555555556,\"#d8576b\"],[0.6666666666666666,\"#ed7953\"],[0.7777777777777778,\"#fb9f3a\"],[0.8888888888888888,\"#fdca26\"],[1.0,\"#f0f921\"]]}],\"surface\":[{\"type\":\"surface\",\"colorbar\":{\"outlinewidth\":0,\"ticks\":\"\"},\"colorscale\":[[0.0,\"#0d0887\"],[0.1111111111111111,\"#46039f\"],[0.2222222222222222,\"#7201a8\"],[0.3333333333333333,\"#9c179e\"],[0.4444444444444444,\"#bd3786\"],[0.5555555555555556,\"#d8576b\"],[0.6666666666666666,\"#ed7953\"],[0.7777777777777778,\"#fb9f3a\"],[0.8888888888888888,\"#fdca26\"],[1.0,\"#f0f921\"]]}],\"mesh3d\":[{\"type\":\"mesh3d\",\"colorbar\":{\"outlinewidth\":0,\"ticks\":\"\"}}],\"scatter\":[{\"fillpattern\":{\"fillmode\":\"overlay\",\"size\":10,\"solidity\":0.2},\"type\":\"scatter\"}],\"parcoords\":[{\"type\":\"parcoords\",\"line\":{\"colorbar\":{\"outlinewidth\":0,\"ticks\":\"\"}}}],\"scatterpolargl\":[{\"type\":\"scatterpolargl\",\"marker\":{\"colorbar\":{\"outlinewidth\":0,\"ticks\":\"\"}}}],\"bar\":[{\"error_x\":{\"color\":\"#2a3f5f\"},\"error_y\":{\"color\":\"#2a3f5f\"},\"marker\":{\"line\":{\"color\":\"#E5ECF6\",\"width\":0.5},\"pattern\":{\"fillmode\":\"overlay\",\"size\":10,\"solidity\":0.2}},\"type\":\"bar\"}],\"scattergeo\":[{\"type\":\"scattergeo\",\"marker\":{\"colorbar\":{\"outlinewidth\":0,\"ticks\":\"\"}}}],\"scatterpolar\":[{\"type\":\"scatterpolar\",\"marker\":{\"colorbar\":{\"outlinewidth\":0,\"ticks\":\"\"}}}],\"histogram\":[{\"marker\":{\"pattern\":{\"fillmode\":\"overlay\",\"size\":10,\"solidity\":0.2}},\"type\":\"histogram\"}],\"scattergl\":[{\"type\":\"scattergl\",\"marker\":{\"colorbar\":{\"outlinewidth\":0,\"ticks\":\"\"}}}],\"scatter3d\":[{\"type\":\"scatter3d\",\"line\":{\"colorbar\":{\"outlinewidth\":0,\"ticks\":\"\"}},\"marker\":{\"colorbar\":{\"outlinewidth\":0,\"ticks\":\"\"}}}],\"scattermapbox\":[{\"type\":\"scattermapbox\",\"marker\":{\"colorbar\":{\"outlinewidth\":0,\"ticks\":\"\"}}}],\"scatterternary\":[{\"type\":\"scatterternary\",\"marker\":{\"colorbar\":{\"outlinewidth\":0,\"ticks\":\"\"}}}],\"scattercarpet\":[{\"type\":\"scattercarpet\",\"marker\":{\"colorbar\":{\"outlinewidth\":0,\"ticks\":\"\"}}}],\"carpet\":[{\"aaxis\":{\"endlinecolor\":\"#2a3f5f\",\"gridcolor\":\"white\",\"linecolor\":\"white\",\"minorgridcolor\":\"white\",\"startlinecolor\":\"#2a3f5f\"},\"baxis\":{\"endlinecolor\":\"#2a3f5f\",\"gridcolor\":\"white\",\"linecolor\":\"white\",\"minorgridcolor\":\"white\",\"startlinecolor\":\"#2a3f5f\"},\"type\":\"carpet\"}],\"table\":[{\"cells\":{\"fill\":{\"color\":\"#EBF0F8\"},\"line\":{\"color\":\"white\"}},\"header\":{\"fill\":{\"color\":\"#C8D4E3\"},\"line\":{\"color\":\"white\"}},\"type\":\"table\"}],\"barpolar\":[{\"marker\":{\"line\":{\"color\":\"#E5ECF6\",\"width\":0.5},\"pattern\":{\"fillmode\":\"overlay\",\"size\":10,\"solidity\":0.2}},\"type\":\"barpolar\"}],\"pie\":[{\"automargin\":true,\"type\":\"pie\"}]},\"layout\":{\"autotypenumbers\":\"strict\",\"colorway\":[\"#636efa\",\"#EF553B\",\"#00cc96\",\"#ab63fa\",\"#FFA15A\",\"#19d3f3\",\"#FF6692\",\"#B6E880\",\"#FF97FF\",\"#FECB52\"],\"font\":{\"color\":\"#2a3f5f\"},\"hovermode\":\"closest\",\"hoverlabel\":{\"align\":\"left\"},\"paper_bgcolor\":\"white\",\"plot_bgcolor\":\"#E5ECF6\",\"polar\":{\"bgcolor\":\"#E5ECF6\",\"angularaxis\":{\"gridcolor\":\"white\",\"linecolor\":\"white\",\"ticks\":\"\"},\"radialaxis\":{\"gridcolor\":\"white\",\"linecolor\":\"white\",\"ticks\":\"\"}},\"ternary\":{\"bgcolor\":\"#E5ECF6\",\"aaxis\":{\"gridcolor\":\"white\",\"linecolor\":\"white\",\"ticks\":\"\"},\"baxis\":{\"gridcolor\":\"white\",\"linecolor\":\"white\",\"ticks\":\"\"},\"caxis\":{\"gridcolor\":\"white\",\"linecolor\":\"white\",\"ticks\":\"\"}},\"coloraxis\":{\"colorbar\":{\"outlinewidth\":0,\"ticks\":\"\"}},\"colorscale\":{\"sequential\":[[0.0,\"#0d0887\"],[0.1111111111111111,\"#46039f\"],[0.2222222222222222,\"#7201a8\"],[0.3333333333333333,\"#9c179e\"],[0.4444444444444444,\"#bd3786\"],[0.5555555555555556,\"#d8576b\"],[0.6666666666666666,\"#ed7953\"],[0.7777777777777778,\"#fb9f3a\"],[0.8888888888888888,\"#fdca26\"],[1.0,\"#f0f921\"]],\"sequentialminus\":[[0.0,\"#0d0887\"],[0.1111111111111111,\"#46039f\"],[0.2222222222222222,\"#7201a8\"],[0.3333333333333333,\"#9c179e\"],[0.4444444444444444,\"#bd3786\"],[0.5555555555555556,\"#d8576b\"],[0.6666666666666666,\"#ed7953\"],[0.7777777777777778,\"#fb9f3a\"],[0.8888888888888888,\"#fdca26\"],[1.0,\"#f0f921\"]],\"diverging\":[[0,\"#8e0152\"],[0.1,\"#c51b7d\"],[0.2,\"#de77ae\"],[0.3,\"#f1b6da\"],[0.4,\"#fde0ef\"],[0.5,\"#f7f7f7\"],[0.6,\"#e6f5d0\"],[0.7,\"#b8e186\"],[0.8,\"#7fbc41\"],[0.9,\"#4d9221\"],[1,\"#276419\"]]},\"xaxis\":{\"gridcolor\":\"white\",\"linecolor\":\"white\",\"ticks\":\"\",\"title\":{\"standoff\":15},\"zerolinecolor\":\"white\",\"automargin\":true,\"zerolinewidth\":2},\"yaxis\":{\"gridcolor\":\"white\",\"linecolor\":\"white\",\"ticks\":\"\",\"title\":{\"standoff\":15},\"zerolinecolor\":\"white\",\"automargin\":true,\"zerolinewidth\":2},\"scene\":{\"xaxis\":{\"backgroundcolor\":\"#E5ECF6\",\"gridcolor\":\"white\",\"linecolor\":\"white\",\"showbackground\":true,\"ticks\":\"\",\"zerolinecolor\":\"white\",\"gridwidth\":2},\"yaxis\":{\"backgroundcolor\":\"#E5ECF6\",\"gridcolor\":\"white\",\"linecolor\":\"white\",\"showbackground\":true,\"ticks\":\"\",\"zerolinecolor\":\"white\",\"gridwidth\":2},\"zaxis\":{\"backgroundcolor\":\"#E5ECF6\",\"gridcolor\":\"white\",\"linecolor\":\"white\",\"showbackground\":true,\"ticks\":\"\",\"zerolinecolor\":\"white\",\"gridwidth\":2}},\"shapedefaults\":{\"line\":{\"color\":\"#2a3f5f\"}},\"annotationdefaults\":{\"arrowcolor\":\"#2a3f5f\",\"arrowhead\":0,\"arrowwidth\":1},\"geo\":{\"bgcolor\":\"white\",\"landcolor\":\"#E5ECF6\",\"subunitcolor\":\"white\",\"showland\":true,\"showlakes\":true,\"lakecolor\":\"white\"},\"title\":{\"x\":0.05},\"mapbox\":{\"style\":\"light\"}}},\"xaxis\":{\"anchor\":\"y\",\"domain\":[0.0,1.0],\"title\":{\"text\":\"y_predict_bow\"}},\"yaxis\":{\"anchor\":\"x\",\"domain\":[0.0,1.0],\"title\":{\"text\":\"count\"}},\"legend\":{\"title\":{\"text\":\"Genre\"},\"tracegroupgap\":0},\"title\":{\"text\":\"Bag of Words Clustering\"},\"barmode\":\"relative\"},                        {\"responsive\": true}                    ).then(function(){\n                            \nvar gd = document.getElementById('98217afe-012e-4f3c-b49c-364b176167d1');\nvar x = new MutationObserver(function (mutations, observer) {{\n        var display = window.getComputedStyle(gd).display;\n        if (!display || display === 'none') {{\n            console.log([gd, 'removed!']);\n            Plotly.purge(gd);\n            observer.disconnect();\n        }}\n}});\n\n// Listen for the removal of the full notebook cells\nvar notebookContainer = gd.closest('#notebook-container');\nif (notebookContainer) {{\n    x.observe(notebookContainer, {childList: true});\n}}\n\n// Listen for the clearing of the current output cell\nvar outputEl = gd.closest('.output');\nif (outputEl) {{\n    x.observe(outputEl, {childList: true});\n}}\n\n                        })                };                });            </script>        </div>"
     },
     "metadata": {},
     "output_type": "display_data"
    }
   ],
   "source": [
    "import plotly.express as px\n",
    "\n",
    "fig = px.bar(df, x=\"y_predict_bow\", y=\"count\", color=\"Genre\", title=\"Bag of Words Clustering\")\n",
    "fig.show()"
   ],
   "metadata": {
    "collapsed": false
   }
  },
  {
   "cell_type": "code",
   "execution_count": 192,
   "outputs": [
    {
     "name": "stdout",
     "output_type": "stream",
     "text": [
      "Cluster 0 (BoW): workload, manage, No, peak, tool, Workload, management, Time, support, Manage, overwhelming, nt, handle, feel, impossible\n",
      "Cluster 1 (BoW): lack, Lack, Leadership, training, lead, proper, skill, opportunity, employee, communication, transparency, involvement, development, feature, program\n",
      "Cluster 2 (BoW): nt, Leadership, employee, Manager, Leader, recognize, guidance, skill, decision, support, provide, Benefit, Employee, Office, accommodate\n",
      "Cluster 3 (BoW): Inadequate, space, employee, relax, recharge\n",
      "Cluster 4 (BoW): No, employee, communication, team, Micromanagement, Employee, inconsistent, skill, development, share, provision, stress, performance, cause, Leadership\n",
      "Cluster 5 (BoW): workload, heavy, lead, Heavy, Handle, communication, gap, hinder, career, growth, Deal, impact, performance, unnoticed, management\n",
      "Cluster 6 (BoW): lack, Management, stress, management, support, communication, Lack, add, direction, understanding, morale, consistency, Stress, inadequate, control\n",
      "Cluster 7 (BoW): Supervisor, nt, provide, growth, opportunity, support, feedback, adequate, offer, time, advocate, recognition, encourage, promote, direction\n",
      "Cluster 8 (BoW): task, nt, support, manage, stress, No, relief, Highpressure, Lack, add, New, proper, training, receive, instruction\n",
      "Cluster 9 (BoW): Limited, access, natural, light, wellbeing\n",
      "Cluster 10 (BoW): communicate, project, Project, update, expectation, company, regularly, Our, team, goal, properly, Schedule, minute, timeline, consistently\n",
      "Cluster 11 (BoW): address, concern, nt, team, communication, No, raise, meeting, avenue, issue, stress, Management, conflict, Manager, effectively\n"
     ]
    }
   ],
   "source": [
    "from collections import Counter\n",
    "\n",
    "# Group the data by cluster\n",
    "cluster_groups_bow = df.groupby('y_predict_bow')\n",
    "\n",
    "# Count the frequency of each word in each cluster\n",
    "word_counts_bow = {}\n",
    "for name, group in cluster_groups_bow:\n",
    "    words = ' '.join(group['Lemminf']).split()\n",
    "    word_counts_bow[name] = Counter(words)\n",
    "\n",
    "# Get the top 15 words for each cluster\n",
    "top_words_bow = {}\n",
    "for cluster, counter in word_counts_bow.items():\n",
    "    top_words_bow[cluster] = [word for word, count in counter.most_common(15)]\n",
    "for cluster, words in top_words_bow.items():\n",
    "    print(f\"Cluster {cluster} (BoW): {', '.join(words)}\")"
   ],
   "metadata": {
    "collapsed": false
   }
  },
  {
   "cell_type": "markdown",
   "source": [
    "Hirerachical clustering"
   ],
   "metadata": {
    "collapsed": false
   }
  },
  {
   "cell_type": "code",
   "execution_count": 193,
   "outputs": [
    {
     "data": {
      "application/vnd.plotly.v1+json": {
       "data": [
        {
         "alignmentgroup": "True",
         "hovertemplate": "Genre=Communication Issues<br>y_predict_tfidf=%{x}<br>count=%{y}<extra></extra>",
         "legendgroup": "Communication Issues",
         "marker": {
          "color": "#636efa",
          "pattern": {
           "shape": ""
          }
         },
         "name": "Communication Issues",
         "offsetgroup": "Communication Issues",
         "orientation": "v",
         "showlegend": true,
         "textposition": "auto",
         "x": [
          10,
          10,
          10,
          10,
          10,
          10,
          10,
          10,
          10,
          10,
          10,
          10,
          10,
          10,
          10,
          10,
          10,
          10,
          10,
          10,
          10,
          8,
          10,
          10,
          10,
          10,
          10,
          10,
          10,
          10,
          10,
          10,
          10,
          10,
          10,
          10,
          10,
          10,
          10,
          10,
          10,
          10,
          10,
          10,
          10,
          10,
          10,
          10,
          10,
          10,
          10,
          10,
          10,
          10,
          10,
          10,
          10,
          10,
          10,
          10,
          10,
          10,
          10,
          10,
          10,
          10,
          10,
          10,
          10,
          10,
          10,
          10,
          10,
          10,
          10,
          10,
          10,
          10,
          10,
          10,
          10,
          10,
          10,
          10,
          10,
          10,
          10,
          10,
          7,
          10,
          10,
          10,
          10,
          10,
          10,
          10,
          4,
          10,
          10,
          10
         ],
         "xaxis": "x",
         "y": [
          1,
          1,
          1,
          1,
          1,
          1,
          1,
          1,
          1,
          1,
          1,
          1,
          1,
          1,
          1,
          1,
          1,
          1,
          1,
          1,
          1,
          1,
          1,
          1,
          1,
          1,
          1,
          1,
          1,
          1,
          1,
          1,
          1,
          1,
          1,
          1,
          1,
          1,
          1,
          1,
          1,
          1,
          1,
          1,
          1,
          1,
          1,
          1,
          1,
          1,
          1,
          1,
          1,
          1,
          1,
          1,
          1,
          1,
          1,
          1,
          1,
          1,
          1,
          1,
          1,
          1,
          1,
          1,
          1,
          1,
          1,
          1,
          1,
          1,
          1,
          1,
          1,
          1,
          1,
          1,
          1,
          1,
          1,
          1,
          1,
          1,
          1,
          1,
          1,
          1,
          1,
          1,
          1,
          1,
          1,
          1,
          1,
          1,
          1,
          1
         ],
         "yaxis": "y",
         "type": "bar"
        },
        {
         "alignmentgroup": "True",
         "hovertemplate": "Genre=Workload and Stress<br>y_predict_tfidf=%{x}<br>count=%{y}<extra></extra>",
         "legendgroup": "Workload and Stress",
         "marker": {
          "color": "#EF553B",
          "pattern": {
           "shape": ""
          }
         },
         "name": "Workload and Stress",
         "offsetgroup": "Workload and Stress",
         "orientation": "v",
         "showlegend": true,
         "textposition": "auto",
         "x": [
          10,
          10,
          10,
          10,
          10,
          10,
          10,
          10,
          10,
          10,
          10,
          5,
          10,
          10,
          10,
          10,
          10,
          10,
          10,
          10,
          10,
          10,
          10,
          10,
          11,
          10,
          10,
          10,
          10,
          10,
          5,
          10,
          10,
          10,
          10,
          10,
          10,
          11,
          10,
          10,
          10,
          10,
          10,
          10,
          10,
          10,
          10,
          10,
          10,
          10,
          10,
          10,
          10,
          10,
          11,
          10,
          10,
          10,
          10,
          10,
          10,
          10,
          10,
          10,
          10,
          10,
          10,
          10,
          10,
          6,
          10,
          10,
          10,
          10,
          10,
          10,
          10,
          10,
          10,
          10,
          0,
          10,
          10,
          10,
          10,
          10,
          10,
          10,
          10,
          10,
          10,
          10,
          10,
          10,
          10,
          10,
          10,
          10,
          10,
          10
         ],
         "xaxis": "x",
         "y": [
          1,
          1,
          1,
          1,
          1,
          1,
          1,
          1,
          1,
          1,
          1,
          1,
          1,
          1,
          1,
          1,
          1,
          1,
          1,
          1,
          1,
          1,
          1,
          1,
          1,
          1,
          1,
          1,
          1,
          1,
          1,
          1,
          1,
          1,
          1,
          1,
          1,
          1,
          1,
          1,
          1,
          1,
          1,
          1,
          1,
          1,
          1,
          1,
          1,
          1,
          1,
          1,
          1,
          1,
          1,
          1,
          1,
          1,
          1,
          1,
          1,
          1,
          1,
          1,
          1,
          1,
          1,
          1,
          1,
          1,
          1,
          1,
          1,
          1,
          1,
          1,
          1,
          1,
          1,
          1,
          1,
          1,
          1,
          1,
          1,
          1,
          1,
          1,
          1,
          1,
          1,
          1,
          1,
          1,
          1,
          1,
          1,
          1,
          1,
          1
         ],
         "yaxis": "y",
         "type": "bar"
        },
        {
         "alignmentgroup": "True",
         "hovertemplate": "Genre=Management Lifestyle<br>y_predict_tfidf=%{x}<br>count=%{y}<extra></extra>",
         "legendgroup": "Management Lifestyle",
         "marker": {
          "color": "#00cc96",
          "pattern": {
           "shape": ""
          }
         },
         "name": "Management Lifestyle",
         "offsetgroup": "Management Lifestyle",
         "orientation": "v",
         "showlegend": true,
         "textposition": "auto",
         "x": [
          10,
          10,
          10,
          5,
          10,
          10,
          10,
          10,
          1,
          10,
          10,
          10,
          10,
          10,
          11,
          9,
          10,
          10,
          5,
          10,
          10,
          10,
          10,
          10,
          10,
          10,
          10,
          1,
          10,
          10,
          10,
          10,
          10,
          10,
          10,
          10,
          10,
          10,
          10,
          10,
          10,
          10,
          10,
          10,
          11,
          10,
          10,
          10,
          10,
          10,
          10,
          10,
          10,
          10,
          10,
          10,
          10,
          10,
          9,
          10,
          10,
          11,
          10,
          10,
          5,
          10,
          10,
          10,
          10,
          10,
          10,
          10,
          10,
          11,
          10,
          10,
          10,
          10,
          10,
          10,
          10,
          10,
          10,
          10,
          10,
          10,
          10,
          10,
          9,
          1,
          11,
          10,
          10,
          10,
          10,
          10,
          10,
          10,
          10,
          10
         ],
         "xaxis": "x",
         "y": [
          1,
          1,
          1,
          1,
          1,
          1,
          1,
          1,
          1,
          1,
          1,
          1,
          1,
          1,
          1,
          1,
          1,
          1,
          1,
          1,
          1,
          1,
          1,
          1,
          1,
          1,
          1,
          1,
          1,
          1,
          1,
          1,
          1,
          1,
          1,
          1,
          1,
          1,
          1,
          1,
          1,
          1,
          1,
          1,
          1,
          1,
          1,
          1,
          1,
          1,
          1,
          1,
          1,
          1,
          1,
          1,
          1,
          1,
          1,
          1,
          1,
          1,
          1,
          1,
          1,
          1,
          1,
          1,
          1,
          1,
          1,
          1,
          1,
          1,
          1,
          1,
          1,
          1,
          1,
          1,
          1,
          1,
          1,
          1,
          1,
          1,
          1,
          1,
          1,
          1,
          1,
          1,
          1,
          1,
          1,
          1,
          1,
          1,
          1,
          1
         ],
         "yaxis": "y",
         "type": "bar"
        },
        {
         "alignmentgroup": "True",
         "hovertemplate": "Genre=Compensation and Benefits<br>y_predict_tfidf=%{x}<br>count=%{y}<extra></extra>",
         "legendgroup": "Compensation and Benefits",
         "marker": {
          "color": "#ab63fa",
          "pattern": {
           "shape": ""
          }
         },
         "name": "Compensation and Benefits",
         "offsetgroup": "Compensation and Benefits",
         "orientation": "v",
         "showlegend": true,
         "textposition": "auto",
         "x": [
          10,
          10,
          10,
          10,
          10,
          10,
          10,
          10,
          10,
          10,
          10,
          10,
          10,
          10,
          10,
          10,
          10,
          10,
          10,
          10,
          10,
          10,
          10,
          10,
          10,
          10,
          10,
          10,
          10,
          10
         ],
         "xaxis": "x",
         "y": [
          1,
          1,
          1,
          1,
          1,
          1,
          1,
          1,
          1,
          1,
          1,
          1,
          1,
          1,
          1,
          1,
          1,
          1,
          1,
          1,
          1,
          1,
          1,
          1,
          1,
          1,
          1,
          1,
          1,
          1
         ],
         "yaxis": "y",
         "type": "bar"
        },
        {
         "alignmentgroup": "True",
         "hovertemplate": "Genre=Career Development<br>y_predict_tfidf=%{x}<br>count=%{y}<extra></extra>",
         "legendgroup": "Career Development",
         "marker": {
          "color": "#FFA15A",
          "pattern": {
           "shape": ""
          }
         },
         "name": "Career Development",
         "offsetgroup": "Career Development",
         "orientation": "v",
         "showlegend": true,
         "textposition": "auto",
         "x": [
          10,
          10,
          10,
          10,
          10,
          10,
          11,
          10,
          11,
          10,
          10,
          10,
          10,
          10,
          10,
          10,
          11,
          10,
          10,
          10,
          11,
          10,
          10,
          10,
          10,
          10,
          10,
          10,
          10,
          10
         ],
         "xaxis": "x",
         "y": [
          1,
          1,
          1,
          1,
          1,
          1,
          1,
          1,
          1,
          1,
          1,
          1,
          1,
          1,
          1,
          1,
          1,
          1,
          1,
          1,
          1,
          1,
          1,
          1,
          1,
          1,
          1,
          1,
          1,
          1
         ],
         "yaxis": "y",
         "type": "bar"
        },
        {
         "alignmentgroup": "True",
         "hovertemplate": "Genre=Workplace Environment<br>y_predict_tfidf=%{x}<br>count=%{y}<extra></extra>",
         "legendgroup": "Workplace Environment",
         "marker": {
          "color": "#19d3f3",
          "pattern": {
           "shape": ""
          }
         },
         "name": "Workplace Environment",
         "offsetgroup": "Workplace Environment",
         "orientation": "v",
         "showlegend": true,
         "textposition": "auto",
         "x": [
          10,
          10,
          10,
          10,
          10,
          10,
          10,
          10,
          10,
          10,
          10,
          10,
          10,
          10,
          10,
          10,
          10,
          10,
          10,
          10,
          10,
          10,
          10,
          10,
          10,
          10,
          10,
          10,
          10,
          10,
          10,
          10,
          10,
          10,
          10,
          10,
          10,
          10,
          10,
          10,
          10,
          10,
          10,
          10,
          10,
          10,
          10,
          10,
          10,
          10,
          10,
          10
         ],
         "xaxis": "x",
         "y": [
          1,
          1,
          1,
          1,
          1,
          1,
          1,
          1,
          1,
          1,
          1,
          1,
          1,
          1,
          1,
          1,
          1,
          1,
          1,
          1,
          1,
          1,
          1,
          1,
          1,
          1,
          1,
          1,
          1,
          1,
          1,
          1,
          1,
          1,
          1,
          1,
          1,
          1,
          1,
          1,
          1,
          1,
          1,
          1,
          1,
          1,
          1,
          1,
          1,
          1,
          1,
          1
         ],
         "yaxis": "y",
         "type": "bar"
        },
        {
         "alignmentgroup": "True",
         "hovertemplate": "Genre=Lack of training and development<br>y_predict_tfidf=%{x}<br>count=%{y}<extra></extra>",
         "legendgroup": "Lack of training and development",
         "marker": {
          "color": "#FF6692",
          "pattern": {
           "shape": ""
          }
         },
         "name": "Lack of training and development",
         "offsetgroup": "Lack of training and development",
         "orientation": "v",
         "showlegend": true,
         "textposition": "auto",
         "x": [
          10,
          10,
          11,
          10,
          10,
          10,
          2,
          10,
          10,
          11,
          10,
          10,
          10,
          10,
          10,
          10,
          10,
          10,
          10,
          11,
          10,
          10,
          10,
          10,
          10,
          10,
          10,
          10,
          10,
          10,
          10,
          11,
          10,
          10,
          10,
          10,
          10,
          10,
          10,
          10,
          10,
          9,
          10,
          10,
          11,
          10,
          10,
          11,
          10,
          10,
          10,
          10,
          9,
          10,
          10,
          3,
          11,
          10,
          10,
          10,
          10,
          10,
          10,
          10,
          10,
          10,
          10,
          10,
          10,
          10
         ],
         "xaxis": "x",
         "y": [
          1,
          1,
          1,
          1,
          1,
          1,
          1,
          1,
          1,
          1,
          1,
          1,
          1,
          1,
          1,
          1,
          1,
          1,
          1,
          1,
          1,
          1,
          1,
          1,
          1,
          1,
          1,
          1,
          1,
          1,
          1,
          1,
          1,
          1,
          1,
          1,
          1,
          1,
          1,
          1,
          1,
          1,
          1,
          1,
          1,
          1,
          1,
          1,
          1,
          1,
          1,
          1,
          1,
          1,
          1,
          1,
          1,
          1,
          1,
          1,
          1,
          1,
          1,
          1,
          1,
          1,
          1,
          1,
          1,
          1
         ],
         "yaxis": "y",
         "type": "bar"
        }
       ],
       "layout": {
        "template": {
         "data": {
          "histogram2dcontour": [
           {
            "type": "histogram2dcontour",
            "colorbar": {
             "outlinewidth": 0,
             "ticks": ""
            },
            "colorscale": [
             [
              0.0,
              "#0d0887"
             ],
             [
              0.1111111111111111,
              "#46039f"
             ],
             [
              0.2222222222222222,
              "#7201a8"
             ],
             [
              0.3333333333333333,
              "#9c179e"
             ],
             [
              0.4444444444444444,
              "#bd3786"
             ],
             [
              0.5555555555555556,
              "#d8576b"
             ],
             [
              0.6666666666666666,
              "#ed7953"
             ],
             [
              0.7777777777777778,
              "#fb9f3a"
             ],
             [
              0.8888888888888888,
              "#fdca26"
             ],
             [
              1.0,
              "#f0f921"
             ]
            ]
           }
          ],
          "choropleth": [
           {
            "type": "choropleth",
            "colorbar": {
             "outlinewidth": 0,
             "ticks": ""
            }
           }
          ],
          "histogram2d": [
           {
            "type": "histogram2d",
            "colorbar": {
             "outlinewidth": 0,
             "ticks": ""
            },
            "colorscale": [
             [
              0.0,
              "#0d0887"
             ],
             [
              0.1111111111111111,
              "#46039f"
             ],
             [
              0.2222222222222222,
              "#7201a8"
             ],
             [
              0.3333333333333333,
              "#9c179e"
             ],
             [
              0.4444444444444444,
              "#bd3786"
             ],
             [
              0.5555555555555556,
              "#d8576b"
             ],
             [
              0.6666666666666666,
              "#ed7953"
             ],
             [
              0.7777777777777778,
              "#fb9f3a"
             ],
             [
              0.8888888888888888,
              "#fdca26"
             ],
             [
              1.0,
              "#f0f921"
             ]
            ]
           }
          ],
          "heatmap": [
           {
            "type": "heatmap",
            "colorbar": {
             "outlinewidth": 0,
             "ticks": ""
            },
            "colorscale": [
             [
              0.0,
              "#0d0887"
             ],
             [
              0.1111111111111111,
              "#46039f"
             ],
             [
              0.2222222222222222,
              "#7201a8"
             ],
             [
              0.3333333333333333,
              "#9c179e"
             ],
             [
              0.4444444444444444,
              "#bd3786"
             ],
             [
              0.5555555555555556,
              "#d8576b"
             ],
             [
              0.6666666666666666,
              "#ed7953"
             ],
             [
              0.7777777777777778,
              "#fb9f3a"
             ],
             [
              0.8888888888888888,
              "#fdca26"
             ],
             [
              1.0,
              "#f0f921"
             ]
            ]
           }
          ],
          "heatmapgl": [
           {
            "type": "heatmapgl",
            "colorbar": {
             "outlinewidth": 0,
             "ticks": ""
            },
            "colorscale": [
             [
              0.0,
              "#0d0887"
             ],
             [
              0.1111111111111111,
              "#46039f"
             ],
             [
              0.2222222222222222,
              "#7201a8"
             ],
             [
              0.3333333333333333,
              "#9c179e"
             ],
             [
              0.4444444444444444,
              "#bd3786"
             ],
             [
              0.5555555555555556,
              "#d8576b"
             ],
             [
              0.6666666666666666,
              "#ed7953"
             ],
             [
              0.7777777777777778,
              "#fb9f3a"
             ],
             [
              0.8888888888888888,
              "#fdca26"
             ],
             [
              1.0,
              "#f0f921"
             ]
            ]
           }
          ],
          "contourcarpet": [
           {
            "type": "contourcarpet",
            "colorbar": {
             "outlinewidth": 0,
             "ticks": ""
            }
           }
          ],
          "contour": [
           {
            "type": "contour",
            "colorbar": {
             "outlinewidth": 0,
             "ticks": ""
            },
            "colorscale": [
             [
              0.0,
              "#0d0887"
             ],
             [
              0.1111111111111111,
              "#46039f"
             ],
             [
              0.2222222222222222,
              "#7201a8"
             ],
             [
              0.3333333333333333,
              "#9c179e"
             ],
             [
              0.4444444444444444,
              "#bd3786"
             ],
             [
              0.5555555555555556,
              "#d8576b"
             ],
             [
              0.6666666666666666,
              "#ed7953"
             ],
             [
              0.7777777777777778,
              "#fb9f3a"
             ],
             [
              0.8888888888888888,
              "#fdca26"
             ],
             [
              1.0,
              "#f0f921"
             ]
            ]
           }
          ],
          "surface": [
           {
            "type": "surface",
            "colorbar": {
             "outlinewidth": 0,
             "ticks": ""
            },
            "colorscale": [
             [
              0.0,
              "#0d0887"
             ],
             [
              0.1111111111111111,
              "#46039f"
             ],
             [
              0.2222222222222222,
              "#7201a8"
             ],
             [
              0.3333333333333333,
              "#9c179e"
             ],
             [
              0.4444444444444444,
              "#bd3786"
             ],
             [
              0.5555555555555556,
              "#d8576b"
             ],
             [
              0.6666666666666666,
              "#ed7953"
             ],
             [
              0.7777777777777778,
              "#fb9f3a"
             ],
             [
              0.8888888888888888,
              "#fdca26"
             ],
             [
              1.0,
              "#f0f921"
             ]
            ]
           }
          ],
          "mesh3d": [
           {
            "type": "mesh3d",
            "colorbar": {
             "outlinewidth": 0,
             "ticks": ""
            }
           }
          ],
          "scatter": [
           {
            "fillpattern": {
             "fillmode": "overlay",
             "size": 10,
             "solidity": 0.2
            },
            "type": "scatter"
           }
          ],
          "parcoords": [
           {
            "type": "parcoords",
            "line": {
             "colorbar": {
              "outlinewidth": 0,
              "ticks": ""
             }
            }
           }
          ],
          "scatterpolargl": [
           {
            "type": "scatterpolargl",
            "marker": {
             "colorbar": {
              "outlinewidth": 0,
              "ticks": ""
             }
            }
           }
          ],
          "bar": [
           {
            "error_x": {
             "color": "#2a3f5f"
            },
            "error_y": {
             "color": "#2a3f5f"
            },
            "marker": {
             "line": {
              "color": "#E5ECF6",
              "width": 0.5
             },
             "pattern": {
              "fillmode": "overlay",
              "size": 10,
              "solidity": 0.2
             }
            },
            "type": "bar"
           }
          ],
          "scattergeo": [
           {
            "type": "scattergeo",
            "marker": {
             "colorbar": {
              "outlinewidth": 0,
              "ticks": ""
             }
            }
           }
          ],
          "scatterpolar": [
           {
            "type": "scatterpolar",
            "marker": {
             "colorbar": {
              "outlinewidth": 0,
              "ticks": ""
             }
            }
           }
          ],
          "histogram": [
           {
            "marker": {
             "pattern": {
              "fillmode": "overlay",
              "size": 10,
              "solidity": 0.2
             }
            },
            "type": "histogram"
           }
          ],
          "scattergl": [
           {
            "type": "scattergl",
            "marker": {
             "colorbar": {
              "outlinewidth": 0,
              "ticks": ""
             }
            }
           }
          ],
          "scatter3d": [
           {
            "type": "scatter3d",
            "line": {
             "colorbar": {
              "outlinewidth": 0,
              "ticks": ""
             }
            },
            "marker": {
             "colorbar": {
              "outlinewidth": 0,
              "ticks": ""
             }
            }
           }
          ],
          "scattermapbox": [
           {
            "type": "scattermapbox",
            "marker": {
             "colorbar": {
              "outlinewidth": 0,
              "ticks": ""
             }
            }
           }
          ],
          "scatterternary": [
           {
            "type": "scatterternary",
            "marker": {
             "colorbar": {
              "outlinewidth": 0,
              "ticks": ""
             }
            }
           }
          ],
          "scattercarpet": [
           {
            "type": "scattercarpet",
            "marker": {
             "colorbar": {
              "outlinewidth": 0,
              "ticks": ""
             }
            }
           }
          ],
          "carpet": [
           {
            "aaxis": {
             "endlinecolor": "#2a3f5f",
             "gridcolor": "white",
             "linecolor": "white",
             "minorgridcolor": "white",
             "startlinecolor": "#2a3f5f"
            },
            "baxis": {
             "endlinecolor": "#2a3f5f",
             "gridcolor": "white",
             "linecolor": "white",
             "minorgridcolor": "white",
             "startlinecolor": "#2a3f5f"
            },
            "type": "carpet"
           }
          ],
          "table": [
           {
            "cells": {
             "fill": {
              "color": "#EBF0F8"
             },
             "line": {
              "color": "white"
             }
            },
            "header": {
             "fill": {
              "color": "#C8D4E3"
             },
             "line": {
              "color": "white"
             }
            },
            "type": "table"
           }
          ],
          "barpolar": [
           {
            "marker": {
             "line": {
              "color": "#E5ECF6",
              "width": 0.5
             },
             "pattern": {
              "fillmode": "overlay",
              "size": 10,
              "solidity": 0.2
             }
            },
            "type": "barpolar"
           }
          ],
          "pie": [
           {
            "automargin": true,
            "type": "pie"
           }
          ]
         },
         "layout": {
          "autotypenumbers": "strict",
          "colorway": [
           "#636efa",
           "#EF553B",
           "#00cc96",
           "#ab63fa",
           "#FFA15A",
           "#19d3f3",
           "#FF6692",
           "#B6E880",
           "#FF97FF",
           "#FECB52"
          ],
          "font": {
           "color": "#2a3f5f"
          },
          "hovermode": "closest",
          "hoverlabel": {
           "align": "left"
          },
          "paper_bgcolor": "white",
          "plot_bgcolor": "#E5ECF6",
          "polar": {
           "bgcolor": "#E5ECF6",
           "angularaxis": {
            "gridcolor": "white",
            "linecolor": "white",
            "ticks": ""
           },
           "radialaxis": {
            "gridcolor": "white",
            "linecolor": "white",
            "ticks": ""
           }
          },
          "ternary": {
           "bgcolor": "#E5ECF6",
           "aaxis": {
            "gridcolor": "white",
            "linecolor": "white",
            "ticks": ""
           },
           "baxis": {
            "gridcolor": "white",
            "linecolor": "white",
            "ticks": ""
           },
           "caxis": {
            "gridcolor": "white",
            "linecolor": "white",
            "ticks": ""
           }
          },
          "coloraxis": {
           "colorbar": {
            "outlinewidth": 0,
            "ticks": ""
           }
          },
          "colorscale": {
           "sequential": [
            [
             0.0,
             "#0d0887"
            ],
            [
             0.1111111111111111,
             "#46039f"
            ],
            [
             0.2222222222222222,
             "#7201a8"
            ],
            [
             0.3333333333333333,
             "#9c179e"
            ],
            [
             0.4444444444444444,
             "#bd3786"
            ],
            [
             0.5555555555555556,
             "#d8576b"
            ],
            [
             0.6666666666666666,
             "#ed7953"
            ],
            [
             0.7777777777777778,
             "#fb9f3a"
            ],
            [
             0.8888888888888888,
             "#fdca26"
            ],
            [
             1.0,
             "#f0f921"
            ]
           ],
           "sequentialminus": [
            [
             0.0,
             "#0d0887"
            ],
            [
             0.1111111111111111,
             "#46039f"
            ],
            [
             0.2222222222222222,
             "#7201a8"
            ],
            [
             0.3333333333333333,
             "#9c179e"
            ],
            [
             0.4444444444444444,
             "#bd3786"
            ],
            [
             0.5555555555555556,
             "#d8576b"
            ],
            [
             0.6666666666666666,
             "#ed7953"
            ],
            [
             0.7777777777777778,
             "#fb9f3a"
            ],
            [
             0.8888888888888888,
             "#fdca26"
            ],
            [
             1.0,
             "#f0f921"
            ]
           ],
           "diverging": [
            [
             0,
             "#8e0152"
            ],
            [
             0.1,
             "#c51b7d"
            ],
            [
             0.2,
             "#de77ae"
            ],
            [
             0.3,
             "#f1b6da"
            ],
            [
             0.4,
             "#fde0ef"
            ],
            [
             0.5,
             "#f7f7f7"
            ],
            [
             0.6,
             "#e6f5d0"
            ],
            [
             0.7,
             "#b8e186"
            ],
            [
             0.8,
             "#7fbc41"
            ],
            [
             0.9,
             "#4d9221"
            ],
            [
             1,
             "#276419"
            ]
           ]
          },
          "xaxis": {
           "gridcolor": "white",
           "linecolor": "white",
           "ticks": "",
           "title": {
            "standoff": 15
           },
           "zerolinecolor": "white",
           "automargin": true,
           "zerolinewidth": 2
          },
          "yaxis": {
           "gridcolor": "white",
           "linecolor": "white",
           "ticks": "",
           "title": {
            "standoff": 15
           },
           "zerolinecolor": "white",
           "automargin": true,
           "zerolinewidth": 2
          },
          "scene": {
           "xaxis": {
            "backgroundcolor": "#E5ECF6",
            "gridcolor": "white",
            "linecolor": "white",
            "showbackground": true,
            "ticks": "",
            "zerolinecolor": "white",
            "gridwidth": 2
           },
           "yaxis": {
            "backgroundcolor": "#E5ECF6",
            "gridcolor": "white",
            "linecolor": "white",
            "showbackground": true,
            "ticks": "",
            "zerolinecolor": "white",
            "gridwidth": 2
           },
           "zaxis": {
            "backgroundcolor": "#E5ECF6",
            "gridcolor": "white",
            "linecolor": "white",
            "showbackground": true,
            "ticks": "",
            "zerolinecolor": "white",
            "gridwidth": 2
           }
          },
          "shapedefaults": {
           "line": {
            "color": "#2a3f5f"
           }
          },
          "annotationdefaults": {
           "arrowcolor": "#2a3f5f",
           "arrowhead": 0,
           "arrowwidth": 1
          },
          "geo": {
           "bgcolor": "white",
           "landcolor": "#E5ECF6",
           "subunitcolor": "white",
           "showland": true,
           "showlakes": true,
           "lakecolor": "white"
          },
          "title": {
           "x": 0.05
          },
          "mapbox": {
           "style": "light"
          }
         }
        },
        "xaxis": {
         "anchor": "y",
         "domain": [
          0.0,
          1.0
         ],
         "title": {
          "text": "y_predict_tfidf"
         }
        },
        "yaxis": {
         "anchor": "x",
         "domain": [
          0.0,
          1.0
         ],
         "title": {
          "text": "count"
         }
        },
        "legend": {
         "title": {
          "text": "Genre"
         },
         "tracegroupgap": 0
        },
        "title": {
         "text": "K-Means Clustering Results - TF-IDF"
        },
        "barmode": "relative"
       },
       "config": {
        "plotlyServerURL": "https://plot.ly"
       }
      },
      "text/html": "<div>                            <div id=\"ab7957b0-32e8-4e62-9625-abe06d2ecd31\" class=\"plotly-graph-div\" style=\"height:525px; width:100%;\"></div>            <script type=\"text/javascript\">                require([\"plotly\"], function(Plotly) {                    window.PLOTLYENV=window.PLOTLYENV || {};                                    if (document.getElementById(\"ab7957b0-32e8-4e62-9625-abe06d2ecd31\")) {                    Plotly.newPlot(                        \"ab7957b0-32e8-4e62-9625-abe06d2ecd31\",                        [{\"alignmentgroup\":\"True\",\"hovertemplate\":\"Genre=Communication Issues\\u003cbr\\u003ey_predict_tfidf=%{x}\\u003cbr\\u003ecount=%{y}\\u003cextra\\u003e\\u003c\\u002fextra\\u003e\",\"legendgroup\":\"Communication Issues\",\"marker\":{\"color\":\"#636efa\",\"pattern\":{\"shape\":\"\"}},\"name\":\"Communication Issues\",\"offsetgroup\":\"Communication Issues\",\"orientation\":\"v\",\"showlegend\":true,\"textposition\":\"auto\",\"x\":[10,10,10,10,10,10,10,10,10,10,10,10,10,10,10,10,10,10,10,10,10,8,10,10,10,10,10,10,10,10,10,10,10,10,10,10,10,10,10,10,10,10,10,10,10,10,10,10,10,10,10,10,10,10,10,10,10,10,10,10,10,10,10,10,10,10,10,10,10,10,10,10,10,10,10,10,10,10,10,10,10,10,10,10,10,10,10,10,7,10,10,10,10,10,10,10,4,10,10,10],\"xaxis\":\"x\",\"y\":[1,1,1,1,1,1,1,1,1,1,1,1,1,1,1,1,1,1,1,1,1,1,1,1,1,1,1,1,1,1,1,1,1,1,1,1,1,1,1,1,1,1,1,1,1,1,1,1,1,1,1,1,1,1,1,1,1,1,1,1,1,1,1,1,1,1,1,1,1,1,1,1,1,1,1,1,1,1,1,1,1,1,1,1,1,1,1,1,1,1,1,1,1,1,1,1,1,1,1,1],\"yaxis\":\"y\",\"type\":\"bar\"},{\"alignmentgroup\":\"True\",\"hovertemplate\":\"Genre=Workload and Stress\\u003cbr\\u003ey_predict_tfidf=%{x}\\u003cbr\\u003ecount=%{y}\\u003cextra\\u003e\\u003c\\u002fextra\\u003e\",\"legendgroup\":\"Workload and Stress\",\"marker\":{\"color\":\"#EF553B\",\"pattern\":{\"shape\":\"\"}},\"name\":\"Workload and Stress\",\"offsetgroup\":\"Workload and Stress\",\"orientation\":\"v\",\"showlegend\":true,\"textposition\":\"auto\",\"x\":[10,10,10,10,10,10,10,10,10,10,10,5,10,10,10,10,10,10,10,10,10,10,10,10,11,10,10,10,10,10,5,10,10,10,10,10,10,11,10,10,10,10,10,10,10,10,10,10,10,10,10,10,10,10,11,10,10,10,10,10,10,10,10,10,10,10,10,10,10,6,10,10,10,10,10,10,10,10,10,10,0,10,10,10,10,10,10,10,10,10,10,10,10,10,10,10,10,10,10,10],\"xaxis\":\"x\",\"y\":[1,1,1,1,1,1,1,1,1,1,1,1,1,1,1,1,1,1,1,1,1,1,1,1,1,1,1,1,1,1,1,1,1,1,1,1,1,1,1,1,1,1,1,1,1,1,1,1,1,1,1,1,1,1,1,1,1,1,1,1,1,1,1,1,1,1,1,1,1,1,1,1,1,1,1,1,1,1,1,1,1,1,1,1,1,1,1,1,1,1,1,1,1,1,1,1,1,1,1,1],\"yaxis\":\"y\",\"type\":\"bar\"},{\"alignmentgroup\":\"True\",\"hovertemplate\":\"Genre=Management Lifestyle\\u003cbr\\u003ey_predict_tfidf=%{x}\\u003cbr\\u003ecount=%{y}\\u003cextra\\u003e\\u003c\\u002fextra\\u003e\",\"legendgroup\":\"Management Lifestyle\",\"marker\":{\"color\":\"#00cc96\",\"pattern\":{\"shape\":\"\"}},\"name\":\"Management Lifestyle\",\"offsetgroup\":\"Management Lifestyle\",\"orientation\":\"v\",\"showlegend\":true,\"textposition\":\"auto\",\"x\":[10,10,10,5,10,10,10,10,1,10,10,10,10,10,11,9,10,10,5,10,10,10,10,10,10,10,10,1,10,10,10,10,10,10,10,10,10,10,10,10,10,10,10,10,11,10,10,10,10,10,10,10,10,10,10,10,10,10,9,10,10,11,10,10,5,10,10,10,10,10,10,10,10,11,10,10,10,10,10,10,10,10,10,10,10,10,10,10,9,1,11,10,10,10,10,10,10,10,10,10],\"xaxis\":\"x\",\"y\":[1,1,1,1,1,1,1,1,1,1,1,1,1,1,1,1,1,1,1,1,1,1,1,1,1,1,1,1,1,1,1,1,1,1,1,1,1,1,1,1,1,1,1,1,1,1,1,1,1,1,1,1,1,1,1,1,1,1,1,1,1,1,1,1,1,1,1,1,1,1,1,1,1,1,1,1,1,1,1,1,1,1,1,1,1,1,1,1,1,1,1,1,1,1,1,1,1,1,1,1],\"yaxis\":\"y\",\"type\":\"bar\"},{\"alignmentgroup\":\"True\",\"hovertemplate\":\"Genre=Compensation and Benefits\\u003cbr\\u003ey_predict_tfidf=%{x}\\u003cbr\\u003ecount=%{y}\\u003cextra\\u003e\\u003c\\u002fextra\\u003e\",\"legendgroup\":\"Compensation and Benefits\",\"marker\":{\"color\":\"#ab63fa\",\"pattern\":{\"shape\":\"\"}},\"name\":\"Compensation and Benefits\",\"offsetgroup\":\"Compensation and Benefits\",\"orientation\":\"v\",\"showlegend\":true,\"textposition\":\"auto\",\"x\":[10,10,10,10,10,10,10,10,10,10,10,10,10,10,10,10,10,10,10,10,10,10,10,10,10,10,10,10,10,10],\"xaxis\":\"x\",\"y\":[1,1,1,1,1,1,1,1,1,1,1,1,1,1,1,1,1,1,1,1,1,1,1,1,1,1,1,1,1,1],\"yaxis\":\"y\",\"type\":\"bar\"},{\"alignmentgroup\":\"True\",\"hovertemplate\":\"Genre=Career Development\\u003cbr\\u003ey_predict_tfidf=%{x}\\u003cbr\\u003ecount=%{y}\\u003cextra\\u003e\\u003c\\u002fextra\\u003e\",\"legendgroup\":\"Career Development\",\"marker\":{\"color\":\"#FFA15A\",\"pattern\":{\"shape\":\"\"}},\"name\":\"Career Development\",\"offsetgroup\":\"Career Development\",\"orientation\":\"v\",\"showlegend\":true,\"textposition\":\"auto\",\"x\":[10,10,10,10,10,10,11,10,11,10,10,10,10,10,10,10,11,10,10,10,11,10,10,10,10,10,10,10,10,10],\"xaxis\":\"x\",\"y\":[1,1,1,1,1,1,1,1,1,1,1,1,1,1,1,1,1,1,1,1,1,1,1,1,1,1,1,1,1,1],\"yaxis\":\"y\",\"type\":\"bar\"},{\"alignmentgroup\":\"True\",\"hovertemplate\":\"Genre=Workplace Environment\\u003cbr\\u003ey_predict_tfidf=%{x}\\u003cbr\\u003ecount=%{y}\\u003cextra\\u003e\\u003c\\u002fextra\\u003e\",\"legendgroup\":\"Workplace Environment\",\"marker\":{\"color\":\"#19d3f3\",\"pattern\":{\"shape\":\"\"}},\"name\":\"Workplace Environment\",\"offsetgroup\":\"Workplace Environment\",\"orientation\":\"v\",\"showlegend\":true,\"textposition\":\"auto\",\"x\":[10,10,10,10,10,10,10,10,10,10,10,10,10,10,10,10,10,10,10,10,10,10,10,10,10,10,10,10,10,10,10,10,10,10,10,10,10,10,10,10,10,10,10,10,10,10,10,10,10,10,10,10],\"xaxis\":\"x\",\"y\":[1,1,1,1,1,1,1,1,1,1,1,1,1,1,1,1,1,1,1,1,1,1,1,1,1,1,1,1,1,1,1,1,1,1,1,1,1,1,1,1,1,1,1,1,1,1,1,1,1,1,1,1],\"yaxis\":\"y\",\"type\":\"bar\"},{\"alignmentgroup\":\"True\",\"hovertemplate\":\"Genre=Lack of training and development\\u003cbr\\u003ey_predict_tfidf=%{x}\\u003cbr\\u003ecount=%{y}\\u003cextra\\u003e\\u003c\\u002fextra\\u003e\",\"legendgroup\":\"Lack of training and development\",\"marker\":{\"color\":\"#FF6692\",\"pattern\":{\"shape\":\"\"}},\"name\":\"Lack of training and development\",\"offsetgroup\":\"Lack of training and development\",\"orientation\":\"v\",\"showlegend\":true,\"textposition\":\"auto\",\"x\":[10,10,11,10,10,10,2,10,10,11,10,10,10,10,10,10,10,10,10,11,10,10,10,10,10,10,10,10,10,10,10,11,10,10,10,10,10,10,10,10,10,9,10,10,11,10,10,11,10,10,10,10,9,10,10,3,11,10,10,10,10,10,10,10,10,10,10,10,10,10],\"xaxis\":\"x\",\"y\":[1,1,1,1,1,1,1,1,1,1,1,1,1,1,1,1,1,1,1,1,1,1,1,1,1,1,1,1,1,1,1,1,1,1,1,1,1,1,1,1,1,1,1,1,1,1,1,1,1,1,1,1,1,1,1,1,1,1,1,1,1,1,1,1,1,1,1,1,1,1],\"yaxis\":\"y\",\"type\":\"bar\"}],                        {\"template\":{\"data\":{\"histogram2dcontour\":[{\"type\":\"histogram2dcontour\",\"colorbar\":{\"outlinewidth\":0,\"ticks\":\"\"},\"colorscale\":[[0.0,\"#0d0887\"],[0.1111111111111111,\"#46039f\"],[0.2222222222222222,\"#7201a8\"],[0.3333333333333333,\"#9c179e\"],[0.4444444444444444,\"#bd3786\"],[0.5555555555555556,\"#d8576b\"],[0.6666666666666666,\"#ed7953\"],[0.7777777777777778,\"#fb9f3a\"],[0.8888888888888888,\"#fdca26\"],[1.0,\"#f0f921\"]]}],\"choropleth\":[{\"type\":\"choropleth\",\"colorbar\":{\"outlinewidth\":0,\"ticks\":\"\"}}],\"histogram2d\":[{\"type\":\"histogram2d\",\"colorbar\":{\"outlinewidth\":0,\"ticks\":\"\"},\"colorscale\":[[0.0,\"#0d0887\"],[0.1111111111111111,\"#46039f\"],[0.2222222222222222,\"#7201a8\"],[0.3333333333333333,\"#9c179e\"],[0.4444444444444444,\"#bd3786\"],[0.5555555555555556,\"#d8576b\"],[0.6666666666666666,\"#ed7953\"],[0.7777777777777778,\"#fb9f3a\"],[0.8888888888888888,\"#fdca26\"],[1.0,\"#f0f921\"]]}],\"heatmap\":[{\"type\":\"heatmap\",\"colorbar\":{\"outlinewidth\":0,\"ticks\":\"\"},\"colorscale\":[[0.0,\"#0d0887\"],[0.1111111111111111,\"#46039f\"],[0.2222222222222222,\"#7201a8\"],[0.3333333333333333,\"#9c179e\"],[0.4444444444444444,\"#bd3786\"],[0.5555555555555556,\"#d8576b\"],[0.6666666666666666,\"#ed7953\"],[0.7777777777777778,\"#fb9f3a\"],[0.8888888888888888,\"#fdca26\"],[1.0,\"#f0f921\"]]}],\"heatmapgl\":[{\"type\":\"heatmapgl\",\"colorbar\":{\"outlinewidth\":0,\"ticks\":\"\"},\"colorscale\":[[0.0,\"#0d0887\"],[0.1111111111111111,\"#46039f\"],[0.2222222222222222,\"#7201a8\"],[0.3333333333333333,\"#9c179e\"],[0.4444444444444444,\"#bd3786\"],[0.5555555555555556,\"#d8576b\"],[0.6666666666666666,\"#ed7953\"],[0.7777777777777778,\"#fb9f3a\"],[0.8888888888888888,\"#fdca26\"],[1.0,\"#f0f921\"]]}],\"contourcarpet\":[{\"type\":\"contourcarpet\",\"colorbar\":{\"outlinewidth\":0,\"ticks\":\"\"}}],\"contour\":[{\"type\":\"contour\",\"colorbar\":{\"outlinewidth\":0,\"ticks\":\"\"},\"colorscale\":[[0.0,\"#0d0887\"],[0.1111111111111111,\"#46039f\"],[0.2222222222222222,\"#7201a8\"],[0.3333333333333333,\"#9c179e\"],[0.4444444444444444,\"#bd3786\"],[0.5555555555555556,\"#d8576b\"],[0.6666666666666666,\"#ed7953\"],[0.7777777777777778,\"#fb9f3a\"],[0.8888888888888888,\"#fdca26\"],[1.0,\"#f0f921\"]]}],\"surface\":[{\"type\":\"surface\",\"colorbar\":{\"outlinewidth\":0,\"ticks\":\"\"},\"colorscale\":[[0.0,\"#0d0887\"],[0.1111111111111111,\"#46039f\"],[0.2222222222222222,\"#7201a8\"],[0.3333333333333333,\"#9c179e\"],[0.4444444444444444,\"#bd3786\"],[0.5555555555555556,\"#d8576b\"],[0.6666666666666666,\"#ed7953\"],[0.7777777777777778,\"#fb9f3a\"],[0.8888888888888888,\"#fdca26\"],[1.0,\"#f0f921\"]]}],\"mesh3d\":[{\"type\":\"mesh3d\",\"colorbar\":{\"outlinewidth\":0,\"ticks\":\"\"}}],\"scatter\":[{\"fillpattern\":{\"fillmode\":\"overlay\",\"size\":10,\"solidity\":0.2},\"type\":\"scatter\"}],\"parcoords\":[{\"type\":\"parcoords\",\"line\":{\"colorbar\":{\"outlinewidth\":0,\"ticks\":\"\"}}}],\"scatterpolargl\":[{\"type\":\"scatterpolargl\",\"marker\":{\"colorbar\":{\"outlinewidth\":0,\"ticks\":\"\"}}}],\"bar\":[{\"error_x\":{\"color\":\"#2a3f5f\"},\"error_y\":{\"color\":\"#2a3f5f\"},\"marker\":{\"line\":{\"color\":\"#E5ECF6\",\"width\":0.5},\"pattern\":{\"fillmode\":\"overlay\",\"size\":10,\"solidity\":0.2}},\"type\":\"bar\"}],\"scattergeo\":[{\"type\":\"scattergeo\",\"marker\":{\"colorbar\":{\"outlinewidth\":0,\"ticks\":\"\"}}}],\"scatterpolar\":[{\"type\":\"scatterpolar\",\"marker\":{\"colorbar\":{\"outlinewidth\":0,\"ticks\":\"\"}}}],\"histogram\":[{\"marker\":{\"pattern\":{\"fillmode\":\"overlay\",\"size\":10,\"solidity\":0.2}},\"type\":\"histogram\"}],\"scattergl\":[{\"type\":\"scattergl\",\"marker\":{\"colorbar\":{\"outlinewidth\":0,\"ticks\":\"\"}}}],\"scatter3d\":[{\"type\":\"scatter3d\",\"line\":{\"colorbar\":{\"outlinewidth\":0,\"ticks\":\"\"}},\"marker\":{\"colorbar\":{\"outlinewidth\":0,\"ticks\":\"\"}}}],\"scattermapbox\":[{\"type\":\"scattermapbox\",\"marker\":{\"colorbar\":{\"outlinewidth\":0,\"ticks\":\"\"}}}],\"scatterternary\":[{\"type\":\"scatterternary\",\"marker\":{\"colorbar\":{\"outlinewidth\":0,\"ticks\":\"\"}}}],\"scattercarpet\":[{\"type\":\"scattercarpet\",\"marker\":{\"colorbar\":{\"outlinewidth\":0,\"ticks\":\"\"}}}],\"carpet\":[{\"aaxis\":{\"endlinecolor\":\"#2a3f5f\",\"gridcolor\":\"white\",\"linecolor\":\"white\",\"minorgridcolor\":\"white\",\"startlinecolor\":\"#2a3f5f\"},\"baxis\":{\"endlinecolor\":\"#2a3f5f\",\"gridcolor\":\"white\",\"linecolor\":\"white\",\"minorgridcolor\":\"white\",\"startlinecolor\":\"#2a3f5f\"},\"type\":\"carpet\"}],\"table\":[{\"cells\":{\"fill\":{\"color\":\"#EBF0F8\"},\"line\":{\"color\":\"white\"}},\"header\":{\"fill\":{\"color\":\"#C8D4E3\"},\"line\":{\"color\":\"white\"}},\"type\":\"table\"}],\"barpolar\":[{\"marker\":{\"line\":{\"color\":\"#E5ECF6\",\"width\":0.5},\"pattern\":{\"fillmode\":\"overlay\",\"size\":10,\"solidity\":0.2}},\"type\":\"barpolar\"}],\"pie\":[{\"automargin\":true,\"type\":\"pie\"}]},\"layout\":{\"autotypenumbers\":\"strict\",\"colorway\":[\"#636efa\",\"#EF553B\",\"#00cc96\",\"#ab63fa\",\"#FFA15A\",\"#19d3f3\",\"#FF6692\",\"#B6E880\",\"#FF97FF\",\"#FECB52\"],\"font\":{\"color\":\"#2a3f5f\"},\"hovermode\":\"closest\",\"hoverlabel\":{\"align\":\"left\"},\"paper_bgcolor\":\"white\",\"plot_bgcolor\":\"#E5ECF6\",\"polar\":{\"bgcolor\":\"#E5ECF6\",\"angularaxis\":{\"gridcolor\":\"white\",\"linecolor\":\"white\",\"ticks\":\"\"},\"radialaxis\":{\"gridcolor\":\"white\",\"linecolor\":\"white\",\"ticks\":\"\"}},\"ternary\":{\"bgcolor\":\"#E5ECF6\",\"aaxis\":{\"gridcolor\":\"white\",\"linecolor\":\"white\",\"ticks\":\"\"},\"baxis\":{\"gridcolor\":\"white\",\"linecolor\":\"white\",\"ticks\":\"\"},\"caxis\":{\"gridcolor\":\"white\",\"linecolor\":\"white\",\"ticks\":\"\"}},\"coloraxis\":{\"colorbar\":{\"outlinewidth\":0,\"ticks\":\"\"}},\"colorscale\":{\"sequential\":[[0.0,\"#0d0887\"],[0.1111111111111111,\"#46039f\"],[0.2222222222222222,\"#7201a8\"],[0.3333333333333333,\"#9c179e\"],[0.4444444444444444,\"#bd3786\"],[0.5555555555555556,\"#d8576b\"],[0.6666666666666666,\"#ed7953\"],[0.7777777777777778,\"#fb9f3a\"],[0.8888888888888888,\"#fdca26\"],[1.0,\"#f0f921\"]],\"sequentialminus\":[[0.0,\"#0d0887\"],[0.1111111111111111,\"#46039f\"],[0.2222222222222222,\"#7201a8\"],[0.3333333333333333,\"#9c179e\"],[0.4444444444444444,\"#bd3786\"],[0.5555555555555556,\"#d8576b\"],[0.6666666666666666,\"#ed7953\"],[0.7777777777777778,\"#fb9f3a\"],[0.8888888888888888,\"#fdca26\"],[1.0,\"#f0f921\"]],\"diverging\":[[0,\"#8e0152\"],[0.1,\"#c51b7d\"],[0.2,\"#de77ae\"],[0.3,\"#f1b6da\"],[0.4,\"#fde0ef\"],[0.5,\"#f7f7f7\"],[0.6,\"#e6f5d0\"],[0.7,\"#b8e186\"],[0.8,\"#7fbc41\"],[0.9,\"#4d9221\"],[1,\"#276419\"]]},\"xaxis\":{\"gridcolor\":\"white\",\"linecolor\":\"white\",\"ticks\":\"\",\"title\":{\"standoff\":15},\"zerolinecolor\":\"white\",\"automargin\":true,\"zerolinewidth\":2},\"yaxis\":{\"gridcolor\":\"white\",\"linecolor\":\"white\",\"ticks\":\"\",\"title\":{\"standoff\":15},\"zerolinecolor\":\"white\",\"automargin\":true,\"zerolinewidth\":2},\"scene\":{\"xaxis\":{\"backgroundcolor\":\"#E5ECF6\",\"gridcolor\":\"white\",\"linecolor\":\"white\",\"showbackground\":true,\"ticks\":\"\",\"zerolinecolor\":\"white\",\"gridwidth\":2},\"yaxis\":{\"backgroundcolor\":\"#E5ECF6\",\"gridcolor\":\"white\",\"linecolor\":\"white\",\"showbackground\":true,\"ticks\":\"\",\"zerolinecolor\":\"white\",\"gridwidth\":2},\"zaxis\":{\"backgroundcolor\":\"#E5ECF6\",\"gridcolor\":\"white\",\"linecolor\":\"white\",\"showbackground\":true,\"ticks\":\"\",\"zerolinecolor\":\"white\",\"gridwidth\":2}},\"shapedefaults\":{\"line\":{\"color\":\"#2a3f5f\"}},\"annotationdefaults\":{\"arrowcolor\":\"#2a3f5f\",\"arrowhead\":0,\"arrowwidth\":1},\"geo\":{\"bgcolor\":\"white\",\"landcolor\":\"#E5ECF6\",\"subunitcolor\":\"white\",\"showland\":true,\"showlakes\":true,\"lakecolor\":\"white\"},\"title\":{\"x\":0.05},\"mapbox\":{\"style\":\"light\"}}},\"xaxis\":{\"anchor\":\"y\",\"domain\":[0.0,1.0],\"title\":{\"text\":\"y_predict_tfidf\"}},\"yaxis\":{\"anchor\":\"x\",\"domain\":[0.0,1.0],\"title\":{\"text\":\"count\"}},\"legend\":{\"title\":{\"text\":\"Genre\"},\"tracegroupgap\":0},\"title\":{\"text\":\"K-Means Clustering Results - TF-IDF\"},\"barmode\":\"relative\"},                        {\"responsive\": true}                    ).then(function(){\n                            \nvar gd = document.getElementById('ab7957b0-32e8-4e62-9625-abe06d2ecd31');\nvar x = new MutationObserver(function (mutations, observer) {{\n        var display = window.getComputedStyle(gd).display;\n        if (!display || display === 'none') {{\n            console.log([gd, 'removed!']);\n            Plotly.purge(gd);\n            observer.disconnect();\n        }}\n}});\n\n// Listen for the removal of the full notebook cells\nvar notebookContainer = gd.closest('#notebook-container');\nif (notebookContainer) {{\n    x.observe(notebookContainer, {childList: true});\n}}\n\n// Listen for the clearing of the current output cell\nvar outputEl = gd.closest('.output');\nif (outputEl) {{\n    x.observe(outputEl, {childList: true});\n}}\n\n                        })                };                });            </script>        </div>"
     },
     "metadata": {},
     "output_type": "display_data"
    },
    {
     "data": {
      "application/vnd.plotly.v1+json": {
       "data": [
        {
         "alignmentgroup": "True",
         "hovertemplate": "Genre=Communication Issues<br>y_predict_bow=%{x}<br>count=%{y}<extra></extra>",
         "legendgroup": "Communication Issues",
         "marker": {
          "color": "#636efa",
          "pattern": {
           "shape": ""
          }
         },
         "name": "Communication Issues",
         "offsetgroup": "Communication Issues",
         "orientation": "v",
         "showlegend": true,
         "textposition": "auto",
         "x": [
          8,
          4,
          4,
          4,
          4,
          4,
          4,
          10,
          4,
          4,
          4,
          4,
          4,
          4,
          4,
          4,
          4,
          11,
          4,
          4,
          4,
          4,
          1,
          8,
          4,
          4,
          4,
          4,
          10,
          4,
          1,
          4,
          4,
          4,
          4,
          4,
          1,
          4,
          4,
          10,
          4,
          4,
          4,
          4,
          4,
          10,
          4,
          11,
          4,
          4,
          2,
          7,
          4,
          4,
          4,
          11,
          2,
          10,
          1,
          4,
          10,
          4,
          1,
          4,
          10,
          4,
          7,
          4,
          5,
          4,
          4,
          4,
          4,
          11,
          4,
          6,
          10,
          10,
          4,
          4,
          4,
          4,
          4,
          4,
          4,
          11,
          4,
          10,
          1,
          4,
          7,
          4,
          10,
          4,
          11,
          0,
          1,
          1,
          11,
          4
         ],
         "xaxis": "x",
         "y": [
          1,
          1,
          1,
          1,
          1,
          1,
          1,
          1,
          1,
          1,
          1,
          1,
          1,
          1,
          1,
          1,
          1,
          1,
          1,
          1,
          1,
          1,
          1,
          1,
          1,
          1,
          1,
          1,
          1,
          1,
          1,
          1,
          1,
          1,
          1,
          1,
          1,
          1,
          1,
          1,
          1,
          1,
          1,
          1,
          1,
          1,
          1,
          1,
          1,
          1,
          1,
          1,
          1,
          1,
          1,
          1,
          1,
          1,
          1,
          1,
          1,
          1,
          1,
          1,
          1,
          1,
          1,
          1,
          1,
          1,
          1,
          1,
          1,
          1,
          1,
          1,
          1,
          1,
          1,
          1,
          1,
          1,
          1,
          1,
          1,
          1,
          1,
          1,
          1,
          1,
          1,
          1,
          1,
          1,
          1,
          1,
          1,
          1,
          1,
          1
         ],
         "yaxis": "y",
         "type": "bar"
        },
        {
         "alignmentgroup": "True",
         "hovertemplate": "Genre=Workload and Stress<br>y_predict_bow=%{x}<br>count=%{y}<extra></extra>",
         "legendgroup": "Workload and Stress",
         "marker": {
          "color": "#EF553B",
          "pattern": {
           "shape": ""
          }
         },
         "name": "Workload and Stress",
         "offsetgroup": "Workload and Stress",
         "orientation": "v",
         "showlegend": true,
         "textposition": "auto",
         "x": [
          7,
          4,
          4,
          8,
          4,
          4,
          4,
          4,
          10,
          4,
          0,
          4,
          0,
          4,
          7,
          8,
          0,
          8,
          4,
          4,
          7,
          4,
          0,
          4,
          4,
          6,
          0,
          4,
          5,
          7,
          4,
          10,
          7,
          6,
          4,
          4,
          4,
          4,
          0,
          4,
          8,
          8,
          0,
          0,
          0,
          5,
          6,
          8,
          8,
          4,
          4,
          0,
          11,
          7,
          4,
          4,
          0,
          4,
          0,
          8,
          8,
          0,
          8,
          4,
          5,
          8,
          8,
          0,
          8,
          0,
          4,
          8,
          4,
          0,
          8,
          4,
          0,
          10,
          8,
          0,
          4,
          6,
          11,
          0,
          0,
          4,
          7,
          0,
          0,
          5,
          8,
          0,
          6,
          4,
          0,
          0,
          6,
          0,
          0,
          4
         ],
         "xaxis": "x",
         "y": [
          1,
          1,
          1,
          1,
          1,
          1,
          1,
          1,
          1,
          1,
          1,
          1,
          1,
          1,
          1,
          1,
          1,
          1,
          1,
          1,
          1,
          1,
          1,
          1,
          1,
          1,
          1,
          1,
          1,
          1,
          1,
          1,
          1,
          1,
          1,
          1,
          1,
          1,
          1,
          1,
          1,
          1,
          1,
          1,
          1,
          1,
          1,
          1,
          1,
          1,
          1,
          1,
          1,
          1,
          1,
          1,
          1,
          1,
          1,
          1,
          1,
          1,
          1,
          1,
          1,
          1,
          1,
          1,
          1,
          1,
          1,
          1,
          1,
          1,
          1,
          1,
          1,
          1,
          1,
          1,
          1,
          1,
          1,
          1,
          1,
          1,
          1,
          1,
          1,
          1,
          1,
          1,
          1,
          1,
          1,
          1,
          1,
          1,
          1,
          1
         ],
         "yaxis": "y",
         "type": "bar"
        },
        {
         "alignmentgroup": "True",
         "hovertemplate": "Genre=Management Lifestyle<br>y_predict_bow=%{x}<br>count=%{y}<extra></extra>",
         "legendgroup": "Management Lifestyle",
         "marker": {
          "color": "#00cc96",
          "pattern": {
           "shape": ""
          }
         },
         "name": "Management Lifestyle",
         "offsetgroup": "Management Lifestyle",
         "orientation": "v",
         "showlegend": true,
         "textposition": "auto",
         "x": [
          6,
          7,
          4,
          7,
          4,
          6,
          1,
          7,
          6,
          7,
          4,
          7,
          4,
          4,
          7,
          1,
          7,
          4,
          7,
          4,
          4,
          7,
          4,
          11,
          1,
          7,
          4,
          1,
          7,
          1,
          6,
          7,
          4,
          4,
          7,
          4,
          6,
          7,
          7,
          4,
          7,
          7,
          4,
          11,
          7,
          1,
          7,
          7,
          10,
          4,
          6,
          7,
          1,
          2,
          7,
          1,
          4,
          7,
          1,
          4,
          4,
          7,
          1,
          11,
          7,
          4,
          6,
          7,
          1,
          4,
          6,
          11,
          1,
          7,
          7,
          1,
          6,
          7,
          4,
          4,
          7,
          7,
          7,
          6,
          7,
          1,
          7,
          7,
          1,
          6,
          7,
          1,
          4,
          11,
          7,
          1,
          6,
          7,
          2,
          4
         ],
         "xaxis": "x",
         "y": [
          1,
          1,
          1,
          1,
          1,
          1,
          1,
          1,
          1,
          1,
          1,
          1,
          1,
          1,
          1,
          1,
          1,
          1,
          1,
          1,
          1,
          1,
          1,
          1,
          1,
          1,
          1,
          1,
          1,
          1,
          1,
          1,
          1,
          1,
          1,
          1,
          1,
          1,
          1,
          1,
          1,
          1,
          1,
          1,
          1,
          1,
          1,
          1,
          1,
          1,
          1,
          1,
          1,
          1,
          1,
          1,
          1,
          1,
          1,
          1,
          1,
          1,
          1,
          1,
          1,
          1,
          1,
          1,
          1,
          1,
          1,
          1,
          1,
          1,
          1,
          1,
          1,
          1,
          1,
          1,
          1,
          1,
          1,
          1,
          1,
          1,
          1,
          1,
          1,
          1,
          1,
          1,
          1,
          1,
          1,
          1,
          1,
          1,
          1,
          1
         ],
         "yaxis": "y",
         "type": "bar"
        },
        {
         "alignmentgroup": "True",
         "hovertemplate": "Genre=Compensation and Benefits<br>y_predict_bow=%{x}<br>count=%{y}<extra></extra>",
         "legendgroup": "Compensation and Benefits",
         "marker": {
          "color": "#ab63fa",
          "pattern": {
           "shape": ""
          }
         },
         "name": "Compensation and Benefits",
         "offsetgroup": "Compensation and Benefits",
         "orientation": "v",
         "showlegend": true,
         "textposition": "auto",
         "x": [
          4,
          1,
          7,
          4,
          7,
          7,
          4,
          4,
          4,
          2,
          4,
          4,
          2,
          4,
          7,
          4,
          4,
          7,
          1,
          4,
          4,
          7,
          2,
          4,
          2,
          4,
          4,
          1,
          4,
          2
         ],
         "xaxis": "x",
         "y": [
          1,
          1,
          1,
          1,
          1,
          1,
          1,
          1,
          1,
          1,
          1,
          1,
          1,
          1,
          1,
          1,
          1,
          1,
          1,
          1,
          1,
          1,
          1,
          1,
          1,
          1,
          1,
          1,
          1,
          1
         ],
         "yaxis": "y",
         "type": "bar"
        },
        {
         "alignmentgroup": "True",
         "hovertemplate": "Genre=Career Development<br>y_predict_bow=%{x}<br>count=%{y}<extra></extra>",
         "legendgroup": "Career Development",
         "marker": {
          "color": "#FFA15A",
          "pattern": {
           "shape": ""
          }
         },
         "name": "Career Development",
         "offsetgroup": "Career Development",
         "orientation": "v",
         "showlegend": true,
         "textposition": "auto",
         "x": [
          4,
          4,
          4,
          1,
          4,
          4,
          1,
          2,
          7,
          4,
          4,
          7,
          2,
          4,
          2,
          4,
          1,
          2,
          4,
          7,
          10,
          2,
          2,
          4,
          2,
          2,
          4,
          4,
          1,
          7
         ],
         "xaxis": "x",
         "y": [
          1,
          1,
          1,
          1,
          1,
          1,
          1,
          1,
          1,
          1,
          1,
          1,
          1,
          1,
          1,
          1,
          1,
          1,
          1,
          1,
          1,
          1,
          1,
          1,
          1,
          1,
          1,
          1,
          1,
          1
         ],
         "yaxis": "y",
         "type": "bar"
        },
        {
         "alignmentgroup": "True",
         "hovertemplate": "Genre=Workplace Environment<br>y_predict_bow=%{x}<br>count=%{y}<extra></extra>",
         "legendgroup": "Workplace Environment",
         "marker": {
          "color": "#19d3f3",
          "pattern": {
           "shape": ""
          }
         },
         "name": "Workplace Environment",
         "offsetgroup": "Workplace Environment",
         "orientation": "v",
         "showlegend": true,
         "textposition": "auto",
         "x": [
          4,
          1,
          4,
          4,
          4,
          4,
          4,
          2,
          4,
          7,
          4,
          9,
          4,
          4,
          3,
          4,
          4,
          4,
          7,
          2,
          1,
          4,
          4,
          4,
          4,
          4,
          8,
          4,
          4,
          4,
          4,
          1,
          4,
          4,
          4,
          4,
          4,
          2,
          4,
          7,
          4,
          9,
          4,
          4,
          3,
          4,
          4,
          4,
          7,
          2,
          1,
          4
         ],
         "xaxis": "x",
         "y": [
          1,
          1,
          1,
          1,
          1,
          1,
          1,
          1,
          1,
          1,
          1,
          1,
          1,
          1,
          1,
          1,
          1,
          1,
          1,
          1,
          1,
          1,
          1,
          1,
          1,
          1,
          1,
          1,
          1,
          1,
          1,
          1,
          1,
          1,
          1,
          1,
          1,
          1,
          1,
          1,
          1,
          1,
          1,
          1,
          1,
          1,
          1,
          1,
          1,
          1,
          1,
          1
         ],
         "yaxis": "y",
         "type": "bar"
        },
        {
         "alignmentgroup": "True",
         "hovertemplate": "Genre=Lack of training and development<br>y_predict_bow=%{x}<br>count=%{y}<extra></extra>",
         "legendgroup": "Lack of training and development",
         "marker": {
          "color": "#FF6692",
          "pattern": {
           "shape": ""
          }
         },
         "name": "Lack of training and development",
         "offsetgroup": "Lack of training and development",
         "orientation": "v",
         "showlegend": true,
         "textposition": "auto",
         "x": [
          8,
          2,
          1,
          4,
          2,
          7,
          4,
          1,
          2,
          4,
          2,
          2,
          1,
          4,
          2,
          2,
          1,
          1,
          7,
          4,
          7,
          2,
          4,
          1,
          7,
          4,
          2,
          4,
          1,
          7,
          2,
          4,
          8,
          7,
          2,
          2,
          1,
          7,
          2,
          2,
          1,
          1,
          7,
          2,
          1,
          7,
          2,
          4,
          1,
          2,
          4,
          1,
          1,
          2,
          2,
          1,
          1,
          7,
          2,
          2,
          1,
          1,
          1,
          2,
          1,
          4,
          2,
          2,
          2,
          1
         ],
         "xaxis": "x",
         "y": [
          1,
          1,
          1,
          1,
          1,
          1,
          1,
          1,
          1,
          1,
          1,
          1,
          1,
          1,
          1,
          1,
          1,
          1,
          1,
          1,
          1,
          1,
          1,
          1,
          1,
          1,
          1,
          1,
          1,
          1,
          1,
          1,
          1,
          1,
          1,
          1,
          1,
          1,
          1,
          1,
          1,
          1,
          1,
          1,
          1,
          1,
          1,
          1,
          1,
          1,
          1,
          1,
          1,
          1,
          1,
          1,
          1,
          1,
          1,
          1,
          1,
          1,
          1,
          1,
          1,
          1,
          1,
          1,
          1,
          1
         ],
         "yaxis": "y",
         "type": "bar"
        }
       ],
       "layout": {
        "template": {
         "data": {
          "histogram2dcontour": [
           {
            "type": "histogram2dcontour",
            "colorbar": {
             "outlinewidth": 0,
             "ticks": ""
            },
            "colorscale": [
             [
              0.0,
              "#0d0887"
             ],
             [
              0.1111111111111111,
              "#46039f"
             ],
             [
              0.2222222222222222,
              "#7201a8"
             ],
             [
              0.3333333333333333,
              "#9c179e"
             ],
             [
              0.4444444444444444,
              "#bd3786"
             ],
             [
              0.5555555555555556,
              "#d8576b"
             ],
             [
              0.6666666666666666,
              "#ed7953"
             ],
             [
              0.7777777777777778,
              "#fb9f3a"
             ],
             [
              0.8888888888888888,
              "#fdca26"
             ],
             [
              1.0,
              "#f0f921"
             ]
            ]
           }
          ],
          "choropleth": [
           {
            "type": "choropleth",
            "colorbar": {
             "outlinewidth": 0,
             "ticks": ""
            }
           }
          ],
          "histogram2d": [
           {
            "type": "histogram2d",
            "colorbar": {
             "outlinewidth": 0,
             "ticks": ""
            },
            "colorscale": [
             [
              0.0,
              "#0d0887"
             ],
             [
              0.1111111111111111,
              "#46039f"
             ],
             [
              0.2222222222222222,
              "#7201a8"
             ],
             [
              0.3333333333333333,
              "#9c179e"
             ],
             [
              0.4444444444444444,
              "#bd3786"
             ],
             [
              0.5555555555555556,
              "#d8576b"
             ],
             [
              0.6666666666666666,
              "#ed7953"
             ],
             [
              0.7777777777777778,
              "#fb9f3a"
             ],
             [
              0.8888888888888888,
              "#fdca26"
             ],
             [
              1.0,
              "#f0f921"
             ]
            ]
           }
          ],
          "heatmap": [
           {
            "type": "heatmap",
            "colorbar": {
             "outlinewidth": 0,
             "ticks": ""
            },
            "colorscale": [
             [
              0.0,
              "#0d0887"
             ],
             [
              0.1111111111111111,
              "#46039f"
             ],
             [
              0.2222222222222222,
              "#7201a8"
             ],
             [
              0.3333333333333333,
              "#9c179e"
             ],
             [
              0.4444444444444444,
              "#bd3786"
             ],
             [
              0.5555555555555556,
              "#d8576b"
             ],
             [
              0.6666666666666666,
              "#ed7953"
             ],
             [
              0.7777777777777778,
              "#fb9f3a"
             ],
             [
              0.8888888888888888,
              "#fdca26"
             ],
             [
              1.0,
              "#f0f921"
             ]
            ]
           }
          ],
          "heatmapgl": [
           {
            "type": "heatmapgl",
            "colorbar": {
             "outlinewidth": 0,
             "ticks": ""
            },
            "colorscale": [
             [
              0.0,
              "#0d0887"
             ],
             [
              0.1111111111111111,
              "#46039f"
             ],
             [
              0.2222222222222222,
              "#7201a8"
             ],
             [
              0.3333333333333333,
              "#9c179e"
             ],
             [
              0.4444444444444444,
              "#bd3786"
             ],
             [
              0.5555555555555556,
              "#d8576b"
             ],
             [
              0.6666666666666666,
              "#ed7953"
             ],
             [
              0.7777777777777778,
              "#fb9f3a"
             ],
             [
              0.8888888888888888,
              "#fdca26"
             ],
             [
              1.0,
              "#f0f921"
             ]
            ]
           }
          ],
          "contourcarpet": [
           {
            "type": "contourcarpet",
            "colorbar": {
             "outlinewidth": 0,
             "ticks": ""
            }
           }
          ],
          "contour": [
           {
            "type": "contour",
            "colorbar": {
             "outlinewidth": 0,
             "ticks": ""
            },
            "colorscale": [
             [
              0.0,
              "#0d0887"
             ],
             [
              0.1111111111111111,
              "#46039f"
             ],
             [
              0.2222222222222222,
              "#7201a8"
             ],
             [
              0.3333333333333333,
              "#9c179e"
             ],
             [
              0.4444444444444444,
              "#bd3786"
             ],
             [
              0.5555555555555556,
              "#d8576b"
             ],
             [
              0.6666666666666666,
              "#ed7953"
             ],
             [
              0.7777777777777778,
              "#fb9f3a"
             ],
             [
              0.8888888888888888,
              "#fdca26"
             ],
             [
              1.0,
              "#f0f921"
             ]
            ]
           }
          ],
          "surface": [
           {
            "type": "surface",
            "colorbar": {
             "outlinewidth": 0,
             "ticks": ""
            },
            "colorscale": [
             [
              0.0,
              "#0d0887"
             ],
             [
              0.1111111111111111,
              "#46039f"
             ],
             [
              0.2222222222222222,
              "#7201a8"
             ],
             [
              0.3333333333333333,
              "#9c179e"
             ],
             [
              0.4444444444444444,
              "#bd3786"
             ],
             [
              0.5555555555555556,
              "#d8576b"
             ],
             [
              0.6666666666666666,
              "#ed7953"
             ],
             [
              0.7777777777777778,
              "#fb9f3a"
             ],
             [
              0.8888888888888888,
              "#fdca26"
             ],
             [
              1.0,
              "#f0f921"
             ]
            ]
           }
          ],
          "mesh3d": [
           {
            "type": "mesh3d",
            "colorbar": {
             "outlinewidth": 0,
             "ticks": ""
            }
           }
          ],
          "scatter": [
           {
            "fillpattern": {
             "fillmode": "overlay",
             "size": 10,
             "solidity": 0.2
            },
            "type": "scatter"
           }
          ],
          "parcoords": [
           {
            "type": "parcoords",
            "line": {
             "colorbar": {
              "outlinewidth": 0,
              "ticks": ""
             }
            }
           }
          ],
          "scatterpolargl": [
           {
            "type": "scatterpolargl",
            "marker": {
             "colorbar": {
              "outlinewidth": 0,
              "ticks": ""
             }
            }
           }
          ],
          "bar": [
           {
            "error_x": {
             "color": "#2a3f5f"
            },
            "error_y": {
             "color": "#2a3f5f"
            },
            "marker": {
             "line": {
              "color": "#E5ECF6",
              "width": 0.5
             },
             "pattern": {
              "fillmode": "overlay",
              "size": 10,
              "solidity": 0.2
             }
            },
            "type": "bar"
           }
          ],
          "scattergeo": [
           {
            "type": "scattergeo",
            "marker": {
             "colorbar": {
              "outlinewidth": 0,
              "ticks": ""
             }
            }
           }
          ],
          "scatterpolar": [
           {
            "type": "scatterpolar",
            "marker": {
             "colorbar": {
              "outlinewidth": 0,
              "ticks": ""
             }
            }
           }
          ],
          "histogram": [
           {
            "marker": {
             "pattern": {
              "fillmode": "overlay",
              "size": 10,
              "solidity": 0.2
             }
            },
            "type": "histogram"
           }
          ],
          "scattergl": [
           {
            "type": "scattergl",
            "marker": {
             "colorbar": {
              "outlinewidth": 0,
              "ticks": ""
             }
            }
           }
          ],
          "scatter3d": [
           {
            "type": "scatter3d",
            "line": {
             "colorbar": {
              "outlinewidth": 0,
              "ticks": ""
             }
            },
            "marker": {
             "colorbar": {
              "outlinewidth": 0,
              "ticks": ""
             }
            }
           }
          ],
          "scattermapbox": [
           {
            "type": "scattermapbox",
            "marker": {
             "colorbar": {
              "outlinewidth": 0,
              "ticks": ""
             }
            }
           }
          ],
          "scatterternary": [
           {
            "type": "scatterternary",
            "marker": {
             "colorbar": {
              "outlinewidth": 0,
              "ticks": ""
             }
            }
           }
          ],
          "scattercarpet": [
           {
            "type": "scattercarpet",
            "marker": {
             "colorbar": {
              "outlinewidth": 0,
              "ticks": ""
             }
            }
           }
          ],
          "carpet": [
           {
            "aaxis": {
             "endlinecolor": "#2a3f5f",
             "gridcolor": "white",
             "linecolor": "white",
             "minorgridcolor": "white",
             "startlinecolor": "#2a3f5f"
            },
            "baxis": {
             "endlinecolor": "#2a3f5f",
             "gridcolor": "white",
             "linecolor": "white",
             "minorgridcolor": "white",
             "startlinecolor": "#2a3f5f"
            },
            "type": "carpet"
           }
          ],
          "table": [
           {
            "cells": {
             "fill": {
              "color": "#EBF0F8"
             },
             "line": {
              "color": "white"
             }
            },
            "header": {
             "fill": {
              "color": "#C8D4E3"
             },
             "line": {
              "color": "white"
             }
            },
            "type": "table"
           }
          ],
          "barpolar": [
           {
            "marker": {
             "line": {
              "color": "#E5ECF6",
              "width": 0.5
             },
             "pattern": {
              "fillmode": "overlay",
              "size": 10,
              "solidity": 0.2
             }
            },
            "type": "barpolar"
           }
          ],
          "pie": [
           {
            "automargin": true,
            "type": "pie"
           }
          ]
         },
         "layout": {
          "autotypenumbers": "strict",
          "colorway": [
           "#636efa",
           "#EF553B",
           "#00cc96",
           "#ab63fa",
           "#FFA15A",
           "#19d3f3",
           "#FF6692",
           "#B6E880",
           "#FF97FF",
           "#FECB52"
          ],
          "font": {
           "color": "#2a3f5f"
          },
          "hovermode": "closest",
          "hoverlabel": {
           "align": "left"
          },
          "paper_bgcolor": "white",
          "plot_bgcolor": "#E5ECF6",
          "polar": {
           "bgcolor": "#E5ECF6",
           "angularaxis": {
            "gridcolor": "white",
            "linecolor": "white",
            "ticks": ""
           },
           "radialaxis": {
            "gridcolor": "white",
            "linecolor": "white",
            "ticks": ""
           }
          },
          "ternary": {
           "bgcolor": "#E5ECF6",
           "aaxis": {
            "gridcolor": "white",
            "linecolor": "white",
            "ticks": ""
           },
           "baxis": {
            "gridcolor": "white",
            "linecolor": "white",
            "ticks": ""
           },
           "caxis": {
            "gridcolor": "white",
            "linecolor": "white",
            "ticks": ""
           }
          },
          "coloraxis": {
           "colorbar": {
            "outlinewidth": 0,
            "ticks": ""
           }
          },
          "colorscale": {
           "sequential": [
            [
             0.0,
             "#0d0887"
            ],
            [
             0.1111111111111111,
             "#46039f"
            ],
            [
             0.2222222222222222,
             "#7201a8"
            ],
            [
             0.3333333333333333,
             "#9c179e"
            ],
            [
             0.4444444444444444,
             "#bd3786"
            ],
            [
             0.5555555555555556,
             "#d8576b"
            ],
            [
             0.6666666666666666,
             "#ed7953"
            ],
            [
             0.7777777777777778,
             "#fb9f3a"
            ],
            [
             0.8888888888888888,
             "#fdca26"
            ],
            [
             1.0,
             "#f0f921"
            ]
           ],
           "sequentialminus": [
            [
             0.0,
             "#0d0887"
            ],
            [
             0.1111111111111111,
             "#46039f"
            ],
            [
             0.2222222222222222,
             "#7201a8"
            ],
            [
             0.3333333333333333,
             "#9c179e"
            ],
            [
             0.4444444444444444,
             "#bd3786"
            ],
            [
             0.5555555555555556,
             "#d8576b"
            ],
            [
             0.6666666666666666,
             "#ed7953"
            ],
            [
             0.7777777777777778,
             "#fb9f3a"
            ],
            [
             0.8888888888888888,
             "#fdca26"
            ],
            [
             1.0,
             "#f0f921"
            ]
           ],
           "diverging": [
            [
             0,
             "#8e0152"
            ],
            [
             0.1,
             "#c51b7d"
            ],
            [
             0.2,
             "#de77ae"
            ],
            [
             0.3,
             "#f1b6da"
            ],
            [
             0.4,
             "#fde0ef"
            ],
            [
             0.5,
             "#f7f7f7"
            ],
            [
             0.6,
             "#e6f5d0"
            ],
            [
             0.7,
             "#b8e186"
            ],
            [
             0.8,
             "#7fbc41"
            ],
            [
             0.9,
             "#4d9221"
            ],
            [
             1,
             "#276419"
            ]
           ]
          },
          "xaxis": {
           "gridcolor": "white",
           "linecolor": "white",
           "ticks": "",
           "title": {
            "standoff": 15
           },
           "zerolinecolor": "white",
           "automargin": true,
           "zerolinewidth": 2
          },
          "yaxis": {
           "gridcolor": "white",
           "linecolor": "white",
           "ticks": "",
           "title": {
            "standoff": 15
           },
           "zerolinecolor": "white",
           "automargin": true,
           "zerolinewidth": 2
          },
          "scene": {
           "xaxis": {
            "backgroundcolor": "#E5ECF6",
            "gridcolor": "white",
            "linecolor": "white",
            "showbackground": true,
            "ticks": "",
            "zerolinecolor": "white",
            "gridwidth": 2
           },
           "yaxis": {
            "backgroundcolor": "#E5ECF6",
            "gridcolor": "white",
            "linecolor": "white",
            "showbackground": true,
            "ticks": "",
            "zerolinecolor": "white",
            "gridwidth": 2
           },
           "zaxis": {
            "backgroundcolor": "#E5ECF6",
            "gridcolor": "white",
            "linecolor": "white",
            "showbackground": true,
            "ticks": "",
            "zerolinecolor": "white",
            "gridwidth": 2
           }
          },
          "shapedefaults": {
           "line": {
            "color": "#2a3f5f"
           }
          },
          "annotationdefaults": {
           "arrowcolor": "#2a3f5f",
           "arrowhead": 0,
           "arrowwidth": 1
          },
          "geo": {
           "bgcolor": "white",
           "landcolor": "#E5ECF6",
           "subunitcolor": "white",
           "showland": true,
           "showlakes": true,
           "lakecolor": "white"
          },
          "title": {
           "x": 0.05
          },
          "mapbox": {
           "style": "light"
          }
         }
        },
        "xaxis": {
         "anchor": "y",
         "domain": [
          0.0,
          1.0
         ],
         "title": {
          "text": "y_predict_bow"
         }
        },
        "yaxis": {
         "anchor": "x",
         "domain": [
          0.0,
          1.0
         ],
         "title": {
          "text": "count"
         }
        },
        "legend": {
         "title": {
          "text": "Genre"
         },
         "tracegroupgap": 0
        },
        "title": {
         "text": "K-Means Clustering Results - Bag of Words"
        },
        "barmode": "relative"
       },
       "config": {
        "plotlyServerURL": "https://plot.ly"
       }
      },
      "text/html": "<div>                            <div id=\"5c1ba2ca-65a3-486f-aa86-d85cb44e87f8\" class=\"plotly-graph-div\" style=\"height:525px; width:100%;\"></div>            <script type=\"text/javascript\">                require([\"plotly\"], function(Plotly) {                    window.PLOTLYENV=window.PLOTLYENV || {};                                    if (document.getElementById(\"5c1ba2ca-65a3-486f-aa86-d85cb44e87f8\")) {                    Plotly.newPlot(                        \"5c1ba2ca-65a3-486f-aa86-d85cb44e87f8\",                        [{\"alignmentgroup\":\"True\",\"hovertemplate\":\"Genre=Communication Issues\\u003cbr\\u003ey_predict_bow=%{x}\\u003cbr\\u003ecount=%{y}\\u003cextra\\u003e\\u003c\\u002fextra\\u003e\",\"legendgroup\":\"Communication Issues\",\"marker\":{\"color\":\"#636efa\",\"pattern\":{\"shape\":\"\"}},\"name\":\"Communication Issues\",\"offsetgroup\":\"Communication Issues\",\"orientation\":\"v\",\"showlegend\":true,\"textposition\":\"auto\",\"x\":[8,4,4,4,4,4,4,10,4,4,4,4,4,4,4,4,4,11,4,4,4,4,1,8,4,4,4,4,10,4,1,4,4,4,4,4,1,4,4,10,4,4,4,4,4,10,4,11,4,4,2,7,4,4,4,11,2,10,1,4,10,4,1,4,10,4,7,4,5,4,4,4,4,11,4,6,10,10,4,4,4,4,4,4,4,11,4,10,1,4,7,4,10,4,11,0,1,1,11,4],\"xaxis\":\"x\",\"y\":[1,1,1,1,1,1,1,1,1,1,1,1,1,1,1,1,1,1,1,1,1,1,1,1,1,1,1,1,1,1,1,1,1,1,1,1,1,1,1,1,1,1,1,1,1,1,1,1,1,1,1,1,1,1,1,1,1,1,1,1,1,1,1,1,1,1,1,1,1,1,1,1,1,1,1,1,1,1,1,1,1,1,1,1,1,1,1,1,1,1,1,1,1,1,1,1,1,1,1,1],\"yaxis\":\"y\",\"type\":\"bar\"},{\"alignmentgroup\":\"True\",\"hovertemplate\":\"Genre=Workload and Stress\\u003cbr\\u003ey_predict_bow=%{x}\\u003cbr\\u003ecount=%{y}\\u003cextra\\u003e\\u003c\\u002fextra\\u003e\",\"legendgroup\":\"Workload and Stress\",\"marker\":{\"color\":\"#EF553B\",\"pattern\":{\"shape\":\"\"}},\"name\":\"Workload and Stress\",\"offsetgroup\":\"Workload and Stress\",\"orientation\":\"v\",\"showlegend\":true,\"textposition\":\"auto\",\"x\":[7,4,4,8,4,4,4,4,10,4,0,4,0,4,7,8,0,8,4,4,7,4,0,4,4,6,0,4,5,7,4,10,7,6,4,4,4,4,0,4,8,8,0,0,0,5,6,8,8,4,4,0,11,7,4,4,0,4,0,8,8,0,8,4,5,8,8,0,8,0,4,8,4,0,8,4,0,10,8,0,4,6,11,0,0,4,7,0,0,5,8,0,6,4,0,0,6,0,0,4],\"xaxis\":\"x\",\"y\":[1,1,1,1,1,1,1,1,1,1,1,1,1,1,1,1,1,1,1,1,1,1,1,1,1,1,1,1,1,1,1,1,1,1,1,1,1,1,1,1,1,1,1,1,1,1,1,1,1,1,1,1,1,1,1,1,1,1,1,1,1,1,1,1,1,1,1,1,1,1,1,1,1,1,1,1,1,1,1,1,1,1,1,1,1,1,1,1,1,1,1,1,1,1,1,1,1,1,1,1],\"yaxis\":\"y\",\"type\":\"bar\"},{\"alignmentgroup\":\"True\",\"hovertemplate\":\"Genre=Management Lifestyle\\u003cbr\\u003ey_predict_bow=%{x}\\u003cbr\\u003ecount=%{y}\\u003cextra\\u003e\\u003c\\u002fextra\\u003e\",\"legendgroup\":\"Management Lifestyle\",\"marker\":{\"color\":\"#00cc96\",\"pattern\":{\"shape\":\"\"}},\"name\":\"Management Lifestyle\",\"offsetgroup\":\"Management Lifestyle\",\"orientation\":\"v\",\"showlegend\":true,\"textposition\":\"auto\",\"x\":[6,7,4,7,4,6,1,7,6,7,4,7,4,4,7,1,7,4,7,4,4,7,4,11,1,7,4,1,7,1,6,7,4,4,7,4,6,7,7,4,7,7,4,11,7,1,7,7,10,4,6,7,1,2,7,1,4,7,1,4,4,7,1,11,7,4,6,7,1,4,6,11,1,7,7,1,6,7,4,4,7,7,7,6,7,1,7,7,1,6,7,1,4,11,7,1,6,7,2,4],\"xaxis\":\"x\",\"y\":[1,1,1,1,1,1,1,1,1,1,1,1,1,1,1,1,1,1,1,1,1,1,1,1,1,1,1,1,1,1,1,1,1,1,1,1,1,1,1,1,1,1,1,1,1,1,1,1,1,1,1,1,1,1,1,1,1,1,1,1,1,1,1,1,1,1,1,1,1,1,1,1,1,1,1,1,1,1,1,1,1,1,1,1,1,1,1,1,1,1,1,1,1,1,1,1,1,1,1,1],\"yaxis\":\"y\",\"type\":\"bar\"},{\"alignmentgroup\":\"True\",\"hovertemplate\":\"Genre=Compensation and Benefits\\u003cbr\\u003ey_predict_bow=%{x}\\u003cbr\\u003ecount=%{y}\\u003cextra\\u003e\\u003c\\u002fextra\\u003e\",\"legendgroup\":\"Compensation and Benefits\",\"marker\":{\"color\":\"#ab63fa\",\"pattern\":{\"shape\":\"\"}},\"name\":\"Compensation and Benefits\",\"offsetgroup\":\"Compensation and Benefits\",\"orientation\":\"v\",\"showlegend\":true,\"textposition\":\"auto\",\"x\":[4,1,7,4,7,7,4,4,4,2,4,4,2,4,7,4,4,7,1,4,4,7,2,4,2,4,4,1,4,2],\"xaxis\":\"x\",\"y\":[1,1,1,1,1,1,1,1,1,1,1,1,1,1,1,1,1,1,1,1,1,1,1,1,1,1,1,1,1,1],\"yaxis\":\"y\",\"type\":\"bar\"},{\"alignmentgroup\":\"True\",\"hovertemplate\":\"Genre=Career Development\\u003cbr\\u003ey_predict_bow=%{x}\\u003cbr\\u003ecount=%{y}\\u003cextra\\u003e\\u003c\\u002fextra\\u003e\",\"legendgroup\":\"Career Development\",\"marker\":{\"color\":\"#FFA15A\",\"pattern\":{\"shape\":\"\"}},\"name\":\"Career Development\",\"offsetgroup\":\"Career Development\",\"orientation\":\"v\",\"showlegend\":true,\"textposition\":\"auto\",\"x\":[4,4,4,1,4,4,1,2,7,4,4,7,2,4,2,4,1,2,4,7,10,2,2,4,2,2,4,4,1,7],\"xaxis\":\"x\",\"y\":[1,1,1,1,1,1,1,1,1,1,1,1,1,1,1,1,1,1,1,1,1,1,1,1,1,1,1,1,1,1],\"yaxis\":\"y\",\"type\":\"bar\"},{\"alignmentgroup\":\"True\",\"hovertemplate\":\"Genre=Workplace Environment\\u003cbr\\u003ey_predict_bow=%{x}\\u003cbr\\u003ecount=%{y}\\u003cextra\\u003e\\u003c\\u002fextra\\u003e\",\"legendgroup\":\"Workplace Environment\",\"marker\":{\"color\":\"#19d3f3\",\"pattern\":{\"shape\":\"\"}},\"name\":\"Workplace Environment\",\"offsetgroup\":\"Workplace Environment\",\"orientation\":\"v\",\"showlegend\":true,\"textposition\":\"auto\",\"x\":[4,1,4,4,4,4,4,2,4,7,4,9,4,4,3,4,4,4,7,2,1,4,4,4,4,4,8,4,4,4,4,1,4,4,4,4,4,2,4,7,4,9,4,4,3,4,4,4,7,2,1,4],\"xaxis\":\"x\",\"y\":[1,1,1,1,1,1,1,1,1,1,1,1,1,1,1,1,1,1,1,1,1,1,1,1,1,1,1,1,1,1,1,1,1,1,1,1,1,1,1,1,1,1,1,1,1,1,1,1,1,1,1,1],\"yaxis\":\"y\",\"type\":\"bar\"},{\"alignmentgroup\":\"True\",\"hovertemplate\":\"Genre=Lack of training and development\\u003cbr\\u003ey_predict_bow=%{x}\\u003cbr\\u003ecount=%{y}\\u003cextra\\u003e\\u003c\\u002fextra\\u003e\",\"legendgroup\":\"Lack of training and development\",\"marker\":{\"color\":\"#FF6692\",\"pattern\":{\"shape\":\"\"}},\"name\":\"Lack of training and development\",\"offsetgroup\":\"Lack of training and development\",\"orientation\":\"v\",\"showlegend\":true,\"textposition\":\"auto\",\"x\":[8,2,1,4,2,7,4,1,2,4,2,2,1,4,2,2,1,1,7,4,7,2,4,1,7,4,2,4,1,7,2,4,8,7,2,2,1,7,2,2,1,1,7,2,1,7,2,4,1,2,4,1,1,2,2,1,1,7,2,2,1,1,1,2,1,4,2,2,2,1],\"xaxis\":\"x\",\"y\":[1,1,1,1,1,1,1,1,1,1,1,1,1,1,1,1,1,1,1,1,1,1,1,1,1,1,1,1,1,1,1,1,1,1,1,1,1,1,1,1,1,1,1,1,1,1,1,1,1,1,1,1,1,1,1,1,1,1,1,1,1,1,1,1,1,1,1,1,1,1],\"yaxis\":\"y\",\"type\":\"bar\"}],                        {\"template\":{\"data\":{\"histogram2dcontour\":[{\"type\":\"histogram2dcontour\",\"colorbar\":{\"outlinewidth\":0,\"ticks\":\"\"},\"colorscale\":[[0.0,\"#0d0887\"],[0.1111111111111111,\"#46039f\"],[0.2222222222222222,\"#7201a8\"],[0.3333333333333333,\"#9c179e\"],[0.4444444444444444,\"#bd3786\"],[0.5555555555555556,\"#d8576b\"],[0.6666666666666666,\"#ed7953\"],[0.7777777777777778,\"#fb9f3a\"],[0.8888888888888888,\"#fdca26\"],[1.0,\"#f0f921\"]]}],\"choropleth\":[{\"type\":\"choropleth\",\"colorbar\":{\"outlinewidth\":0,\"ticks\":\"\"}}],\"histogram2d\":[{\"type\":\"histogram2d\",\"colorbar\":{\"outlinewidth\":0,\"ticks\":\"\"},\"colorscale\":[[0.0,\"#0d0887\"],[0.1111111111111111,\"#46039f\"],[0.2222222222222222,\"#7201a8\"],[0.3333333333333333,\"#9c179e\"],[0.4444444444444444,\"#bd3786\"],[0.5555555555555556,\"#d8576b\"],[0.6666666666666666,\"#ed7953\"],[0.7777777777777778,\"#fb9f3a\"],[0.8888888888888888,\"#fdca26\"],[1.0,\"#f0f921\"]]}],\"heatmap\":[{\"type\":\"heatmap\",\"colorbar\":{\"outlinewidth\":0,\"ticks\":\"\"},\"colorscale\":[[0.0,\"#0d0887\"],[0.1111111111111111,\"#46039f\"],[0.2222222222222222,\"#7201a8\"],[0.3333333333333333,\"#9c179e\"],[0.4444444444444444,\"#bd3786\"],[0.5555555555555556,\"#d8576b\"],[0.6666666666666666,\"#ed7953\"],[0.7777777777777778,\"#fb9f3a\"],[0.8888888888888888,\"#fdca26\"],[1.0,\"#f0f921\"]]}],\"heatmapgl\":[{\"type\":\"heatmapgl\",\"colorbar\":{\"outlinewidth\":0,\"ticks\":\"\"},\"colorscale\":[[0.0,\"#0d0887\"],[0.1111111111111111,\"#46039f\"],[0.2222222222222222,\"#7201a8\"],[0.3333333333333333,\"#9c179e\"],[0.4444444444444444,\"#bd3786\"],[0.5555555555555556,\"#d8576b\"],[0.6666666666666666,\"#ed7953\"],[0.7777777777777778,\"#fb9f3a\"],[0.8888888888888888,\"#fdca26\"],[1.0,\"#f0f921\"]]}],\"contourcarpet\":[{\"type\":\"contourcarpet\",\"colorbar\":{\"outlinewidth\":0,\"ticks\":\"\"}}],\"contour\":[{\"type\":\"contour\",\"colorbar\":{\"outlinewidth\":0,\"ticks\":\"\"},\"colorscale\":[[0.0,\"#0d0887\"],[0.1111111111111111,\"#46039f\"],[0.2222222222222222,\"#7201a8\"],[0.3333333333333333,\"#9c179e\"],[0.4444444444444444,\"#bd3786\"],[0.5555555555555556,\"#d8576b\"],[0.6666666666666666,\"#ed7953\"],[0.7777777777777778,\"#fb9f3a\"],[0.8888888888888888,\"#fdca26\"],[1.0,\"#f0f921\"]]}],\"surface\":[{\"type\":\"surface\",\"colorbar\":{\"outlinewidth\":0,\"ticks\":\"\"},\"colorscale\":[[0.0,\"#0d0887\"],[0.1111111111111111,\"#46039f\"],[0.2222222222222222,\"#7201a8\"],[0.3333333333333333,\"#9c179e\"],[0.4444444444444444,\"#bd3786\"],[0.5555555555555556,\"#d8576b\"],[0.6666666666666666,\"#ed7953\"],[0.7777777777777778,\"#fb9f3a\"],[0.8888888888888888,\"#fdca26\"],[1.0,\"#f0f921\"]]}],\"mesh3d\":[{\"type\":\"mesh3d\",\"colorbar\":{\"outlinewidth\":0,\"ticks\":\"\"}}],\"scatter\":[{\"fillpattern\":{\"fillmode\":\"overlay\",\"size\":10,\"solidity\":0.2},\"type\":\"scatter\"}],\"parcoords\":[{\"type\":\"parcoords\",\"line\":{\"colorbar\":{\"outlinewidth\":0,\"ticks\":\"\"}}}],\"scatterpolargl\":[{\"type\":\"scatterpolargl\",\"marker\":{\"colorbar\":{\"outlinewidth\":0,\"ticks\":\"\"}}}],\"bar\":[{\"error_x\":{\"color\":\"#2a3f5f\"},\"error_y\":{\"color\":\"#2a3f5f\"},\"marker\":{\"line\":{\"color\":\"#E5ECF6\",\"width\":0.5},\"pattern\":{\"fillmode\":\"overlay\",\"size\":10,\"solidity\":0.2}},\"type\":\"bar\"}],\"scattergeo\":[{\"type\":\"scattergeo\",\"marker\":{\"colorbar\":{\"outlinewidth\":0,\"ticks\":\"\"}}}],\"scatterpolar\":[{\"type\":\"scatterpolar\",\"marker\":{\"colorbar\":{\"outlinewidth\":0,\"ticks\":\"\"}}}],\"histogram\":[{\"marker\":{\"pattern\":{\"fillmode\":\"overlay\",\"size\":10,\"solidity\":0.2}},\"type\":\"histogram\"}],\"scattergl\":[{\"type\":\"scattergl\",\"marker\":{\"colorbar\":{\"outlinewidth\":0,\"ticks\":\"\"}}}],\"scatter3d\":[{\"type\":\"scatter3d\",\"line\":{\"colorbar\":{\"outlinewidth\":0,\"ticks\":\"\"}},\"marker\":{\"colorbar\":{\"outlinewidth\":0,\"ticks\":\"\"}}}],\"scattermapbox\":[{\"type\":\"scattermapbox\",\"marker\":{\"colorbar\":{\"outlinewidth\":0,\"ticks\":\"\"}}}],\"scatterternary\":[{\"type\":\"scatterternary\",\"marker\":{\"colorbar\":{\"outlinewidth\":0,\"ticks\":\"\"}}}],\"scattercarpet\":[{\"type\":\"scattercarpet\",\"marker\":{\"colorbar\":{\"outlinewidth\":0,\"ticks\":\"\"}}}],\"carpet\":[{\"aaxis\":{\"endlinecolor\":\"#2a3f5f\",\"gridcolor\":\"white\",\"linecolor\":\"white\",\"minorgridcolor\":\"white\",\"startlinecolor\":\"#2a3f5f\"},\"baxis\":{\"endlinecolor\":\"#2a3f5f\",\"gridcolor\":\"white\",\"linecolor\":\"white\",\"minorgridcolor\":\"white\",\"startlinecolor\":\"#2a3f5f\"},\"type\":\"carpet\"}],\"table\":[{\"cells\":{\"fill\":{\"color\":\"#EBF0F8\"},\"line\":{\"color\":\"white\"}},\"header\":{\"fill\":{\"color\":\"#C8D4E3\"},\"line\":{\"color\":\"white\"}},\"type\":\"table\"}],\"barpolar\":[{\"marker\":{\"line\":{\"color\":\"#E5ECF6\",\"width\":0.5},\"pattern\":{\"fillmode\":\"overlay\",\"size\":10,\"solidity\":0.2}},\"type\":\"barpolar\"}],\"pie\":[{\"automargin\":true,\"type\":\"pie\"}]},\"layout\":{\"autotypenumbers\":\"strict\",\"colorway\":[\"#636efa\",\"#EF553B\",\"#00cc96\",\"#ab63fa\",\"#FFA15A\",\"#19d3f3\",\"#FF6692\",\"#B6E880\",\"#FF97FF\",\"#FECB52\"],\"font\":{\"color\":\"#2a3f5f\"},\"hovermode\":\"closest\",\"hoverlabel\":{\"align\":\"left\"},\"paper_bgcolor\":\"white\",\"plot_bgcolor\":\"#E5ECF6\",\"polar\":{\"bgcolor\":\"#E5ECF6\",\"angularaxis\":{\"gridcolor\":\"white\",\"linecolor\":\"white\",\"ticks\":\"\"},\"radialaxis\":{\"gridcolor\":\"white\",\"linecolor\":\"white\",\"ticks\":\"\"}},\"ternary\":{\"bgcolor\":\"#E5ECF6\",\"aaxis\":{\"gridcolor\":\"white\",\"linecolor\":\"white\",\"ticks\":\"\"},\"baxis\":{\"gridcolor\":\"white\",\"linecolor\":\"white\",\"ticks\":\"\"},\"caxis\":{\"gridcolor\":\"white\",\"linecolor\":\"white\",\"ticks\":\"\"}},\"coloraxis\":{\"colorbar\":{\"outlinewidth\":0,\"ticks\":\"\"}},\"colorscale\":{\"sequential\":[[0.0,\"#0d0887\"],[0.1111111111111111,\"#46039f\"],[0.2222222222222222,\"#7201a8\"],[0.3333333333333333,\"#9c179e\"],[0.4444444444444444,\"#bd3786\"],[0.5555555555555556,\"#d8576b\"],[0.6666666666666666,\"#ed7953\"],[0.7777777777777778,\"#fb9f3a\"],[0.8888888888888888,\"#fdca26\"],[1.0,\"#f0f921\"]],\"sequentialminus\":[[0.0,\"#0d0887\"],[0.1111111111111111,\"#46039f\"],[0.2222222222222222,\"#7201a8\"],[0.3333333333333333,\"#9c179e\"],[0.4444444444444444,\"#bd3786\"],[0.5555555555555556,\"#d8576b\"],[0.6666666666666666,\"#ed7953\"],[0.7777777777777778,\"#fb9f3a\"],[0.8888888888888888,\"#fdca26\"],[1.0,\"#f0f921\"]],\"diverging\":[[0,\"#8e0152\"],[0.1,\"#c51b7d\"],[0.2,\"#de77ae\"],[0.3,\"#f1b6da\"],[0.4,\"#fde0ef\"],[0.5,\"#f7f7f7\"],[0.6,\"#e6f5d0\"],[0.7,\"#b8e186\"],[0.8,\"#7fbc41\"],[0.9,\"#4d9221\"],[1,\"#276419\"]]},\"xaxis\":{\"gridcolor\":\"white\",\"linecolor\":\"white\",\"ticks\":\"\",\"title\":{\"standoff\":15},\"zerolinecolor\":\"white\",\"automargin\":true,\"zerolinewidth\":2},\"yaxis\":{\"gridcolor\":\"white\",\"linecolor\":\"white\",\"ticks\":\"\",\"title\":{\"standoff\":15},\"zerolinecolor\":\"white\",\"automargin\":true,\"zerolinewidth\":2},\"scene\":{\"xaxis\":{\"backgroundcolor\":\"#E5ECF6\",\"gridcolor\":\"white\",\"linecolor\":\"white\",\"showbackground\":true,\"ticks\":\"\",\"zerolinecolor\":\"white\",\"gridwidth\":2},\"yaxis\":{\"backgroundcolor\":\"#E5ECF6\",\"gridcolor\":\"white\",\"linecolor\":\"white\",\"showbackground\":true,\"ticks\":\"\",\"zerolinecolor\":\"white\",\"gridwidth\":2},\"zaxis\":{\"backgroundcolor\":\"#E5ECF6\",\"gridcolor\":\"white\",\"linecolor\":\"white\",\"showbackground\":true,\"ticks\":\"\",\"zerolinecolor\":\"white\",\"gridwidth\":2}},\"shapedefaults\":{\"line\":{\"color\":\"#2a3f5f\"}},\"annotationdefaults\":{\"arrowcolor\":\"#2a3f5f\",\"arrowhead\":0,\"arrowwidth\":1},\"geo\":{\"bgcolor\":\"white\",\"landcolor\":\"#E5ECF6\",\"subunitcolor\":\"white\",\"showland\":true,\"showlakes\":true,\"lakecolor\":\"white\"},\"title\":{\"x\":0.05},\"mapbox\":{\"style\":\"light\"}}},\"xaxis\":{\"anchor\":\"y\",\"domain\":[0.0,1.0],\"title\":{\"text\":\"y_predict_bow\"}},\"yaxis\":{\"anchor\":\"x\",\"domain\":[0.0,1.0],\"title\":{\"text\":\"count\"}},\"legend\":{\"title\":{\"text\":\"Genre\"},\"tracegroupgap\":0},\"title\":{\"text\":\"K-Means Clustering Results - Bag of Words\"},\"barmode\":\"relative\"},                        {\"responsive\": true}                    ).then(function(){\n                            \nvar gd = document.getElementById('5c1ba2ca-65a3-486f-aa86-d85cb44e87f8');\nvar x = new MutationObserver(function (mutations, observer) {{\n        var display = window.getComputedStyle(gd).display;\n        if (!display || display === 'none') {{\n            console.log([gd, 'removed!']);\n            Plotly.purge(gd);\n            observer.disconnect();\n        }}\n}});\n\n// Listen for the removal of the full notebook cells\nvar notebookContainer = gd.closest('#notebook-container');\nif (notebookContainer) {{\n    x.observe(notebookContainer, {childList: true});\n}}\n\n// Listen for the clearing of the current output cell\nvar outputEl = gd.closest('.output');\nif (outputEl) {{\n    x.observe(outputEl, {childList: true});\n}}\n\n                        })                };                });            </script>        </div>"
     },
     "metadata": {},
     "output_type": "display_data"
    }
   ],
   "source": [
    "from sklearn.cluster import KMeans\n",
    "import pandas as pd\n",
    "from sklearn.feature_extraction.text import TfidfVectorizer\n",
    "from sklearn.feature_extraction.text import CountVectorizer  # Import CountVectorizer\n",
    "\n",
    "# Assuming 'corpus' is your list of text data\n",
    "corpus = df['Lemminf']\n",
    "\n",
    "# TF-IDF Vectorization\n",
    "vectorizer_tfidf = TfidfVectorizer()\n",
    "X_tfidf = vectorizer_tfidf.fit_transform(corpus)\n",
    "\n",
    "# Convert the sparse TF-IDF matrix to a dense numpy array\n",
    "X_tfidf_dense = X_tfidf.toarray()\n",
    "\n",
    "# Bag of Words (BOW) Vectorization\n",
    "vectorizer_bow = CountVectorizer()\n",
    "X_bow = vectorizer_bow.fit_transform(corpus)\n",
    "\n",
    "# Convert the sparse BOW matrix to a dense numpy array\n",
    "X_bow_dense = X_bow.toarray()\n",
    "\n",
    "# Perform K-Means clustering on TF-IDF\n",
    "kmeans_tfidf = KMeans(n_clusters=12, init='k-means++', random_state=42)\n",
    "y_predict_tfidf = kmeans_tfidf.fit_predict(X_tfidf_dense)\n",
    "df['y_predict_tfidf'] = pd.DataFrame(data=y_predict_tfidf)\n",
    "\n",
    "# Perform K-Means clustering on Bag of Words\n",
    "kmeans_bow = KMeans(n_clusters=12, init='k-means++', random_state=42)\n",
    "y_predict_bow = kmeans_bow.fit_predict(X_bow_dense)\n",
    "df['y_predict_bow'] = pd.DataFrame(data=y_predict_bow)\n",
    "\n",
    "# Visualize the results for TF-IDF\n",
    "fig_tfidf = px.bar(df, x=\"y_predict_tfidf\", y=\"count\", color=\"Genre\", title=\"K-Means Clustering Results - TF-IDF\")\n",
    "fig_tfidf.show()\n",
    "\n",
    "# Visualize the results for Bag of Words\n",
    "fig_bow = px.bar(df, x=\"y_predict_bow\", y=\"count\", color=\"Genre\", title=\"K-Means Clustering Results - Bag of Words\")\n",
    "fig_bow.show()"
   ],
   "metadata": {
    "collapsed": false
   }
  },
  {
   "cell_type": "markdown",
   "source": [
    "Semantic Analysis - Topic Modeling:"
   ],
   "metadata": {
    "collapsed": false
   }
  },
  {
   "cell_type": "code",
   "execution_count": 194,
   "outputs": [
    {
     "name": "stdout",
     "output_type": "stream",
     "text": [
      "Topic 1: shared, direction, meetings, initiatives, missing, updates, explanation, performance, company, focused\n",
      "Topic 2: management, workload, nt, time, concerns, tools, address, managing, performance, team\n",
      "Topic 3: employees, career, guidance, tasks, feedback, growth, workload, receive, advancement, nt\n",
      "Topic 4: leaders, nt, leadership, training, communication, employees, offered, discussions, tasks, proper\n",
      "Topic 5: managers, employees, lack, professional, provisions, nt, development, decisions, proper, pressure\n",
      "Topic 6: nt, supervisors, provide, leadership, opportunities, employee, skill, offer, support, benefits\n",
      "Topic 7: motivation, outdated, equipment, leads, common, frustration, neglected, affect, productivity, training\n",
      "Topic 8: stress, employees, support, tasks, causing, lack, management, opportunities, managing, lacking\n",
      "Topic 9: team, communicated, development, skill, company, support, project, wellbeing, projects, leaderships\n",
      "Topic 10: lack, communication, leaderships, managements, training, leads, morale, challenges, promotions, provisions\n",
      "Topic 11: inconsistent, programs, lack, nt, facilities, balance, worklife, training, learning, properly\n",
      "Topic 12: micromanagement, expectations, unclear, job, nt, bonuses, confusion, flexible, arrangements, negatively\n"
     ]
    }
   ],
   "source": [
    "from sklearn.decomposition import LatentDirichletAllocation\n",
    "from sklearn.feature_extraction.text import CountVectorizer\n",
    "\n",
    "# df is DataFrame with the 'cleaned' column containing preprocessed text\n",
    "corpus = df['cleaned']\n",
    "\n",
    "# Vectorize the text using CountVectorizer\n",
    "vectorizer = CountVectorizer(max_df=0.95, min_df=2, stop_words='english')\n",
    "X = vectorizer.fit_transform(corpus)\n",
    "\n",
    "# Apply LDA\n",
    "lda = LatentDirichletAllocation(n_components=12, random_state=42)\n",
    "lda.fit(X)\n",
    "\n",
    "# Display the top words for each topic\n",
    "for i, topic in enumerate(lda.components_):\n",
    "    top_words_indices = topic.argsort()[:-10 - 1:-1]\n",
    "    top_words = [vectorizer.get_feature_names_out()[index] for index in top_words_indices]\n",
    "    print(f\"Topic {i + 1}: {', '.join(top_words)}\")"
   ],
   "metadata": {
    "collapsed": false
   }
  },
  {
   "cell_type": "code",
   "execution_count": 195,
   "outputs": [
    {
     "name": "stdout",
     "output_type": "stream",
     "text": [
      "Topic 1: nt, leadership, managers, leaders, company, recognize, decisions, office, employee, benefits\n",
      "Topic 2: lack, leaderships, managements, leads, involvement, direction, morale, proper, transparency, employee\n",
      "Topic 3: employees, roles, recognition, leadership, receive, career, feel, goals, guidance, professional\n",
      "Topic 4: workload, managing, tools, heavy, time, feels, unpredictable, impossible, provisions, leads\n",
      "Topic 5: communication, inconsistent, issues, teams, tools, effectively, addressing, gaps, proper, rumors\n",
      "Topic 6: stress, support, causing, adds, remote, missing, unpredictable, adequate, workloads, peak\n",
      "Topic 7: supervisors, nt, provide, growth, recognition, support, adequate, feedback, challenges, advocate\n",
      "Topic 8: opportunities, skill, development, growth, limited, career, professional, offer, leadership, advancement\n",
      "Topic 9: training, programs, leads, lack, proper, offered, outdated, effective, materials, inefficiencies\n",
      "Topic 10: management, time, lacks, address, tools, support, inconsistent, updates, promotions, nt\n",
      "Topic 11: team, managers, insufficient, managements, meetings, collaboration, meeting, discussions, morale, address\n",
      "Topic 12: tasks, proper, highpressure, managed, prioritizing, instructions, relief, resources, managing, guidance\n"
     ]
    }
   ],
   "source": [
    "from sklearn.decomposition import NMF\n",
    "\n",
    "#  DataFrame with the 'cleaned' column containing preprocessed text\n",
    "corpus = df['cleaned']\n",
    "\n",
    "# Vectorize the text using CountVectorizer\n",
    "vectorizer = CountVectorizer(max_df=0.95, min_df=2, stop_words='english')\n",
    "X = vectorizer.fit_transform(corpus)\n",
    "\n",
    "# Apply NMF\n",
    "nmf = NMF(n_components=12, random_state=42)\n",
    "nmf.fit(X)\n",
    "\n",
    "# Display the top words for each topic\n",
    "for i, topic in enumerate(nmf.components_):\n",
    "    top_words_indices = topic.argsort()[:-10 - 1:-1]\n",
    "    top_words = [vectorizer.get_feature_names_out()[index] for index in top_words_indices]\n",
    "    print(f\"Topic {i + 1}: {', '.join(top_words)}\")"
   ],
   "metadata": {
    "collapsed": false
   }
  },
  {
   "cell_type": "code",
   "execution_count": 196,
   "outputs": [
    {
     "name": "stdout",
     "output_type": "stream",
     "text": [
      "Topic 1: shared, direction, meetings, initiatives, missing, updates, explanation, performance, company, focused\n",
      "Topic 2: management, workload, nt, time, concerns, tools, address, managing, performance, team\n",
      "Topic 3: employees, career, guidance, tasks, feedback, growth, workload, receive, advancement, nt\n",
      "Topic 4: leaders, nt, leadership, training, communication, employees, offered, discussions, tasks, proper\n",
      "Topic 5: managers, employees, lack, professional, provisions, nt, development, decisions, proper, pressure\n",
      "Topic 6: nt, supervisors, provide, leadership, opportunities, employee, skill, offer, support, benefits\n",
      "Topic 7: motivation, outdated, equipment, leads, common, frustration, neglected, affect, productivity, training\n",
      "Topic 8: stress, employees, support, tasks, causing, lack, management, opportunities, managing, lacking\n",
      "Topic 9: team, communicated, development, skill, company, support, project, wellbeing, projects, leaderships\n",
      "Topic 10: lack, communication, leaderships, managements, training, leads, morale, challenges, promotions, provisions\n",
      "Topic 11: inconsistent, programs, lack, nt, facilities, balance, worklife, training, learning, properly\n",
      "Topic 12: micromanagement, expectations, unclear, job, nt, bonuses, confusion, flexible, arrangements, negatively\n",
      "Topic 6: Count=67\n",
      "Topic 10: Count=48\n",
      "Topic 8: Count=47\n",
      "Topic 3: Count=45\n",
      "Topic 2: Count=41\n",
      "Topic 4: Count=39\n",
      "Topic 5: Count=37\n",
      "Topic 9: Count=37\n",
      "Topic 1: Count=35\n",
      "Topic 11: Count=34\n",
      "Topic 12: Count=33\n",
      "Topic 7: Count=19\n"
     ]
    }
   ],
   "source": [
    "from sklearn.decomposition import LatentDirichletAllocation\n",
    "from sklearn.feature_extraction.text import CountVectorizer\n",
    "import numpy as np\n",
    "from collections import Counter\n",
    "\n",
    "# df is DataFrame with the 'cleaned' column containing preprocessed text\n",
    "corpus = df['cleaned']\n",
    "\n",
    "# Vectorize the text using CountVectorizer\n",
    "vectorizer = CountVectorizer(max_df=0.95, min_df=2, stop_words='english')\n",
    "X = vectorizer.fit_transform(corpus)\n",
    "\n",
    "# Apply LDA\n",
    "lda = LatentDirichletAllocation(n_components=12, random_state=42)\n",
    "lda.fit(X)\n",
    "\n",
    "# Display the top words for each topic\n",
    "for i, topic in enumerate(lda.components_):\n",
    "    top_words_indices = topic.argsort()[:-10 - 1:-1]\n",
    "    top_words = [vectorizer.get_feature_names_out()[index] for index in top_words_indices]\n",
    "    print(f\"Topic {i + 1}: {', '.join(top_words)}\")\n",
    "\n",
    "# Extracting topics programmatically\n",
    "lda_topic_distribution = np.argmax(lda.transform(X), axis=1)\n",
    "topic_counts = Counter(lda_topic_distribution)\n",
    "most_common_topics = topic_counts.most_common()\n",
    "\n",
    "# Print the count of each topic\n",
    "for topic, count in most_common_topics:\n",
    "    print(f\"Topic {topic + 1}: Count={count}\")"
   ],
   "metadata": {
    "collapsed": false
   }
  },
  {
   "cell_type": "code",
   "execution_count": 197,
   "outputs": [
    {
     "name": "stdout",
     "output_type": "stream",
     "text": [
      "Topic 1: nt, leadership, managers, leaders, company, recognize, decisions, office, employee, benefits\n",
      "Topic 2: lack, leaderships, managements, leads, involvement, direction, morale, proper, transparency, employee\n",
      "Topic 3: employees, roles, recognition, leadership, receive, career, feel, goals, guidance, professional\n",
      "Topic 4: workload, managing, tools, heavy, time, feels, unpredictable, impossible, provisions, leads\n",
      "Topic 5: communication, inconsistent, issues, teams, tools, effectively, addressing, gaps, proper, rumors\n",
      "Topic 6: stress, support, causing, adds, remote, missing, unpredictable, adequate, workloads, peak\n",
      "Topic 7: supervisors, nt, provide, growth, recognition, support, adequate, feedback, challenges, advocate\n",
      "Topic 8: opportunities, skill, development, growth, limited, career, professional, offer, leadership, advancement\n",
      "Topic 9: training, programs, leads, lack, proper, offered, outdated, effective, materials, inefficiencies\n",
      "Topic 10: management, time, lacks, address, tools, support, inconsistent, updates, promotions, nt\n",
      "Topic 11: team, managers, insufficient, managements, meetings, collaboration, meeting, discussions, morale, address\n",
      "Topic 12: tasks, proper, highpressure, managed, prioritizing, instructions, relief, resources, managing, guidance\n",
      "Topic 1: Count=57\n",
      "Topic 3: Count=53\n",
      "Topic 11: Count=52\n",
      "Topic 2: Count=44\n",
      "Topic 10: Count=42\n",
      "Topic 5: Count=41\n",
      "Topic 6: Count=40\n",
      "Topic 9: Count=37\n",
      "Topic 12: Count=35\n",
      "Topic 7: Count=27\n",
      "Topic 4: Count=27\n",
      "Topic 8: Count=27\n"
     ]
    }
   ],
   "source": [
    "from sklearn.decomposition import NMF\n",
    "from sklearn.feature_extraction.text import CountVectorizer\n",
    "import numpy as np\n",
    "from collections import Counter\n",
    "\n",
    "# df is  DataFrame with the 'cleaned' column containing preprocessed text\n",
    "corpus = df['cleaned']\n",
    "\n",
    "# Vectorize the text using CountVectorizer\n",
    "vectorizer = CountVectorizer(max_df=0.95, min_df=2, stop_words='english')\n",
    "X = vectorizer.fit_transform(corpus)\n",
    "\n",
    "# Apply NMF\n",
    "nmf = NMF(n_components=12, random_state=42)\n",
    "nmf.fit(X)\n",
    "\n",
    "# Display the top words for each topic\n",
    "for i, topic in enumerate(nmf.components_):\n",
    "    top_words_indices = topic.argsort()[:-10 - 1:-1]\n",
    "    top_words = [vectorizer.get_feature_names_out()[index] for index in top_words_indices]\n",
    "    print(f\"Topic {i + 1}: {', '.join(top_words)}\")\n",
    "\n",
    "# Extracting topics programmatically\n",
    "nmf_topic_distribution = np.argmax(nmf.transform(X), axis=1)\n",
    "topic_counts = Counter(nmf_topic_distribution)\n",
    "most_common_topics = topic_counts.most_common()\n",
    "\n",
    "# Print the count of each topic\n",
    "for topic, count in most_common_topics:\n",
    "    print(f\"Topic {topic + 1}: Count={count}\")"
   ],
   "metadata": {
    "collapsed": false
   }
  },
  {
   "cell_type": "markdown",
   "source": [
    "Coherence Score"
   ],
   "metadata": {
    "collapsed": false
   }
  },
  {
   "cell_type": "code",
   "execution_count": 198,
   "outputs": [
    {
     "name": "stdout",
     "output_type": "stream",
     "text": [
      "Coherence Score (LDA): 0.619381672972284\n"
     ]
    }
   ],
   "source": [
    "from gensim import corpora\n",
    "from gensim.models import LdaModel\n",
    "from gensim.models import CoherenceModel\n",
    "\n",
    "# Assuming df is DataFrame with the 'cleaned' column containing preprocessed text\n",
    "corpus = df['cleaned']\n",
    "\n",
    "# Tokenize your text (assuming it's not tokenized already)\n",
    "tokenized_text = [text.split() for text in corpus]\n",
    "\n",
    "# Create a dictionary representation of the documents.\n",
    "dictionary = corpora.Dictionary(tokenized_text)\n",
    "\n",
    "# Convert the dictionary to a bag-of-words corpus.\n",
    "corpus_lda = [dictionary.doc2bow(text) for text in tokenized_text]\n",
    "\n",
    "# Build the LDA model\n",
    "lda = LdaModel(corpus=corpus_lda, id2word=dictionary, num_topics=12, random_state=42)\n",
    "\n",
    "# Compute Coherence Score\n",
    "coherence_model_lda = CoherenceModel(model=lda, texts=tokenized_text, dictionary=dictionary, coherence='c_v')\n",
    "coherence_lda = coherence_model_lda.get_coherence()\n",
    "\n",
    "print(f'Coherence Score (LDA): {coherence_lda}')"
   ],
   "metadata": {
    "collapsed": false
   }
  },
  {
   "cell_type": "code",
   "execution_count": 199,
   "outputs": [
    {
     "name": "stdout",
     "output_type": "stream",
     "text": [
      "Average Coherence Score (NMF): 0.9667035911370009\n"
     ]
    }
   ],
   "source": [
    "from sklearn.decomposition import NMF\n",
    "from sklearn.feature_extraction.text import CountVectorizer\n",
    "from sklearn.metrics.pairwise import cosine_similarity\n",
    "import numpy as np\n",
    "\n",
    "# Assuming df is DataFrame with the 'cleaned' column containing preprocessed text\n",
    "corpus = df['cleaned']\n",
    "\n",
    "# Vectorize the text using CountVectorizer for NMF\n",
    "vectorizer_nmf = CountVectorizer(max_df=0.95, min_df=2, stop_words='english')\n",
    "X_nmf = vectorizer_nmf.fit_transform(corpus)\n",
    "\n",
    "# Apply NMF\n",
    "nmf = NMF(n_components=12, random_state=42)\n",
    "nmf.fit(X_nmf)\n",
    "\n",
    "# Transform the corpus into NMF topic space\n",
    "nmf_topic_distribution = nmf.transform(X_nmf)\n",
    "\n",
    "# Calculate coherence using cosine similarity\n",
    "coherence_values = []\n",
    "\n",
    "# Calculate cosine similarity between each pair of NMF topics\n",
    "similarity_matrix = cosine_similarity(nmf_topic_distribution)\n",
    "\n",
    "# Exclude self-similarity\n",
    "np.fill_diagonal(similarity_matrix, 0)\n",
    "\n",
    "# Calculate average coherence\n",
    "average_coherence = np.mean(similarity_matrix.max(axis=0))\n",
    "\n",
    "print(f'Average Coherence Score (NMF): {average_coherence}')"
   ],
   "metadata": {
    "collapsed": false
   }
  },
  {
   "cell_type": "code",
   "execution_count": null,
   "outputs": [],
   "source": [],
   "metadata": {
    "collapsed": false
   }
  }
 ],
 "metadata": {
  "kernelspec": {
   "display_name": "Python 3",
   "language": "python",
   "name": "python3"
  },
  "language_info": {
   "codemirror_mode": {
    "name": "ipython",
    "version": 2
   },
   "file_extension": ".py",
   "mimetype": "text/x-python",
   "name": "python",
   "nbconvert_exporter": "python",
   "pygments_lexer": "ipython2",
   "version": "2.7.6"
  }
 },
 "nbformat": 4,
 "nbformat_minor": 0
}
